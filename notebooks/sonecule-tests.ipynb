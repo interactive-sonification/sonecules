{
 "cells": [
  {
   "cell_type": "markdown",
   "metadata": {},
   "source": [
    "# Sonecule Tests\n",
    "\n",
    "Notebook for testing the sonecules package."
   ]
  },
  {
   "cell_type": "code",
   "execution_count": null,
   "metadata": {},
   "outputs": [],
   "source": [
    "%load_ext autoreload\n",
    "%autoreload 2"
   ]
  },
  {
   "cell_type": "markdown",
   "metadata": {},
   "source": [
    "## Startup"
   ]
  },
  {
   "cell_type": "code",
   "execution_count": null,
   "metadata": {},
   "outputs": [],
   "source": [
    "import sonecules as sn"
   ]
  },
  {
   "cell_type": "code",
   "execution_count": null,
   "metadata": {},
   "outputs": [],
   "source": [
    "sn.startup()\n",
    "sn.pb = sn.playback\n",
    "ctx = sn.gcc()"
   ]
  },
  {
   "cell_type": "code",
   "execution_count": null,
   "metadata": {},
   "outputs": [],
   "source": [
    "# sn.stop()\n",
    "# ctx.close()"
   ]
  },
  {
   "cell_type": "markdown",
   "metadata": {},
   "source": [
    "## Data Preparation"
   ]
  },
  {
   "cell_type": "code",
   "execution_count": null,
   "metadata": {},
   "outputs": [],
   "source": [
    "%run prepare-data.ipynb"
   ]
  },
  {
   "cell_type": "markdown",
   "metadata": {},
   "source": [
    "## Buffer Synthesis"
   ]
  },
  {
   "cell_type": "code",
   "execution_count": null,
   "metadata": {},
   "outputs": [],
   "source": [
    "from sonecules.buffersyn import Audification"
   ]
  },
  {
   "cell_type": "code",
   "execution_count": null,
   "metadata": {},
   "outputs": [],
   "source": [
    "audification = Audification(data=eeg_data[:,[0,8]], sr=256)"
   ]
  },
  {
   "cell_type": "code",
   "execution_count": null,
   "metadata": {},
   "outputs": [],
   "source": [
    "audification.synth"
   ]
  },
  {
   "cell_type": "code",
   "execution_count": null,
   "metadata": {},
   "outputs": [],
   "source": [
    "audification.synth.params[\"out\"].bounds = (0,2)"
   ]
  },
  {
   "cell_type": "code",
   "execution_count": null,
   "metadata": {},
   "outputs": [],
   "source": [
    "audification.synth.params"
   ]
  },
  {
   "cell_type": "code",
   "execution_count": null,
   "metadata": {},
   "outputs": [],
   "source": [
    "ctx.reset()\n",
    "audification.schedule(0, params={\"rate\":5})"
   ]
  },
  {
   "cell_type": "code",
   "execution_count": null,
   "metadata": {},
   "outputs": [],
   "source": [
    "ctx.timeline"
   ]
  },
  {
   "cell_type": "code",
   "execution_count": null,
   "metadata": {},
   "outputs": [],
   "source": [
    "ctx.timeline.head"
   ]
  },
  {
   "cell_type": "code",
   "execution_count": null,
   "metadata": {},
   "outputs": [],
   "source": [
    "audification.reset()"
   ]
  },
  {
   "cell_type": "code",
   "execution_count": null,
   "metadata": {},
   "outputs": [],
   "source": [
    "ctx.timeline"
   ]
  },
  {
   "cell_type": "code",
   "execution_count": null,
   "metadata": {},
   "outputs": [],
   "source": [
    "ctx.timeline.head"
   ]
  },
  {
   "cell_type": "code",
   "execution_count": null,
   "metadata": {},
   "outputs": [],
   "source": [
    "ctx.timeline"
   ]
  },
  {
   "cell_type": "code",
   "execution_count": null,
   "metadata": {},
   "outputs": [],
   "source": []
  },
  {
   "cell_type": "code",
   "execution_count": null,
   "metadata": {},
   "outputs": [],
   "source": [
    "ctx.timeline.plot()"
   ]
  },
  {
   "cell_type": "code",
   "execution_count": null,
   "metadata": {},
   "outputs": [],
   "source": [
    "sn.pb().start()"
   ]
  },
  {
   "cell_type": "code",
   "execution_count": null,
   "metadata": {},
   "outputs": [],
   "source": [
    "with ctx.at(5): audification.synth.stop()"
   ]
  },
  {
   "cell_type": "markdown",
   "metadata": {},
   "source": [
    "### Audification with time stretch and rate control "
   ]
  },
  {
   "cell_type": "code",
   "execution_count": null,
   "metadata": {},
   "outputs": [],
   "source": [
    "from pya import Asig\n",
    "import pytsmod as tsm\n",
    "import sc3nb as scn\n",
    "import matplotlib.pyplot as plt\n",
    "from ipywidgets import interactive\n",
    "\n",
    "%matplotlib widget\n",
    "plt.rcParams[\"figure.figsize\"] = (8,3)"
   ]
  },
  {
   "cell_type": "code",
   "execution_count": null,
   "metadata": {},
   "outputs": [],
   "source": [
    "def audify_basic(data, sr=None, rate_pre=1, stretch_pre=1, rate_pb=100, amp=0.4):\n",
    "    ctx = sn.gcc()\n",
    "    if type(data) == Asig:\n",
    "        dasig = data\n",
    "    else:\n",
    "        if not sr:\n",
    "            print(\"audify_basic: missing sr (if data is not an Asig)\")\n",
    "        dasig = Asig(data, sr=sr)\n",
    "    \n",
    "    # data preprocessing (resampling/stretching, later: filtering for BL audification\n",
    "    dasig = dasig.resample(target_sr=dasig.sr, rate=rate_pre) \n",
    "\n",
    "    # perform time scale mod on resampled data\n",
    "    dasig = Asig(tsm.wsola(dasig.sig.T, s=stretch_pre).T, sr=dasig.sr)\n",
    "    # dasig = Asig(tsm.wsola(dasig.sig.T, s=stretch_pre, win_size=100, syn_hop_size=30).T, sr=dasig.sr)\n",
    "\n",
    "    buf = ctx.buffers.from_data(dasig.sig, dasig.sr)\n",
    "    synth = ctx.synths.from_buffer(buf, synth_name=\"playbuf\", mutable=False)\n",
    "\n",
    "    ctx.reset()\n",
    "    with ctx.at(time=0):\n",
    "        synth.start(amp=amp, rate=rate_pb)\n",
    "    sn.pb().start()\n",
    "    return dasig"
   ]
  },
  {
   "cell_type": "code",
   "execution_count": null,
   "metadata": {},
   "outputs": [],
   "source": [
    "plt.figure()\n",
    "data = Asig(eeg_data, sr=256)[{8:40}, [3,5]]\n",
    "audify_basic(data.norm(0.5), rate_pre=1, stretch_pre=4, rate_pb=20, amp=0.3).plot(offset=1)\n",
    "plt.tight_layout(); plt.legend();"
   ]
  },
  {
   "cell_type": "code",
   "execution_count": null,
   "metadata": {},
   "outputs": [],
   "source": [
    "ctx.stop()"
   ]
  },
  {
   "cell_type": "markdown",
   "metadata": {},
   "source": [
    "### Audification with Phasor, i.e. adjustable time point and loop-capable"
   ]
  },
  {
   "cell_type": "code",
   "execution_count": null,
   "metadata": {},
   "outputs": [],
   "source": [
    "# control ressampling on raw data to asig\n",
    "dasig = Asig(eeg_data[:,[5,13]], sr=256).resample(target_sr=256, rate=1)\n",
    "# perform time scale mod on resampled data\n",
    "# dasig = Asig(tsm.wsola(dasig.sig.T, s=10).T, sr=dasig.sr)\n",
    "# dasig = Asig(tsm.wsola(dasig.sig.T, s=10, win_size=100, syn_hop_size=30).T, sr=dasig.sr)\n",
    "\n",
    "# put processed signal into buffer\n",
    "buf = sn.gcc().buffers.from_data(dasig.sig, dasig.sr)"
   ]
  },
  {
   "cell_type": "code",
   "execution_count": null,
   "metadata": {},
   "outputs": [],
   "source": [
    "# play at target rate by fast playback on playbuf\n",
    "synth = sn.gcc().synths.from_buffer(buf, synth_name=\"playbuf\", mutable=False)\n",
    "sn.gcc().reset()\n",
    "with sn.gcc().at(time=0):\n",
    "    synth.start(amp=0.1, rate=100)\n",
    "sn.playback().start()\n",
    "# sn.gcc().timeline.plot()"
   ]
  },
  {
   "cell_type": "code",
   "execution_count": null,
   "metadata": {},
   "outputs": [],
   "source": [
    "scn.SynthDef(\"sphasebuf3\", \n",
    "\"\"\"{ \n",
    "| out=0, bufnum=0, trig=1, rate=1, relstart=0, relend=1, respos=0, amp=0.1 | \n",
    "    var framesInBuffer;\n",
    "    framesInBuffer = BufFrames.kr(bufnum);\n",
    "    //  Phasor.ar(trig, rate,                    start, end,            resetPos)\n",
    "    //x = Phasor.ar(trig, rate*BufRateScale.kr(bufnum), relstart*framesInBuffer, relend*framesInBuffer, [0, MouseY.kr(0, framesInBuffer)]);\n",
    "    x = Phasor.ar(trig, rate*BufRateScale.kr(bufnum), relstart*framesInBuffer, relend*framesInBuffer, respos*framesInBuffer);\n",
    "    Out.ar(out, amp*BufRd.ar(1, bufnum, x));\n",
    "}\"\"\").add();"
   ]
  },
  {
   "cell_type": "code",
   "execution_count": null,
   "metadata": {},
   "outputs": [],
   "source": [
    "buf.frame_count"
   ]
  },
  {
   "cell_type": "code",
   "execution_count": null,
   "metadata": {},
   "outputs": [],
   "source": [
    "# scn.Synth('sphasebuf')\n",
    "st = sn.gcc().synths.create(name=\"sphasebuf3\", track=1)"
   ]
  },
  {
   "cell_type": "code",
   "execution_count": null,
   "metadata": {},
   "outputs": [],
   "source": [
    "bufnum = ctx.managers['buffers']._buffers[buf].bufnum\n",
    "bufnum"
   ]
  },
  {
   "cell_type": "code",
   "execution_count": null,
   "metadata": {},
   "outputs": [],
   "source": [
    "ctx = sn.gcc()\n",
    "ctx.enable_realtime();\n",
    "ctx.reset()"
   ]
  },
  {
   "cell_type": "code",
   "execution_count": null,
   "metadata": {},
   "outputs": [],
   "source": [
    "st.start(bufnum=bufnum, rate=10, relstart=0.2, relend=0.4)"
   ]
  },
  {
   "cell_type": "code",
   "execution_count": null,
   "metadata": {},
   "outputs": [],
   "source": [
    "def audify_gui(rate=20, amp=0.1, relstart=0.0, relwid=0, relend=1.0, respos=0):\n",
    "    global st\n",
    "    st.rate = rate\n",
    "    st.amp = amp\n",
    "    st.relstart = relstart\n",
    "    if relwid==0:\n",
    "        st.relend = relend\n",
    "    else:\n",
    "        st.relend = min(relstart + relwid, 1)\n",
    "        \n",
    "interactive(audify_gui, rate=(1, 100, 1), amp=(0,1,0.02), relstart=(0, 1, 0.001), relwid=(0,1,0.01), relend=(0,1,0.01), respos=(0,1,0.1))"
   ]
  },
  {
   "cell_type": "code",
   "execution_count": null,
   "metadata": {},
   "outputs": [],
   "source": [
    "st.trig=1"
   ]
  },
  {
   "cell_type": "code",
   "execution_count": null,
   "metadata": {},
   "outputs": [],
   "source": [
    "st.stop()"
   ]
  },
  {
   "cell_type": "code",
   "execution_count": null,
   "metadata": {},
   "outputs": [],
   "source": [
    "ctx.disable_realtime()"
   ]
  },
  {
   "cell_type": "code",
   "execution_count": null,
   "metadata": {},
   "outputs": [],
   "source": [
    "ctx.backend.sc.server.free_all()"
   ]
  },
  {
   "cell_type": "code",
   "execution_count": null,
   "metadata": {},
   "outputs": [],
   "source": [
    "# sn.playback().time = 0 \n",
    "# sn.playback().rate = 2"
   ]
  },
  {
   "cell_type": "code",
   "execution_count": null,
   "metadata": {},
   "outputs": [],
   "source": [
    "# sn.playback().stop()  # stops playback (triggering of the scheduled events) but started synths will keep playing til finished"
   ]
  },
  {
   "cell_type": "code",
   "execution_count": null,
   "metadata": {},
   "outputs": [],
   "source": [
    "sn.reset()"
   ]
  },
  {
   "cell_type": "code",
   "execution_count": null,
   "metadata": {},
   "outputs": [],
   "source": [
    "sn.stop()  # stops playback and stops backend"
   ]
  },
  {
   "cell_type": "markdown",
   "metadata": {},
   "source": [
    "## TimbralSonification"
   ]
  },
  {
   "cell_type": "code",
   "execution_count": null,
   "metadata": {},
   "outputs": [],
   "source": [
    "timbralson = sn.buffersyn.TimbralSon(eeg_data[14*256:24*256], sr=256)"
   ]
  },
  {
   "cell_type": "code",
   "execution_count": null,
   "metadata": {},
   "outputs": [],
   "source": [
    "timbralson.schedule(at=2, params={\"amp\": 0.03})    "
   ]
  },
  {
   "cell_type": "code",
   "execution_count": null,
   "metadata": {},
   "outputs": [],
   "source": [
    "sn.playback().start()"
   ]
  },
  {
   "cell_type": "code",
   "execution_count": null,
   "metadata": {},
   "outputs": [],
   "source": [
    "sn.stop()  # stops playback and stops backend"
   ]
  },
  {
   "cell_type": "markdown",
   "metadata": {},
   "source": [
    "## ParameterSonification as Handler/Callback/Setup"
   ]
  },
  {
   "cell_type": "code",
   "execution_count": null,
   "metadata": {},
   "outputs": [],
   "source": [
    "from sonecules.scoresyn import StandardContinuousPMSon, StandardDiscretePMSon"
   ]
  },
  {
   "cell_type": "code",
   "execution_count": null,
   "metadata": {},
   "outputs": [],
   "source": [
    "from sc3nb import midicps, linlin"
   ]
  },
  {
   "cell_type": "code",
   "execution_count": null,
   "metadata": {},
   "outputs": [],
   "source": [
    "penguins_df"
   ]
  },
  {
   "cell_type": "code",
   "execution_count": null,
   "metadata": {},
   "outputs": [],
   "source": [
    "# adapting linlin to take dmin dmax as params - names open for discussion\n",
    "dlinlin = lambda value, dmin, dmax, y1, y2: linlin(value, x1=dmin, x2=dmax, y1=y1, y2=y2)"
   ]
  },
  {
   "cell_type": "code",
   "execution_count": null,
   "metadata": {},
   "outputs": [],
   "source": [
    "scpmson = StandardContinuousPMSon(\"s2\", \n",
    "    {\"freq\": {\"bounds\": (midicps(49.9), midicps(70.1))},  # bounds checking in mesonic is too strict currently\n",
    "     \"amp\": {\"default\": 0.1}}\n",
    ")\n",
    "\n",
    "test_mapping = {\n",
    "    \"onset\": (\"body_mass_g\", dlinlin, {\"y1\": 0, \"y2\": 3}),\n",
    "    \"freq\" : (\"flipper_length_mm\", dlinlin, {\"y1\": midicps(70), \"y2\": midicps(50)})\n",
    "}\n",
    "\n",
    "sn.reset() # needed for now as sonecule.reset() does not work yet\n",
    "scpmson.schedule(df=penguins_df, mapping=test_mapping, at=0, stop_after=0.2)\n",
    "# Error message when bounds are not respected by the mapping are currently quite hard to understand\n",
    "# should fix this in mesonic \n"
   ]
  },
  {
   "cell_type": "code",
   "execution_count": null,
   "metadata": {},
   "outputs": [],
   "source": [
    "sn.playback().start()"
   ]
  },
  {
   "cell_type": "code",
   "execution_count": null,
   "metadata": {},
   "outputs": [],
   "source": [
    "# test_mapping = {\"onset\": (col, fun, mkwargs)}  \n",
    "\n",
    "# ditched conversion for now\n",
    "\n",
    "scpmson = StandardDiscretePMSon(\"s1\", \n",
    "    {\"freq\": {\"bounds\": (midicps(49.9), midicps(70.1))},  # bounds checking in mesonic is too strict currently\n",
    "     \"amp\": {\"default\": 0.1}}\n",
    ")  # bounds are in pre conversion unit - but this is done differently here in the code\n",
    "\n",
    "sn.reset() # needed for now as sonecule.reset() does not work yet\n",
    "scpmson.schedule(df=penguins_df, mapping=test_mapping, at=0, stop_after=0.2)\n",
    "# Error message when bounds are not respected by the mapping are currently quite hard to understand\n",
    "# should fix this in mesonic \n"
   ]
  },
  {
   "cell_type": "code",
   "execution_count": null,
   "metadata": {},
   "outputs": [],
   "source": [
    "sn.playback().start()"
   ]
  },
  {
   "cell_type": "code",
   "execution_count": null,
   "metadata": {},
   "outputs": [],
   "source": [
    "sn.playback().time = 1.5"
   ]
  },
  {
   "cell_type": "code",
   "execution_count": null,
   "metadata": {},
   "outputs": [],
   "source": [
    "sn.stop()"
   ]
  },
  {
   "cell_type": "markdown",
   "metadata": {},
   "source": [
    "## Sonification as Handler/Callback/Setup"
   ]
  },
  {
   "cell_type": "code",
   "execution_count": null,
   "metadata": {},
   "outputs": [],
   "source": [
    "from sonecules.triggersyn import DataSonogram"
   ]
  },
  {
   "cell_type": "code",
   "execution_count": null,
   "metadata": {},
   "outputs": [],
   "source": [
    "%matplotlib qt"
   ]
  },
  {
   "cell_type": "code",
   "execution_count": null,
   "metadata": {},
   "outputs": [],
   "source": [
    "sn.reset()\n",
    "sn.gcc().enable_realtime()"
   ]
  },
  {
   "cell_type": "code",
   "execution_count": null,
   "metadata": {},
   "outputs": [],
   "source": [
    "dsg1 = DataSonogram(penguins_df, x=\"flipper_length_mm\", y=\"body_mass_g\", label=\"species\")"
   ]
  }
 ],
 "metadata": {},
 "nbformat": 4,
 "nbformat_minor": 2
}
