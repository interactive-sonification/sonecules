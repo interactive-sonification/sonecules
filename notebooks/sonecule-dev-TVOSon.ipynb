{
 "cells": [
  {
   "cell_type": "markdown",
   "metadata": {},
   "source": [
    "# Sonecule TVOSon Time-variant Oscillators Sonification\n",
    "\n",
    "Using a bank of oscillators to represent the channels of multivariate data:\n",
    "\n",
    "- mapping each value to a displacement of the pitch\n",
    "  - ampmode==\"val\"/\"absval\": mapping each value or absolute value to amplitude\n",
    "  - ampmode==\"change\": mapping the absolute change to amplitude\n",
    "- parameters:\n",
    "  - base_pitch: midi note number of the first channel\n",
    "  - delta_pitch: \n",
    "    - if int: channel separation in semitones\n",
    "    - if array: offsets in \n",
    "  "
   ]
  },
  {
   "cell_type": "markdown",
   "metadata": {},
   "source": [
    "## Data Preparation"
   ]
  },
  {
   "cell_type": "code",
   "execution_count": null,
   "metadata": {},
   "outputs": [],
   "source": [
    "%run prepare-data.ipynb"
   ]
  },
  {
   "cell_type": "markdown",
   "metadata": {},
   "source": [
    "## Sonecule pre-development"
   ]
  },
  {
   "cell_type": "code",
   "execution_count": null,
   "metadata": {},
   "outputs": [],
   "source": [
    "import sonecules as sn\n",
    "sn.startup()\n",
    "sn.pb = sn.playback\n",
    "ctx = sn.gcc()\n",
    "import sc3nb as scn\n",
    "from pya import Asig\n",
    "import matplotlib.pyplot as plt\n",
    "plt.rcParams[\"figure.figsize\"] = (8,3)\n",
    "%matplotlib widget"
   ]
  },
  {
   "cell_type": "code",
   "execution_count": null,
   "metadata": {},
   "outputs": [],
   "source": [
    "# select test data for sonecule\n",
    "dasig = Asig(eeg_data, sr=250)\n",
    "plt.figure(); dasig.plot(offset=1)\n",
    "\n",
    "data = dasig[{7:11}, [0,1,2,5,9]][::5]\n",
    "plt.figure(); data.plot(offset=2)"
   ]
  },
  {
   "cell_type": "code",
   "execution_count": null,
   "metadata": {},
   "outputs": [],
   "source": [
    "# create synth for tvosc\n",
    "scn.SynthDef(\"tvosc-sine-1ch\", \n",
    "\"\"\"{ | out=0, freq=400, amp=0.1, pan=0, lg=0.1 | \n",
    "    var sig = SinOsc.ar(freq.lag(lg), mul: amp.lag(lg));\n",
    "    Out.ar(out, Pan2.ar(sig, pan));\n",
    "}\"\"\").add();"
   ]
  },
  {
   "cell_type": "code",
   "execution_count": null,
   "metadata": {},
   "outputs": [],
   "source": [
    "# set mesonic backend latency\n",
    "\n",
    "sn.pb().processor.latency = 0.1"
   ]
  },
  {
   "cell_type": "code",
   "execution_count": null,
   "metadata": {},
   "outputs": [],
   "source": [
    "\n",
    "# create synths\n",
    "syns = []\n",
    "for i in range(data.channels):\n",
    "    syns.append(ctx.synths.create(name=\"tvosc-sine-1ch\", track=i,  mutable=True))\n",
    "syns\n",
    "\n",
    "ctx.reset()\n",
    "\n",
    "# here schedule function, with argument for replace default to true\n",
    "rate = 0.5\n",
    "maxonset = -1\n",
    "base_pitch = 50\n",
    "delta_pitch = 7\n",
    "ampmode = \"absval\" # \"change\"\n",
    "\n",
    "# start syns (oscillators)\n",
    "with ctx.at(time=0):\n",
    "    for i, syn in enumerate(syns):\n",
    "        syn.start(freq=300+40*i, amp=0.01, pan=0, lg=0.1)\n",
    "data.samples, data.get_duration(), data.sr\n",
    "\n",
    "# modulate oscillators\n",
    "for i, r in enumerate(data.sig):\n",
    "    onset = i / data.sr / rate\n",
    "    change = r - data.sig[max(0, i-1)]\n",
    "    with ctx.at(time=onset):\n",
    "        for i, el in enumerate(r):\n",
    "            center_pitch = base_pitch + i * delta_pitch \n",
    "            syns[i].freq = scn.midicps(center_pitch + scn.linlin(el, -1, 1, -0.5*delta_pitch, + 0.5*delta_pitch))\n",
    "            if ampmode == \"change\":\n",
    "                syns[i].amp = scn.linlin(abs(change[i]), 0, 0.8, 0, 0.1)\n",
    "            elif ampmode == \"absamp\":\n",
    "                syns[i].amp = scn.linlin(abs(el), 0, 0.8, 0, 0.1)\n",
    "    if onset > maxonset:\n",
    "        maxonset = onset\n",
    "\n",
    "# stop oscillators\n",
    "with ctx.at(time=maxonset):\n",
    "    for syn in syns:\n",
    "        syn.stop()\n",
    "\n",
    "# plot timeline and start sonification playback\n",
    "ctx.timeline.plot()\n",
    "sn.pb().start()"
   ]
  },
  {
   "cell_type": "markdown",
   "metadata": {},
   "source": [
    "## Implementation"
   ]
  },
  {
   "cell_type": "code",
   "execution_count": null,
   "metadata": {},
   "outputs": [],
   "source": [
    "from mesonic.synth import Synth\n",
    "from sonecules.base import Sonecule\n"
   ]
  },
  {
   "cell_type": "code",
   "execution_count": null,
   "metadata": {},
   "outputs": [],
   "source": [
    "class SoneculeXY(Sonecule):\n",
    "    \n",
    "    def __init__(self, data, context=None):\n",
    "        super().__init__(context=context)\n",
    "        # create synths\n",
    "        self.data = data\n",
    "        self.syns = []\n",
    "        for i in range(data.channels):\n",
    "            self.syns.append(self._context.synths.create(name=\"tvosc-sine-1ch\", track=i,  mutable=True))\n",
    "\n",
    "    def schedule(at=0,rate = 0.5\n",
    "        ,maxonset = -1\n",
    "        ,base_pitch = 50\n",
    "        ,delta_pitch = 7\n",
    "        ,ampmode = \"absval\" ):\n",
    "        \n",
    "        \n",
    "        \n",
    "        \n",
    "        # here schedule function, with argument for replace default to true\n",
    "        # \"change\"\n",
    "        ctx = self.context\n",
    "        # start syns (oscillators)\n",
    "        with ctx.at(time=at):\n",
    "            for i, syn in enumerate(self.syns):\n",
    "                syn.start(freq=300+40*i, amp=0.01, pan=0, lg=0.1)\n",
    "        data.samples, data.get_duration(), data.sr\n",
    "\n",
    "        # modulate oscillators\n",
    "        for i, r in enumerate(data.sig):\n",
    "            onset = i / data.sr / rate\n",
    "            change = r - data.sig[max(0, i-1)]\n",
    "            with ctx.at(time=onset):\n",
    "                for i, el in enumerate(r):\n",
    "                    center_pitch = base_pitch + i * delta_pitch \n",
    "                    syns[i].freq = scn.midicps(center_pitch + scn.linlin(el, -1, 1, -0.5*delta_pitch, + 0.5*delta_pitch))\n",
    "                    if ampmode == \"change\":\n",
    "                        syns[i].amp = scn.linlin(abs(change[i]), 0, 0.8, 0, 0.1)\n",
    "                    elif ampmode == \"absamp\":\n",
    "                        syns[i].amp = scn.linlin(abs(el), 0, 0.8, 0, 0.1)\n",
    "            if onset > maxonset:\n",
    "                maxonset = onset\n",
    "\n",
    "        # stop oscillators\n",
    "        with ctx.at(time=maxonset):\n",
    "            for syn in syns:\n",
    "                syn.stop()\n"
   ]
  },
  {
   "cell_type": "markdown",
   "metadata": {},
   "source": [
    "## Usage / Demo Snippets"
   ]
  },
  {
   "cell_type": "code",
   "execution_count": null,
   "metadata": {},
   "outputs": [],
   "source": []
  }
 ],
 "metadata": {
  "kernelspec": {
   "display_name": "Python 3 (ipykernel)",
   "language": "python",
   "name": "python3"
  },
  "language_info": {
   "codemirror_mode": {
    "name": "ipython",
    "version": 3
   },
   "file_extension": ".py",
   "mimetype": "text/x-python",
   "name": "python",
   "nbconvert_exporter": "python",
   "pygments_lexer": "ipython3",
   "version": "3.10.11"
  }
 },
 "nbformat": 4,
 "nbformat_minor": 2
}
