{
 "cells": [
  {
   "attachments": {},
   "cell_type": "markdown",
   "metadata": {},
   "source": [
    "# Sonecule TVOSon Time-variant Oscillators Sonification\n",
    "\n",
    "Using a bank of oscillators to represent the channels of multivariate data:\n",
    "\n",
    "- mapping each value to a displacement of the pitch\n",
    "  - ampmode==\"val\"/\"absval\": mapping each value or absolute value to amplitude\n",
    "  - ampmode==\"change\": mapping the absolute change to amplitude\n",
    "- parameters:\n",
    "  - base_pitch: midi note number of the first channel\n",
    "  - delta_pitch: \n",
    "    - if int: channel separation in semitones\n",
    "    - if array: offsets in \n",
    "  "
   ]
  },
  {
   "attachments": {},
   "cell_type": "markdown",
   "metadata": {},
   "source": [
    "## Data Preparation"
   ]
  },
  {
   "cell_type": "code",
   "execution_count": null,
   "metadata": {},
   "outputs": [],
   "source": [
    "import sonecules as sn\n",
    "sn.startup()\n",
    "sn.pb = sn.playback\n",
    "ctx = sn.gcc()\n",
    "import sc3nb as scn\n",
    "from pya import Asig\n",
    "import matplotlib.pyplot as plt\n",
    "plt.rcParams[\"figure.figsize\"] = (8,3)\n",
    "%matplotlib widget"
   ]
  },
  {
   "cell_type": "code",
   "execution_count": null,
   "metadata": {},
   "outputs": [],
   "source": [
    "%run prepare-data.ipynb"
   ]
  },
  {
   "cell_type": "code",
   "execution_count": null,
   "metadata": {},
   "outputs": [],
   "source": [
    "\n",
    "# select test data for sonecule\n",
    "dasig = Asig(eeg_data, sr=250)\n",
    "plt.figure(); dasig.plot(offset=1)\n",
    "\n",
    "data = dasig[{7:11}, [0,1,2,5,9,12]][::5]\n",
    "plt.figure(); data.plot(offset=2)"
   ]
  },
  {
   "attachments": {},
   "cell_type": "markdown",
   "metadata": {},
   "source": [
    "## Sonecule pre-development"
   ]
  },
  {
   "cell_type": "code",
   "execution_count": null,
   "metadata": {},
   "outputs": [],
   "source": [
    "# create synth for tvosc\n",
    "scn.SynthDef(\"tvosc-sine-1ch\", \n",
    "\"\"\"{ | out=0, freq=400, amp=0.1, pan=0, lg=0.1 | \n",
    "    var sig = SinOsc.ar(freq.lag(lg), mul: amp.lag(lg));\n",
    "    Out.ar(out, Pan2.ar(sig, pan));\n",
    "}\"\"\").add();"
   ]
  },
  {
   "cell_type": "code",
   "execution_count": null,
   "metadata": {},
   "outputs": [],
   "source": [
    "# set mesonic backend latency\n",
    "sn.pb().processor.latency = 0.1"
   ]
  },
  {
   "cell_type": "code",
   "execution_count": null,
   "metadata": {},
   "outputs": [],
   "source": [
    "# create synths\n",
    "syns = []\n",
    "for i in range(data.channels):\n",
    "    syns.append(ctx.synths.create(name=\"tvosc-sine-1ch\", track=i,  mutable=True))\n",
    "syns\n",
    "\n",
    "ctx.reset()\n",
    "\n",
    "# here schedule function, with argument for replace default to true\n",
    "rate = 0.5\n",
    "maxonset = -1\n",
    "base_pitch = 50\n",
    "delta_pitch = 7\n",
    "ampmode = \"absval\" # \"change\"\n",
    "\n",
    "# start syns (oscillators)\n",
    "with ctx.at(time=0):\n",
    "    for i, syn in enumerate(syns):\n",
    "        syn.start(freq=300+40*i, amp=0.01, pan=0, lg=0.1)\n",
    "data.samples, data.get_duration(), data.sr\n",
    "\n",
    "# modulate oscillators\n",
    "for i, r in enumerate(data.sig):\n",
    "    onset = i / data.sr / rate\n",
    "    change = r - data.sig[max(0, i-1)]\n",
    "    with ctx.at(time=onset):\n",
    "        for i, el in enumerate(r):\n",
    "            cp = base_pitch + i * delta_pitch \n",
    "            syns[i].freq = scn.midicps(cp + scn.linlin(el, -1, 1, -0.5*delta_pitch, + 0.5*delta_pitch))\n",
    "            if ampmode == \"change\":\n",
    "                syns[i].amp = scn.linlin(abs(change[i]), 0, 0.8, 0, 0.1)\n",
    "            elif ampmode == \"absamp\":\n",
    "                syns[i].amp = scn.linlin(abs(el), 0, 0.8, 0, 0.1)\n",
    "    if onset > maxonset:\n",
    "        maxonset = onset\n",
    "\n",
    "# stop oscillators\n",
    "with ctx.at(time=maxonset):\n",
    "    for syn in syns:\n",
    "        syn.stop()\n",
    "\n",
    "# plot timeline and start sonification playback\n",
    "ctx.timeline.plot()\n",
    "sn.pb().start()"
   ]
  },
  {
   "attachments": {},
   "cell_type": "markdown",
   "metadata": {},
   "source": [
    "## Implementation"
   ]
  },
  {
   "cell_type": "code",
   "execution_count": null,
   "metadata": {},
   "outputs": [],
   "source": [
    "from mesonic.synth import Synth\n",
    "from sonecules.base import Sonecule\n",
    "import numpy, numbers"
   ]
  },
  {
   "cell_type": "code",
   "execution_count": null,
   "metadata": {},
   "outputs": [],
   "source": [
    "class TVOSon(Sonecule):\n",
    "    def __init__(self, data, context=None):\n",
    "        super().__init__(context=context)\n",
    "\n",
    "        self.data = data\n",
    "        ctx = self.context\n",
    "\n",
    "        # create SynthDef for tvosc\n",
    "        scn.SynthDef(\n",
    "            \"tvosc-sine-1ch\",\n",
    "            \"\"\"{ | out=0, freq=400, amp=0.1, pan=0, lg=0.1 | \n",
    "            var sig = SinOsc.ar(freq.lag(lg), mul: amp.lag(lg));\n",
    "            Out.ar(out, Pan2.ar(sig, pan));\n",
    "        }\"\"\",\n",
    "        ).add()\n",
    "\n",
    "        ctx._backend.sc.server.sync()\n",
    "\n",
    "        # create synths\n",
    "        self.syns = []\n",
    "        for i in range(data.channels):\n",
    "            syn = ctx.synths.create(name=\"tvosc-sine-1ch\", track=i, mutable=True)\n",
    "            self.syns.append(syn)\n",
    "\n",
    "    def schedule(\n",
    "        self,\n",
    "        at=0,\n",
    "        rate=0.5,\n",
    "        base_pitch=50,\n",
    "        pitch_step=7,\n",
    "        pitch_relwid=0.5,\n",
    "        amp_mode=\"absval\",\n",
    "        map_mode=\"channelwise\",\n",
    "        level=-6,\n",
    "        reset_flag=True,\n",
    "    ):\n",
    "        # here schedule function, with argument for replace default to true\n",
    "        # \"change\"\n",
    "        ctx = self.context\n",
    "        if reset_flag:\n",
    "            sn.reset()   # self.reset\n",
    "\n",
    "        # start syns (oscillators)\n",
    "        with ctx.at(time=at):\n",
    "            for i, syn in enumerate(self.syns):\n",
    "                syn.start(freq=440, amp=0.1, pan=0, lg=0.1)\n",
    "\n",
    "        # compute parameters for mapping\n",
    "        # 1. src ranges for pitch mapping\n",
    "        if map_mode == \"channelwise\":\n",
    "            channel_mins = self.data.sig.min(axis=0)\n",
    "            channel_maxs = self.data.sig.max(axis=0)\n",
    "        else:\n",
    "            channel_mins = numpy.ones(data.channels) * self.data.sig.min(axis=0)\n",
    "            channel_maxs = numpy.ones(data.channels) * self.data.sig.max(axis=0)\n",
    "\n",
    "        if isinstance(pitch_step, numbers.Number):\n",
    "            pch_centers = [0] * data.channels\n",
    "            pch_wids = [0] * data.channels\n",
    "            for i in range(self.data.channels):\n",
    "                pch_centers[i] = base_pitch + i * pitch_step \n",
    "                pch_wids[i] = pitch_step * pitch_relwid / 2\n",
    "        elif isinstance(pitch_step, list):\n",
    "            print(len(pitch_step), self.data.channels)\n",
    "            assert len(pitch_step) == self.data.channels\n",
    "            pch_centers = numpy.array(pitch_step) + base_pitch\n",
    "            pch_wids = numpy.diff([0] + pitch_step) * pitch_relwid \n",
    "\n",
    "        global_amp = scn.dbamp(level)\n",
    "        maxonset = -1\n",
    "        # modulate oscillators\n",
    "        for j, r in enumerate(self.data.sig):\n",
    "            onset = j / self.data.sr / rate\n",
    "            change = r - self.data.sig[max(0, j - 1)]\n",
    "            with ctx.at(time=at + onset):\n",
    "                for i, el in enumerate(r):\n",
    "                    cp = pch_centers[i]\n",
    "                    dp = pch_wids[i]\n",
    "                    pitch = scn.linlin(\n",
    "                        el, channel_mins[i], channel_maxs[i], cp - dp, cp + dp\n",
    "                    )\n",
    "                    self.syns[i].freq = scn.midicps(pitch)\n",
    "                    if amp_mode == \"change\":\n",
    "                        self.syns[i].amp = scn.linlin(\n",
    "                            abs(change[i]), 0, 0.8, 0, global_amp\n",
    "                        )\n",
    "                    elif amp_mode == \"absval\":\n",
    "                        srcmax = max(abs(channel_mins[i]), abs(channel_maxs[i]))\n",
    "                        self.syns[i].amp = scn.linlin(abs(el), 0, srcmax, 0, global_amp)\n",
    "                    elif amp_mode == \"value\":\n",
    "                        self.syns[i].amp = scn.linlin(\n",
    "                            abs(el), channel_mins[i], channel_maxs[i], 0, global_amp\n",
    "                        )\n",
    "            if onset > maxonset:\n",
    "                maxonset = onset\n",
    "\n",
    "        # stop oscillators\n",
    "        with ctx.at(time=at + maxonset):\n",
    "            for syn in self.syns:\n",
    "                syn.stop()\n",
    "        return self\n",
    "    \n",
    "    def start(self, **kwargs):\n",
    "        \"\"\"start sonification rendering by starting the playback\n",
    "        kwargs are passed on to start(), so use rate to control speedup, etc.\n",
    "        \"\"\"\n",
    "        print(kwargs)\n",
    "        sn.playback().start(**kwargs)\n",
    "    "
   ]
  },
  {
   "attachments": {},
   "cell_type": "markdown",
   "metadata": {},
   "source": [
    "## Usage / Demo Snippets"
   ]
  },
  {
   "cell_type": "code",
   "execution_count": null,
   "metadata": {},
   "outputs": [],
   "source": [
    "snctvo = TVOSon(dasig[{7.5: 11.5}, [1, 2, 3]][::2])\n",
    "snctvo.schedule(\n",
    "    at=0,\n",
    "    rate=2,\n",
    "    base_pitch=60,\n",
    "    pitch_step=12,\n",
    "    pitch_relwid=0.1,\n",
    "    amp_mode=\"change\",\n",
    "    level=-20,\n",
    "    map_mode=\"channelwise\",\n",
    ").start(rate=1)"
   ]
  },
  {
   "cell_type": "code",
   "execution_count": null,
   "metadata": {},
   "outputs": [],
   "source": [
    "snctvo = TVOSon(dasig[{7.5: 11.5}, [0,1,2,3,4,5]][::2])\n",
    "snctvo.schedule(at=0, rate=0.5,\n",
    "    base_pitch=60,\n",
    "    pitch_step=[0,3,7,10,15,19],\n",
    "    pitch_relwid=0.5,\n",
    "    amp_mode=\"change\",\n",
    "    level=-10,\n",
    "    map_mode=\"channelwise\",\n",
    ").start(rate=1)"
   ]
  },
  {
   "cell_type": "code",
   "execution_count": null,
   "metadata": {},
   "outputs": [],
   "source": [
    "# timbral sonification is just a special case of TVOSon\n",
    "snctvo = TVOSon(dasig[{7.5: 11.5}, :][::2])\n",
    "f0 = 60\n",
    "base_pitch = scn.cpsmidi(f0)\n",
    "pitch_steps = [ scn.cpsmidi(f0*(i+1)) - base_pitch for i in range(dasig.channels)] \n",
    "snctvo.schedule(at=0, rate=0.3,\n",
    "    base_pitch=base_pitch,\n",
    "    pitch_step=pitch_steps,\n",
    "    pitch_relwid=0,  # use 1.5 for pitch added effect\n",
    "    amp_mode=\"change\",\n",
    "    level=-10,\n",
    "    map_mode=\"channelwise\",\n",
    ").start(rate=1)"
   ]
  },
  {
   "cell_type": "code",
   "execution_count": null,
   "metadata": {},
   "outputs": [],
   "source": [
    "# ctx.backend.stop(ctx)"
   ]
  }
 ],
 "metadata": {
  "language_info": {
   "name": "python"
  }
 },
 "nbformat": 4,
 "nbformat_minor": 2
}
