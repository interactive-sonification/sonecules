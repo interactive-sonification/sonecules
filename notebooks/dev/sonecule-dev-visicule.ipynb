{
 "cells": [
  {
   "attachments": {},
   "cell_type": "markdown",
   "metadata": {},
   "source": [
    "# Visicule\n"
   ]
  },
  {
   "attachments": {},
   "cell_type": "markdown",
   "metadata": {},
   "source": [
    "## Data Preparation"
   ]
  },
  {
   "cell_type": "code",
   "execution_count": null,
   "metadata": {},
   "outputs": [],
   "source": [
    "%run ../data/prepare-data.ipynb"
   ]
  },
  {
   "attachments": {},
   "cell_type": "markdown",
   "metadata": {},
   "source": [
    "## Implementation"
   ]
  },
  {
   "cell_type": "code",
   "execution_count": null,
   "metadata": {},
   "outputs": [],
   "source": [
    "from mesonic.events import Event\n",
    "from mesonic.backend.bases import EventHandler\n",
    "from attrs import define\n",
    "\n",
    "from typing import Callable, Dict, Iterable\n",
    "\n",
    "@define(kw_only=True)\n",
    "class CallableEvent(Event):\n",
    "\n",
    "    callable: Callable\n",
    "    kwargs: Dict\n",
    "    rkwargs: Dict\n",
    "\n",
    "\n",
    "class CallableEventHandler(EventHandler[CallableEvent]):\n",
    "    def handle(\n",
    "        self, time: float, events: Iterable[CallableEvent], reversed: bool, **kwargs\n",
    "    ) -> None:\n",
    "        \"\"\"Handle events with the provided time and state.\n",
    "\n",
    "        Parameters\n",
    "        ----------\n",
    "        time : float\n",
    "            Timestamp provided for the events.\n",
    "        events : Iterable[E]\n",
    "            Events to be handled.\n",
    "        reversed : bool\n",
    "            Whether the events must be reversed or not.\n",
    "\n",
    "        \"\"\"\n",
    "        for event in events:\n",
    "            kwargs = event.kwargs if not reversed else event.rkwargs\n",
    "            event.callable(**kwargs)\n",
    "\n",
    "    def get_etype(self) -> type:\n",
    "        \"\"\"Get the type of Event this handler processes.\n",
    "\n",
    "        Returns\n",
    "        -------\n",
    "        type\n",
    "            type of Event this handler processes.\n",
    "\n",
    "        \"\"\"\n",
    "        return CallableEvent"
   ]
  },
  {
   "cell_type": "code",
   "execution_count": null,
   "metadata": {},
   "outputs": [],
   "source": [
    "import matplotlib.pyplot as plt\n",
    "\n",
    "class UpdateableVline:\n",
    "    def __init__(self, fig, ax, **kwargs):\n",
    "        self.fig = fig\n",
    "        self.ax = ax\n",
    "        self.line = ax.axvline(0, **kwargs)\n",
    "\n",
    "    def update(self, pos):\n",
    "        self.line.set_xdata([pos, pos])\n",
    "        self.fig.canvas.draw()\n",
    "        self.fig.canvas.flush_events()\n",
    "        return (self.line,)"
   ]
  },
  {
   "attachments": {},
   "cell_type": "markdown",
   "metadata": {},
   "source": [
    "## Usage / Demo Snippets"
   ]
  },
  {
   "cell_type": "code",
   "execution_count": null,
   "metadata": {},
   "outputs": [],
   "source": [
    "import sonecules\n",
    "from pya import Asig\n",
    "from sonecules.bufferson import BasicAUD"
   ]
  },
  {
   "cell_type": "code",
   "execution_count": null,
   "metadata": {},
   "outputs": [],
   "source": [
    "%matplotlib widget"
   ]
  },
  {
   "cell_type": "code",
   "execution_count": null,
   "metadata": {},
   "outputs": [],
   "source": [
    "sonecules.startup()\n",
    "context = sonecules.gcc()\n",
    "pb = context.playback"
   ]
  },
  {
   "cell_type": "code",
   "execution_count": null,
   "metadata": {},
   "outputs": [],
   "source": [
    "# add new event handler\n",
    "callable_event_handler = CallableEventHandler()\n",
    "context.processor.add_handler(callable_event_handler)"
   ]
  },
  {
   "cell_type": "code",
   "execution_count": null,
   "metadata": {},
   "outputs": [],
   "source": [
    "# prepare plot\n",
    "context.reset()\n",
    "\n",
    "audification = BasicAUD.from_df(dataframes[\"eeg\"], sr=256, columns=5)\n",
    "\n",
    "fig, ax = plt.subplots(1)\n",
    "audification.dasig.plot(ax=ax)\n",
    "uvline = UpdateableVline(fig=fig, ax=ax)\n",
    "\n",
    "rate = 20\n",
    "audification.reschedule(at=0, rate=rate)\n",
    "dur = audification.dasig.get_duration() / rate\n",
    "for i in np.arange(0, dur, 1/25):\n",
    "    kwargs = {\"pos\": i * rate}\n",
    "    context.receive_event(CallableEvent(callable=uvline.update, kwargs=kwargs, rkwargs=kwargs), i)"
   ]
  },
  {
   "cell_type": "code",
   "execution_count": null,
   "metadata": {},
   "outputs": [],
   "source": [
    "pb.start()"
   ]
  },
  {
   "cell_type": "code",
   "execution_count": null,
   "metadata": {},
   "outputs": [],
   "source": []
  }
 ],
 "metadata": {},
 "nbformat": 4,
 "nbformat_minor": 2
}
