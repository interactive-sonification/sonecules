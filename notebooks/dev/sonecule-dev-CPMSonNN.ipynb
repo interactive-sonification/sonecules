{
 "cells": [
  {
   "attachments": {},
   "cell_type": "markdown",
   "metadata": {},
   "source": [
    "# Sonecule CPMSonCB: Continuous PMSon - score-based with callback function for flexible mapping\n",
    "\n",
    "Using a continous parameter mapping sonification with a callback function to specify the mapping\n",
    "\n"
   ]
  },
  {
   "attachments": {},
   "cell_type": "markdown",
   "metadata": {},
   "source": [
    "## Data Preparation"
   ]
  },
  {
   "cell_type": "code",
   "execution_count": null,
   "metadata": {},
   "outputs": [],
   "source": [
    "import sonecules as sn\n",
    "sn.startup()\n",
    "sn.pb = sn.playback\n",
    "ctx = sn.gcc()\n",
    "import sc3nb as scn\n",
    "from pya import Asig\n",
    "import matplotlib.pyplot as plt\n",
    "plt.rcParams[\"figure.figsize\"] = (8,3)\n",
    "%matplotlib widget\n",
    "\n",
    "import sc3nb as scn\n",
    "def a2dict(**kwargs):\n",
    "    \"\"\"turn argument list into dictionary\"\"\"\n",
    "    return kwargs"
   ]
  },
  {
   "cell_type": "code",
   "execution_count": null,
   "metadata": {},
   "outputs": [],
   "source": [
    "%run ../examples/prepare-data.ipynb"
   ]
  },
  {
   "cell_type": "code",
   "execution_count": null,
   "metadata": {},
   "outputs": [],
   "source": [
    "df = bld_df\n",
    "df.plot(lw=0.2);"
   ]
  },
  {
   "attachments": {},
   "cell_type": "markdown",
   "metadata": {},
   "source": [
    "## Sonecule pre-development: synth and control"
   ]
  },
  {
   "cell_type": "code",
   "execution_count": null,
   "metadata": {},
   "outputs": [],
   "source": [
    "# create synth for tvosc\n",
    "scn.SynthDef(\"contsyn\", \n",
    "\"\"\"{ | out=0, freq=400, amp=0.1, vibfreq=0, vibintrel=0, numharm=0, pulserate=0, pint=0, pwid=1, pan=0 | \n",
    "    var vib = SinOsc.ar(vibfreq, mul: vibintrel*freq, add: freq);\n",
    "    var sig = Blip.ar(vib, mul: amp, numharm: numharm);\n",
    "    var pulse = LFPulse.ar(freq: pulserate, iphase: 0.0, width: pwid, mul: pint, add: 1-pint);\n",
    "    Out.ar(out, Pan2.ar(sig * pulse, pan));\n",
    "}\"\"\").add();"
   ]
  },
  {
   "cell_type": "code",
   "execution_count": null,
   "metadata": {},
   "outputs": [],
   "source": [
    "ctx.enable_realtime();"
   ]
  },
  {
   "cell_type": "code",
   "execution_count": null,
   "metadata": {},
   "outputs": [],
   "source": [
    "syn = ctx.synths.create(name=\"contsyn\", track=1,  mutable=True)\n",
    "syn"
   ]
  },
  {
   "cell_type": "code",
   "execution_count": null,
   "metadata": {},
   "outputs": [],
   "source": [
    "syn.start(freq=400, amp=0.1, vibfreq=3, vibintrel=0.1, numharm=5, pulserate=15, pint=0.5, pwid=0.5, pan=0)\n"
   ]
  },
  {
   "cell_type": "code",
   "execution_count": null,
   "metadata": {},
   "outputs": [],
   "source": [
    "# change via properties\n",
    "syn.freq = 323\n",
    "syn.numharm = 1\n",
    "syn.pint = 0\n",
    "syn.vibintrel = 0.01\n",
    "syn.vibfreq = 6\n"
   ]
  },
  {
   "cell_type": "code",
   "execution_count": null,
   "metadata": {},
   "outputs": [],
   "source": [
    "# set via dictionary\n",
    "syn.set({'freq': 600, 'numharm': 2, 'pint': 0.2, 'amp': 0.05})"
   ]
  },
  {
   "cell_type": "code",
   "execution_count": null,
   "metadata": {},
   "outputs": [],
   "source": [
    "syn.stop()"
   ]
  },
  {
   "cell_type": "code",
   "execution_count": null,
   "metadata": {},
   "outputs": [],
   "source": [
    "ctx.backend.stop(ctx)"
   ]
  },
  {
   "cell_type": "code",
   "execution_count": null,
   "metadata": {},
   "outputs": [],
   "source": [
    "ctx.disable_realtime()"
   ]
  },
  {
   "cell_type": "code",
   "execution_count": null,
   "metadata": {},
   "outputs": [],
   "source": [
    "# set mesonic backend latency\n",
    "sn.pb().processor.latency = 0.1"
   ]
  },
  {
   "attachments": {},
   "cell_type": "markdown",
   "metadata": {},
   "source": [
    "## Sonecule Pre-development - loop and player"
   ]
  },
  {
   "cell_type": "code",
   "execution_count": null,
   "metadata": {},
   "outputs": [],
   "source": [
    "df = bld_df.iloc[:24*7]"
   ]
  },
  {
   "cell_type": "code",
   "execution_count": null,
   "metadata": {},
   "outputs": [],
   "source": [
    "# create synths\n",
    "syn = ctx.synths.create(name=\"contsyn\", track=1,  mutable=True)"
   ]
  },
  {
   "cell_type": "code",
   "execution_count": null,
   "metadata": {},
   "outputs": [],
   "source": [
    "df.columns"
   ]
  },
  {
   "cell_type": "code",
   "execution_count": null,
   "metadata": {},
   "outputs": [],
   "source": [
    "syn.params.keys()"
   ]
  },
  {
   "cell_type": "code",
   "execution_count": null,
   "metadata": {},
   "outputs": [],
   "source": [
    "# here schedule function, with argument for replace default to true\n",
    "ctx.reset()\n",
    "\n",
    "# start syns (oscillators) with default values\n",
    "pdict = {}\n",
    "for k, v in syn.params.items():\n",
    "    pdict[k] = v.default\n",
    "\n",
    "with ctx.at(time=0):\n",
    "    syn.start(**pdict)\n",
    "\n",
    "# service mapcol function\n",
    "def mapcol(r, name, cmins, cmaxs, dmi, dma):\n",
    "    return scn.linlin(r[name], cmins[name], cmaxs[name], dmi, dma)\n",
    "\n",
    "# default callback function (later submitted)\n",
    "def callback_fn(r, cmi, cma, pp):\n",
    "    pp['freq']      = scn.midicps(mapcol(r, 'temperature', cmi, cma, 48, 72))\n",
    "    pp['amp']       = mapcol(r, 'humidity', cmi, cma, 0.1, 0.9) \n",
    "    pp['pan']       = mapcol(r, 'hc_wb_electrical', cmi, cma, -1, 1)\n",
    "    pp['numharm']   = mapcol(r, 'solar_radiation', cmi, cma, 1, 6)\n",
    "    pp['vibfreq']   = scn.linlin(r['hc_wb_hot_water'], -0.5, 0.5, 3, 8)\n",
    "    pp['vibintrel'] = 0.05\n",
    "    return pp\n",
    "\n",
    "# schedule function\n",
    "duration = 14\n",
    "maxonset = -1\n",
    "nrows = df.shape[0]\n",
    "cmi = df.min()\n",
    "cma = df.max()\n",
    "# modulate parameters by data \n",
    "for idx, r in df.iterrows():\n",
    "    onset = scn.linlin(idx, 0, nrows, 0, duration)\n",
    "    with ctx.at(time=onset):\n",
    "        pardict = callback_fn(r, cmi, cma, pdict)\n",
    "        syn.set(pardict)\n",
    "    if onset > maxonset:\n",
    "        maxonset = onset\n",
    "\n",
    "# stop oscillator at end\n",
    "with ctx.at(time=maxonset):\n",
    "    syn.stop()\n",
    "\n",
    "# start sonification playback\n",
    "sn.pb().start()"
   ]
  },
  {
   "attachments": {},
   "cell_type": "markdown",
   "metadata": {},
   "source": [
    "## Implementation"
   ]
  },
  {
   "cell_type": "code",
   "execution_count": null,
   "metadata": {},
   "outputs": [],
   "source": [
    "from mesonic.synth import Synth\n",
    "from sonecules.base import Sonecule\n",
    "import numpy, numbers"
   ]
  },
  {
   "cell_type": "code",
   "execution_count": null,
   "metadata": {},
   "outputs": [],
   "source": [
    "class CPMSonCB(Sonecule):\n",
    "    def __init__(self, data, synthdef=None, context=None):\n",
    "        super().__init__(context=context)\n",
    "\n",
    "        self.data = data\n",
    "        self.synthdef = synthdef\n",
    "        if self.synthdef:\n",
    "            scn.SynthDef(\"contsyn\", synthdef).add()\n",
    "        else:\n",
    "            print(\"no synth definition: use default contsyn\")\n",
    "            scn.SynthDef(\"contsyn\", \n",
    "            \"\"\"{ | out=0, freq=400, amp=0.1, vibfreq=0, vibintrel=0, numharm=0, pulserate=0, pint=0, pwid=1, pan=0 | \n",
    "                var vib = SinOsc.ar(vibfreq, mul: vibintrel*freq, add: freq);\n",
    "                var sig = Blip.ar(vib, mul: amp, numharm: numharm);\n",
    "                var pulse = LFPulse.ar(freq: pulserate, iphase: 0.0, width: pwid, mul: pint, add: 1-pint);\n",
    "                Out.ar(out, Pan2.ar(sig * pulse, pan));\n",
    "            }\"\"\").add()\n",
    "\n",
    "        ctx = self.context\n",
    "\n",
    "        ctx._backend.sc.server.sync()\n",
    "\n",
    "        self.syn = ctx.synths.create(name=\"contsyn\", track=1,  mutable=True)\n",
    "\n",
    "        self.pdict = {}\n",
    "        for k, v in self.syn.params.items():\n",
    "            self.pdict[k] = v.default\n",
    "\n",
    "\n",
    "    @staticmethod\n",
    "    def mapcol(r, name, cmins, cmaxs, dmi, dma):\n",
    "        \"\"\"service mapcol function\"\"\"\n",
    "        return scn.linlin(r[name], cmins[name], cmaxs[name], dmi, dma)\n",
    "\n",
    "    def schedule(\n",
    "        self,\n",
    "        at=0,\n",
    "        duration=4,\n",
    "        callback_fn=None,\n",
    "        reset_flag=True,\n",
    "    ):\n",
    "        # here schedule function, with argument for replace default to true\n",
    "        # \"change\"\n",
    "        ctx = self.context\n",
    "        if reset_flag:\n",
    "            sn.reset() \n",
    "\n",
    "        # create synths\n",
    "        with ctx.at(time=at):\n",
    "            self.syn.start(**self.pdict)\n",
    "\n",
    "        # compute parameters for mapping\n",
    "        # 1. src ranges for pitch mapping\n",
    "\n",
    "        df = self.data\n",
    "        maxonset = -1\n",
    "        nrows = df.shape[0]\n",
    "        cmi = df.min()\n",
    "        cma = df.max()\n",
    "        # modulate parameters by data \n",
    "        ct = 0 \n",
    "        for idx, r in df.iterrows():\n",
    "            onset = scn.linlin(ct, 0, nrows, 0, duration)\n",
    "            with ctx.at(time=at+onset):\n",
    "                pdict = callback_fn(r, cmi, cma, self.pdict)\n",
    "                self.syn.set(pdict)\n",
    "            if onset > maxonset:\n",
    "                maxonset = onset\n",
    "            ct += 1\n",
    "\n",
    "        # stop oscillators\n",
    "\n",
    "        # stop oscillator at end\n",
    "        with ctx.at(time=at+maxonset):\n",
    "            self.syn.stop()\n",
    "\n",
    "        return self\n",
    "    \n",
    "    def create_callback_template(self, auto_assign=False):\n",
    "        df = self.data\n",
    "        tabstr = \"    \"\n",
    "        str = \"def cbfn(r, cmi, cma, pp):\\n\"\n",
    "        str += tabstr + f\"# columns are:\" \n",
    "        feature_list = []\n",
    "        for i, col in enumerate(df.columns):\n",
    "            feature = col\n",
    "            feature_list.append(feature)\n",
    "            str += f\"'{col}' \"\n",
    "            if (i+1) % 4 == 0: \n",
    "                str += \"\\n\" + tabstr + '# '\n",
    "        str += '\\n'\n",
    "        \n",
    "        fct = 0\n",
    "        for p in self.pdict:\n",
    "            if p == 'out': \n",
    "                continue\n",
    "            if auto_assign:\n",
    "                # assign features automatically\n",
    "                feature = feature_list[fct]\n",
    "                fct += 1\n",
    "                if fct == len(feature_list)-1:\n",
    "                    fct = 0\n",
    "                leftstr = f\"pp['{p}']\"\n",
    "                bound_left = self.pdict[p]*0.75\n",
    "                bound_right = self.pdict[p]*1.5\n",
    "                str += tabstr + f\"{leftstr:15s}\\t = mapcol(r, '{feature}', cmi, cma, {bound_left}, {bound_right})\\n\"\n",
    "                pass\n",
    "            else:\n",
    "                str += tabstr + f\"pp['{p}']\\t = mapcol(r, 'colname', cmi, cma, 1, 2)\\n\"\n",
    "            \"\"\n",
    "        print(str)\n",
    "        print(\"# create sonification e.g. by using\\n\" +\n",
    "              \"scb.schedule(at=0, duration=2, callback_fn=callback_fn).start(rate=1)\\n\")\n",
    "        return str\n",
    "\n",
    "    def start(self, **kwargs):\n",
    "        \"\"\"start sonification rendering by starting the playback\n",
    "        kwargs are passed on to start(), so use rate to control speedup, etc.\n",
    "        \"\"\"\n",
    "        print(kwargs)\n",
    "        sn.playback().start(**kwargs)\n",
    "    "
   ]
  },
  {
   "attachments": {},
   "cell_type": "markdown",
   "metadata": {},
   "source": [
    "## Usage / Demo Snippets"
   ]
  },
  {
   "attachments": {},
   "cell_type": "markdown",
   "metadata": {},
   "source": [
    "First let's craft a continuous PMSon using a callback function for mapping"
   ]
  },
  {
   "cell_type": "code",
   "execution_count": null,
   "metadata": {},
   "outputs": [],
   "source": [
    "# scb = CPMSonCB(bld_df.iloc[:7*24, 6:])  # one week\n",
    "scb = CPMSonCB(bld_df.iloc[:4000, 7:])  # whole dataset\n",
    "\n",
    "mapcol = scb.mapcol\n",
    "\n",
    "def callback_fn(r, cmi, cma, pp):\n",
    "    pp['freq']      = scn.midicps(mapcol(r, 'temperature', cmi, cma, 48, 72))\n",
    "    pp['amp']       = scn.dbamp(mapcol(r, 'humidity', cmi, cma, -20, 0)) \n",
    "    pp['pan']       = mapcol(r, 'hc_wb_electrical', cmi, cma, -1, 1)\n",
    "    pp['numharm']   = mapcol(r, 'solar_radiation', cmi, cma, 1, 12)\n",
    "    pp['vibfreq']   = scn.linlin(r['hc_wb_hot_water'], -0.5, 0.5, 3, 8)\n",
    "    pp['vibintrel'] = 0\n",
    "    return pp\n",
    "\n",
    "scb.schedule(at=0, duration=4, callback_fn=callback_fn).start(rate=1)"
   ]
  },
  {
   "attachments": {},
   "cell_type": "markdown",
   "metadata": {},
   "source": [
    "@Dennis: it sounds like mesonic has timing issues: if I play 4000 rows in 4 seconds, the sonification needs more than 4 seconds\n",
    "- any ideas?"
   ]
  },
  {
   "attachments": {},
   "cell_type": "markdown",
   "metadata": {},
   "source": [
    "Now let the sonecule propose a mapping as starting point for own experiments.\n",
    "\n",
    "- Calling `create_callback_template()` composes \n",
    "- and then prints the python code string.\n",
    "- This output can be copied into a notebook cell and adapted as needed.\n",
    "- On execution it defines the callback function cbfn().\n",
    "- The sonification can be rendered as you go until satisfactory."
   ]
  },
  {
   "cell_type": "code",
   "execution_count": null,
   "metadata": {},
   "outputs": [],
   "source": [
    "scb = CPMSonCB(bld_df.iloc[:7*24, 8:])  # whole dataset but no weekday features\n",
    "\n",
    "fnstr = scb.create_callback_template(auto_assign=True)"
   ]
  },
  {
   "cell_type": "code",
   "execution_count": null,
   "metadata": {},
   "outputs": [],
   "source": [
    "def cbfn(r, cmi, cma, pp):\n",
    "    # columns are:'hour' 'am_pm' 'temperature' 'humidity' \n",
    "    # 'solar_radiation' 'wind_speed' 'hc_wb_electrical' 'hc_wb_cold_water' \n",
    "    # 'hc_wb_hot_water' \n",
    "    pp['freq']     \t = mapcol(r, 'hour', cmi, cma, 300.0, 600.0)\n",
    "    pp['amp']      \t = mapcol(r, 'am_pm', cmi, cma, 0.07500000111758709, 0.15000000223517418)\n",
    "    pp['vibfreq']  \t = mapcol(r, 'temperature', cmi, cma, 0.0, 0.0)\n",
    "    pp['vibintrel']\t = mapcol(r, 'humidity', cmi, cma, 0.0, 0.0)\n",
    "    pp['numharm']  \t = mapcol(r, 'solar_radiation', cmi, cma, 0.0, 0.0)\n",
    "    pp['pulserate']\t = mapcol(r, 'wind_speed', cmi, cma, 0.0, 0.0)\n",
    "    pp['pint']     \t = mapcol(r, 'hc_wb_electrical', cmi, cma, 0.0, 0.0)\n",
    "    pp['pwid']     \t = mapcol(r, 'hc_wb_cold_water', cmi, cma, 0.75, 1.5)\n",
    "    pp['pan']      \t = mapcol(r, 'hour', cmi, cma, 0.0, 0.0)\n",
    "\n",
    "# create sonification e.g. by using\n",
    "scb.schedule(at=0, duration=2, callback_fn=callback_fn).start(rate=1)\n"
   ]
  },
  {
   "attachments": {},
   "cell_type": "markdown",
   "metadata": {},
   "source": [
    "And finally here is a hand-crafted mapping, from modifying the code"
   ]
  },
  {
   "cell_type": "code",
   "execution_count": null,
   "metadata": {},
   "outputs": [],
   "source": [
    "scb = CPMSonCB(bld_df.iloc[14*24:18*24, 8:]) \n",
    "\n",
    "def cbfn(r, cmi, cma, pp):\n",
    "    # columns are:\n",
    "    # 'hour' 'am_pm' 'temperature' 'humidity' \n",
    "    # 'solar_radiation' 'wind_speed' 'hc_wb_electrical' 'hc_wb_cold_water' \n",
    "    # 'hc_wb_hot_water' \n",
    "    # print(r, pp)\n",
    "    pp['freq']\t     = mapcol(r, 'solar_radiation', cmi, cma, 100, 800)\n",
    "    pp['amp']\t     = mapcol(r, 'humidity', cmi, cma, 0, 1)\n",
    "    pp['numharm']\t = mapcol(r, 'am_pm', cmi, cma, 1, 4)\n",
    "    pp['vibintrel']  = 0\n",
    "    pp['pan']\t     = mapcol(r, 'hc_wb_electrical', cmi, cma, -1, 1)\n",
    "    return pp\n",
    "\n",
    "scb.schedule(at=1, duration=8, callback_fn=cbfn).start(rate=1)"
   ]
  },
  {
   "cell_type": "code",
   "execution_count": null,
   "metadata": {},
   "outputs": [],
   "source": [
    "ctx.backend.stop(ctx)"
   ]
  }
 ],
 "metadata": {},
 "nbformat": 4,
 "nbformat_minor": 2
}
