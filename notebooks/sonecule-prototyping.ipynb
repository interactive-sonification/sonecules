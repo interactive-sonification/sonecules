{
 "cells": [
  {
   "cell_type": "code",
   "execution_count": 2,
   "id": "14e11ffe-40da-45a4-9ee3-67a25c8f8cf0",
   "metadata": {},
   "outputs": [],
   "source": [
    "import pandas as pd\n",
    "import numpy as np \n",
    "\n",
    "import matplotlib.pyplot as plt\n",
    "import seaborn as sns\n",
    "\n",
    "from scipy.spatial import ConvexHull\n",
    "from scipy.spatial.distance import cdist, euclidean"
   ]
  },
  {
   "cell_type": "code",
   "execution_count": 3,
   "id": "907065f5-6357-4c59-88ad-f511c0c40696",
   "metadata": {},
   "outputs": [],
   "source": [
    "import mesonic"
   ]
  },
  {
   "cell_type": "code",
   "execution_count": 4,
   "id": "63afaae5-1eed-48c1-9d5e-532defee9c35",
   "metadata": {},
   "outputs": [],
   "source": [
    "import sc3nb as scn"
   ]
  },
  {
   "cell_type": "code",
   "execution_count": 5,
   "id": "eccf717e",
   "metadata": {},
   "outputs": [],
   "source": [
    "%matplotlib widget"
   ]
  },
  {
   "attachments": {},
   "cell_type": "markdown",
   "id": "d272c4e3-13b5-43ca-b603-c6f27b59c2c2",
   "metadata": {},
   "source": [
    "# Data Preparation"
   ]
  },
  {
   "cell_type": "code",
   "execution_count": 6,
   "id": "0f22c278-604b-4c2b-8bb8-939f5eaadada",
   "metadata": {},
   "outputs": [
    {
     "data": {
      "text/html": [
       "<div>\n",
       "<style scoped>\n",
       "    .dataframe tbody tr th:only-of-type {\n",
       "        vertical-align: middle;\n",
       "    }\n",
       "\n",
       "    .dataframe tbody tr th {\n",
       "        vertical-align: top;\n",
       "    }\n",
       "\n",
       "    .dataframe thead th {\n",
       "        text-align: right;\n",
       "    }\n",
       "</style>\n",
       "<table border=\"1\" class=\"dataframe\">\n",
       "  <thead>\n",
       "    <tr style=\"text-align: right;\">\n",
       "      <th></th>\n",
       "      <th>0</th>\n",
       "      <th>1</th>\n",
       "      <th>2</th>\n",
       "      <th>3</th>\n",
       "      <th>4</th>\n",
       "      <th>5</th>\n",
       "      <th>6</th>\n",
       "      <th>7</th>\n",
       "      <th>8</th>\n",
       "      <th>9</th>\n",
       "      <th>10</th>\n",
       "      <th>11</th>\n",
       "      <th>12</th>\n",
       "      <th>13</th>\n",
       "      <th>14</th>\n",
       "      <th>15</th>\n",
       "      <th>16</th>\n",
       "      <th>17</th>\n",
       "      <th>18</th>\n",
       "    </tr>\n",
       "  </thead>\n",
       "  <tbody>\n",
       "    <tr>\n",
       "      <th>0</th>\n",
       "      <td>0.028222</td>\n",
       "      <td>0.032103</td>\n",
       "      <td>0.061726</td>\n",
       "      <td>0.026151</td>\n",
       "      <td>-0.019168</td>\n",
       "      <td>0.001125</td>\n",
       "      <td>0.084150</td>\n",
       "      <td>0.152345</td>\n",
       "      <td>-0.018833</td>\n",
       "      <td>0.144812</td>\n",
       "      <td>0.023978</td>\n",
       "      <td>-0.060042</td>\n",
       "      <td>-0.059378</td>\n",
       "      <td>-0.142523</td>\n",
       "      <td>-0.081363</td>\n",
       "      <td>-0.003205</td>\n",
       "      <td>0.001900</td>\n",
       "      <td>-0.032508</td>\n",
       "      <td>0.120488</td>\n",
       "    </tr>\n",
       "    <tr>\n",
       "      <th>1</th>\n",
       "      <td>0.022063</td>\n",
       "      <td>0.039795</td>\n",
       "      <td>0.072958</td>\n",
       "      <td>0.018535</td>\n",
       "      <td>-0.003891</td>\n",
       "      <td>-0.014948</td>\n",
       "      <td>0.076217</td>\n",
       "      <td>0.129582</td>\n",
       "      <td>-0.002825</td>\n",
       "      <td>0.140455</td>\n",
       "      <td>0.030075</td>\n",
       "      <td>-0.049214</td>\n",
       "      <td>-0.051051</td>\n",
       "      <td>-0.112420</td>\n",
       "      <td>-0.075001</td>\n",
       "      <td>-0.017744</td>\n",
       "      <td>0.004741</td>\n",
       "      <td>-0.031433</td>\n",
       "      <td>0.122046</td>\n",
       "    </tr>\n",
       "    <tr>\n",
       "      <th>2</th>\n",
       "      <td>0.008238</td>\n",
       "      <td>0.054645</td>\n",
       "      <td>0.080566</td>\n",
       "      <td>-0.001974</td>\n",
       "      <td>-0.002391</td>\n",
       "      <td>-0.025906</td>\n",
       "      <td>0.066757</td>\n",
       "      <td>0.117620</td>\n",
       "      <td>0.004045</td>\n",
       "      <td>0.128803</td>\n",
       "      <td>0.036379</td>\n",
       "      <td>-0.062148</td>\n",
       "      <td>-0.039406</td>\n",
       "      <td>-0.091644</td>\n",
       "      <td>-0.076569</td>\n",
       "      <td>-0.023592</td>\n",
       "      <td>0.010037</td>\n",
       "      <td>-0.028677</td>\n",
       "      <td>0.113983</td>\n",
       "    </tr>\n",
       "    <tr>\n",
       "      <th>3</th>\n",
       "      <td>-0.000430</td>\n",
       "      <td>0.058508</td>\n",
       "      <td>0.072828</td>\n",
       "      <td>-0.002159</td>\n",
       "      <td>0.001742</td>\n",
       "      <td>-0.014803</td>\n",
       "      <td>0.053183</td>\n",
       "      <td>0.087608</td>\n",
       "      <td>-0.004045</td>\n",
       "      <td>0.111465</td>\n",
       "      <td>0.037028</td>\n",
       "      <td>-0.067320</td>\n",
       "      <td>-0.037513</td>\n",
       "      <td>-0.105735</td>\n",
       "      <td>-0.070660</td>\n",
       "      <td>-0.014954</td>\n",
       "      <td>0.011896</td>\n",
       "      <td>-0.038195</td>\n",
       "      <td>0.114507</td>\n",
       "    </tr>\n",
       "    <tr>\n",
       "      <th>4</th>\n",
       "      <td>-0.038985</td>\n",
       "      <td>0.060608</td>\n",
       "      <td>0.047122</td>\n",
       "      <td>-0.058543</td>\n",
       "      <td>-0.019638</td>\n",
       "      <td>-0.034496</td>\n",
       "      <td>0.023942</td>\n",
       "      <td>0.038987</td>\n",
       "      <td>-0.017417</td>\n",
       "      <td>0.078132</td>\n",
       "      <td>0.037286</td>\n",
       "      <td>-0.071085</td>\n",
       "      <td>-0.040298</td>\n",
       "      <td>-0.085509</td>\n",
       "      <td>-0.071745</td>\n",
       "      <td>-0.031734</td>\n",
       "      <td>0.011764</td>\n",
       "      <td>-0.050748</td>\n",
       "      <td>0.104357</td>\n",
       "    </tr>\n",
       "    <tr>\n",
       "      <th>...</th>\n",
       "      <td>...</td>\n",
       "      <td>...</td>\n",
       "      <td>...</td>\n",
       "      <td>...</td>\n",
       "      <td>...</td>\n",
       "      <td>...</td>\n",
       "      <td>...</td>\n",
       "      <td>...</td>\n",
       "      <td>...</td>\n",
       "      <td>...</td>\n",
       "      <td>...</td>\n",
       "      <td>...</td>\n",
       "      <td>...</td>\n",
       "      <td>...</td>\n",
       "      <td>...</td>\n",
       "      <td>...</td>\n",
       "      <td>...</td>\n",
       "      <td>...</td>\n",
       "      <td>...</td>\n",
       "    </tr>\n",
       "    <tr>\n",
       "      <th>12816</th>\n",
       "      <td>0.008137</td>\n",
       "      <td>0.015835</td>\n",
       "      <td>0.030292</td>\n",
       "      <td>0.004232</td>\n",
       "      <td>-0.031876</td>\n",
       "      <td>-0.102639</td>\n",
       "      <td>-0.060007</td>\n",
       "      <td>-0.088014</td>\n",
       "      <td>0.154578</td>\n",
       "      <td>-0.058734</td>\n",
       "      <td>-0.024158</td>\n",
       "      <td>0.008377</td>\n",
       "      <td>0.019477</td>\n",
       "      <td>0.022107</td>\n",
       "      <td>0.052506</td>\n",
       "      <td>-0.066691</td>\n",
       "      <td>0.030541</td>\n",
       "      <td>0.074935</td>\n",
       "      <td>0.070871</td>\n",
       "    </tr>\n",
       "    <tr>\n",
       "      <th>12817</th>\n",
       "      <td>-0.002279</td>\n",
       "      <td>0.012823</td>\n",
       "      <td>0.024718</td>\n",
       "      <td>-0.007727</td>\n",
       "      <td>-0.042464</td>\n",
       "      <td>-0.119075</td>\n",
       "      <td>-0.053024</td>\n",
       "      <td>-0.084177</td>\n",
       "      <td>0.142778</td>\n",
       "      <td>-0.069008</td>\n",
       "      <td>-0.024131</td>\n",
       "      <td>0.008295</td>\n",
       "      <td>0.011260</td>\n",
       "      <td>0.010752</td>\n",
       "      <td>0.045623</td>\n",
       "      <td>-0.074747</td>\n",
       "      <td>0.024887</td>\n",
       "      <td>0.063638</td>\n",
       "      <td>0.071442</td>\n",
       "    </tr>\n",
       "    <tr>\n",
       "      <th>12818</th>\n",
       "      <td>-0.007978</td>\n",
       "      <td>0.009453</td>\n",
       "      <td>0.016757</td>\n",
       "      <td>-0.016753</td>\n",
       "      <td>-0.051879</td>\n",
       "      <td>-0.125812</td>\n",
       "      <td>-0.056459</td>\n",
       "      <td>-0.082529</td>\n",
       "      <td>0.126470</td>\n",
       "      <td>-0.075869</td>\n",
       "      <td>-0.029486</td>\n",
       "      <td>-0.001356</td>\n",
       "      <td>0.001771</td>\n",
       "      <td>-0.009098</td>\n",
       "      <td>0.034918</td>\n",
       "      <td>-0.077495</td>\n",
       "      <td>0.018433</td>\n",
       "      <td>0.055745</td>\n",
       "      <td>0.073086</td>\n",
       "    </tr>\n",
       "    <tr>\n",
       "      <th>12819</th>\n",
       "      <td>-0.011469</td>\n",
       "      <td>-0.003836</td>\n",
       "      <td>0.012690</td>\n",
       "      <td>-0.025660</td>\n",
       "      <td>-0.052121</td>\n",
       "      <td>-0.121801</td>\n",
       "      <td>-0.058094</td>\n",
       "      <td>-0.086325</td>\n",
       "      <td>0.115118</td>\n",
       "      <td>-0.083790</td>\n",
       "      <td>-0.028913</td>\n",
       "      <td>-0.012256</td>\n",
       "      <td>-0.010095</td>\n",
       "      <td>-0.011087</td>\n",
       "      <td>0.024644</td>\n",
       "      <td>-0.084829</td>\n",
       "      <td>0.010719</td>\n",
       "      <td>0.028166</td>\n",
       "      <td>0.066441</td>\n",
       "    </tr>\n",
       "    <tr>\n",
       "      <th>12820</th>\n",
       "      <td>-0.001126</td>\n",
       "      <td>0.014034</td>\n",
       "      <td>0.035080</td>\n",
       "      <td>-0.017660</td>\n",
       "      <td>-0.030287</td>\n",
       "      <td>-0.102086</td>\n",
       "      <td>-0.016527</td>\n",
       "      <td>-0.025523</td>\n",
       "      <td>0.170908</td>\n",
       "      <td>-0.029795</td>\n",
       "      <td>-0.013986</td>\n",
       "      <td>0.000056</td>\n",
       "      <td>0.019649</td>\n",
       "      <td>0.022473</td>\n",
       "      <td>0.042559</td>\n",
       "      <td>-0.059029</td>\n",
       "      <td>0.018372</td>\n",
       "      <td>0.034266</td>\n",
       "      <td>0.093233</td>\n",
       "    </tr>\n",
       "  </tbody>\n",
       "</table>\n",
       "<p>12821 rows × 19 columns</p>\n",
       "</div>"
      ],
      "text/plain": [
       "             0         1         2         3         4         5         6   \\\n",
       "0      0.028222  0.032103  0.061726  0.026151 -0.019168  0.001125  0.084150   \n",
       "1      0.022063  0.039795  0.072958  0.018535 -0.003891 -0.014948  0.076217   \n",
       "2      0.008238  0.054645  0.080566 -0.001974 -0.002391 -0.025906  0.066757   \n",
       "3     -0.000430  0.058508  0.072828 -0.002159  0.001742 -0.014803  0.053183   \n",
       "4     -0.038985  0.060608  0.047122 -0.058543 -0.019638 -0.034496  0.023942   \n",
       "...         ...       ...       ...       ...       ...       ...       ...   \n",
       "12816  0.008137  0.015835  0.030292  0.004232 -0.031876 -0.102639 -0.060007   \n",
       "12817 -0.002279  0.012823  0.024718 -0.007727 -0.042464 -0.119075 -0.053024   \n",
       "12818 -0.007978  0.009453  0.016757 -0.016753 -0.051879 -0.125812 -0.056459   \n",
       "12819 -0.011469 -0.003836  0.012690 -0.025660 -0.052121 -0.121801 -0.058094   \n",
       "12820 -0.001126  0.014034  0.035080 -0.017660 -0.030287 -0.102086 -0.016527   \n",
       "\n",
       "             7         8         9         10        11        12        13  \\\n",
       "0      0.152345 -0.018833  0.144812  0.023978 -0.060042 -0.059378 -0.142523   \n",
       "1      0.129582 -0.002825  0.140455  0.030075 -0.049214 -0.051051 -0.112420   \n",
       "2      0.117620  0.004045  0.128803  0.036379 -0.062148 -0.039406 -0.091644   \n",
       "3      0.087608 -0.004045  0.111465  0.037028 -0.067320 -0.037513 -0.105735   \n",
       "4      0.038987 -0.017417  0.078132  0.037286 -0.071085 -0.040298 -0.085509   \n",
       "...         ...       ...       ...       ...       ...       ...       ...   \n",
       "12816 -0.088014  0.154578 -0.058734 -0.024158  0.008377  0.019477  0.022107   \n",
       "12817 -0.084177  0.142778 -0.069008 -0.024131  0.008295  0.011260  0.010752   \n",
       "12818 -0.082529  0.126470 -0.075869 -0.029486 -0.001356  0.001771 -0.009098   \n",
       "12819 -0.086325  0.115118 -0.083790 -0.028913 -0.012256 -0.010095 -0.011087   \n",
       "12820 -0.025523  0.170908 -0.029795 -0.013986  0.000056  0.019649  0.022473   \n",
       "\n",
       "             14        15        16        17        18  \n",
       "0     -0.081363 -0.003205  0.001900 -0.032508  0.120488  \n",
       "1     -0.075001 -0.017744  0.004741 -0.031433  0.122046  \n",
       "2     -0.076569 -0.023592  0.010037 -0.028677  0.113983  \n",
       "3     -0.070660 -0.014954  0.011896 -0.038195  0.114507  \n",
       "4     -0.071745 -0.031734  0.011764 -0.050748  0.104357  \n",
       "...         ...       ...       ...       ...       ...  \n",
       "12816  0.052506 -0.066691  0.030541  0.074935  0.070871  \n",
       "12817  0.045623 -0.074747  0.024887  0.063638  0.071442  \n",
       "12818  0.034918 -0.077495  0.018433  0.055745  0.073086  \n",
       "12819  0.024644 -0.084829  0.010719  0.028166  0.066441  \n",
       "12820  0.042559 -0.059029  0.018372  0.034266  0.093233  \n",
       "\n",
       "[12821 rows x 19 columns]"
      ]
     },
     "execution_count": 6,
     "metadata": {},
     "output_type": "execute_result"
    }
   ],
   "source": [
    "eeg_data = np.loadtxt(\"../notebooks/data/epileptic-eeg.csv\", delimiter=\",\")\n",
    "eeg_df = pd.DataFrame(eeg_data)\n",
    "eeg_df"
   ]
  },
  {
   "cell_type": "code",
   "execution_count": 7,
   "id": "d7442a32-562f-4427-b5b2-66af8b6fd171",
   "metadata": {},
   "outputs": [
    {
     "data": {
      "text/html": [
       "<div>\n",
       "<style scoped>\n",
       "    .dataframe tbody tr th:only-of-type {\n",
       "        vertical-align: middle;\n",
       "    }\n",
       "\n",
       "    .dataframe tbody tr th {\n",
       "        vertical-align: top;\n",
       "    }\n",
       "\n",
       "    .dataframe thead th {\n",
       "        text-align: right;\n",
       "    }\n",
       "</style>\n",
       "<table border=\"1\" class=\"dataframe\">\n",
       "  <thead>\n",
       "    <tr style=\"text-align: right;\">\n",
       "      <th></th>\n",
       "      <th>species</th>\n",
       "      <th>island</th>\n",
       "      <th>bill_length_mm</th>\n",
       "      <th>bill_depth_mm</th>\n",
       "      <th>flipper_length_mm</th>\n",
       "      <th>body_mass_g</th>\n",
       "      <th>sex</th>\n",
       "    </tr>\n",
       "  </thead>\n",
       "  <tbody>\n",
       "    <tr>\n",
       "      <th>0</th>\n",
       "      <td>Adelie</td>\n",
       "      <td>Torgersen</td>\n",
       "      <td>39.1</td>\n",
       "      <td>18.7</td>\n",
       "      <td>181.0</td>\n",
       "      <td>3750.0</td>\n",
       "      <td>Male</td>\n",
       "    </tr>\n",
       "    <tr>\n",
       "      <th>1</th>\n",
       "      <td>Adelie</td>\n",
       "      <td>Torgersen</td>\n",
       "      <td>39.5</td>\n",
       "      <td>17.4</td>\n",
       "      <td>186.0</td>\n",
       "      <td>3800.0</td>\n",
       "      <td>Female</td>\n",
       "    </tr>\n",
       "    <tr>\n",
       "      <th>2</th>\n",
       "      <td>Adelie</td>\n",
       "      <td>Torgersen</td>\n",
       "      <td>40.3</td>\n",
       "      <td>18.0</td>\n",
       "      <td>195.0</td>\n",
       "      <td>3250.0</td>\n",
       "      <td>Female</td>\n",
       "    </tr>\n",
       "    <tr>\n",
       "      <th>3</th>\n",
       "      <td>Adelie</td>\n",
       "      <td>Torgersen</td>\n",
       "      <td>36.7</td>\n",
       "      <td>19.3</td>\n",
       "      <td>193.0</td>\n",
       "      <td>3450.0</td>\n",
       "      <td>Female</td>\n",
       "    </tr>\n",
       "    <tr>\n",
       "      <th>4</th>\n",
       "      <td>Adelie</td>\n",
       "      <td>Torgersen</td>\n",
       "      <td>39.3</td>\n",
       "      <td>20.6</td>\n",
       "      <td>190.0</td>\n",
       "      <td>3650.0</td>\n",
       "      <td>Male</td>\n",
       "    </tr>\n",
       "    <tr>\n",
       "      <th>...</th>\n",
       "      <td>...</td>\n",
       "      <td>...</td>\n",
       "      <td>...</td>\n",
       "      <td>...</td>\n",
       "      <td>...</td>\n",
       "      <td>...</td>\n",
       "      <td>...</td>\n",
       "    </tr>\n",
       "    <tr>\n",
       "      <th>328</th>\n",
       "      <td>Gentoo</td>\n",
       "      <td>Biscoe</td>\n",
       "      <td>47.2</td>\n",
       "      <td>13.7</td>\n",
       "      <td>214.0</td>\n",
       "      <td>4925.0</td>\n",
       "      <td>Female</td>\n",
       "    </tr>\n",
       "    <tr>\n",
       "      <th>329</th>\n",
       "      <td>Gentoo</td>\n",
       "      <td>Biscoe</td>\n",
       "      <td>46.8</td>\n",
       "      <td>14.3</td>\n",
       "      <td>215.0</td>\n",
       "      <td>4850.0</td>\n",
       "      <td>Female</td>\n",
       "    </tr>\n",
       "    <tr>\n",
       "      <th>330</th>\n",
       "      <td>Gentoo</td>\n",
       "      <td>Biscoe</td>\n",
       "      <td>50.4</td>\n",
       "      <td>15.7</td>\n",
       "      <td>222.0</td>\n",
       "      <td>5750.0</td>\n",
       "      <td>Male</td>\n",
       "    </tr>\n",
       "    <tr>\n",
       "      <th>331</th>\n",
       "      <td>Gentoo</td>\n",
       "      <td>Biscoe</td>\n",
       "      <td>45.2</td>\n",
       "      <td>14.8</td>\n",
       "      <td>212.0</td>\n",
       "      <td>5200.0</td>\n",
       "      <td>Female</td>\n",
       "    </tr>\n",
       "    <tr>\n",
       "      <th>332</th>\n",
       "      <td>Gentoo</td>\n",
       "      <td>Biscoe</td>\n",
       "      <td>49.9</td>\n",
       "      <td>16.1</td>\n",
       "      <td>213.0</td>\n",
       "      <td>5400.0</td>\n",
       "      <td>Male</td>\n",
       "    </tr>\n",
       "  </tbody>\n",
       "</table>\n",
       "<p>333 rows × 7 columns</p>\n",
       "</div>"
      ],
      "text/plain": [
       "    species     island  bill_length_mm  bill_depth_mm  flipper_length_mm  \\\n",
       "0    Adelie  Torgersen            39.1           18.7              181.0   \n",
       "1    Adelie  Torgersen            39.5           17.4              186.0   \n",
       "2    Adelie  Torgersen            40.3           18.0              195.0   \n",
       "3    Adelie  Torgersen            36.7           19.3              193.0   \n",
       "4    Adelie  Torgersen            39.3           20.6              190.0   \n",
       "..      ...        ...             ...            ...                ...   \n",
       "328  Gentoo     Biscoe            47.2           13.7              214.0   \n",
       "329  Gentoo     Biscoe            46.8           14.3              215.0   \n",
       "330  Gentoo     Biscoe            50.4           15.7              222.0   \n",
       "331  Gentoo     Biscoe            45.2           14.8              212.0   \n",
       "332  Gentoo     Biscoe            49.9           16.1              213.0   \n",
       "\n",
       "     body_mass_g     sex  \n",
       "0         3750.0    Male  \n",
       "1         3800.0  Female  \n",
       "2         3250.0  Female  \n",
       "3         3450.0  Female  \n",
       "4         3650.0    Male  \n",
       "..           ...     ...  \n",
       "328       4925.0  Female  \n",
       "329       4850.0  Female  \n",
       "330       5750.0    Male  \n",
       "331       5200.0  Female  \n",
       "332       5400.0    Male  \n",
       "\n",
       "[333 rows x 7 columns]"
      ]
     },
     "execution_count": 7,
     "metadata": {},
     "output_type": "execute_result"
    }
   ],
   "source": [
    "penguins_df = sns.load_dataset(\"penguins\")\n",
    "penguins_df = penguins_df.dropna(subset=[\"bill_length_mm\", \"bill_depth_mm\", \"flipper_length_mm\", \"body_mass_g\", \"sex\"])\n",
    "penguins_df = penguins_df.reset_index(drop=True)\n",
    "penguins_df"
   ]
  },
  {
   "cell_type": "code",
   "execution_count": 8,
   "id": "75e14417-3c1c-49f1-a67d-0df79bf2f546",
   "metadata": {},
   "outputs": [
    {
     "data": {
      "text/html": [
       "<div>\n",
       "<style scoped>\n",
       "    .dataframe tbody tr th:only-of-type {\n",
       "        vertical-align: middle;\n",
       "    }\n",
       "\n",
       "    .dataframe tbody tr th {\n",
       "        vertical-align: top;\n",
       "    }\n",
       "\n",
       "    .dataframe thead th {\n",
       "        text-align: right;\n",
       "    }\n",
       "</style>\n",
       "<table border=\"1\" class=\"dataframe\">\n",
       "  <thead>\n",
       "    <tr style=\"text-align: right;\">\n",
       "      <th></th>\n",
       "      <th>Date</th>\n",
       "      <th>Extent</th>\n",
       "    </tr>\n",
       "  </thead>\n",
       "  <tbody>\n",
       "    <tr>\n",
       "      <th>0</th>\n",
       "      <td>1980-01-01</td>\n",
       "      <td>14.200</td>\n",
       "    </tr>\n",
       "    <tr>\n",
       "      <th>1</th>\n",
       "      <td>1980-01-03</td>\n",
       "      <td>14.302</td>\n",
       "    </tr>\n",
       "    <tr>\n",
       "      <th>2</th>\n",
       "      <td>1980-01-05</td>\n",
       "      <td>14.414</td>\n",
       "    </tr>\n",
       "    <tr>\n",
       "      <th>3</th>\n",
       "      <td>1980-01-07</td>\n",
       "      <td>14.518</td>\n",
       "    </tr>\n",
       "    <tr>\n",
       "      <th>4</th>\n",
       "      <td>1980-01-09</td>\n",
       "      <td>14.594</td>\n",
       "    </tr>\n",
       "    <tr>\n",
       "      <th>...</th>\n",
       "      <td>...</td>\n",
       "      <td>...</td>\n",
       "    </tr>\n",
       "    <tr>\n",
       "      <th>13170</th>\n",
       "      <td>2019-12-27</td>\n",
       "      <td>12.721</td>\n",
       "    </tr>\n",
       "    <tr>\n",
       "      <th>13171</th>\n",
       "      <td>2019-12-28</td>\n",
       "      <td>12.712</td>\n",
       "    </tr>\n",
       "    <tr>\n",
       "      <th>13172</th>\n",
       "      <td>2019-12-29</td>\n",
       "      <td>12.780</td>\n",
       "    </tr>\n",
       "    <tr>\n",
       "      <th>13173</th>\n",
       "      <td>2019-12-30</td>\n",
       "      <td>12.858</td>\n",
       "    </tr>\n",
       "    <tr>\n",
       "      <th>13174</th>\n",
       "      <td>2019-12-31</td>\n",
       "      <td>12.889</td>\n",
       "    </tr>\n",
       "  </tbody>\n",
       "</table>\n",
       "<p>13175 rows × 2 columns</p>\n",
       "</div>"
      ],
      "text/plain": [
       "            Date  Extent\n",
       "0     1980-01-01  14.200\n",
       "1     1980-01-03  14.302\n",
       "2     1980-01-05  14.414\n",
       "3     1980-01-07  14.518\n",
       "4     1980-01-09  14.594\n",
       "...          ...     ...\n",
       "13170 2019-12-27  12.721\n",
       "13171 2019-12-28  12.712\n",
       "13172 2019-12-29  12.780\n",
       "13173 2019-12-30  12.858\n",
       "13174 2019-12-31  12.889\n",
       "\n",
       "[13175 rows x 2 columns]"
      ]
     },
     "execution_count": 8,
     "metadata": {},
     "output_type": "execute_result"
    }
   ],
   "source": [
    "seaice_df = sns.load_dataset(\"seaice\")\n",
    "seaice_df"
   ]
  },
  {
   "cell_type": "code",
   "execution_count": 9,
   "id": "1c731876-1075-456e-aceb-731f25c93f8c",
   "metadata": {},
   "outputs": [
    {
     "data": {
      "text/plain": [
       "<Axes: xlabel='Date'>"
      ]
     },
     "execution_count": 9,
     "metadata": {},
     "output_type": "execute_result"
    },
    {
     "data": {
      "application/vnd.jupyter.widget-view+json": {
       "model_id": "14a92b00ad314381bae426a30c98e027",
       "version_major": 2,
       "version_minor": 0
      },
      "image/png": "[encoded data removed]",
      "text/html": [
       "\n",
       "            <div style=\"display: inline-block;\">\n",
       "                <div class=\"jupyter-widgets widget-label\" style=\"text-align: center;\">\n",
       "                    Figure\n",
       "                </div>\n",
       "                <img src='data:image/png;base64,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' width=640.0/>\n",
       "            </div>\n",
       "        "
      ],
      "text/plain": [
       "Canvas(toolbar=Toolbar(toolitems=[('Home', 'Reset original view', 'home', 'home'), ('Back', 'Back to previous …"
      ]
     },
     "metadata": {},
     "output_type": "display_data"
    }
   ],
   "source": [
    "seaice_df.set_index(\"Date\").plot()"
   ]
  },
  {
   "attachments": {},
   "cell_type": "markdown",
   "id": "a808ec87-8465-428d-960a-e76ef64cdfb7",
   "metadata": {},
   "source": [
    "# Sonecules"
   ]
  },
  {
   "cell_type": "code",
   "execution_count": 10,
   "id": "38346677-7a94-4eb2-8747-abde05487d32",
   "metadata": {},
   "outputs": [],
   "source": [
    "import uuid"
   ]
  },
  {
   "cell_type": "code",
   "execution_count": 11,
   "id": "2b19532f-3fdb-49d5-aa66-6fe749af26b4",
   "metadata": {},
   "outputs": [
    {
     "data": {
      "application/javascript": "if (typeof Jupyter !== 'undefined') {\n                        Jupyter.keyboard_manager.command_shortcuts.add_shortcut(\n                        'cmd-.', {\n                        help : 'Free all nodes on SC server',\n                        help_index : 'zz',\n                        handler : function (event) {\n                            IPython.notebook.kernel.execute(\n                                \"import sc3nb; sc3nb.SC.get_default().server.free_all(root=True)\"\n                            )\n                            return true;}\n                        });\n                    }",
      "text/plain": [
       "<IPython.core.display.Javascript object>"
      ]
     },
     "metadata": {},
     "output_type": "display_data"
    },
    {
     "name": "stdout",
     "output_type": "stream",
     "text": [
      "Starting sclang process... [sclang | start reading ]\n",
      "Done.\n",
      "Registering OSC /return callback in sclang... Done.\n",
      "Loading default sc3nb SynthDefs... Done.\n",
      "Booting SuperCollider Server... \n",
      "SuperCollider Server port 57110 already used.\n",
      "Trying to connect.\n",
      "Done.\n"
     ]
    }
   ],
   "source": [
    "context = mesonic.create_context()"
   ]
  },
  {
   "cell_type": "code",
   "execution_count": 12,
   "id": "256cb6a8-dd63-4e36-b358-5012a572e22e",
   "metadata": {},
   "outputs": [],
   "source": [
    "sonecules_default_context = context"
   ]
  },
  {
   "cell_type": "code",
   "execution_count": 13,
   "id": "ea5aa961-2166-4592-b0d0-c27c300e78e0",
   "metadata": {},
   "outputs": [
    {
     "data": {
      "text/plain": [
       "UUID('ac625241-2169-4183-8c9a-a8244a830f61')"
      ]
     },
     "execution_count": 13,
     "metadata": {},
     "output_type": "execute_result"
    }
   ],
   "source": [
    "uuid.uuid4()"
   ]
  },
  {
   "cell_type": "code",
   "execution_count": 14,
   "id": "4d56b3cf-cb01-430d-bb9a-8421ce8c17a4",
   "metadata": {},
   "outputs": [],
   "source": [
    "pb = context.create_playback()"
   ]
  },
  {
   "cell_type": "code",
   "execution_count": 15,
   "id": "c212cde9-7025-4a92-85c3-82b6fef2f6e5",
   "metadata": {},
   "outputs": [
    {
     "data": {
      "text/plain": [
       "True"
      ]
     },
     "execution_count": 15,
     "metadata": {},
     "output_type": "execute_result"
    }
   ],
   "source": [
    "context.processor is pb.processor"
   ]
  },
  {
   "cell_type": "code",
   "execution_count": 16,
   "id": "5e2fb846-9877-4fae-bbae-af66a4be809d",
   "metadata": {},
   "outputs": [],
   "source": [
    "class SoneculeFilter:\n",
    "    \n",
    "    def __init__(self):\n",
    "        self.deactivated_sonecules = set()\n",
    "    \n",
    "    def __call__(self, event):\n",
    "        sonecule_id = event.info.get(\"sonecule_id\", None) \n",
    "        if sonecule_id is not None and sonecule_id in self.deactivated_sonecules:\n",
    "            return None\n",
    "        else:\n",
    "            return event\n",
    "    "
   ]
  },
  {
   "cell_type": "code",
   "execution_count": 17,
   "id": "ad451d90-95f5-4321-a3a9-b966889698a8",
   "metadata": {},
   "outputs": [],
   "source": [
    "context.processor.event_filter = SoneculeFilter() \n",
    "# TODO this should be a list/set of filters so we don't block custom filters"
   ]
  },
  {
   "cell_type": "code",
   "execution_count": 18,
   "id": "cd37a25a-21f4-42b6-9e70-ff7691caffab",
   "metadata": {},
   "outputs": [],
   "source": [
    "class Sonecule:\n",
    "    \n",
    "    def __init__(self, context=None): \n",
    "        if context is None:\n",
    "            context = sonecules_default_context\n",
    "        self.context = context\n",
    "        self._sonecule_id = uuid.uuid4()\n",
    "        \n",
    "    # require or better ensure each synth created in a sonecule gets the\n",
    "    # metadata set to include the sonecule_id so it can be filtere\n",
    "    \n",
    "    @property\n",
    "    def sonecule_id(self):\n",
    "        return self._sonecule_id\n",
    "    \n",
    "    @property\n",
    "    def active(self, value):\n",
    "        return self.sonecule_id in context.processor.event_filter.deactivated_sonecules\n",
    "    \n",
    "    @active.setter\n",
    "    def active(self, value):\n",
    "        assert isinstance(value, bool)\n",
    "        if value:  # this sonecule should not be part of the timeline\n",
    "            context.processor.event_filter.deactivated_sonecules.add(self.sonecule_id)\n",
    "        else:\n",
    "            context.processor.event_filter.deactivated_sonecules.discard(self.sonecule_id)\n",
    "    \n",
    "    def reset(self): # clear this \n",
    "        \"\"\"iterate over timeline and remove events belonging to this Sonecule\"\"\"\n",
    "        # TODO this should be done in mesonic\n",
    "        ...\n",
    "    "
   ]
  },
  {
   "attachments": {},
   "cell_type": "markdown",
   "id": "7d1ff91c-7f3b-467a-8a1e-2667e6f2921a",
   "metadata": {},
   "source": [
    "# Sonification Classes"
   ]
  },
  {
   "attachments": {},
   "cell_type": "markdown",
   "id": "55df0c09-7b2f-451f-b886-a66d8d4085b7",
   "metadata": {
    "tags": []
   },
   "source": [
    "## Score-based / Timeline Sonifications\n",
    "\n",
    "* schedule method for score / timeline generation"
   ]
  },
  {
   "cell_type": "code",
   "execution_count": 19,
   "id": "c241cd37-b3b4-4682-a194-aba0fb665041",
   "metadata": {},
   "outputs": [],
   "source": [
    "from sc3nb import linlin, midicps, cpsmidi"
   ]
  },
  {
   "cell_type": "code",
   "execution_count": 20,
   "id": "e7df28ff-3110-4f12-af9c-91b770f3eadf",
   "metadata": {},
   "outputs": [],
   "source": [
    "s2 = context.synths.create(\"s2\", track=1) "
   ]
  },
  {
   "attachments": {},
   "cell_type": "markdown",
   "id": "91f76bf6-4471-4c51-9f24-ae451d81c134",
   "metadata": {},
   "source": [
    "Question: create Synths in sonecule or outside?\n",
    "- inside: \n",
    "    - we have full control over synth creation\n",
    "    - some sonecules will rely on specific synths\n",
    "    - we can better provide sensible defaults\n",
    "    - requires atleast a small inheritance overwritting synth name string for synth changes, perhaps also needs to redo setup\n",
    "- outside:\n",
    "    - user can already set defaults and bounds\n",
    "    - user can adapt a sonecule quickly without much code\n",
    "    \n"
   ]
  },
  {
   "cell_type": "code",
   "execution_count": 21,
   "id": "257518c8-5e6c-45ea-ad36-f282390035ef",
   "metadata": {},
   "outputs": [],
   "source": [
    "s2.metadata.update({\"sonecule_id\": 1321})"
   ]
  },
  {
   "cell_type": "code",
   "execution_count": 22,
   "id": "83b89d37-f0aa-4590-b8cc-234100caad92",
   "metadata": {},
   "outputs": [
    {
     "data": {
      "text/plain": [
       "{'sonecule_id': 1321}"
      ]
     },
     "execution_count": 22,
     "metadata": {},
     "output_type": "execute_result"
    }
   ],
   "source": [
    "s2.metadata"
   ]
  },
  {
   "cell_type": "code",
   "execution_count": 23,
   "id": "85019702-6494-49c0-a16b-fec4a4818a7b",
   "metadata": {},
   "outputs": [
    {
     "data": {
      "text/plain": [
       "{'freq': Parameter(freq=400.00, default=400.00, bounds=(None, None)),\n",
       " 'amp': Parameter(amp=0.30, default=0.30, bounds=(None, None)),\n",
       " 'num': Parameter(num=4.00, default=4.00, bounds=(None, None)),\n",
       " 'pan': Parameter(pan=0.00, default=0.00, bounds=(None, None)),\n",
       " 'lg': Parameter(lg=0.10, default=0.10, bounds=(None, None)),\n",
       " 'gate': Parameter(gate=1.00, default=1.00, bounds=(None, None))}"
      ]
     },
     "execution_count": 23,
     "metadata": {},
     "output_type": "execute_result"
    }
   ],
   "source": [
    "s2.params # param bounds would provide a target mapping bound "
   ]
  },
  {
   "cell_type": "raw",
   "id": "017257ff-3c01-4776-8b72-4e650a0171a7",
   "metadata": {},
   "source": [
    "mapping = {\"param\": (\"col\", fun(value, smin, smax, ...), **kwargs), }  "
   ]
  },
  {
   "attachments": {},
   "cell_type": "markdown",
   "id": "69035d2a-80c1-4cc7-a3f9-cba1c53fbe65",
   "metadata": {},
   "source": [
    "### standard Discrete PMSon - old"
   ]
  },
  {
   "cell_type": "code",
   "execution_count": 24,
   "id": "3101f1c8-5b2f-455d-9015-4d8bba5989d2",
   "metadata": {},
   "outputs": [],
   "source": [
    "class StandardDiscretePMSon(Sonecule):\n",
    "    \n",
    "    def __init__(self, synth_name=\"s2\", context=None):\n",
    "        super().__init__(context)\n",
    "        # if instanceof(synth,Synth): \n",
    "        self.synth = self.context.synths.create(synth_name, track=1, mutable=False)\n",
    "        # creation here should add metadata which then is added to each produced event\n",
    "        \n",
    "    def schedule(self, df, mapping, at=0, stop_after=0.1, **odfkwargs):  # odfkwargs is a bad name    \n",
    "        self.reset()\n",
    "        \n",
    "        dfkwargs = {\"dmin\": df.min(), \"dmax\": df.max()}\n",
    "        dfkwargs.update(odfkwargs)  # allow overwriting of df\n",
    "        \n",
    "        for idx in df.index:\n",
    "            col, fun, mkwargs = mapping[\"onset\"]\n",
    "            value = getattr(df, col)[idx]\n",
    "            data_min, data_max = dfkwargs[\"dmin\"][col], dfkwargs[\"dmax\"][col]  # name?\n",
    "            onset = fun(value, **mkwargs, dmin=data_min, dmax=data_max)\n",
    "            with context.at(at+onset, info={\"sonecule_id\": self.sonecule_id}) as tp:\n",
    "                for param in [param for param in mapping.keys() if param != \"onset\"]:\n",
    "                    col, fun, mkwargs = mapping[param]\n",
    "                    value = getattr(df, col)[idx]\n",
    "                    dmin, dmax = dfkwargs[\"dmin\"][col], dfkwargs[\"dmax\"][col] \n",
    "                    setattr(self.synth, param, fun(value, **mkwargs, dmin=dmin, dmax=dmax))\n",
    "                "
   ]
  },
  {
   "attachments": {},
   "cell_type": "markdown",
   "id": "222a1c82-8bdb-4186-8785-ab655e6cd44e",
   "metadata": {},
   "source": [
    "### standard Continuous PMSon - old"
   ]
  },
  {
   "cell_type": "code",
   "execution_count": 25,
   "id": "8c36b97f-d753-4fb2-a804-e95fbc62c453",
   "metadata": {},
   "outputs": [],
   "source": [
    "class StandardContinuousPMSon(Sonecule):\n",
    "    \n",
    "    def __init__(self, synth_name, context=None):\n",
    "        super().__init__(context)\n",
    "        # if instanceof(synth,Synth): \n",
    "        self.synth = self.context.synths.create(synth_name, track=1, mutable=True)\n",
    "        # creation here should add metadata which then is added to each produced event\n",
    "        \n",
    "    def schedule(self, df, mapping, at=0, time_after_last=0.1, **odfkwargs):  # odfkwargs is a bad name    \n",
    "        self.reset()\n",
    "        \n",
    "        dfkwargs = {\"dmin\": df.min(), \"dmax\": df.max()}  # TODO names for dmin, dmax?\n",
    "        dfkwargs.update(odfkwargs)  # allow overwriting of df\n",
    "    \n",
    "        with context.at(at, info={\"sonecule_id\": self.sonecule_id}):\n",
    "            self.synth.start()\n",
    "            \n",
    "        for idx in df.index:\n",
    "            col, fun, mkwargs = mapping[\"onset\"]\n",
    "            value = getattr(df, col)[idx]\n",
    "            data_min, data_max = dfkwargs[\"dmin\"][col], dfkwargs[\"dmax\"][col]\n",
    "            onset = fun(value, **mkwargs, dmin=data_min, dmax=data_max)\n",
    "            with context.at(at+onset, info={\"sonecule_id\": self.sonecule_id}) as tp:\n",
    "                for param in [param for param in mapping.keys() if param != \"onset\"]:\n",
    "                    col, fun, mkwargs = mapping[param]\n",
    "                    value = getattr(df, col)[idx]\n",
    "                    dmin, dmax = dfkwargs[\"dmin\"][col], dfkwargs[\"dmax\"][col]\n",
    "                    value = fun(value, **mkwargs, dmin=dmin, dmax=dmax)\n",
    "                    setattr(self.synth, param, value)\n",
    "                \n",
    "        with context.at(at + onset + time_after_last, info={\"sonecule_id\": self.sonecule_id}):\n",
    "            self.synth.stop()\n",
    "\n"
   ]
  },
  {
   "cell_type": "code",
   "execution_count": 26,
   "id": "af58f9a2-7b8e-4a28-b751-9fa91b282739",
   "metadata": {},
   "outputs": [],
   "source": [
    "scPMSon = StandardContinuousPMSon(\"s2\")"
   ]
  },
  {
   "cell_type": "code",
   "execution_count": 27,
   "id": "92ee119d-8747-4025-b7fc-d8c0028813e8",
   "metadata": {},
   "outputs": [],
   "source": [
    "assert scPMSon.context is sonecules_default_context"
   ]
  },
  {
   "cell_type": "code",
   "execution_count": 28,
   "id": "79d8a6b6-bc48-414f-9e33-0a62bb35f477",
   "metadata": {},
   "outputs": [],
   "source": [
    "context.timeline.reset()"
   ]
  },
  {
   "cell_type": "code",
   "execution_count": 29,
   "id": "e2a62689-16a0-4b1a-8707-ecdbf980b27b",
   "metadata": {},
   "outputs": [
    {
     "data": {
      "text/plain": [
       "Timeline(is_empty=True)"
      ]
     },
     "execution_count": 29,
     "metadata": {},
     "output_type": "execute_result"
    }
   ],
   "source": [
    "context.timeline"
   ]
  },
  {
   "cell_type": "code",
   "execution_count": 30,
   "id": "a6f98ac9-6a1a-4f8b-b4dc-f4444b1eab65",
   "metadata": {},
   "outputs": [],
   "source": [
    "mapping = {\n",
    "    \"onset\": \n",
    "        (\"flipper_length_mm\",\n",
    "         lambda value, dmin, dmax, y1, y2: linlin(value, dmin, dmax, y1, y2),\n",
    "         dict(y1=0, y2=5)),\n",
    "    \"freq\": \n",
    "        (\"body_mass_g\",\n",
    "         lambda value, dmin, dmax, y1, y2: midicps(linlin(value, dmin, dmax, y1, y2)),\n",
    "         dict(y1=48, y2=25)),\n",
    "    }\n",
    "\n",
    "scPMSon.schedule(penguins_df, mapping, at=2, time_after_last=2)"
   ]
  },
  {
   "cell_type": "code",
   "execution_count": 31,
   "id": "7445d860-7161-4bea-8b45-3fae47ce578c",
   "metadata": {},
   "outputs": [
    {
     "data": {
      "text/plain": [
       "Timeline(2-8.474576271186441 (6.474576271186441) #entries=55)"
      ]
     },
     "execution_count": 31,
     "metadata": {},
     "output_type": "execute_result"
    }
   ],
   "source": [
    "context.timeline"
   ]
  },
  {
   "cell_type": "code",
   "execution_count": 32,
   "id": "b3cdd1ce-5500-462f-b84c-86cb27c6abbb",
   "metadata": {},
   "outputs": [
    {
     "data": {
      "application/vnd.jupyter.widget-view+json": {
       "model_id": "7692d0a943a44940a92abbe60d2a9db2",
       "version_major": 2,
       "version_minor": 0
      },
      "image/png": "[encoded data removed]",
      "text/html": [
       "\n",
       "            <div style=\"display: inline-block;\">\n",
       "                <div class=\"jupyter-widgets widget-label\" style=\"text-align: center;\">\n",
       "                    Figure\n",
       "                </div>\n",
       "                <img src='data:image/png;base64,iVBORw0KGgoAAAANSUhEUgAAAoAAAAHgCAYAAAA10dzkAAAAOXRFWHRTb2Z0d2FyZQBNYXRwbG90bGliIHZlcnNpb24zLjcuMSwgaHR0cHM6Ly9tYXRwbG90bGliLm9yZy/bCgiHAAAACXBIWXMAAA9hAAAPYQGoP6dpAAA+zklEQVR4nO3deXRUVaL2/6eqMs8QE0IgEAaRUUBBZFCxVWiludqIqN2toN3+bv+u17Ybcei2HdoX0XaebuNwfRH1KnpRaNtZQCYHQBCZlDCGKZBA5qHm/f5RUKZMAkECFdzfz1qsRU6d2nufXadOPbXP2accxhgjAAAAWMMZ7QYAAADgxCIAAgAAWIYACAAAYBkCIAAAgGUIgAAAAJYhAAIAAFiGAAgAAGAZAiAAAIBlCIAAAACWIQACAABYhgAIAABgGQIgAACAZQiAAAAAlomJdgPQugSDQe3Zs0epqalyOBzRbg4AAGiEMUZVVVXKzc2V03n043kEQETYs2eP8vLyot0MAADQDDt37lTHjh2P+nkEQERITU2VFNqh0tLSGjzu8/n08ccfa9SoUYqNjT3RzTsp0EfNQz81D/10ZPRR89BPzXOy9FNlZaXy8vLCn9tHiwCICIdO+6alpTUZAJOSkpSWltaq3xjRRB81D/3UPPTTkdFHzUM/Nc/J1k8/9nItJoEAAABYhgAIAABgGQIgAACAZbgGEAAANCoQCMjn80W7GSeUz+dTTEyM3G63AoFA1NoRGxsrl8t13MonAAIAgAjGGO3du1fl5eXRbsoJZ4xRTk6Odu7cGfX74WZkZCgnJ+e4tIMACAAAIhwKf9nZ2UpKSop6EDqRgsGgqqurlZKS8qNusNwSjDGqra1VcXGxJKl9+/YtXgcBEAAAhAUCgXD4y8zMjHZzTrhgMCiv16uEhISoBUBJSkxMlCQVFxcrOzu7xU8HMwkEAACEHbrmLykpKcotwaHX4Hhch0kABAAADdh02re1Op6vAQEQAADgKC1cuFAOh+OknSjDNYAAAKBZ9pbXqbz2xN0WJiMpVjkZic1ef+TIkRowYICeeOKJ49eoY7B48WI9/PDDWrlypYqKijRnzhxddtllUWkLARAAABzR3vI6TXh6qbz+4AmrMy7GqTdvGnFUIfBIjDEKBAKKiTnxEaimpkb9+/fXddddp8svv/yE118fp4ABAMARldf6Tmj4kySvP9jsEcdJkyZp0aJFevLJJ+VwOORwOLR9+/bwqdqPPvpIgwYNUnx8vJYsWaItW7bo0ksvVbt27ZSSkqLBgwdr3rx5EWV6PB7ddtttysvLU3x8vE499VS9+OKLjdZfV1enMWPG6Oyzz1ZpaWmj61x88cWaOnWqxo0bd3QdcRwwAggAAE56Tz75pAoKCtS3b1/dd999kqSsrCxt375dknTbbbfpkUceUdeuXZWRkaFdu3bpkksu0dSpU5WQkKCZM2dq7Nix+vbbb5WRkSFJuvbaa/XFF1/oqaeeUv/+/bVt2zbt37+/Qd0VFRX6xS9+oYSEBM2fP1/JycknarN/NAIgAAA46aWnpysuLk5JSUnKyclp8Ph9992niy66KPx3Zmam+vfvH/576tSpmjNnjv71r3/pmmuuUUFBgd5880198sknuvDCCyVJXbt2bVDuvn37dOWVV6pbt256/fXXFRcXdxy2ruVxChgAAPzkDRo0KOLvmpoa3Xbbberdu7cyMjKUkpKi7777Tjt27JAkrV69Wi6XS+edd95hy73wwgvVtWtXvfnmmydN+JMIgAAAwAI/PC1766236q233tL999+vJUuWaPXq1erXr5+8Xq+k73+J40jGjBmjJUuWaMOGDS3e5uOJAAgAAH4S4uLiFAgEmrXukiVLNGnSJP3yl79Uv379lJOTE75eUJL69eunYDCoRYsWHbacBx98UBMnTtQFF1xwUoVArgEEAAA/Cfn5+Vq2bJm2b9+ulJQUtW3btsl1u3fvrrfffltjx46Vw+HQXXfdpWAwGFHWxIkTdf3114cngRQWFqq4uFgTJkyIKOuRRx5RIBDQz372My1cuFA9e/ZstM7q6mpt3rw5/Pe2bdu0evVqtW3bVp06dTrGrT86jAACAICfhClTpsjlcql3797KysoKX8/XmMcff1xt2rTRsGHDNHbsWI0ePVpnnHFGxDrTp0/X+PHj9R//8R/q2bOnbrjhBtXU1DRZ3oQJE/Szn/1MBQUFja7z1VdfaeDAgRo4cKAkafLkyRo4cKDuvvvuH7nFPx4jgAAA4CehR48e+uKLLyKW5efnyxjTYN38/HwtWLAgYtmNN96oYDCoyspKSVJCQoIee+wxPfbYYw2eP3LkyAblPvXUU3rqqaeabF9jz4kWRgABAMARZSTFKi7mxMaGuBinMpJiT2idtmAEEAAAHFFORqLevGlEq/4tYDQfARAAADRLTkYigewnglPAAAAAliEAAgAAWIYACAAAGmgts1VtdjxfAwIgAAAIi40Nzbqtra2Ncktw6DU49Jq0JCaBAACAMJfLpYyMDBUXF0uSkpKS5HA4otyqEycYDMrr9crtdsvpjM44mTFGtbW1Ki4uVkZGhlwuV4vXQQAEAAARcnJyJCkcAm1ijFFdXZ0SExOjHnwzMjLCr0VLIwACAIAIDodD7du3V3Z2tny+E3ffv9bA5/Np8eLFOvfcc4/Lqdfmio2NPS4jf4cQAAEAQKNcLtdxDSGtkcvlkt/vV0JCQlQD4PHGJBAAAADLEAABAAAsQwAEAACwDAEQAADAMgRAAAAAyxAAAQAALEMABAAAsAwBEAAAwDIEQAAAAMsQAAEAACxDAAQAALAMARAAAMAyBEAAAADLEAABAAAsQwAEAACwDAEQAADAMgRAAAAAyxAAAQAALEMABAAAsAwBEAAAwDIEQAAAAMsQAAEAACxDAAQAALAMARAAAMAyBEAAAADLEAABAAAsQwAEAACwDAEQAADAMgRAAAAAyxAAAQAALEMABAAAsAwBEAAAwDIEQAAAAMsQAAEAACxDAAQAALAMARAAAMAyBEAAAADLEAABAAAsQwAEAACwDAEQAADAMgRAAAAAyxAAAQAALEMABAAAsAwBEAAAwDIEQAAAAMsQAAEAACxDAAQAALAMARAAAMAyBEAAAADLEAABAAAsQwAEAACwDAEQAADAMgRAAAAAyxAAAQAALEMABAAAsAwBEAAAwDIEQAAAAMsQAAEAACxDAAQAALAMARAAAMAyBEAAAADLEAABAAAsQwAEAACwDAEQAADAMgRAAAAAyxAAAQAALEMABAAAsAwBEAAAwDIEQAAAAMsQAAEAACxDAAQAALAMARAAAMAyBEAAAADLEAABAAAsQwAEAACwDAEQAADAMgRAAAAAyxAAAQAALEMABAAAsAwBEAAAwDIEQAAAAMsQAAEAACxDAAQAALAMARAAAMAyBEAAAADLEAABAAAsQwAEAACwDAEQAADAMgRAAAAAyxAAAQAALEMABAAAsAwBEAAAwDIEQAAAAMsQAAEAACxDAAQAALAMARAAAMAyBEAAAADLEAABAAAsQwAEAACwDAEQAADAMgRAAAAAyxAAAQAALEMABAAAsAwBEAAAwDIEQAAAAMsQAAEAACxDAAQAALAMARAAAMAyBEAAAADLEAABAAAsQwAEAACwDAEQAADAMgRAAAAAyxAAAQAALEMABAAAsAwBEAAAwDIEQAAAAMsQAAEAACxDAAQAALAMARAAAMAyBEAAAADLEAABAAAsQwAEAACwDAEQAADAMgRAAAAAyxAAAQAALEMABAAAsAwBEAAAwDIEQAAAAMsQAAEAACxDAAQAALAMARAAAMAyBEAAAADLEAABAAAsQwAEAACwDAEQAADAMgRAAAAAyxAAAQAALEMABAAAsAwBEAAAwDIEQAAAAMsQAAEAACxDAAQAALAMARAAAMAyBEAAAADLEAABAAAsQwAEAACwDAEQAADAMi0WAD/88EMtXbo0/Pd//dd/acCAAfrVr36lsrKylqoGAAAAx6jFAuCtt96qyspKSdLatWt1yy236JJLLtHWrVs1efLklqoGAAAAxyimpQratm2bevfuLUl666239Itf/ELTpk3TqlWrdMkll7RUNQAAADhGLTYCGBcXp9raWknSvHnzNGrUKElS27ZtwyODAAAAiL4WGwEcMWKEJk+erOHDh2v58uV64403JEkFBQXq2LFjS1UDAACAY9RiI4DPPPOMYmJiNHv2bE2fPl0dOnSQJH3wwQf6+c9/3lLVAAAA4Bi12Ahgp06d9O677zZY/vjjj7dUFQAAAGgBLRYAJSkYDGrz5s0qLi5WMBiMeOzcc89tyaoAAADwI7VYAPzyyy/1q1/9SoWFhTLGRDzmcDgUCARaqioAAAAcgxYLgL///e81aNAgvffee2rfvr0cDkdLFQ0AAIAW1GIBcNOmTZo9e7a6d+/eUkUCAADgOGixWcBDhgzR5s2bW6o4AAAAHCfHNAK4Zs2a8P9vuukm3XLLLdq7d6/69eun2NjYiHVPP/30Y6kKAAAALeSYAuCAAQPkcDgiJn1cf/314f8feoxJIAAAAK3HMQXAbdu2tVQ7AABAK1fn9Ssh1sVEz5+AYwqAnTt3Dv9/8eLFGjZsmGJiIov0+/36/PPPI9aNhmuuuUa9evXSX/7yl6i2oyn33nuv5s6dq9WrVze5zqRJk1ReXq65c+c2q8y1a9fq4osv1saNG5WcnHxM7fP4Atq+v0ZVte7w3z88zV+fMUYllR7tKa+TJLXPSFB2WsJhDxoeX0DbSmpU6/UrKS5GXbKSFR/ranJ9v9+v97/Zoy83l8ohaeipp+jnp+c02Afr27m/Wq99UajSao+y0hL0q2GdldsmWSWVHk2ds0a7y+oUG+PQb4bma8yZeQoEAlqysURfF5bLIemsbpka0q2tXC6Xdh6o0cptpfL6g8rLTNLgrpmKcTm1dkepJOk3//WZUpLidfsv+qhHbpp2l9bp9tdXqqTKoxiXQ9cM76KrhnWR1+vV9AVbtXLrATkcDp3XK1vXjwxNprpp5jJ9tbVckpQc79R///+Dld8mQ2sLS/WP+ZtUWedTVmqCJo/pqU6ZKdpbUaP752zQ7rJaJcY6dd153XRhv1yVlJToimdXye0P9UPbpBi9f/sFkqQ7Xl+lzzaVyBgpMyVW028YrNy0VH1ZUKzp8zepyu3XKanxuuPfeqtrdprW7izVn15eqVpfUC6HNGFInm76eW/5fD69tGS7vt5eJqdTurBvji4b1EmSdN2zn+nbompJUkqcU//7H4OUkpIiSRr/5CJVeaS0hBg9OKGveuadou927tdfZq9Xea1P8TEOXXdeF004u6vcbrfuenu9vttdKcfBOv4wupck6c0vtum9b4oUDBr17ZCmP118muLi4rSpqFKzvixUtdun3DZJmjgiXxkpCdpbWq2H39+ovRV1So6P0Q3nd9fgbqfI7/frjS93aN2uCrlcDl3UJ0fn9c6RJL2zaqc+XlOkYFA6vVOGfntel8O+D6rrvPrnqt0qKq9TemKsxgzooNy2STLGaFdprfZXeeR0OtQpM1ltkuMkSZv2VmrNznIFg1L3dinq3T703p23bo/+e+E2uf1G7VLj9X+uPF0d2qSoqLxW0+dt0r6KOqUlxOq687qpd8cM7aqo1L8/t0LltX7JIQ3pmqnHrhkkSSooqtSaHeUykk5tl6rTO6XL6XRq3to9mrFoi+p8QbVPT9Bdl/dVTnqydhyo1mPvfaeSKrfSEmP1Hxecqn6d26rW69Nz8zeroKhSsS6HfjkoT+f3aS9JunHGMq3dWSFJys9K1j+u6a+UlBQt3LBXryzdJq8/qA5tknTb2D5qmxKnXftrNX1BgfZXudUmOV6/G9lV3XPSVev16dl5m7Rpb5XiXE5dNjhP5/fOkc/n01tf7daS74rlVFAXtpV8Pp9iY2P11pfb9eoX2+X3G+VkJOr/XDFAORkJ2l5SpRc+3dKgjmqPV39/Z4O2l9Qo1uXQVcM6a1S/DgoGg/puT5U27K6QkdSrQ6p654b6amNRheat3SuPP6jOpyTrkgEdlBjn0p6yGr26dLsOVHuUmRKv34zIV26bZAWCRjsO1Ki8xqsYl1OdT0lWWmLT+44kLd+yX+9/vVsef1Bd26XomhFdlBAbo4par77YVKLyOp/aJsfr7O6ZSkuMa/I4ZozRvgq39pSG3oMlVR61bxPzo0Lc7rI63fb61xp2apbOOS1LA/PbKi6mxaYT4ARymB/etO9HcrlcKioqUnZ2dsTyAwcOKDs7u0VOAb/wwgt6+eWXtW7dOknSmWeeqWnTpumss8467PPWrFmjkSNHqrCwUKmpqcfcjsM52pB2yPEIgJI0btw4nXHGGfrrX//arPUrKyuVnp6uiooKpaWlSZLW7SzXgg37tK+iTg4T0OCEXSqM665ze+eqf6eMBgeRardPH64p0re7K1TrCSWOpPgY9WyfptH9cxsc9IwxWruzXAu/3ad9FW4FjZHT4VC79ASN7NVO/fIa1rFq+wHdM3uNSqu9OnTLcaektinxmjr+dPXPbxuxvt/v1z1vrdPSghL5AkEZIzkcUqzLqYxEl/ZV+Rr0RYJLymmTpH0VbgWCRnJIMU6HOrZJVLd2qdqwp1K1Hr+MkWJcTmWluLS3wqeKWo9uGeDRo6vj5Q2G2h3rknxNvAVinJI/2PhjjXE6pOAP3rUOSSnxLlV5WuZSC5dDCjRyZHBIauqAER/jkMff/MNJnNM06Kcj1dGUeJfU2KZ3bJOo4kqPfMGgdPA1j49xKiMpTnsr3A3qyUhwyjicqnKHXlc5QvtVZmqM3F6jSndkJQkxTk0e01P/dkZeg7pfXrJVby4rDJUVDJWVGOvSkG6Z6tYuRdtKauTxBSWHUWpCrE7NSdX6neVav7tSdb7Q+yY+xqkOaU5dkFnaoJ8kKTUhRrVevwL19h+nI/T6+ZrYp07PS1NZjU9uX1BGRvExLnVIj9W63dWqbeRJqQkuVbsDDfsqMUa13oC8P9hREhySu4kXMNbZsF1Oh5SZEqfSam/EPud0SNmp8Sqt8UbU4ZCUluiUP+BQjTf0ehzal55YHS+vcTS676YlulTjDkQ85nJIbZJjVVrja/CeSo136vRObVS4v1Yef6ie+BiX8rOTVOcNqqCoSh5/aL9yOkLrt8tI1qZ9VQ2OMYO7tFGP3DTtKq2Tzx+UHA5lJMXqrK6ZOqdntmJckQGqvNqtm15ZqW0lNaFjT+jwo8RYh4acmqXdZXUqq/GG62ibEi8TDGjj3poG250U69CvRnRRUZlbbo9XZyXu0nqTr565bTT69FwlJxz9ONBf3litBRv2hcqPc+msbpkacVq2hp16itqmxB91ea2Nz+fT+++/r0suueSwX/CirbHP66PRYreBOXSt3w8dOHDgmEefDlm4cKGuvvpqDRs2TAkJCXrooYc0atQorV+/Pvzbw4155plndMUVVxz38NcaXXfddfr973+vP//5z3K5mh5Na8p3eyo056ud8gWCym2TpHiXkaqkslqf/rlyp2KcDvXNywiv7/UHNWfFTq3dVa7stAS1S0+QJFXV+fXVtlLVegO6amjniJG9DbsrNPerXQoEjTq0SVJsjFM+f1D7Kt2a+9UuuZwO9en4fR17ymp0x6zVqqrzK8YpxblC+50/YLS/yqPbZn2tl38/XO0yEsLPuf+f6/Xpt6EDVpzLIZfLqUAgKLc/qH1VjX9SugPS9v21SkuMUerBb7g1Hr8K9tVoc3GNctskKjcjUU6nU7Vev9bvrlJQUlwjX4abCn/S0YU/KTL8HQqDRmqx8Cc1Hv6kwwczj9/IcbBNhyvjSH7M05ra9F1ldXJISohxyOlyyh8Iqs4XVF2FO7xO/UBd7g5KCob2kYOvY53PqLjSH17/4O6moJHc/qAe+te3apeWoCHds8LrvLV8h2Yu2Sp/wCg5waU4l0uBQFBVHr/mb9irNbsSNLJnOyXFu2QklVa5NXPJVrm9AWWlxqtDm0RJUo0noNU7q3RBZuPbV3VwSNcpyeVyKBgwCpiGXxDqW7OzUp0zE5XbJiFcx/LtlU2uX1Uv9Eb0VV2oboekGJdDwWCo7qbCnxQZ/g6VFTRSSZU3YjsCAaOgkfZWeiK372AdFXXBcN2HAq8kBdT0fldZF2hQR8BI+6u///JXf/uqPEF9tumAumUnKzM1NDpb4w7oy00HFAhKiXEuZSTGyOl0yuMLaH+NTyU1FXIo9GXo0DHG4w9q6aYD2lxco5/1aafEuBgFg0YHqj36eN1e+YNGF/VrH9HW389YocIDtXI5Du67Tqf8/qBqfEYLNhQrIylWHdokKS7GKa8/qC3FFXI3/A4rSar1Gf3fhVt1+VmdlJMWK1WHvrgs23JAdd6AJpzdWbFHOYJ3/chu4QBY6w1o4bfFWvhtsRwOqW/HDA3vkaURp2WpW3YKp4pbsWMOgOPGjZMUmvAxadIkxcd/n/4DgYDWrFmjYcOGNbu82bNn629/+5s2b96spKQkDRw4UP/85z+VnJys//mf/4lY94UXXtDs2bM1f/58XXvttY2WFwwG9b//+7969dVXI5bn5+frd7/7nQoKCvT2228rMzNTTz31lIYNG6bf/e53mj9/vrp06aIZM2Zo0KDQaZPGRumeeOIJPfHEE9q+fbvuvfdezZw5M9wfkvTpp59q5MiRuv322zVnzhzt2rVLOTk5+vWvf6277767wbeL5557TlOnTtWBAwc0ZswYvfDCC8rIyGh024wxevjhh/Xss8+qqKhIPXr00F133aXx48eH1xk9erQOHDigRYsW6Wc/+9mRX4B6AkGjpRtL5PYFlJ8VOl23r7xGWU5pf6VbpbV+PfNJgQZ1aSvnwU/94gq3vtlRptSEGFW7/RHl+QNBfbhmj/aU16pdeugDLhg0Wrm9VBW1XmUkxamkyh3xnPJar575uE5n1qtjwfoiVdb5Q0HD4fg+QDkccjiMKur8uvX1VRrZu50kye3265N1+xQ0UqwrNDoQOIrUVecNhL6FSwocHDAPGqmsxiv/wU8bj8ejo8xxLeJwH/TRYPTjAtzxZCT5jSR/UL5G0kFjfRgwRibY+AfXodUdDskYyR80um/OOl1+Vuh0dyAQ0FsrdsntDYRGRX3B0EifQusHg1JxuVvrdpUpLib0RaisxqvyGq+cDqna41fdwfWr3e4G9TfKofAodXNegJ0H6sKjtdUeT/PqUNP7W+BH7IiNPqWJ7TBN1GH0I/a5w/RVY23aV+FWjSd0nPZ4A+HjjT8YVI1XkgLy+78fITVSxDHm0H6yt8KtdTvLI0b7ar1+vfrZNm3cW6mkuNDHcUFRpQr314ae6zx4fAsGFazXuKo6nw7Efv+6NRX+6m/XZxuL1SEjXhe2VWj0OSC9980e7SqrVVZawuELaERWarxKqiL3HWOktTvLtXZnuZ6dv0ntMxI1vAenilurYw6A6enpkkJhJDU1VYmJieHH4uLidPbZZ+uGG25oVllFRUW6+uqr9dBDD+mXv/ylqqqqtGTJkgY/LXdIbW2tfD6f2rZt2+jjUuj0b3l5eTjE1ff4449r2rRpuuuuu/T444/rmmuu0fDhw3X99dfr4Ycf1u23365rr71W69evb9a3mClTpujbb79VZWWlZsyYIUnhtqWmpuqll15Sbm6u1q5dqxtuuEGpqam67bbbws/fvHmz3nzzTf3rX/9SZWWlfvvb3+rGG29sEHwP+etf/6q3335b06dP16mnnqrFixfrN7/5jbKysnTeeedJCr0G/fv315IlSxoNgB6PR556HwCVld+PBOyrqNOu0lpl1zs47Ktwq28b6Zsd5QdPR9VodWHZEfumvm0lDU9ThDS9/OtG6ggaKdjE1/2CvVUq2FvVYHljAeBIfAEjXyOXMNR4AqppwVG3n4rWFkqlo3/dA0Gp4UnPkMa270C1V88vaHgf1FqfUWhcKpKRtG5X46Nuh0bDDmlsRLk5bTrs+goFkpZgFPrgbwlNbcfh6jg0inisdTSl2hNQdSPvc6/fyOtv/P3f1P625uA1kT+0sajhsepw5QTM0b9+e8rd2l9Zpwvb1j9+S1uLq4+qnKNRVF6n2ct3aPbyHT/JU8Unu2MOgIeCTn5+vqZMmXJMp3uLiork9/s1bty48KSRfv36Nbn+HXfcoQ4dOujCCy9scp3t27fL5XI1uDZRki655BL9+7//uyTp7rvv1vTp0zV48GBdccUVkqTbb79dQ4cO1b59+5STk3PE9qekpCgxMVEej6fB+vWvwcvPz9ctt9yiN954IyIAut1uzZw5Ux07dpQkPf300xozZoweffTRBuXV1NToscce04IFCzR06FBJUteuXbV06VI999xz4QAoSR06dND27dsbbfMDDzygv/3tb40+5vEF5Q8E+dYGADgm9U8V9+6Qrn+/oLuGdDsl2s2yWotdA3jPPfcccxn9+/fXBRdcoH79+mn06NEaNWqUxo8frzZt2jRY96GHHtLrr7+uhQsXKiGh6eHruro6xcfHNzqCV//m1O3ahU4X1g+ch5YVFxc3KwAezuzZs/XEE09o8+bNqq6ult/vb3DRZqdOncLhT5KGDh2qYDCojRs3Nqh/w4YNcrvduuiiiyKWe71eDRw4MGJZYmKiamtrG23Xn//8Z02ePDn8d2VlpfLyQhe0pyXGKiHOpRqPX+lJcUe/0QAA68XHOnVW19Do3/AeWTolldG/1qDFAuC+ffs0ZcoUzZ8/X8XFxQ1O2zZnFrDL5dInn3yizz//XB9//LGefvpp3XnnnVq2bJm6dOkSXu+RRx7RtGnTNG/evCP+wsgpp5yi2tpaeb1excVFhpj6198dCoiNLQsGQ9dyOJ3OBtvl8x3h4gtJX375pa666ir97W9/0+jRo5Wenq5Zs2bp0UcfPezzDtXfWHg91Kb33nuvwQSY+tdhSlJpaam6devWaB3x8fEN1j+kbUqcTstJ01fbSpWaECun06Hu7VIkr/Tz/u21q8yj7u1SNfr09uE2FpXX6d1Vu5UQ51RqQuT1jdVuv2q9fo0Z0EEd2iZJCl068Mm6vSooqlRum0Q5621r0BjtKatTj/ZpuqhvTriOt1cU6r2vi+RySDE/GJ30+YMKGunfzsjVpQdvQeL3+3XLa6tV7fYr1hV6HQ9xNzVVsp7UhBjFHrxuJxAMqrLOLyOpXXq80hND+5TH41FhmfcwpRzZoS1v7hmq+ntFaznr6nSErnmSFDEz9URpqg8TYht/zZvqw/gYZ3g7fL5g+CRu/e2Tvt/Gvh3TNPmS3uHlD7yzTtuKa5QS74rY37z+0GUDcTEOXdinvVwHZy+UVXu0Ymup5JA6tEmS6+D1rm63W3srj7xf1Z9E2px+T4pzqmPb0Nkat8ejHc3Yd5vqq6Ot+8eU1dTyQ6+H6yhOUjRVVlNtys1IUMrBY5nXF1DhgVoZSclxTsXHhj5C/X6/Kj3fF1Z/f/MHgvIHQ3cCGN2vfXh/MMaopMqjlIRYjRucp4SDE+O2FlfpwXc2KBA0iq9XTjAY1MFJz0qIcajTKSnhxzbtrTriMWBY90xlp8VJ2qZLBuSqoi4gjz+osWd0CF+T3VzGGP35jW9UXNn0aeistHiN6JGtEadl6cwubcPbh9ajxQLgpEmTtGPHDt11111q3779j57543A4NHz4cA0fPlx33323OnfurDlz5oRHqR5++GFNnTpVH330UaPX9f3QgAEDJIVGzA79/8fKysrS3r17I2Y8//C2LXFxcQ3C7meffabOnTvrzjvvDC8rLCxsUP6OHTu0Z88e5ebmSpK++OILOZ1O9ejRo8G6vXv3Vnx8vHbs2BFxurcx69ati5gY0lyhe9K1U1GFW1uKq9Q2JV5JB/eY6jq/euSkasLZ+cpt8/3Bo1dumvwBo8XfFcvtC6hNcrwckspqvZJDGn16e13QJyc8oUOSMlPi9caXhdpdVqvMlHglxLrk9gVUUe3Tae3TdOXZnZWT8X0dXbN7a93OChUeqFXQH1SM8/tZwHJIXbKSdeuYXhH3A/z/zj9VT3+yUT5/UC4TlMvhCE/oOBJfILS+USg8OJ0K/W1CIdXldCggV6O3uDgaRxviWkvoqy9oJEcUG9bEvAIFAkE5HQ75f/CaN9VUXyC0XxkZmXqTBepv36Hnpsa79OCE/jolPSn8/Cljeuuvb64+eB9Do1iXU/6gkdsXCn+dT0mRUej2SMGgUazLoZyMBFXU+VTt9ik1MfSFyy9Xs36wPRAMzW5t7u6XmhAbut2S0yGfcTZ525/6mnr4UN1H87IfqawfbkdTdRx6PY7mbddUHY21KcbpUNCY0IMOyeMPKiE2NPPWFzByOYNyOR3yG0e4TIdCoe/QMcYfDAXV/KwUyeFUcnyM/AGjA9VunZIar0vPzFO/endS6N0hXV9u3q8F6/fJ4wsqxik5HY5wWHU6pIS4GHn9AcUfPFYmx0rVhxmLSI53KTUpTomxLsknuX0BOZ0OXdw/VyN7tTvqz+vF3xU3Gv565aZpxGlZGnFatnrkpDIDuJVrsQC4dOlSLVmy5JhC1rJlyzR//nyNGjVK2dnZWrZsmUpKStSrV+hGrw899JDuuusuvfbaa8rPz9fevXslha69O3RT2R/KysrSGWecoaVLlx5zABw5cqRKSkr00EMPafz48frwww/1wQcfRJzKzc/P10cffaSNGzcqMzNT6enp6t69u3bs2KFZs2Zp8ODBeu+99zRnzpwG5SckJGjixIl65JFHVFlZqT/84Q+aMGFCo6efU1NTNWXKFP3pT39SMBjUiBEjVFlZqc8//1wpKSmaOHGipNA1kLt37z7sdZKHk52eoKuHdtayLfu1bmeFKut8kksa0v0Und0ju8E3R4fDoQv75uiU1Hit3HpA+ypD91prn5GoQV3aamB+24jwJ0k5GYm6eli+lm3ar/W7K1RR61VcjEsjemRpyKmnRExCkaSE2Bj99w1Ddc/sb/T19jK5D16InRDn0pn5bXTP5f0b3Az6irM7KT5Wmrl4m/ZVuuULGjkdUl7bBJ3VNVPvf1MUnnkphQ7i/TumqnO7dH1eUBye0ZyRFKtzemard26aPlm3VztLa2WMUXJ8jK4alq8DFW4t3FAUUXesU+qfl65VhRUNPnQ6t4lT0OHSrtK68AeQ0yFlxkllvsZvEdMrN0XbimvkrnfPvaQ4p4Z2z9RnBQfkrvckp6TO6dK2xq89V5xL4VGF+vrkpuq7oqqIUBDnkjq1TdTmkroG6yfHSrltU7S1pDr8QRXncigv1WhreeMfru1S4yQ1nIHaPStJm0saXrKQl+5SmVsNLshvm+hQ+zYp+raoKnyBv0NSu/QEnd8rW/PW71NpjUeBYCisd85K1OAumXr/m92qqjdqE+dy6Nwep6i01q/1uyvkCwTlUOjDc0iXDFV6jFYXloXvSedySF2yUvTwrwdGhD9J6t+pjaZOGKAXFmzSxqKq8Adut+xUjT8rT21TE7Ry2wGV1/jkdEo9cjN09bB8bdxbpU/Xh+6HaSS1SY7T2IE5UsV3DfrD5ZB+1jtbqwrLVFbvPnap8S71ap+m5dsbTpyKcUi/Pz9fn2+pUPHB92ZmSrwuOzNPK7ft11dbyyL20YQYp0acmqnPtxxQrbfeCFeMQ+eclqXviiq1p8wd3k/iYxzq1z5R3+ypazCBweWQBuZn6JvC8ogvSukJMTq/d7YWf1eislpfuP60hBhd2Ddby7eUak+5O7x9CTEOndW1jSrcAa3fVSl/0IT3r565qXL7pIJ9kRMb4pzSyN7ttGLrAZXX+sNBLT0xRuf2PEVLNu5XWe33dy2IcUhndmmjs0/N0sJvi7X/4GzXrLQEjR/SSYFgUO+t3qOSSrd8ASkuxqUze7TR6XkZmrtql/ZVfH+M6dAmQb8Z3kUZyXH6enuZKmq9cjmd6tMxQ0O6n6Lu7RrenmzqFQP0eMq3+uibIlW5fQoYoxiXUz2ykzVhSGet2HpA63dXqNrtU4zLqZF9c5XXNkEvLd7e4Dg2sFO6rjv/VH219YAOVNVJTqlDm0Sd2S1bAzq1OeqQZozRf38amvBU/9TusFNP+VGziRFFpoX06tXLrFq16pjK2LBhgxk9erTJysoy8fHxpkePHubpp58OP965c+f6s/7D/+65557Dlvvss8+as88+O2JZ586dzeOPPx6xTJKZM2dO+O9t27YZSebrr78OL5s+fbrJy8szycnJ5tprrzX333+/6dy5c/jx4uJic9FFF5mUlBQjyXz66afGGGNuvfVWk5mZaVJSUsyVV15pHn/8cZOenh5+3j333GP69+9v/vGPf5jc3FyTkJBgxo0bZ0pLS8PrTJw40Vx66aXhv4PBoHnyySfNaaedZmJjY01WVpYZPXq0WbRoUXidadOmmdGjRx+2f+qrqKgwkkxFRUWDx6rrfGb3gSozd+5c4/V6j1iWzx8w+yvdpqTSbXz+QLPqr6rzmn0Vdaaq7sjlG2NMeW2d+fibPWbeuj2mvLauWc9ZU1hq3vt6l1m/syxi+YrNxeapD781ry7dYtxu9/dtcnvMsk0lZvmWElPr8YeXBwIBs7W4yny7u9xU1HrCy71er5k7d6558v215pM1uyPq+HTdHnPP7NXm6Q+/NbW1teHlRQeqzMyFm80rS7aYA1Xfl1VWVmaum77UTHhyoXnjs80RZc1fs9u8sKDAfF6wr9HteOOLrRHb8e5X283FD84zY/4+36xYXxxeXllZaf40c7n53fOfm/lrI9s796tC88QHG8yC9Xsilv/fBQVm4vSl5rbXvorYV/aU1Zi3viw0/1y5w9R4vn8NtxwoNdc8s9iMe/xT89YXWyL66blP1ptb/+crM2f59og63l25w9z++krz9IcbIpZv3FNmHvnXOvPkhxtMWb3XvMrtMf/z2Vbz4qebTOH+qojnLNtcYt77epcp2BO5Xy/fXGJeWFBg3l21M2J5SWWd+WD1LrNgfZGp8/rCy2s8XvPPlTvMW18Wmj1lNaY5du6vNp9tLDbf7SmPWO7xBUxxRZ05UOU2gUAwvNznD5hNeyvNxj0VpsbtC/dTVVWVeWnRJvPgO2vNwh+8Hqu27Tevf77NLPlub8Tyj1bvNBOnLzU3vvhlxOvk8X1fR53n++1zu93mjS+2mqc+/Nas2FwcUdbnBfvMCwsKzPwf7NPbiivNG19sM++u3BFxXNhSVGX++PJy84cZy8zXW7/fRz0ej3l7eaF58dNNZs32AxFlfbWlxLz++Tbz+XeR+/ShOj5YvSuijvIar5mzotC89fnWiONSXV2deWFBgXnwnbVm2abiRuv48gfL1+8sNS9+usnMXrbdeDzfvwfrvD5TUFQR6qt6+4Lf7zdrCkvN5wXFZl95bURZh44xawpLI5bXef2muKLOlFZ7TDAYNEfi8/nMku/2mQ9W7zI7SiL36aKyWrNhV7nZVx553GvqOObzB0xRabWZO3euqXN7zI+1dmeZefCddWbpxmJT5/Uf+QknoUPvueZ8zkXT4T6vm6PFAuBHH31kRo0aZbZt29ZSRbaYuro606lTJ/P5559HuyknlNvtNnl5eWbp0qXNfs6RdqiT5Y0RTfRR89BPzUM/HRl91Dz0U/OcLP10rAGwxU4BX3nllaqtrVW3bt2UlJTU4AbHpaWlLVXVUUtISNDLL7+s/fv3R60N0VBYWKg777xTw4cPj3ZTAABAK9JiAfDxxx9v1Rd8HmmixE9Rjx49Gp1AAgAA7Nais4ABAADQ+rXYTzyMHDlSL7/8surqGs4QBAAAQOvRYgHwzDPP1G233aacnBzdcMMN+vLLL1uqaAAAALSgFguAjz76qHbv3q2XX35ZJSUlOvfcc9W7d2898sgj2rdvX0tVAwAAgGPUYgFQCv2U26WXXqq5c+dq9+7d+tWvfqW77rpLeXl5uuyyy7RgwYKWrA4AAAA/QosGwEOWL1+uu+++W4888oiys7P15z//WdnZ2Ro7dqymTJlyPKoEAABAM7XYLODi4mK98sormjFjhjZt2qSxY8dq1qxZGj16dPj2MBMmTNBll12mRx55pKWqBQAAwFFqsQDYsWNHdevWTddff70mTZqkrKysBuucddZZGjx4cEtVCQAAgB+hxQLgvHnzdOaZZyo5OVlS6Fco5syZo169emn06NGSpLS0NH366actVSUAAAB+hBa7BnDq1Kl65ZVXJEnl5eU666yz9Oijj+qyyy7T9OnTW6oaAAAAHKMWC4CrVq3SOeecI0maPXu2cnJyVFhYqJdffllPPfVUS1UDAACAY9RiAbC2tlapqamSpI8//ljjxo2T0+nU2WefrcLCwpaqBgAAAMeoxQJg9+7dNXfuXO3cuVMfffSRRo0aJSk0OzgtLa2lqgEAAMAxarEAePfdd2vKlCnKz8/XkCFDNHToUEmh0cCBAwe2VDUAAAA4Ri02C3j8+PEaMWKEioqK1L9///DyCy64QL/85S9bqhoAAAAcoxYLgJKUk5OjnJyciGVnnXVWS1YBAACAY3RcfgoOAAAArRcBEAAAwDIEQAAAAMsQAAEAACxDAAQAALAMARAAAMAyBEAAAADLEAABAAAsQwAEAACwDAEQAADAMgRAAAAAyxAAAQAALEMABAAAsAwBEAAAwDIEQAAAAMsQAAEAACxDAAQAALAMARAAAMAyBEAAAADLEAABAAAsQwAEAACwDAEQAADAMgRAAAAAyxAAAQAALEMABAAAsAwBEAAAwDIEQAAAAMsQAAEAACxDAAQAALAMARAAAMAyBEAAAADLEAABAAAsQwAEAACwDAEQAADAMgRAAAAAyxAAAQAALEMABAAAsAwBEAAAwDIEQAAAAMsQAAEAACxDAAQAALAMARAAAMAyBEAAAADLEAABAAAsQwAEAACwDAEQAADAMgRAAAAAyxAAAQAALEMABAAAsAwBEAAAwDIEQAAAAMsQAAEAACxDAAQAALAMARAAAMAyBEAAAADLEAABAAAsQwAEAACwDAEQAADAMgRAAAAAyxAAAQAALEMABAAAsAwBEAAAwDIEQAAAAMsQAAEAACxDAAQAALAMARAAAMAyBEAAAADLEAABAAAsQwAEAACwDAEQAADAMgRAAAAAyxAAAQAALEMABAAAsAwBEAAAwDIEQAAAAMsQAAEAACxDAAQAALAMARAAAMAyBEAAAADLEAABAAAsQwAEAACwDAEQAADAMgRAAAAAyxAAAQAALEMABAAAsAwBEAAAwDIEQAAAAMsQAAEAACxDAAQAALAMARAAAMAyBEAAAADLEAABAAAsQwAEAACwDAEQAADAMgRAAAAAyxAAAQAALEMABAAAsAwBEAAAwDIEQAAAAMsQAAEAACxDAAQAALAMARAAAMAyBEAAAADLEAABAAAsQwAEAACwDAEQAADAMgRAAAAAyxAAAQAALEMABAAAsAwBEAAAwDIEQAAAAMsQAAEAACxDAAQAALAMARAAAMAyBEAAAADLEAABAAAsQwAEAACwDAEQAADAMgRAAAAAyxAAAQAALEMABAAAsAwBEAAAwDIEQAAAAMsQAAEAACxDAAQAALAMARAAAMAyBEAAAADLEAABAAAsQwAEAACwDAEQAADAMgRAAAAAyxAAAQAALEMABAAAsAwBEAAAwDIEQAAAAMsQAAEAACxDAAQAALAMARAAAMAyBEAAAADLEAABAAAsQwAEAACwDAEQAADAMgRAAAAAyxAAAQAALEMABAAAsAwBEAAAwDIEQAAAAMsQAAEAACxDAAQAALAMARAAAMAyBEAAAADLEAABAAAsQwAEAACwDAEQAADAMgRAAAAAyxAAAQAALEMABAAAsAwBEAAAwDIEQAAAAMsQAAEAACxDAAQAALAMARAAAMAyBEAAAADLEAABAAAsQwAEAACwDAEQAADAMgRAAAAAyxAAAQAALEMABAAAsAwBEAAAwDIEQAAAAMsQAAEAACxDAAQAALAMARAAAMAyBEAAAADLEAABAAAsQwAEAACwDAEQAADAMjHRbgBaF2OMJKmysrLRx30+n2pra1VZWanY2NgT2bSTBn3UPPRT89BPR0YfNQ/91DwnSz8d+pw+9Ll9tAiAiFBVVSVJysvLi3JLAADAkVRVVSk9Pf2on+cwPzY64icpGAxqz549Sk1NlcPhaPB4ZWWl8vLytHPnTqWlpUWhha0ffdQ89FPz0E9HRh81D/3UPCdLPxljVFVVpdzcXDmdR39FHyOAiOB0OtWxY8cjrpeWltaq3xitAX3UPPRT89BPR0YfNQ/91DwnQz/9mJG/Q5gEAgAAYBkCIAAAgGUIgDgq8fHxuueeexQfHx/tprRa9FHz0E/NQz8dGX3UPPRT89jST0wCAQAAsAwjgAAAAJYhAAIAAFiGAAgAAGAZAiCO6IEHHtDgwYOVmpqq7OxsXXbZZdq4cWO0m9XqTJ8+Xaeffnr43lFDhw7VBx98EO1mtWoPPPCAHA6H/vjHP0a7Ka3KvffeK4fDEfEvJycn2s1qlXbv3q3f/OY3yszMVFJSkgYMGKCVK1dGu1mtSn5+foP9yeFw6MYbb4x201oNv9+vv/71r+rSpYsSExPVtWtX3XfffQoGg9Fu2nHDjaBxRIsWLdKNN96owYMHy+/3684779SoUaO0YcMGJScnR7t5rUbHjh314IMPqnv37pKkmTNn6tJLL9XXX3+tPn36RLl1rc+KFSv0/PPP6/TTT492U1qlPn36aN68eeG/XS5XFFvTOpWVlWn48OE6//zz9cEHHyg7O1tbtmxRRkZGtJvWqqxYsUKBQCD897p163TRRRfpiiuuiGKrWpe///3vevbZZzVz5kz16dNHX331la677jqlp6fr5ptvjnbzjgtmAeOolZSUKDs7W4sWLdK5554b7ea0am3bttXDDz+s3/72t9FuSqtSXV2tM844Q//4xz80depUDRgwQE888US0m9Vq3HvvvZo7d65Wr14d7aa0anfccYc+++wzLVmyJNpNOan88Y9/1LvvvqtNmzY1+pOfNvrFL36hdu3a6cUXXwwvu/zyy5WUlKRXXnklii07fjgFjKNWUVEhKRRu0LhAIKBZs2appqZGQ4cOjXZzWp0bb7xRY8aM0YUXXhjtprRamzZtUm5urrp06aKrrrpKW7dujXaTWp133nlHgwYN0hVXXKHs7GwNHDhQL7zwQrSb1ap5vV69+uqruv766wl/9YwYMULz589XQUGBJOmbb77R0qVLdckll0S5ZccPp4BxVIwxmjx5skaMGKG+fftGuzmtztq1azV06FC53W6lpKRozpw56t27d7Sb1arMmjVLq1at0ooVK6LdlFZryJAhevnll9WjRw/t27dPU6dO1bBhw7R+/XplZmZGu3mtxtatWzV9+nRNnjxZf/nLX7R8+XL94Q9/UHx8vK699tpoN69Vmjt3rsrLyzVp0qRoN6VVuf3221VRUaGePXvK5XIpEAjo/vvv19VXXx3tph03BEAclf/8z//UmjVrtHTp0mg3pVU67bTTtHr1apWXl+utt97SxIkTtWjRIkLgQTt37tTNN9+sjz/+WAkJCdFuTqt18cUXh//fr18/DR06VN26ddPMmTM1efLkKLasdQkGgxo0aJCmTZsmSRo4cKDWr1+v6dOnEwCb8OKLL+riiy9Wbm5utJvSqrzxxht69dVX9dprr6lPnz5avXq1/vjHPyo3N1cTJ06MdvOOCwIgmu2mm27SO++8o8WLF6tjx47Rbk6rFBcXF54EMmjQIK1YsUJPPvmknnvuuSi3rHVYuXKliouLdeaZZ4aXBQIBLV68WM8884w8Hg+THRqRnJysfv36adOmTdFuSqvSvn37Bl+uevXqpbfeeitKLWrdCgsLNW/ePL399tvRbkqrc+utt+qOO+7QVVddJSn0xauwsFAPPPAAARD2Msbopptu0pw5c7Rw4UJ16dIl2k06aRhj5PF4ot2MVuOCCy7Q2rVrI5Zdd9116tmzp26//XbCXxM8Ho++/fZbnXPOOdFuSqsyfPjwBrekKigoUOfOnaPUotZtxowZys7O1pgxY6LdlFantrZWTmfktAiXy8VtYGC3G2+8Ua+99pr++c9/KjU1VXv37pUkpaenKzExMcqtaz3+8pe/6OKLL1ZeXp6qqqo0a9YsLVy4UB9++GG0m9ZqpKamNrh2NDk5WZmZmVxTWs+UKVM0duxYderUScXFxZo6daoqKyt/siMRP9af/vQnDRs2TNOmTdOECRO0fPlyPf/883r++eej3bRWJxgMasaMGZo4caJiYvjo/6GxY8fq/vvvV6dOndSnTx99/fXXeuyxx3T99ddHu2nHjwGOQFKj/2bMmBHtprUq119/vencubOJi4szWVlZ5oILLjAff/xxtJvV6p133nnm5ptvjnYzWpUrr7zStG/f3sTGxprc3Fwzbtw4s379+mg3q1X617/+Zfr27Wvi4+NNz549zfPPPx/tJrVKH330kZFkNm7cGO2mtEqVlZXm5ptvNp06dTIJCQmma9eu5s477zQejyfaTTtuuA8gAACAZbgPIAAAgGUIgAAAAJYhAAIAAFiGAAgAAGAZAiAAAIBlCIAAAACWIQACAABYhgAIAABgGQIgAJzEFi5cKIfDofLy8mg3BcBJhF8CAYCTyMiRIzVgwAA98cQTkiSv16vS0lK1a9dODocjuo0DcNLgF6EB4CQWFxennJycaDcDwEmGU8AAcJKYNGmSFi1apCeffFIOh0MOh0MvvfRSxCngl156SRkZGXr33Xd12mmnKSkpSePHj1dNTY1mzpyp/Px8tWnTRjfddJMCgUC4bK/Xq9tuu00dOnRQcnKyhgwZooULF0ZnQwEcd4wAAsBJ4sknn1RBQYH69u2r++67T5K0fv36BuvV1tbqqaee0qxZs1RVVaVx48Zp3LhxysjI0Pvvv6+tW7fq8ssv14gRI3TllVdKkq677jpt375ds2bNUm5urubMmaOf//znWrt2rU499dQTup0Ajj8CIACcJNLT0xUXF6ekpKTwad/vvvuuwXo+n0/Tp09Xt27dJEnjx4/XK6+8on379iklJUW9e/fW+eefr08//VRXXnmltmzZotdff127du1Sbm6uJGnKlCn68MMPNWPGDE2bNu3EbSSAE4IACAA/MUlJSeHwJ0nt2rVTfn6+UlJSIpYVFxdLklatWiVjjHr06BFRjsfjUWZm5olpNIATigAIAD8xsbGxEX87HI5GlwWDQUlSMBiUy+XSypUr5XK5ItarHxoB/HQQAAHgJBIXFxcxeaMlDBw4UIFAQMXFxTrnnHNatGwArROzgAHgJJKfn69ly5Zp+/bt2r9/f3gU71j06NFDv/71r3Xttdfq7bff1rZt27RixQr9/e9/1/vvv98CrQbQ2hAAAeAkMmXKFLlcLvXu3VtZWVnasWNHi5Q7Y8YMXXvttbrlllt02mmn6d/+7d+0bNky5eXltUj5AFoXfgkEAADAMowAAgAAWIYACAAAYBkCIAAAgGUIgAAAAJYhAAIAAFiGAAgAAGAZAiAAAIBlCIAAAACWIQACAABYhgAIAABgGQIgAACAZQiAAAAAliEAAgAAWIYACAAAYBkCIAAAgGUIgAAAAJYhAAIAAFjm/wEf2eYNVG7dDwAAAABJRU5ErkJggg==' width=640.0/>\n",
       "            </div>\n",
       "        "
      ],
      "text/plain": [
       "Canvas(toolbar=Toolbar(toolitems=[('Home', 'Reset original view', 'home', 'home'), ('Back', 'Back to previous …"
      ]
     },
     "metadata": {},
     "output_type": "display_data"
    }
   ],
   "source": [
    "context.timeline.plot()"
   ]
  },
  {
   "cell_type": "code",
   "execution_count": 33,
   "id": "41101681-70dc-452f-8819-791a5a10ea73",
   "metadata": {},
   "outputs": [],
   "source": [
    "pb.start(2)"
   ]
  },
  {
   "attachments": {},
   "cell_type": "markdown",
   "id": "34773761-32e3-4390-80dc-9037c798430d",
   "metadata": {},
   "source": [
    "### WIP standardContinuousPMSon - new format - init with Synth Bounds and schedule with mapping_spec, data bounds "
   ]
  },
  {
   "cell_type": "raw",
   "id": "7885fb2a-a0fd-4a21-a039-2c16f57b4b10",
   "metadata": {},
   "source": [
    "pmson = StandardContinuousPMSon(\n",
    " \n",
    " - \"s2\" - what parameters are available\n",
    "  for each parameter (that is mapped) \"name\"  \"range\" \"conversion(optional)\"\n",
    "  - \"freq\"  (50,70) \"midicps\"\n",
    "  - \"amp\"  (-15, -5) \"dbamp\" \n",
    "  - \"att\"   1  \n",
    ")  \n",
    "\n",
    "\n",
    "\n",
    "\n",
    "StandardContinuousPMSon(\"s2\"/synth, {\"freq\": {\"bounds\": 50,70, \"conversion\": midicps}})\n",
    "\n",
    "pmson.update_mapping({di}\n",
    "  \n",
    "pmson.schedule(df, (param, col, new/additional_kwargs))\n",
    "  - \"freq\" \"col\" \"linear\" -- \"source_range\" default -- min max\n",
    "                          - insertion of data based kwargs\n",
    " \n",
    " --- \n",
    "  schedule                                               |       init\n",
    " data \"col\" (x1 , x2) ----fun(value kwargs, kwargs(data), kwargs(param) )--->  conversion_fun(y1, y2) \"param\" synth  \n",
    "                          linlin(  x            x1 x2         y1 y2  )\n",
    "\n",
    "                      ----           data fun  (0,1) ->      0,1 -> 50,70         (0,1) param fun  --->\n",
    "\n",
    "\n",
    "\n",
    "pmson.schedule(df, {\"freq\": \"col1\", additional_function_kwargs)\n",
    "\n",
    "\n",
    "linear / exp / log "
   ]
  },
  {
   "cell_type": "code",
   "execution_count": 36,
   "id": "b9857e2f-f426-4e29-a3fa-0bee86538159",
   "metadata": {},
   "outputs": [],
   "source": [
    "from typing import Optional, Dict, Any"
   ]
  },
  {
   "cell_type": "code",
   "execution_count": 37,
   "id": "78e83ccf-6fe3-4fba-9d78-17cd22122c36",
   "metadata": {},
   "outputs": [],
   "source": [
    "from  mesonic.synth import Synth "
   ]
  },
  {
   "cell_type": "code",
   "execution_count": 38,
   "id": "84746891-4fbe-4b21-8457-9e009be1ca2f",
   "metadata": {},
   "outputs": [],
   "source": [
    "class StandardContinuousPMSon(Sonecule):\n",
    "    SPECIAL_PARAMETER_SPECS = [\"conversion\"]\n",
    "    \n",
    "    \n",
    "    def __init__(self, synth: str = \"s2\", parameter_specs: Optional[Dict[str, Dict[str, Any]]] = None, context=None):\n",
    "        super().__init__(context)\n",
    "        if isinstance(synth, Synth):\n",
    "            assert s2.mutable, \"Synth needs to be mutable for continuous Parameter Mapping Sonification\"\n",
    "            self.synth = synth\n",
    "        else:\n",
    "            self.synth = self.context.synths.create(synth, track=1)\n",
    "        if parameter_specs is None:\n",
    "            parameter_specs = dict()\n",
    "        \n",
    "        def _get_conversion(parameter_name):\n",
    "            try:\n",
    "                return parameter_specs[parameter_name][\"conversion\"]\n",
    "            except KeyError:\n",
    "                return None\n",
    "        \n",
    "        self.conversions = {param: _get_conversion(param) for param in self.synth.params}        \n",
    "        \n",
    "        # treat the rest f.e. bounds as synth attributes\n",
    "        for param, param_spec in parameter_specs.items():\n",
    "            if param not in self.synth.params:\n",
    "                raise ValueError(f\"{param} is not a Parameter of {self.synth}\") \n",
    "            else:\n",
    "                if \"bounds\" in param_spec:\n",
    "                    getattr(self.synth, param).bounds = param_spec[\"bounds\"]\n",
    "                if \"default\" in param_spec:\n",
    "                    getattr(self.synth, param)._default = param_spec[\"default\"]\n",
    "        \n",
    "        # creation here should add metadata which then is added to each produced event\n",
    "        self.synth.metadata = self.sonecule_id\n",
    "        \n",
    "    def schedule(self, df, mapping, at=0, stop_after=0.1, **odfkwargs):  # odfkwargs is a bad name\n",
    "        # clear the current events from the timeline\n",
    "        self.reset()\n",
    "        \n",
    "        dfkwargs = {\"dmin\": df.min(), \"dmax\": df.max()}  # TODO names for dmin, dmax?\n",
    "        dfkwargs.update(odfkwargs)  # allow overwriting of df\n",
    "    \n",
    "        with context.at(at, info={\"sonecule_id\": self.sonecule_id}):\n",
    "            self.synth.start()\n",
    "        \n",
    "        # TODO\n",
    "        \n",
    "        for idx in df.index:\n",
    "            col, fun, mkwargs = mapping[\"onset\"]\n",
    "            value = getattr(df, col)[idx]\n",
    "            data_min, data_max = dfkwargs[\"dmin\"][col], dfkwargs[\"dmax\"][col]\n",
    "            onset = fun(value, **mkwargs, dmin=data_min, dmax=data_max)\n",
    "            with context.at(at+onset, info={\"sonecule_id\": self.sonecule_id}) as tp:\n",
    "                for param in [param for param in mapping.keys() if param != \"onset\"]:\n",
    "                    col, fun, mkwargs = mapping[param]\n",
    "                    value = getattr(df, col)[idx]\n",
    "                    dmin, dmax = dfkwargs[\"dmin\"][col], dfkwargs[\"dmax\"][col] \n",
    "                    setattr(self.synth, param, fun(value, **mkwargs, dmin=dmin, dmax=dmax))\n",
    "                \n",
    "        with context.at(at + onset + stop_after, info={\"sonecule_id\": self.sonecule_id}):\n",
    "            self.synth.stop()\n"
   ]
  },
  {
   "cell_type": "code",
   "execution_count": 39,
   "id": "7670f7fc-2ba0-41f9-a062-fac5c8419ee2",
   "metadata": {},
   "outputs": [],
   "source": [
    "scpmson = StandardContinuousPMSon(\"s2\", {\"freq\": {\"bounds\": (50,70), \"conversion\": midicps}, \"amp\": {\"default\": 0.1}})  # bounds are in pre conversion unit - but this is done differently here in the code"
   ]
  },
  {
   "cell_type": "code",
   "execution_count": 40,
   "id": "cf512ca6-7bd3-42c8-b71c-eeb47fa962c4",
   "metadata": {},
   "outputs": [
    {
     "data": {
      "text/plain": [
       "{'freq': Parameter(freq=400.00, default=400.00, bounds=(50, 70)),\n",
       " 'amp': Parameter(amp=0.10, default=0.10, bounds=(None, None)),\n",
       " 'num': Parameter(num=4.00, default=4.00, bounds=(None, None)),\n",
       " 'pan': Parameter(pan=0.00, default=0.00, bounds=(None, None)),\n",
       " 'lg': Parameter(lg=0.10, default=0.10, bounds=(None, None)),\n",
       " 'gate': Parameter(gate=1.00, default=1.00, bounds=(None, None))}"
      ]
     },
     "execution_count": 40,
     "metadata": {},
     "output_type": "execute_result"
    }
   ],
   "source": [
    "scpmson.synth.params"
   ]
  },
  {
   "cell_type": "code",
   "execution_count": 41,
   "id": "e54f7fd8-e57a-4bf7-9847-7b65b6a7eef4",
   "metadata": {},
   "outputs": [
    {
     "data": {
      "image/png": "[encoded data removed]",
      "text/plain": [
       "<Figure size 640x480 with 1 Axes>"
      ]
     },
     "metadata": {},
     "output_type": "display_data"
    }
   ],
   "source": [
    "plt.plot([scn.midicps(x) for x in range(128)]);"
   ]
  },
  {
   "attachments": {},
   "cell_type": "markdown",
   "id": "da7a21ba-dd13-4468-9c5a-c4114e90898d",
   "metadata": {},
   "source": [
    "### Time-variant Oscillator bank mapping\n",
    "\n",
    "for multivariate time series, pitchmapping on variable nr. of independent oscillators, value -> pitch deviation from a centers, centers are musically equidistant between a minimal and maximal MIDI number. \n",
    " - Special features: change-driven amplitude (difference mapped to amplitude to emphasize changes)\n",
    " - Special case: Auditory graph\n"
   ]
  },
  {
   "cell_type": "code",
   "execution_count": 42,
   "id": "54c45ad1-b6be-4abe-b146-53cc0bb6f8b4",
   "metadata": {},
   "outputs": [],
   "source": [
    "context.reset()"
   ]
  },
  {
   "attachments": {},
   "cell_type": "markdown",
   "id": "b4b2e513-6281-42e1-a089-d5961f7d6f5b",
   "metadata": {
    "tags": []
   },
   "source": [
    "## Buffer Synthesis Sonifications\n",
    "\n",
    "Sonifications that are implemented as Synthesis that acts on a Buffer\n",
    "\n",
    "good for realtime / interactive sonifications"
   ]
  },
  {
   "cell_type": "code",
   "execution_count": 36,
   "id": "05c02b5b-ffef-41e5-8b83-1923eb389dc0",
   "metadata": {},
   "outputs": [],
   "source": [
    "class BufferSynth(Sonecule):\n",
    "    \n",
    "    def __init__(self, data, sr, context=None):\n",
    "        super().__init__(context=context)\n",
    "        if type(self).synth_name not in self.context.synths.buffer_synthdefs:\n",
    "            raise NotImplementedError(\"the selected Context does not offer an {self.synth_name} Synth\")\n",
    "        # self.df = ...\n",
    "        self.buf = self.context.buffers.from_data(data, sr)\n",
    "        self.synth = self.context.synths.from_buffer(self.buf, synth_name=type(self).synth_name)\n",
    "        \n",
    "    def resampling(self, **kwargs):\n",
    "        # data = self.buf ---- .data\n",
    "        # asig = Asig(...)\n",
    "        # self.buf = self.context.buffer.from_asig(asig)\n",
    "        ...\n",
    "        \n",
    "    def schedule(self, at=0):\n",
    "        with self.context.at(time=at):\n",
    "            self.synth.start()\n",
    "    \n",
    "    def start(from_t, to_t): # slicing\n",
    "        ...\n",
    "    "
   ]
  },
  {
   "cell_type": "code",
   "execution_count": 41,
   "id": "146a8cf8-0fe1-44c0-b8dd-e41d8207215b",
   "metadata": {},
   "outputs": [],
   "source": [
    "context.enable_realtime();"
   ]
  },
  {
   "cell_type": "code",
   "execution_count": 45,
   "id": "cb4413a0-1e4a-4ade-93fe-e1028d40d1a6",
   "metadata": {},
   "outputs": [],
   "source": [
    "%matplotlib qt"
   ]
  },
  {
   "attachments": {},
   "cell_type": "markdown",
   "id": "e1e92160-a4e9-4738-b11d-5b3cfcf88f6d",
   "metadata": {},
   "source": [
    "### Simple Audification"
   ]
  },
  {
   "cell_type": "code",
   "execution_count": 34,
   "id": "757ec377-33d6-407f-a109-60a583139a21",
   "metadata": {},
   "outputs": [
    {
     "name": "stdout",
     "output_type": "stream",
     "text": [
      "\n",
      "{ |out=0, bufnum={{BUFNUM}}, rate=1, loop=0, pan=0, amp=0.3 |\n",
      "    var sig = PlayBuf.ar({{NUM_CHANNELS}}, bufnum,\n",
      "        rate*BufRateScale.kr(bufnum),\n",
      "        loop: loop,\n",
      "        doneAction: Done.freeSelf);\n",
      "    Out.ar(out, Pan2.ar(sig, pan, amp))\n",
      "}\n"
     ]
    }
   ],
   "source": [
    "print(context.synths.buffer_synthdefs[\"playbuf\"])"
   ]
  },
  {
   "cell_type": "code",
   "execution_count": 37,
   "id": "2b137377-a19c-442b-b252-c4aa9b6bb9db",
   "metadata": {},
   "outputs": [],
   "source": [
    "class Audification(BufferSynth):\n",
    "    synth_name = 'playbuf'\n",
    "    "
   ]
  },
  {
   "cell_type": "code",
   "execution_count": 38,
   "id": "a163f488-027d-4fbd-b647-7d8362023aa6",
   "metadata": {},
   "outputs": [],
   "source": [
    "audification = Audification(data=eeg_data[:,[0,1]], sr=256)"
   ]
  },
  {
   "cell_type": "code",
   "execution_count": 39,
   "id": "0553fb4e-fca3-4993-b4b9-93ad293d0ee7",
   "metadata": {},
   "outputs": [
    {
     "data": {
      "text/plain": [
       "{'out': Parameter(out=0.00, default=0.00, bounds=(None, None)),\n",
       " 'bufnum': Parameter(bufnum=256.00, default=256.00, bounds=(None, None)),\n",
       " 'rate': Parameter(rate=1.00, default=1.00, bounds=(None, None)),\n",
       " 'loop': Parameter(loop=0.00, default=0.00, bounds=(None, None)),\n",
       " 'pan': Parameter(pan=0.00, default=0.00, bounds=(None, None)),\n",
       " 'amp': Parameter(amp=0.30, default=0.30, bounds=(None, None))}"
      ]
     },
     "execution_count": 39,
     "metadata": {},
     "output_type": "execute_result"
    }
   ],
   "source": [
    "audification.synth.params"
   ]
  },
  {
   "cell_type": "code",
   "execution_count": 49,
   "id": "6786362b-7e52-4fc9-aa78-2f4b5ea1bffe",
   "metadata": {},
   "outputs": [],
   "source": [
    "audification.synth.start(rate=24)"
   ]
  },
  {
   "attachments": {},
   "cell_type": "markdown",
   "id": "f07369e2-a3ba-4245-b884-7126a4417b20",
   "metadata": {
    "tags": []
   },
   "source": [
    "### TimbralSon"
   ]
  },
  {
   "attachments": {},
   "cell_type": "markdown",
   "id": "2e44a2d6-883e-4985-88f8-c6ffc0ea9d6a",
   "metadata": {},
   "source": [
    "* The timbralson uses the channels of the data to modulate the amplitude of a harmonic of the fundamental frequency `f0` for each channel."
   ]
  },
  {
   "cell_type": "code",
   "execution_count": 50,
   "id": "a18b48b7-413c-460f-9935-f0c2142125e7",
   "metadata": {},
   "outputs": [],
   "source": [
    "context.synths.buffer_synthdefs[\"timbralson\"]= r\"\"\"\n",
    "        { |bufnum={{BUFNUM}}, f0=90, amp=0.1, rate=1 |\n",
    "            var nch = {{NUM_CHANNELS}};\n",
    "            var sines = SinOsc.ar(nch.collect{|i| f0*rate*(i+1)});\n",
    "            var playbufs = PlayBuf.ar(nch, bufnum, BufRateScale.kr(bufnum)*rate, doneAction: 2 ) ;\n",
    "            Out.ar(0, (sines * playbufs).sum * amp!2 )\n",
    "        }\"\"\""
   ]
  },
  {
   "cell_type": "code",
   "execution_count": 51,
   "id": "f2cbd71b-f826-4f83-9a26-d9b5d09cd374",
   "metadata": {},
   "outputs": [],
   "source": [
    "class TimbralSon(BufferSynth):  \n",
    "    synth_name = 'timbralson'\n",
    "\n",
    "# that is possible but the TimbralSon is not really an Audification but also direcly uses\n",
    "# the buffer with the data in a Ugen graph"
   ]
  },
  {
   "cell_type": "code",
   "execution_count": 52,
   "id": "01fb9836-d728-4f2a-bf93-85d621dfc13d",
   "metadata": {},
   "outputs": [],
   "source": [
    "timbralson = TimbralSon(eeg_data[14*256:24*256], sr=256)"
   ]
  },
  {
   "cell_type": "code",
   "execution_count": 53,
   "id": "f8291e78-5822-47bc-9493-bd3821f4551f",
   "metadata": {},
   "outputs": [
    {
     "data": {
      "text/plain": [
       "{'bufnum': Parameter(bufnum=257.00, default=257.00, bounds=(None, None)),\n",
       " 'f0': Parameter(f0=90.00, default=90.00, bounds=(None, None)),\n",
       " 'amp': Parameter(amp=0.10, default=0.10, bounds=(None, None)),\n",
       " 'rate': Parameter(rate=1.00, default=1.00, bounds=(None, None))}"
      ]
     },
     "execution_count": 53,
     "metadata": {},
     "output_type": "execute_result"
    }
   ],
   "source": [
    "timbralson.synth.params"
   ]
  },
  {
   "cell_type": "code",
   "execution_count": 54,
   "id": "f47414aa-25a4-4896-b7e8-a6e5aadbc814",
   "metadata": {},
   "outputs": [
    {
     "name": "stdout",
     "output_type": "stream",
     "text": [
      "[sclang | reached EOF ]\n"
     ]
    }
   ],
   "source": [
    "timbralson.synth.start({\"f0\": 90, \"rate\": 0.5})"
   ]
  },
  {
   "attachments": {},
   "cell_type": "markdown",
   "id": "210e5f6a-bb21-47fb-bd20-57f8deb53413",
   "metadata": {},
   "source": [
    "The created Synth will offer the Parameters defined above and we can adapt them while the Synth plays."
   ]
  },
  {
   "cell_type": "code",
   "execution_count": 56,
   "id": "10a29767-3342-49e7-9bf5-f9a888ada9aa",
   "metadata": {},
   "outputs": [],
   "source": [
    "timbralson.synth.f0 = 70"
   ]
  },
  {
   "cell_type": "code",
   "execution_count": 57,
   "id": "abf6a338-8628-4983-89eb-3dbb3687289b",
   "metadata": {},
   "outputs": [],
   "source": [
    "timbralson.synth.f0 = 100"
   ]
  },
  {
   "cell_type": "code",
   "execution_count": 58,
   "id": "8cbb8a3a-c924-49c0-853f-136082ab7a0b",
   "metadata": {},
   "outputs": [],
   "source": [
    "timbralson.synth.rate = 1"
   ]
  },
  {
   "cell_type": "code",
   "execution_count": 59,
   "id": "9913b528-6386-4805-aebc-d3ec388e8463",
   "metadata": {},
   "outputs": [],
   "source": [
    "timbralson.synth.stop()"
   ]
  },
  {
   "cell_type": "code",
   "execution_count": null,
   "id": "b7dc0fe1-1b96-4ce5-89f3-6b07fb51999e",
   "metadata": {},
   "outputs": [],
   "source": [
    "ctx.timeline.plot()"
   ]
  },
  {
   "cell_type": "code",
   "execution_count": null,
   "id": "8e219efa",
   "metadata": {},
   "outputs": [],
   "source": [
    "ctx.clo"
   ]
  },
  {
   "attachments": {},
   "cell_type": "markdown",
   "id": "a3bc9df6-d179-43b9-8b09-e6fbf0bdc0b4",
   "metadata": {},
   "source": [
    "## Sonification as Handler/Callback/Setup\n",
    "\n",
    "* MBS \n",
    "* Event-based?\n"
   ]
  },
  {
   "attachments": {},
   "cell_type": "markdown",
   "id": "b069c166-617c-48be-b37e-89318b59e773",
   "metadata": {},
   "source": [
    "### Data Sonogram"
   ]
  },
  {
   "attachments": {},
   "cell_type": "markdown",
   "id": "45e386aa-6cd7-4371-8ce7-1ab1270f34aa",
   "metadata": {},
   "source": [
    "The `DataSonogram` implements a Data Sonogram\n",
    "\n",
    "- The model gets a dataset which is plotted in two dimensions.\n",
    "- When the user clicks into the plot a shock wave (signaled by noise Synth) is created from the nearest data point.\n",
    "\n"
   ]
  },
  {
   "cell_type": "code",
   "execution_count": 61,
   "id": "448cce7d-04cf-4d35-9aea-2dc7d96ace73",
   "metadata": {},
   "outputs": [
    {
     "data": {
      "text/plain": [
       "'noise'"
      ]
     },
     "execution_count": 61,
     "metadata": {},
     "output_type": "execute_result"
    }
   ],
   "source": [
    "scn.SynthDef(\"noise\", r\"\"\"\n",
    "{ |out=0, freq=2000, rq=0.02, amp=0.3, dur=1, pos=0 |\n",
    "    Out.ar(out, Pan2.ar(\n",
    "        BPF.ar(WhiteNoise.ar(10), freq, rq) \n",
    "        * Line.kr(1, 0, dur, doneAction: 2).pow(4), pos, amp));\n",
    "}\"\"\").add()"
   ]
  },
  {
   "cell_type": "code",
   "execution_count": 62,
   "id": "811a5ed1-919c-45a1-a3f4-4d5ffb35682e",
   "metadata": {},
   "outputs": [],
   "source": [
    "class DataSonogram(Sonecule):\n",
    "\n",
    "    def __init__(self, df, x, y, label, max_duration=1.5, spring_synth=\"s1\", trigger_synth=\"noise\", context=None):\n",
    "        super().__init__(context=context)\n",
    "        \n",
    "        #prepare synths\n",
    "        self.trigger_synth = self.context.synths.create(trigger_synth, mutable=False)  # TODO make sure the synths have metadata\n",
    "        self.spring_synth = self.context.synths.create(spring_synth, mutable=False)\n",
    "        \n",
    "        # save dataframe\n",
    "        self.df = df\n",
    "        self.numeric_df = df.select_dtypes(include=[np.number])\n",
    "        \n",
    "        # check if x and y are valid\n",
    "        allowed_columns = self.numeric_df.columns\n",
    "        assert x in allowed_columns, f\"x must be in {allowed_columns}\"\n",
    "        assert y in allowed_columns, f\"y must be in {allowed_columns}\"\n",
    "\n",
    "        # prepare data for model\n",
    "        self.labels = self.df[label]\n",
    "        self.unique_labels = self.labels.unique()\n",
    "        label2id = {label: idx for idx, label in enumerate(self.unique_labels)}\n",
    "        self.numeric_labels = [label2id[label] for label in self.labels]\n",
    "        self.xy_data = self.numeric_df[[x,y]].values \n",
    "        self.data = self.numeric_df.values\n",
    "\n",
    "        # get the convex hull of the data\n",
    "        hull = ConvexHull(self.data)\n",
    "        hull_data = self.data[hull.vertices,:]\n",
    "        # get distances of the data points in the hull \n",
    "        hull_distances = cdist(hull_data, hull_data, metric='euclidean')\n",
    "        self.max_distance =  hull_distances.max()\n",
    "        \n",
    "        # set model parameter\n",
    "        self.max_duration = max_duration\n",
    "        \n",
    "        # prepare plot\n",
    "        self.fig = plt.figure(figsize=(5,5))\n",
    "        self.ax = plt.subplot(111)\n",
    "\n",
    "        # plot data\n",
    "        sns.scatterplot(x=x, y=y, hue=label, data=df, ax=self.ax)\n",
    "        \n",
    "        # set callback\n",
    "        def onclick(event):\n",
    "            if event.inaxes is None: # outside plot area\n",
    "                return\n",
    "            if event.button != 1: # ignore other than left click \n",
    "                return\n",
    "            click_xy = np.array([event.xdata, event.ydata])\n",
    "            self.create_shockwave(click_xy)\n",
    "        \n",
    "        self.fig.canvas.mpl_connect('button_press_event', onclick)\n",
    "\n",
    "    def create_shockwave(self, click_xy):\n",
    "        self.context.reset()\n",
    "        \n",
    "        with self.context.now() as start_time:\n",
    "            self.trigger_synth.start()\n",
    "        # find the point that is the nearest to the click location\n",
    "        center_idx = np.argmin(np.linalg.norm(self.xy_data - click_xy, axis=1))\n",
    "        center = self.data[center_idx]\n",
    "        # get the distances from the other points to this point\n",
    "        distances_to_center = np.linalg.norm(self.data - center, axis=1)\n",
    "        # get idx sorted by distances\n",
    "        order_of_points = np.argsort(distances_to_center)\n",
    "        # for each point create a sound using the spring synth\n",
    "        for idx in order_of_points:\n",
    "            distance = distances_to_center[idx]\n",
    "            nlabel = self.numeric_labels[idx]\n",
    "            n = len(self.unique_labels)-1\n",
    "            onset = (distance / self.max_distance) * self.max_duration\n",
    "            with self.context.at(start_time + onset):\n",
    "                self.spring_synth.start(\n",
    "                    freq = 2 * (400 + 100 * nlabel),\n",
    "                    amp = scn.dbamp(scn.linlin(distance, 0, self.max_distance, -10, -30)),\n",
    "                    pan = [-1,1][int(self.xy_data[idx, 0]-click_xy[0] > 0)],\n",
    "                    dur = 0.04,\n",
    "                    info = {\"label\": self.labels[idx]},\n",
    "                )"
   ]
  },
  {
   "cell_type": "code",
   "execution_count": 63,
   "id": "d5fcf6ee-f19a-4247-b22d-7fe04226c4c4",
   "metadata": {},
   "outputs": [
    {
     "name": "stdout",
     "output_type": "stream",
     "text": [
      "[sclang | reached EOF ]\n",
      "[sclang | reached EOF ]\n"
     ]
    }
   ],
   "source": [
    "dsg1 = DataSonogram(penguins_df, x=\"flipper_length_mm\", y=\"body_mass_g\", label=\"species\")"
   ]
  },
  {
   "cell_type": "code",
   "execution_count": null,
   "id": "095ed986",
   "metadata": {},
   "outputs": [],
   "source": []
  }
 ],
 "metadata": {
  "kernelspec": {
   "display_name": "soni",
   "language": "python",
   "name": "python3"
  },
  "language_info": {
   "codemirror_mode": {
    "name": "ipython",
    "version": 3
   },
   "file_extension": ".py",
   "mimetype": "text/x-python",
   "name": "python",
   "nbconvert_exporter": "python",
   "pygments_lexer": "ipython3",
   "version": "3.10.9"
  }
 },
 "nbformat": 4,
 "nbformat_minor": 5
}
