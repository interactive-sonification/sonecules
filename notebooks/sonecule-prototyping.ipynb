{
 "cells": [
  {
   "cell_type": "code",
   "execution_count": null,
   "id": "14e11ffe-40da-45a4-9ee3-67a25c8f8cf0",
   "metadata": {},
   "outputs": [],
   "source": [
    "import pandas as pd\n",
    "import numpy as np \n",
    "\n",
    "import matplotlib.pyplot as plt\n",
    "import seaborn as sns\n",
    "\n",
    "from scipy.spatial import ConvexHull\n",
    "from scipy.spatial.distance import cdist, euclidean"
   ]
  },
  {
   "cell_type": "code",
   "execution_count": null,
   "id": "907065f5-6357-4c59-88ad-f511c0c40696",
   "metadata": {},
   "outputs": [],
   "source": [
    "import mesonic"
   ]
  },
  {
   "cell_type": "code",
   "execution_count": null,
   "id": "63afaae5-1eed-48c1-9d5e-532defee9c35",
   "metadata": {},
   "outputs": [],
   "source": [
    "import sc3nb as scn"
   ]
  },
  {
   "cell_type": "code",
   "execution_count": null,
   "id": "eccf717e",
   "metadata": {},
   "outputs": [],
   "source": [
    "%matplotlib widget"
   ]
  },
  {
   "attachments": {},
   "cell_type": "markdown",
   "id": "d272c4e3-13b5-43ca-b603-c6f27b59c2c2",
   "metadata": {},
   "source": [
    "# Data Preparation"
   ]
  },
  {
   "cell_type": "code",
   "execution_count": null,
   "id": "0f22c278-604b-4c2b-8bb8-939f5eaadada",
   "metadata": {},
   "outputs": [],
   "source": [
    "eeg_data = np.loadtxt(\"../notebooks/data/epileptic-eeg.csv\", delimiter=\",\")\n",
    "eeg_df = pd.DataFrame(eeg_data)\n",
    "eeg_df"
   ]
  },
  {
   "cell_type": "code",
   "execution_count": null,
   "id": "d7442a32-562f-4427-b5b2-66af8b6fd171",
   "metadata": {},
   "outputs": [],
   "source": [
    "penguins_df = sns.load_dataset(\"penguins\")\n",
    "penguins_df = penguins_df.dropna(subset=[\"bill_length_mm\", \"bill_depth_mm\", \"flipper_length_mm\", \"body_mass_g\", \"sex\"])\n",
    "penguins_df = penguins_df.reset_index(drop=True)\n",
    "penguins_df"
   ]
  },
  {
   "cell_type": "code",
   "execution_count": null,
   "id": "75e14417-3c1c-49f1-a67d-0df79bf2f546",
   "metadata": {},
   "outputs": [],
   "source": [
    "seaice_df = sns.load_dataset(\"seaice\")\n",
    "seaice_df"
   ]
  },
  {
   "cell_type": "code",
   "execution_count": null,
   "id": "1c731876-1075-456e-aceb-731f25c93f8c",
   "metadata": {},
   "outputs": [],
   "source": [
    "seaice_df.set_index(\"Date\").plot()"
   ]
  },
  {
   "attachments": {},
   "cell_type": "markdown",
   "id": "a808ec87-8465-428d-960a-e76ef64cdfb7",
   "metadata": {},
   "source": [
    "# Sonecules"
   ]
  },
  {
   "cell_type": "code",
   "execution_count": null,
   "id": "38346677-7a94-4eb2-8747-abde05487d32",
   "metadata": {},
   "outputs": [],
   "source": [
    "import uuid"
   ]
  },
  {
   "cell_type": "code",
   "execution_count": null,
   "id": "2b19532f-3fdb-49d5-aa66-6fe749af26b4",
   "metadata": {},
   "outputs": [],
   "source": [
    "context = mesonic.create_context()"
   ]
  },
  {
   "cell_type": "code",
   "execution_count": null,
   "id": "256cb6a8-dd63-4e36-b358-5012a572e22e",
   "metadata": {},
   "outputs": [],
   "source": [
    "sonecules_default_context = context"
   ]
  },
  {
   "cell_type": "code",
   "execution_count": null,
   "id": "ea5aa961-2166-4592-b0d0-c27c300e78e0",
   "metadata": {},
   "outputs": [],
   "source": [
    "uuid.uuid4()"
   ]
  },
  {
   "cell_type": "code",
   "execution_count": null,
   "id": "4d56b3cf-cb01-430d-bb9a-8421ce8c17a4",
   "metadata": {},
   "outputs": [],
   "source": [
    "pb = context.create_playback()"
   ]
  },
  {
   "cell_type": "code",
   "execution_count": null,
   "id": "c212cde9-7025-4a92-85c3-82b6fef2f6e5",
   "metadata": {},
   "outputs": [],
   "source": [
    "context.processor is pb.processor"
   ]
  },
  {
   "cell_type": "code",
   "execution_count": null,
   "id": "5e2fb846-9877-4fae-bbae-af66a4be809d",
   "metadata": {},
   "outputs": [],
   "source": [
    "class SoneculeFilter:\n",
    "    \n",
    "    def __init__(self):\n",
    "        self.deactivated_sonecules = set()\n",
    "    \n",
    "    def __call__(self, event):\n",
    "        sonecule_id = event.info.get(\"sonecule_id\", None) \n",
    "        if sonecule_id is not None and sonecule_id in self.deactivated_sonecules:\n",
    "            return None\n",
    "        else:\n",
    "            return event\n",
    "    "
   ]
  },
  {
   "cell_type": "code",
   "execution_count": null,
   "id": "ad451d90-95f5-4321-a3a9-b966889698a8",
   "metadata": {},
   "outputs": [],
   "source": [
    "context.processor.event_filter = SoneculeFilter() \n",
    "# TODO this should be a list/set of filters so we don't block custom filters"
   ]
  },
  {
   "cell_type": "code",
   "execution_count": null,
   "id": "cd37a25a-21f4-42b6-9e70-ff7691caffab",
   "metadata": {},
   "outputs": [],
   "source": [
    "class Sonecule:\n",
    "    \n",
    "    def __init__(self, context=None): \n",
    "        if context is None:\n",
    "            context = sonecules_default_context\n",
    "        self.context = context\n",
    "        self._sonecule_id = uuid.uuid4()\n",
    "        \n",
    "    # require or better ensure each synth created in a sonecule gets the\n",
    "    # metadata set to include the sonecule_id so it can be filtere\n",
    "    \n",
    "    @property\n",
    "    def sonecule_id(self):\n",
    "        return self._sonecule_id\n",
    "    \n",
    "    @property\n",
    "    def active(self, value):\n",
    "        return self.sonecule_id in context.processor.event_filter.deactivated_sonecules\n",
    "    \n",
    "    @active.setter\n",
    "    def active(self, value):\n",
    "        assert isinstance(value, bool)\n",
    "        if value:  # this sonecule should not be part of the timeline\n",
    "            context.processor.event_filter.deactivated_sonecules.add(self.sonecule_id)\n",
    "        else:\n",
    "            context.processor.event_filter.deactivated_sonecules.discard(self.sonecule_id)\n",
    "    \n",
    "    def reset(self): # clear this \n",
    "        \"\"\"iterate over timeline and remove events belonging to this Sonecule\"\"\"\n",
    "        # TODO this should be done in mesonic\n",
    "        ...\n",
    "    "
   ]
  },
  {
   "attachments": {},
   "cell_type": "markdown",
   "id": "7d1ff91c-7f3b-467a-8a1e-2667e6f2921a",
   "metadata": {},
   "source": [
    "# Sonification Classes"
   ]
  },
  {
   "attachments": {},
   "cell_type": "markdown",
   "id": "55df0c09-7b2f-451f-b886-a66d8d4085b7",
   "metadata": {
    "tags": []
   },
   "source": [
    "## Score-based / Timeline Sonifications\n",
    "\n",
    "* schedule method for score / timeline generation"
   ]
  },
  {
   "cell_type": "code",
   "execution_count": null,
   "id": "c241cd37-b3b4-4682-a194-aba0fb665041",
   "metadata": {},
   "outputs": [],
   "source": [
    "from sc3nb import linlin, midicps, cpsmidi"
   ]
  },
  {
   "cell_type": "code",
   "execution_count": null,
   "id": "e7df28ff-3110-4f12-af9c-91b770f3eadf",
   "metadata": {},
   "outputs": [],
   "source": [
    "s2 = context.synths.create(\"s2\", track=1) "
   ]
  },
  {
   "attachments": {},
   "cell_type": "markdown",
   "id": "91f76bf6-4471-4c51-9f24-ae451d81c134",
   "metadata": {},
   "source": [
    "Question: create Synths in sonecule or outside?\n",
    "- inside: \n",
    "    - we have full control over synth creation\n",
    "    - some sonecules will rely on specific synths\n",
    "    - we can better provide sensible defaults\n",
    "    - requires atleast a small inheritance overwritting synth name string for synth changes, perhaps also needs to redo setup\n",
    "- outside:\n",
    "    - user can already set defaults and bounds\n",
    "    - user can adapt a sonecule quickly without much code\n",
    "    \n"
   ]
  },
  {
   "cell_type": "code",
   "execution_count": null,
   "id": "257518c8-5e6c-45ea-ad36-f282390035ef",
   "metadata": {},
   "outputs": [],
   "source": [
    "s2.metadata.update({\"sonecule_id\": 1321})"
   ]
  },
  {
   "cell_type": "code",
   "execution_count": null,
   "id": "83b89d37-f0aa-4590-b8cc-234100caad92",
   "metadata": {},
   "outputs": [],
   "source": [
    "s2.metadata"
   ]
  },
  {
   "cell_type": "code",
   "execution_count": null,
   "id": "85019702-6494-49c0-a16b-fec4a4818a7b",
   "metadata": {},
   "outputs": [],
   "source": [
    "s2.params # param bounds would provide a target mapping bound "
   ]
  },
  {
   "cell_type": "raw",
   "id": "017257ff-3c01-4776-8b72-4e650a0171a7",
   "metadata": {},
   "source": [
    "mapping = {\"param\": (\"col\", fun(value, smin, smax, ...), **kwargs), }  "
   ]
  },
  {
   "attachments": {},
   "cell_type": "markdown",
   "id": "69035d2a-80c1-4cc7-a3f9-cba1c53fbe65",
   "metadata": {},
   "source": [
    "### standard Discrete PMSon - old"
   ]
  },
  {
   "cell_type": "code",
   "execution_count": null,
   "id": "3101f1c8-5b2f-455d-9015-4d8bba5989d2",
   "metadata": {},
   "outputs": [],
   "source": [
    "class StandardDiscretePMSon(Sonecule):\n",
    "    \n",
    "    def __init__(self, synth_name=\"s2\", context=None):\n",
    "        super().__init__(context)\n",
    "        # if instanceof(synth,Synth): \n",
    "        self.synth = self.context.synths.create(synth_name, track=1, mutable=False)\n",
    "        # creation here should add metadata which then is added to each produced event\n",
    "        \n",
    "    def schedule(self, df, mapping, at=0, stop_after=0.1, **odfkwargs):  # odfkwargs is a bad name    \n",
    "        self.reset()\n",
    "        \n",
    "        dfkwargs = {\"dmin\": df.min(), \"dmax\": df.max()}\n",
    "        dfkwargs.update(odfkwargs)  # allow overwriting of df\n",
    "        \n",
    "        for idx in df.index:\n",
    "            col, fun, mkwargs = mapping[\"onset\"]\n",
    "            value = getattr(df, col)[idx]\n",
    "            data_min, data_max = dfkwargs[\"dmin\"][col], dfkwargs[\"dmax\"][col]  # name?\n",
    "            onset = fun(value, **mkwargs, dmin=data_min, dmax=data_max)\n",
    "            with context.at(at+onset, info={\"sonecule_id\": self.sonecule_id}) as tp:\n",
    "                for param in [param for param in mapping.keys() if param != \"onset\"]:\n",
    "                    col, fun, mkwargs = mapping[param]\n",
    "                    value = getattr(df, col)[idx]\n",
    "                    dmin, dmax = dfkwargs[\"dmin\"][col], dfkwargs[\"dmax\"][col] \n",
    "                    setattr(self.synth, param, fun(value, **mkwargs, dmin=dmin, dmax=dmax))\n",
    "                "
   ]
  },
  {
   "attachments": {},
   "cell_type": "markdown",
   "id": "222a1c82-8bdb-4186-8785-ab655e6cd44e",
   "metadata": {},
   "source": [
    "### standard Continuous PMSon - old"
   ]
  },
  {
   "cell_type": "code",
   "execution_count": null,
   "id": "8c36b97f-d753-4fb2-a804-e95fbc62c453",
   "metadata": {},
   "outputs": [],
   "source": [
    "class StandardContinuousPMSon(Sonecule):\n",
    "    \n",
    "    def __init__(self, synth_name, context=None):\n",
    "        super().__init__(context)\n",
    "        # if instanceof(synth,Synth): \n",
    "        self.synth = self.context.synths.create(synth_name, track=1, mutable=True)\n",
    "        # creation here should add metadata which then is added to each produced event\n",
    "        \n",
    "    def schedule(self, df, mapping, at=0, time_after_last=0.1, **odfkwargs):  # odfkwargs is a bad name    \n",
    "        self.reset()\n",
    "        \n",
    "        dfkwargs = {\"dmin\": df.min(), \"dmax\": df.max()}  # TODO names for dmin, dmax?\n",
    "        dfkwargs.update(odfkwargs)  # allow overwriting of df\n",
    "    \n",
    "        with context.at(at, info={\"sonecule_id\": self.sonecule_id}):\n",
    "            self.synth.start()\n",
    "            \n",
    "        for idx in df.index:\n",
    "            col, fun, mkwargs = mapping[\"onset\"]\n",
    "            value = getattr(df, col)[idx]\n",
    "            data_min, data_max = dfkwargs[\"dmin\"][col], dfkwargs[\"dmax\"][col]\n",
    "            onset = fun(value, **mkwargs, dmin=data_min, dmax=data_max)\n",
    "            with context.at(at+onset, info={\"sonecule_id\": self.sonecule_id}) as tp:\n",
    "                for param in [param for param in mapping.keys() if param != \"onset\"]:\n",
    "                    col, fun, mkwargs = mapping[param]\n",
    "                    value = getattr(df, col)[idx]\n",
    "                    dmin, dmax = dfkwargs[\"dmin\"][col], dfkwargs[\"dmax\"][col]\n",
    "                    value = fun(value, **mkwargs, dmin=dmin, dmax=dmax)\n",
    "                    setattr(self.synth, param, value)\n",
    "                \n",
    "        with context.at(at + onset + time_after_last, info={\"sonecule_id\": self.sonecule_id}):\n",
    "            self.synth.stop()\n",
    "\n"
   ]
  },
  {
   "cell_type": "code",
   "execution_count": null,
   "id": "af58f9a2-7b8e-4a28-b751-9fa91b282739",
   "metadata": {},
   "outputs": [],
   "source": [
    "scPMSon = StandardContinuousPMSon(\"s2\")"
   ]
  },
  {
   "cell_type": "code",
   "execution_count": null,
   "id": "92ee119d-8747-4025-b7fc-d8c0028813e8",
   "metadata": {},
   "outputs": [],
   "source": [
    "assert scPMSon.context is sonecules_default_context"
   ]
  },
  {
   "cell_type": "code",
   "execution_count": null,
   "id": "79d8a6b6-bc48-414f-9e33-0a62bb35f477",
   "metadata": {},
   "outputs": [],
   "source": [
    "context.timeline.reset()"
   ]
  },
  {
   "cell_type": "code",
   "execution_count": null,
   "id": "e2a62689-16a0-4b1a-8707-ecdbf980b27b",
   "metadata": {},
   "outputs": [],
   "source": [
    "context.timeline"
   ]
  },
  {
   "cell_type": "code",
   "execution_count": null,
   "id": "a6f98ac9-6a1a-4f8b-b4dc-f4444b1eab65",
   "metadata": {},
   "outputs": [],
   "source": [
    "mapping = {\n",
    "    \"onset\": \n",
    "        (\"flipper_length_mm\",\n",
    "         lambda value, dmin, dmax, y1, y2: linlin(value, dmin, dmax, y1, y2),\n",
    "         dict(y1=0, y2=5)),\n",
    "    \"freq\": \n",
    "        (\"body_mass_g\",\n",
    "         lambda value, dmin, dmax, y1, y2: midicps(linlin(value, dmin, dmax, y1, y2)),\n",
    "         dict(y1=48, y2=25)),\n",
    "    }\n",
    "\n",
    "scPMSon.schedule(penguins_df, mapping, at=2, time_after_last=2)"
   ]
  },
  {
   "cell_type": "code",
   "execution_count": null,
   "id": "7445d860-7161-4bea-8b45-3fae47ce578c",
   "metadata": {},
   "outputs": [],
   "source": [
    "context.timeline"
   ]
  },
  {
   "cell_type": "code",
   "execution_count": null,
   "id": "b3cdd1ce-5500-462f-b84c-86cb27c6abbb",
   "metadata": {},
   "outputs": [],
   "source": [
    "context.timeline.plot()"
   ]
  },
  {
   "cell_type": "code",
   "execution_count": null,
   "id": "41101681-70dc-452f-8819-791a5a10ea73",
   "metadata": {},
   "outputs": [],
   "source": [
    "pb.start(2)"
   ]
  },
  {
   "attachments": {},
   "cell_type": "markdown",
   "id": "34773761-32e3-4390-80dc-9037c798430d",
   "metadata": {},
   "source": [
    "### WIP standardContinuousPMSon - new format - init with Synth Bounds and schedule with mapping_spec, data bounds "
   ]
  },
  {
   "cell_type": "raw",
   "id": "7885fb2a-a0fd-4a21-a039-2c16f57b4b10",
   "metadata": {},
   "source": [
    "pmson = StandardContinuousPMSon(\n",
    " \n",
    " - \"s2\" - what parameters are available\n",
    "  for each parameter (that is mapped) \"name\"  \"range\" \"conversion(optional)\"\n",
    "  - \"freq\"  (50,70) \"midicps\"\n",
    "  - \"amp\"  (-15, -5) \"dbamp\" \n",
    "  - \"att\"   1  \n",
    ")  \n",
    "\n",
    "\n",
    "\n",
    "\n",
    "StandardContinuousPMSon(\"s2\"/synth, {\"freq\": {\"bounds\": 50,70, \"conversion\": midicps}})\n",
    "\n",
    "pmson.update_mapping({di}\n",
    "  \n",
    "pmson.schedule(df, (param, col, new/additional_kwargs))\n",
    "  - \"freq\" \"col\" \"linear\" -- \"source_range\" default -- min max\n",
    "                          - insertion of data based kwargs\n",
    " \n",
    " --- \n",
    "  schedule                                               |       init\n",
    " data \"col\" (x1 , x2) ----fun(value kwargs, kwargs(data), kwargs(param) )--->  conversion_fun(y1, y2) \"param\" synth  \n",
    "                          linlin(  x            x1 x2         y1 y2  )\n",
    "\n",
    "                      ----           data fun  (0,1) ->      0,1 -> 50,70         (0,1) param fun  --->\n",
    "\n",
    "\n",
    "\n",
    "pmson.schedule(df, {\"freq\": \"col1\", additional_function_kwargs)\n",
    "\n",
    "\n",
    "linear / exp / log "
   ]
  },
  {
   "cell_type": "code",
   "execution_count": null,
   "id": "b9857e2f-f426-4e29-a3fa-0bee86538159",
   "metadata": {},
   "outputs": [],
   "source": [
    "from typing import Optional, Dict, Any"
   ]
  },
  {
   "cell_type": "code",
   "execution_count": null,
   "id": "78e83ccf-6fe3-4fba-9d78-17cd22122c36",
   "metadata": {},
   "outputs": [],
   "source": [
    "from  mesonic.synth import Synth "
   ]
  },
  {
   "cell_type": "code",
   "execution_count": null,
   "id": "84746891-4fbe-4b21-8457-9e009be1ca2f",
   "metadata": {},
   "outputs": [],
   "source": [
    "class StandardContinuousPMSon(Sonecule):\n",
    "    SPECIAL_PARAMETER_SPECS = [\"conversion\"]\n",
    "    \n",
    "    \n",
    "    def __init__(self, synth: str = \"s2\", parameter_specs: Optional[Dict[str, Dict[str, Any]]] = None, context=None):\n",
    "        super().__init__(context)\n",
    "        if isinstance(synth, Synth):\n",
    "            assert s2.mutable, \"Synth needs to be mutable for continuous Parameter Mapping Sonification\"\n",
    "            self.synth = synth\n",
    "        else:\n",
    "            self.synth = self.context.synths.create(synth, track=1)\n",
    "        if parameter_specs is None:\n",
    "            parameter_specs = dict()\n",
    "        \n",
    "        def _get_conversion(parameter_name):\n",
    "            try:\n",
    "                return parameter_specs[parameter_name][\"conversion\"]\n",
    "            except KeyError:\n",
    "                return None\n",
    "        \n",
    "        self.conversions = {param: _get_conversion(param) for param in self.synth.params}        \n",
    "        \n",
    "        # treat the rest f.e. bounds as synth attributes\n",
    "        for param, param_spec in parameter_specs.items():\n",
    "            if param not in self.synth.params:\n",
    "                raise ValueError(f\"{param} is not a Parameter of {self.synth}\") \n",
    "            else:\n",
    "                if \"bounds\" in param_spec:\n",
    "                    getattr(self.synth, param).bounds = param_spec[\"bounds\"]\n",
    "                if \"default\" in param_spec:\n",
    "                    getattr(self.synth, param)._default = param_spec[\"default\"]\n",
    "        \n",
    "        # creation here should add metadata which then is added to each produced event\n",
    "        self.synth.metadata = self.sonecule_id\n",
    "        \n",
    "    def schedule(self, df, mapping, at=0, stop_after=0.1, **odfkwargs):  # odfkwargs is a bad name\n",
    "        # clear the current events from the timeline\n",
    "        self.reset()\n",
    "        \n",
    "        dfkwargs = {\"dmin\": df.min(), \"dmax\": df.max()}  # TODO names for dmin, dmax?\n",
    "        dfkwargs.update(odfkwargs)  # allow overwriting of df\n",
    "    \n",
    "        with context.at(at, info={\"sonecule_id\": self.sonecule_id}):\n",
    "            self.synth.start()\n",
    "        \n",
    "        # TODO\n",
    "        \n",
    "        for idx in df.index:\n",
    "            col, fun, mkwargs = mapping[\"onset\"]\n",
    "            value = getattr(df, col)[idx]\n",
    "            data_min, data_max = dfkwargs[\"dmin\"][col], dfkwargs[\"dmax\"][col]\n",
    "            onset = fun(value, **mkwargs, dmin=data_min, dmax=data_max)\n",
    "            with context.at(at+onset, info={\"sonecule_id\": self.sonecule_id}) as tp:\n",
    "                for param in [param for param in mapping.keys() if param != \"onset\"]:\n",
    "                    col, fun, mkwargs = mapping[param]\n",
    "                    value = getattr(df, col)[idx]\n",
    "                    dmin, dmax = dfkwargs[\"dmin\"][col], dfkwargs[\"dmax\"][col] \n",
    "                    setattr(self.synth, param, fun(value, **mkwargs, dmin=dmin, dmax=dmax))\n",
    "                \n",
    "        with context.at(at + onset + stop_after, info={\"sonecule_id\": self.sonecule_id}):\n",
    "            self.synth.stop()\n"
   ]
  },
  {
   "cell_type": "code",
   "execution_count": null,
   "id": "7670f7fc-2ba0-41f9-a062-fac5c8419ee2",
   "metadata": {},
   "outputs": [],
   "source": [
    "scpmson = StandardContinuousPMSon(\"s2\", {\"freq\": {\"bounds\": (50,70), \"conversion\": midicps}, \"amp\": {\"default\": 0.1}})  # bounds are in pre conversion unit - but this is done differently here in the code"
   ]
  },
  {
   "cell_type": "code",
   "execution_count": null,
   "id": "cf512ca6-7bd3-42c8-b71c-eeb47fa962c4",
   "metadata": {},
   "outputs": [],
   "source": [
    "scpmson.synth.params"
   ]
  },
  {
   "cell_type": "code",
   "execution_count": null,
   "id": "e54f7fd8-e57a-4bf7-9847-7b65b6a7eef4",
   "metadata": {},
   "outputs": [],
   "source": [
    "plt.plot([scn.midicps(x) for x in range(128)]);"
   ]
  },
  {
   "attachments": {},
   "cell_type": "markdown",
   "id": "da7a21ba-dd13-4468-9c5a-c4114e90898d",
   "metadata": {},
   "source": [
    "### Time-variant Oscillator bank mapping\n",
    "\n",
    "for multivariate time series, pitchmapping on variable nr. of independent oscillators, value -> pitch deviation from a centers, centers are musically equidistant between a minimal and maximal MIDI number. \n",
    " - Special features: change-driven amplitude (difference mapped to amplitude to emphasize changes)\n",
    " - Special case: Auditory graph\n"
   ]
  },
  {
   "cell_type": "code",
   "execution_count": null,
   "id": "54c45ad1-b6be-4abe-b146-53cc0bb6f8b4",
   "metadata": {},
   "outputs": [],
   "source": [
    "context.reset()"
   ]
  },
  {
   "attachments": {},
   "cell_type": "markdown",
   "id": "b4b2e513-6281-42e1-a089-d5961f7d6f5b",
   "metadata": {
    "tags": []
   },
   "source": [
    "## Buffer Synthesis Sonifications\n",
    "\n",
    "Sonifications that are implemented as Synthesis that acts on a Buffer\n",
    "\n",
    "good for realtime / interactive sonifications"
   ]
  },
  {
   "cell_type": "code",
   "execution_count": null,
   "id": "05c02b5b-ffef-41e5-8b83-1923eb389dc0",
   "metadata": {},
   "outputs": [],
   "source": [
    "class BufferSynth(Sonecule):\n",
    "    \n",
    "    def __init__(self, data, sr, context=None):\n",
    "        super().__init__(context=context)\n",
    "        if type(self).synth_name not in self.context.synths.buffer_synthdefs:\n",
    "            raise NotImplementedError(\"the selected Context does not offer an {self.synth_name} Synth\")\n",
    "        # self.df = ...\n",
    "        self.buf = self.context.buffers.from_data(data, sr)\n",
    "        self.synth = self.context.synths.from_buffer(self.buf, synth_name=type(self).synth_name)\n",
    "        \n",
    "    def resampling(self, **kwargs):\n",
    "        # data = self.buf ---- .data\n",
    "        # asig = Asig(...)\n",
    "        # self.buf = self.context.buffer.from_asig(asig)\n",
    "        ...\n",
    "        \n",
    "    def schedule(self, at=0):\n",
    "        with self.context.at(time=at):\n",
    "            self.synth.start()\n",
    "    \n",
    "    def start(from_t, to_t): # slicing\n",
    "        ...\n",
    "    "
   ]
  },
  {
   "cell_type": "code",
   "execution_count": null,
   "id": "146a8cf8-0fe1-44c0-b8dd-e41d8207215b",
   "metadata": {},
   "outputs": [],
   "source": [
    "context.enable_realtime();"
   ]
  },
  {
   "cell_type": "code",
   "execution_count": null,
   "id": "cb4413a0-1e4a-4ade-93fe-e1028d40d1a6",
   "metadata": {},
   "outputs": [],
   "source": [
    "%matplotlib qt"
   ]
  },
  {
   "attachments": {},
   "cell_type": "markdown",
   "id": "e1e92160-a4e9-4738-b11d-5b3cfcf88f6d",
   "metadata": {},
   "source": [
    "### Simple Audification"
   ]
  },
  {
   "cell_type": "code",
   "execution_count": null,
   "id": "757ec377-33d6-407f-a109-60a583139a21",
   "metadata": {},
   "outputs": [],
   "source": [
    "print(context.synths.buffer_synthdefs[\"playbuf\"])"
   ]
  },
  {
   "cell_type": "code",
   "execution_count": null,
   "id": "2b137377-a19c-442b-b252-c4aa9b6bb9db",
   "metadata": {},
   "outputs": [],
   "source": [
    "class Audification(BufferSynth):\n",
    "    synth_name = 'playbuf'\n",
    "    "
   ]
  },
  {
   "cell_type": "code",
   "execution_count": null,
   "id": "a163f488-027d-4fbd-b647-7d8362023aa6",
   "metadata": {},
   "outputs": [],
   "source": [
    "audification = Audification(data=eeg_data[:,[0,1]], sr=256)"
   ]
  },
  {
   "cell_type": "code",
   "execution_count": null,
   "id": "0553fb4e-fca3-4993-b4b9-93ad293d0ee7",
   "metadata": {},
   "outputs": [],
   "source": [
    "audification.synth.params"
   ]
  },
  {
   "cell_type": "code",
   "execution_count": null,
   "id": "6786362b-7e52-4fc9-aa78-2f4b5ea1bffe",
   "metadata": {},
   "outputs": [],
   "source": [
    "audification.synth.start(rate=24)"
   ]
  },
  {
   "attachments": {},
   "cell_type": "markdown",
   "id": "f07369e2-a3ba-4245-b884-7126a4417b20",
   "metadata": {
    "tags": []
   },
   "source": [
    "### TimbralSon"
   ]
  },
  {
   "attachments": {},
   "cell_type": "markdown",
   "id": "2e44a2d6-883e-4985-88f8-c6ffc0ea9d6a",
   "metadata": {},
   "source": [
    "* The timbralson uses the channels of the data to modulate the amplitude of a harmonic of the fundamental frequency `f0` for each channel."
   ]
  },
  {
   "cell_type": "code",
   "execution_count": null,
   "id": "a18b48b7-413c-460f-9935-f0c2142125e7",
   "metadata": {},
   "outputs": [],
   "source": [
    "context.synths.buffer_synthdefs[\"timbralson\"]= r\"\"\"\n",
    "        { |bufnum={{BUFNUM}}, f0=90, amp=0.1, rate=1 |\n",
    "            var nch = {{NUM_CHANNELS}};\n",
    "            var sines = SinOsc.ar(nch.collect{|i| f0*rate*(i+1)});\n",
    "            var playbufs = PlayBuf.ar(nch, bufnum, BufRateScale.kr(bufnum)*rate, doneAction: 2 ) ;\n",
    "            Out.ar(0, (sines * playbufs).sum * amp!2 )\n",
    "        }\"\"\""
   ]
  },
  {
   "cell_type": "code",
   "execution_count": null,
   "id": "f2cbd71b-f826-4f83-9a26-d9b5d09cd374",
   "metadata": {},
   "outputs": [],
   "source": [
    "class TimbralSon(BufferSynth):  \n",
    "    synth_name = 'timbralson'\n",
    "\n",
    "# that is possible but the TimbralSon is not really an Audification but also direcly uses\n",
    "# the buffer with the data in a Ugen graph"
   ]
  },
  {
   "cell_type": "code",
   "execution_count": null,
   "id": "01fb9836-d728-4f2a-bf93-85d621dfc13d",
   "metadata": {},
   "outputs": [],
   "source": [
    "timbralson = TimbralSon(eeg_data[14*256:24*256], sr=256)"
   ]
  },
  {
   "cell_type": "code",
   "execution_count": null,
   "id": "f8291e78-5822-47bc-9493-bd3821f4551f",
   "metadata": {},
   "outputs": [],
   "source": [
    "timbralson.synth.params"
   ]
  },
  {
   "cell_type": "code",
   "execution_count": null,
   "id": "f47414aa-25a4-4896-b7e8-a6e5aadbc814",
   "metadata": {},
   "outputs": [],
   "source": [
    "timbralson.synth.start({\"f0\": 90, \"rate\": 0.5})"
   ]
  },
  {
   "attachments": {},
   "cell_type": "markdown",
   "id": "210e5f6a-bb21-47fb-bd20-57f8deb53413",
   "metadata": {},
   "source": [
    "The created Synth will offer the Parameters defined above and we can adapt them while the Synth plays."
   ]
  },
  {
   "cell_type": "code",
   "execution_count": null,
   "id": "10a29767-3342-49e7-9bf5-f9a888ada9aa",
   "metadata": {},
   "outputs": [],
   "source": [
    "timbralson.synth.f0 = 70"
   ]
  },
  {
   "cell_type": "code",
   "execution_count": null,
   "id": "abf6a338-8628-4983-89eb-3dbb3687289b",
   "metadata": {},
   "outputs": [],
   "source": [
    "timbralson.synth.f0 = 100"
   ]
  },
  {
   "cell_type": "code",
   "execution_count": null,
   "id": "8cbb8a3a-c924-49c0-853f-136082ab7a0b",
   "metadata": {},
   "outputs": [],
   "source": [
    "timbralson.synth.rate = 1"
   ]
  },
  {
   "cell_type": "code",
   "execution_count": null,
   "id": "9913b528-6386-4805-aebc-d3ec388e8463",
   "metadata": {},
   "outputs": [],
   "source": [
    "timbralson.synth.stop()"
   ]
  },
  {
   "cell_type": "code",
   "execution_count": null,
   "id": "b7dc0fe1-1b96-4ce5-89f3-6b07fb51999e",
   "metadata": {},
   "outputs": [],
   "source": [
    "ctx.timeline.plot()"
   ]
  },
  {
   "cell_type": "code",
   "execution_count": null,
   "id": "8e219efa",
   "metadata": {},
   "outputs": [],
   "source": [
    "ctx.clo"
   ]
  },
  {
   "attachments": {},
   "cell_type": "markdown",
   "id": "a3bc9df6-d179-43b9-8b09-e6fbf0bdc0b4",
   "metadata": {},
   "source": [
    "## Sonification as Handler/Callback/Setup\n",
    "\n",
    "* MBS \n",
    "* Event-based?\n"
   ]
  },
  {
   "attachments": {},
   "cell_type": "markdown",
   "id": "b069c166-617c-48be-b37e-89318b59e773",
   "metadata": {},
   "source": [
    "### Data Sonogram"
   ]
  },
  {
   "attachments": {},
   "cell_type": "markdown",
   "id": "45e386aa-6cd7-4371-8ce7-1ab1270f34aa",
   "metadata": {},
   "source": [
    "The `DataSonogram` implements a Data Sonogram\n",
    "\n",
    "- The model gets a dataset which is plotted in two dimensions.\n",
    "- When the user clicks into the plot a shock wave (signaled by noise Synth) is created from the nearest data point.\n",
    "\n"
   ]
  },
  {
   "cell_type": "code",
   "execution_count": null,
   "id": "448cce7d-04cf-4d35-9aea-2dc7d96ace73",
   "metadata": {},
   "outputs": [],
   "source": [
    "scn.SynthDef(\"noise\", r\"\"\"\n",
    "{ |out=0, freq=2000, rq=0.02, amp=0.3, dur=1, pos=0 |\n",
    "    Out.ar(out, Pan2.ar(\n",
    "        BPF.ar(WhiteNoise.ar(10), freq, rq) \n",
    "        * Line.kr(1, 0, dur, doneAction: 2).pow(4), pos, amp));\n",
    "}\"\"\").add()"
   ]
  },
  {
   "cell_type": "code",
   "execution_count": null,
   "id": "811a5ed1-919c-45a1-a3f4-4d5ffb35682e",
   "metadata": {},
   "outputs": [],
   "source": [
    "class DataSonogram(Sonecule):\n",
    "\n",
    "    def __init__(self, df, x, y, label, max_duration=1.5, spring_synth=\"s1\", trigger_synth=\"noise\", context=None):\n",
    "        super().__init__(context=context)\n",
    "        \n",
    "        #prepare synths\n",
    "        self.trigger_synth = self.context.synths.create(trigger_synth, mutable=False)  # TODO make sure the synths have metadata\n",
    "        self.spring_synth = self.context.synths.create(spring_synth, mutable=False)\n",
    "        \n",
    "        # save dataframe\n",
    "        self.df = df\n",
    "        self.numeric_df = df.select_dtypes(include=[np.number])\n",
    "        \n",
    "        # check if x and y are valid\n",
    "        allowed_columns = self.numeric_df.columns\n",
    "        assert x in allowed_columns, f\"x must be in {allowed_columns}\"\n",
    "        assert y in allowed_columns, f\"y must be in {allowed_columns}\"\n",
    "\n",
    "        # prepare data for model\n",
    "        self.labels = self.df[label]\n",
    "        self.unique_labels = self.labels.unique()\n",
    "        label2id = {label: idx for idx, label in enumerate(self.unique_labels)}\n",
    "        self.numeric_labels = [label2id[label] for label in self.labels]\n",
    "        self.xy_data = self.numeric_df[[x,y]].values \n",
    "        self.data = self.numeric_df.values\n",
    "\n",
    "        # get the convex hull of the data\n",
    "        hull = ConvexHull(self.data)\n",
    "        hull_data = self.data[hull.vertices,:]\n",
    "        # get distances of the data points in the hull \n",
    "        hull_distances = cdist(hull_data, hull_data, metric='euclidean')\n",
    "        self.max_distance =  hull_distances.max()\n",
    "        \n",
    "        # set model parameter\n",
    "        self.max_duration = max_duration\n",
    "        \n",
    "        # prepare plot\n",
    "        self.fig = plt.figure(figsize=(5,5))\n",
    "        self.ax = plt.subplot(111)\n",
    "\n",
    "        # plot data\n",
    "        sns.scatterplot(x=x, y=y, hue=label, data=df, ax=self.ax)\n",
    "        \n",
    "        # set callback\n",
    "        def onclick(event):\n",
    "            if event.inaxes is None: # outside plot area\n",
    "                return\n",
    "            if event.button != 1: # ignore other than left click \n",
    "                return\n",
    "            click_xy = np.array([event.xdata, event.ydata])\n",
    "            self.create_shockwave(click_xy)\n",
    "        \n",
    "        self.fig.canvas.mpl_connect('button_press_event', onclick)\n",
    "\n",
    "    def create_shockwave(self, click_xy):\n",
    "        self.context.reset()\n",
    "        \n",
    "        with self.context.now() as start_time:\n",
    "            self.trigger_synth.start()\n",
    "        # find the point that is the nearest to the click location\n",
    "        center_idx = np.argmin(np.linalg.norm(self.xy_data - click_xy, axis=1))\n",
    "        center = self.data[center_idx]\n",
    "        # get the distances from the other points to this point\n",
    "        distances_to_center = np.linalg.norm(self.data - center, axis=1)\n",
    "        # get idx sorted by distances\n",
    "        order_of_points = np.argsort(distances_to_center)\n",
    "        # for each point create a sound using the spring synth\n",
    "        for idx in order_of_points:\n",
    "            distance = distances_to_center[idx]\n",
    "            nlabel = self.numeric_labels[idx]\n",
    "            n = len(self.unique_labels)-1\n",
    "            onset = (distance / self.max_distance) * self.max_duration\n",
    "            with self.context.at(start_time + onset):\n",
    "                self.spring_synth.start(\n",
    "                    freq = 2 * (400 + 100 * nlabel),\n",
    "                    amp = scn.dbamp(scn.linlin(distance, 0, self.max_distance, -10, -30)),\n",
    "                    pan = [-1,1][int(self.xy_data[idx, 0]-click_xy[0] > 0)],\n",
    "                    dur = 0.04,\n",
    "                    info = {\"label\": self.labels[idx]},\n",
    "                )"
   ]
  },
  {
   "cell_type": "code",
   "execution_count": null,
   "id": "d5fcf6ee-f19a-4247-b22d-7fe04226c4c4",
   "metadata": {},
   "outputs": [],
   "source": [
    "dsg1 = DataSonogram(penguins_df, x=\"flipper_length_mm\", y=\"body_mass_g\", label=\"species\")"
   ]
  },
  {
   "cell_type": "code",
   "execution_count": null,
   "id": "095ed986",
   "metadata": {},
   "outputs": [],
   "source": []
  }
 ],
 "metadata": {},
 "nbformat": 4,
 "nbformat_minor": 5
}
