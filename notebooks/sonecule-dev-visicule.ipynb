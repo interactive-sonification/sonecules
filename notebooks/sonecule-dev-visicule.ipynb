{
 "cells": [
  {
   "attachments": {},
   "cell_type": "markdown",
   "metadata": {},
   "source": [
    "# Visicule\n"
   ]
  },
  {
   "attachments": {},
   "cell_type": "markdown",
   "metadata": {},
   "source": [
    "## Data Preparation"
   ]
  },
  {
   "cell_type": "code",
   "execution_count": null,
   "metadata": {},
   "outputs": [],
   "source": [
    "%run prepare-data.ipynb"
   ]
  },
  {
   "attachments": {},
   "cell_type": "markdown",
   "metadata": {},
   "source": [
    "## Implementation"
   ]
  },
  {
   "cell_type": "code",
   "execution_count": null,
   "metadata": {},
   "outputs": [],
   "source": [
    "from mesonic.events import Event\n",
    "from mesonic.backend.bases import EventHandler\n",
    "from attrs import define\n",
    "\n",
    "from typing import Callable, Dict, Iterable\n",
    "\n",
    "@define(kw_only=True)\n",
    "class CallableEvent(Event):\n",
    "\n",
    "    callable: Callable\n",
    "    kwargs: Dict\n",
    "    rkwargs: Dict\n",
    "\n",
    "\n",
    "class CallableEventHandler(EventHandler[CallableEvent]):\n",
    "    def handle(\n",
    "        self, time: float, events: Iterable[CallableEvent], reversed: bool, **kwargs\n",
    "    ) -> None:\n",
    "        \"\"\"Handle events with the provided time and state.\n",
    "\n",
    "        Parameters\n",
    "        ----------\n",
    "        time : float\n",
    "            Timestamp provided for the events.\n",
    "        events : Iterable[E]\n",
    "            Events to be handled.\n",
    "        reversed : bool\n",
    "            Whether the events must be reversed or not.\n",
    "\n",
    "        \"\"\"\n",
    "        for event in events:\n",
    "            kwargs = event.kwargs if not reversed else event.rkwargs\n",
    "            event.callable(**kwargs)\n",
    "\n",
    "    def get_etype(self) -> type:\n",
    "        \"\"\"Get the type of Event this handler processes.\n",
    "\n",
    "        Returns\n",
    "        -------\n",
    "        type\n",
    "            type of Event this handler processes.\n",
    "\n",
    "        \"\"\"\n",
    "        return CallableEvent"
   ]
  },
  {
   "cell_type": "code",
   "execution_count": null,
   "metadata": {},
   "outputs": [],
   "source": [
    "import matplotlib.pyplot as plt\n",
    "\n",
    "class UpdateableVline:\n",
    "    def __init__(self, fig, axes, **kwargs):\n",
    "        self.fig = fig\n",
    "        self.axes = axes\n",
    "        self.line = axes.axvline(0, **kwargs)\n",
    "\n",
    "    def update(self, pos):\n",
    "        self.line.set_xdata([pos, pos])\n",
    "        self.fig.canvas.draw()\n",
    "        self.fig.canvas.flush_events()\n",
    "        return (self.line,)"
   ]
  },
  {
   "attachments": {},
   "cell_type": "markdown",
   "metadata": {},
   "source": [
    "## Usage / Demo Snippets"
   ]
  },
  {
   "cell_type": "code",
   "execution_count": null,
   "metadata": {},
   "outputs": [],
   "source": [
    "import sonecules\n",
    "\n",
    "from pya import Asig"
   ]
  },
  {
   "cell_type": "code",
   "execution_count": null,
   "metadata": {},
   "outputs": [],
   "source": [
    "sonecules.startup()\n",
    "context = sonecules.gcc()"
   ]
  },
  {
   "cell_type": "code",
   "execution_count": null,
   "metadata": {},
   "outputs": [],
   "source": [
    "# prepare plot\n",
    "%matplotlib widget\n",
    "\n",
    "fig, axes = plt.subplots(1)\n",
    "asig = Asig(eeg_data, sr=256)[{8:40}, [3,5]]\n",
    "asig.plot(offset=2.1, ax=axes)\n",
    "uvline = UpdateableVline(fig=fig, axes=axes)"
   ]
  },
  {
   "cell_type": "code",
   "execution_count": null,
   "metadata": {},
   "outputs": [],
   "source": [
    "pb.time = 5"
   ]
  },
  {
   "cell_type": "code",
   "execution_count": null,
   "metadata": {},
   "outputs": [],
   "source": [
    "pb.start()"
   ]
  },
  {
   "cell_type": "code",
   "execution_count": null,
   "metadata": {},
   "outputs": [],
   "source": [
    "asig = Asig(eeg_data, sr=256)[{8:40}, [3,5]]"
   ]
  },
  {
   "cell_type": "code",
   "execution_count": null,
   "metadata": {},
   "outputs": [],
   "source": [
    "# add new event handler\n",
    "callable_event_handler = CallableEventHandler()\n",
    "context.processor.add_handler(callable_event_handler)"
   ]
  },
  {
   "cell_type": "code",
   "execution_count": null,
   "metadata": {},
   "outputs": [],
   "source": [
    "context.clear()\n",
    "dur = asig.get_duration()\n",
    "for i in np.arange(0, dur, 1/20):\n",
    "    kwargs = {\"pos\": i}\n",
    "    context.receive_event(CallableEvent(callable=uvline.update, kwargs=kwargs, rkwargs=kwargs), i)"
   ]
  },
  {
   "cell_type": "code",
   "execution_count": null,
   "metadata": {},
   "outputs": [],
   "source": [
    "import numpy as np"
   ]
  },
  {
   "cell_type": "code",
   "execution_count": null,
   "metadata": {},
   "outputs": [],
   "source": [
    "from sonecules.buffersyn import Audification"
   ]
  },
  {
   "cell_type": "code",
   "execution_count": null,
   "metadata": {},
   "outputs": [],
   "source": [
    "audification = Audification(data=eeg_data[:,[0,8]], sr=256)"
   ]
  },
  {
   "cell_type": "code",
   "execution_count": null,
   "metadata": {},
   "outputs": [],
   "source": [
    "pb = sonecules.playback()"
   ]
  },
  {
   "cell_type": "code",
   "execution_count": null,
   "metadata": {},
   "outputs": [],
   "source": [
    "pb"
   ]
  },
  {
   "cell_type": "code",
   "execution_count": null,
   "metadata": {},
   "outputs": [],
   "source": [
    "pb.start(rate=1)"
   ]
  },
  {
   "cell_type": "code",
   "execution_count": null,
   "metadata": {},
   "outputs": [],
   "source": [
    "pb.start(rate=2)"
   ]
  },
  {
   "cell_type": "code",
   "execution_count": null,
   "metadata": {},
   "outputs": [],
   "source": [
    "pb.stop()"
   ]
  },
  {
   "cell_type": "code",
   "execution_count": null,
   "metadata": {},
   "outputs": [],
   "source": [
    "pb"
   ]
  },
  {
   "cell_type": "code",
   "execution_count": null,
   "metadata": {},
   "outputs": [],
   "source": [
    "pb.reverse()"
   ]
  },
  {
   "cell_type": "code",
   "execution_count": null,
   "metadata": {},
   "outputs": [],
   "source": []
  }
 ],
 "metadata": {},
 "nbformat": 4,
 "nbformat_minor": 2
}
