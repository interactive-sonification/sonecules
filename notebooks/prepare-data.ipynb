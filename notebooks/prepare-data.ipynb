{
 "cells": [
  {
   "attachments": {},
   "cell_type": "markdown",
   "metadata": {},
   "source": [
    "## Data Preparation"
   ]
  },
  {
   "cell_type": "code",
   "execution_count": null,
   "metadata": {},
   "outputs": [],
   "source": [
    "import pandas as pd\n",
    "import numpy as np \n",
    "import seaborn as sns\n",
    "\n",
    "eeg_data = np.loadtxt(\"../notebooks/data/epileptic-eeg.csv\", delimiter=\",\")\n",
    "eeg_df = pd.DataFrame(eeg_data)\n",
    "\n",
    "penguins_df = sns.load_dataset(\"penguins\")\n",
    "penguins_df = penguins_df.dropna(subset=[\"bill_length_mm\", \"bill_depth_mm\", \"flipper_length_mm\", \"body_mass_g\", \"sex\"])\n",
    "penguins_df = penguins_df.reset_index(drop=True)\n",
    "\n",
    "seaice_df = sns.load_dataset(\"seaice\")\n",
    "\n",
    "dataframes = {\n",
    "    \"seaice\": seaice_df,\n",
    "    \"penguins\": penguins_df,\n",
    "    \"eeg\": eeg_df\n",
    "}"
   ]
  },
  {
   "cell_type": "code",
   "execution_count": null,
   "metadata": {},
   "outputs": [],
   "source": [
    "# building dataset\n",
    "columns = [ \"monday\", \"tuesday\", \"wednesday\", \"thursday\", \"friday\",\"saturday\", \"sunday\", \n",
    "           \"hour_from_noon\", \"hour\", \"am_pm\", \"temperature\", \"humidity\", \"solar_radiation\", \n",
    "           \"wind_speed\", \"hc_wb_electrical\", \"hc_wb_cold_water\", \"hc_wb_hot_water\"]\n",
    "bld_df = pd.read_csv(\"../notebooks/data/building.csv\", delimiter=\",\", names=columns)"
   ]
  },
  {
   "cell_type": "code",
   "execution_count": null,
   "metadata": {},
   "outputs": [],
   "source": []
  }
 ],
 "metadata": {
  "kernelspec": {
   "display_name": "py310",
   "language": "python",
   "name": "python3"
  },
  "language_info": {
   "codemirror_mode": {
    "name": "ipython",
    "version": 3
   },
   "file_extension": ".py",
   "mimetype": "text/x-python",
   "name": "python",
   "nbconvert_exporter": "python",
   "pygments_lexer": "ipython3",
   "version": "3.10.9"
  }
 },
 "nbformat": 4,
 "nbformat_minor": 2
}
