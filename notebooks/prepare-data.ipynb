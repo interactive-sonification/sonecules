{
 "cells": [
  {
   "cell_type": "markdown",
   "metadata": {},
   "source": [
    "## Data Preparation"
   ]
  },
  {
   "cell_type": "code",
   "execution_count": 1,
   "metadata": {},
   "outputs": [],
   "source": [
    "import pandas as pd\n",
    "import numpy as np \n",
    "import seaborn as sns\n",
    "\n",
    "eeg_data = np.loadtxt(\"../notebooks/data/epileptic-eeg.csv\", delimiter=\",\")\n",
    "eeg_df = pd.DataFrame(eeg_data)\n",
    "\n",
    "penguins_df = sns.load_dataset(\"penguins\")\n",
    "penguins_df = penguins_df.dropna(subset=[\"bill_length_mm\", \"bill_depth_mm\", \"flipper_length_mm\", \"body_mass_g\", \"sex\"])\n",
    "penguins_df = penguins_df.reset_index(drop=True)\n",
    "\n",
    "seaice_df = sns.load_dataset(\"seaice\")\n",
    "\n",
    "dataframes = {\n",
    "    \"seaice\": seaice_df,\n",
    "    \"penguins\": penguins_df,\n",
    "    \"eeg\": eeg_df\n",
    "}"
   ]
  }
 ],
 "metadata": {
  "kernelspec": {
   "display_name": "soni",
   "language": "python",
   "name": "python3"
  },
  "language_info": {
   "codemirror_mode": {
    "name": "ipython",
    "version": 3
   },
   "file_extension": ".py",
   "mimetype": "text/x-python",
   "name": "python",
   "nbconvert_exporter": "python",
   "pygments_lexer": "ipython3",
   "version": "3.10.11"
  },
  "orig_nbformat": 4
 },
 "nbformat": 4,
 "nbformat_minor": 2
}
