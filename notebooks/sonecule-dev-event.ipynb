{
 "cells": [
  {
   "cell_type": "code",
   "execution_count": null,
   "metadata": {},
   "outputs": [],
   "source": [
    "import sonecules"
   ]
  },
  {
   "cell_type": "code",
   "execution_count": null,
   "metadata": {},
   "outputs": [],
   "source": [
    "sonecules.startup()"
   ]
  },
  {
   "cell_type": "markdown",
   "metadata": {},
   "source": [
    "# Sonecule - Event-based Sonification\n",
    "\n",
    "is a sonecule that allows to specify a\n",
    "condition function and a sound to be played when the con-\n",
    "dition is met. Examples for these sounds are Auditory\n",
    "Icons and Earcons which might be selected or parameter-\n",
    "ized based on the condition result on the input data"
   ]
  },
  {
   "cell_type": "markdown",
   "metadata": {},
   "source": [
    "## Data Preparation"
   ]
  },
  {
   "cell_type": "code",
   "execution_count": null,
   "metadata": {},
   "outputs": [],
   "source": [
    "%run prepare-data.ipynb"
   ]
  },
  {
   "cell_type": "markdown",
   "metadata": {},
   "source": [
    "## Implementation"
   ]
  },
  {
   "cell_type": "code",
   "execution_count": null,
   "metadata": {},
   "outputs": [],
   "source": [
    "from pya import Asig\n",
    "from mesonic.synth import Synth\n",
    "\n",
    "from sonecules.base import Sonecule\n",
    "\n",
    "from sonecules.buffersyn import Audification\n",
    "\n"
   ]
  },
  {
   "cell_type": "code",
   "execution_count": null,
   "metadata": {},
   "outputs": [],
   "source": [
    "help(Audification)"
   ]
  },
  {
   "cell_type": "code",
   "execution_count": null,
   "metadata": {},
   "outputs": [],
   "source": [
    "class ConditionalSound(Sonecule):\n",
    "    \n",
    "    def __init__(self, sound_file, context=None):\n",
    "        super().__init__(context=context)\n",
    "        self.asig = Asig(sound_file)\n",
    "        self.audification = Audification(self.asig.sig, self.asig.sr)\n",
    "        \n",
    "    def evaluate(self, df, onset, condition):\n",
    "        for index, row in df.iterrows():\n",
    "            #time = onset[0]\n",
    "            #self.context.at()\n",
    "\n",
    "            print(index)\n",
    "            print(\"\")\n",
    "            print(row)\n",
    "            \n",
    "            break"
   ]
  },
  {
   "cell_type": "code",
   "execution_count": null,
   "metadata": {},
   "outputs": [],
   "source": [
    "for index, row in penguins_df.iterrows():\n",
    "    #time = onset[0]\n",
    "    #self.context.at()\n",
    "\n",
    "    print(index)\n",
    "    print(\"\")\n",
    "    print(row)\n",
    "\n",
    "    break"
   ]
  },
  {
   "cell_type": "code",
   "execution_count": null,
   "metadata": {},
   "outputs": [],
   "source": [
    "row"
   ]
  },
  {
   "cell_type": "code",
   "execution_count": null,
   "metadata": {},
   "outputs": [],
   "source": [
    "row[\"species\"]"
   ]
  },
  {
   "cell_type": "markdown",
   "metadata": {},
   "source": [
    "## Usage / Demo Snippets"
   ]
  },
  {
   "cell_type": "code",
   "execution_count": null,
   "metadata": {},
   "outputs": [],
   "source": [
    "asig = Asig(\"files/ring.wav\")\n",
    "asig.plot()"
   ]
  },
  {
   "cell_type": "code",
   "execution_count": null,
   "metadata": {},
   "outputs": [],
   "source": [
    "cs = ConditionalSound(\"files/ring.wav\")"
   ]
  },
  {
   "cell_type": "code",
   "execution_count": null,
   "metadata": {},
   "outputs": [],
   "source": [
    "onset_col = penguins_df.columns[0]\n"
   ]
  },
  {
   "cell_type": "code",
   "execution_count": null,
   "metadata": {},
   "outputs": [],
   "source": [
    "from sc3nb import linlin"
   ]
  },
  {
   "cell_type": "code",
   "execution_count": null,
   "metadata": {},
   "outputs": [],
   "source": [
    "linlin?"
   ]
  },
  {
   "cell_type": "code",
   "execution_count": null,
   "metadata": {},
   "outputs": [],
   "source": [
    "cs.evaluate(penguins_df, (onset_col, lambda val: linlin(val, 0,1, 0,10)), lambda row: print(row))"
   ]
  },
  {
   "cell_type": "code",
   "execution_count": null,
   "metadata": {},
   "outputs": [],
   "source": []
  }
 ],
 "metadata": {},
 "nbformat": 4,
 "nbformat_minor": 2
}
