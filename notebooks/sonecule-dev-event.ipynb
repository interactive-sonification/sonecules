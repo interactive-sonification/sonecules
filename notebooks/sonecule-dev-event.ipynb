{
 "cells": [
  {
   "cell_type": "code",
   "execution_count": 14,
   "metadata": {},
   "outputs": [],
   "source": [
    "import sonecules"
   ]
  },
  {
   "cell_type": "code",
   "execution_count": 15,
   "metadata": {},
   "outputs": [
    {
     "data": {
      "application/javascript": [
       "if (typeof Jupyter !== 'undefined') {\n",
       "                        Jupyter.keyboard_manager.command_shortcuts.add_shortcut(\n",
       "                        'cmd-.', {\n",
       "                        help : 'Free all nodes on SC server',\n",
       "                        help_index : 'zz',\n",
       "                        handler : function (event) {\n",
       "                            IPython.notebook.kernel.execute(\n",
       "                                \"import sc3nb; sc3nb.SC.get_default().server.free_all(root=True)\"\n",
       "                            )\n",
       "                            return true;}\n",
       "                        });\n",
       "                    }"
      ],
      "text/plain": [
       "<IPython.core.display.Javascript object>"
      ]
     },
     "metadata": {},
     "output_type": "display_data"
    },
    {
     "name": "stderr",
     "output_type": "stream",
     "text": [
      "SC already started\n",
      "sclang already started\n",
      "scsynth already started\n"
     ]
    }
   ],
   "source": [
    "sonecules.startup()"
   ]
  },
  {
   "cell_type": "markdown",
   "metadata": {},
   "source": [
    "# Sonecule - Event-based Sonification\n",
    "\n",
    "is a sonecule that allows to specify a\n",
    "condition function and a sound to be played when the con-\n",
    "dition is met. Examples for these sounds are Auditory\n",
    "Icons and Earcons which might be selected or parameter-\n",
    "ized based on the condition result on the input data"
   ]
  },
  {
   "cell_type": "markdown",
   "metadata": {},
   "source": [
    "## Data Preparation"
   ]
  },
  {
   "cell_type": "code",
   "execution_count": 16,
   "metadata": {},
   "outputs": [],
   "source": [
    "%run prepare-data.ipynb"
   ]
  },
  {
   "cell_type": "markdown",
   "metadata": {},
   "source": [
    "## Implementation"
   ]
  },
  {
   "cell_type": "code",
   "execution_count": 17,
   "metadata": {},
   "outputs": [],
   "source": [
    "from pya import Asig\n",
    "from mesonic.synth import Synth\n",
    "\n",
    "from sonecules.base import Sonecule\n",
    "\n",
    "from sonecules.buffersyn import Audification\n",
    "\n"
   ]
  },
  {
   "cell_type": "code",
   "execution_count": 18,
   "metadata": {},
   "outputs": [
    {
     "name": "stdout",
     "output_type": "stream",
     "text": [
      "Help on class Audification in module sonecules.buffersyn:\n",
      "\n",
      "class Audification(BufferSynth)\n",
      " |  Audification(data, sr, context=None)\n",
      " |  \n",
      " |  Method resolution order:\n",
      " |      Audification\n",
      " |      BufferSynth\n",
      " |      sonecules.base.Sonecule\n",
      " |      builtins.object\n",
      " |  \n",
      " |  Data and other attributes defined here:\n",
      " |  \n",
      " |  __annotations__ = {}\n",
      " |  \n",
      " |  synth_name = 'playbuf'\n",
      " |  \n",
      " |  ----------------------------------------------------------------------\n",
      " |  Methods inherited from BufferSynth:\n",
      " |  \n",
      " |  __init__(self, data, sr, context=None)\n",
      " |      Initialize self.  See help(type(self)) for accurate signature.\n",
      " |  \n",
      " |  resample(self, **kwargs)\n",
      " |      resample to given sampling rate (sr) applying specific resampling rate (rate)\n",
      " |      self.data is assumed to be synchronized with buffer self.buf\n",
      " |  \n",
      " |  schedule(self, at=0, params=None)\n",
      " |  \n",
      " |  ----------------------------------------------------------------------\n",
      " |  Methods inherited from sonecules.base.Sonecule:\n",
      " |  \n",
      " |  reset(self)\n",
      " |      Remove events belonging to this Sonecule from the mesonic Timeline\n",
      " |  \n",
      " |  ----------------------------------------------------------------------\n",
      " |  Readonly properties inherited from sonecules.base.Sonecule:\n",
      " |  \n",
      " |  context\n",
      " |  \n",
      " |  sonecule_id\n",
      " |  \n",
      " |  ----------------------------------------------------------------------\n",
      " |  Data descriptors inherited from sonecules.base.Sonecule:\n",
      " |  \n",
      " |  __dict__\n",
      " |      dictionary for instance variables (if defined)\n",
      " |  \n",
      " |  __weakref__\n",
      " |      list of weak references to the object (if defined)\n",
      " |  \n",
      " |  active\n",
      "\n"
     ]
    }
   ],
   "source": [
    "help(Audification)"
   ]
  },
  {
   "cell_type": "code",
   "execution_count": 23,
   "metadata": {},
   "outputs": [],
   "source": [
    "class ConditionalSound(Sonecule):\n",
    "    \n",
    "    def __init__(self, sound_file, context=None):\n",
    "        super().__init__(context=context)\n",
    "        self.asig = Asig(sound_file)\n",
    "        self.audification = Audification(self.asig.sig, self.asig.sr)\n",
    "        \n",
    "    def evaluate(self, df, onset, condition):\n",
    "        for index, row in df.iterrows():\n",
    "            #time = onset[0]\n",
    "            #self.context.at()\n",
    "\n",
    "            print(index)\n",
    "            print(\"\")\n",
    "            print(row)\n",
    "            \n",
    "            break"
   ]
  },
  {
   "cell_type": "code",
   "execution_count": 35,
   "metadata": {},
   "outputs": [
    {
     "name": "stdout",
     "output_type": "stream",
     "text": [
      "0\n",
      "\n",
      "species                 Adelie\n",
      "island               Torgersen\n",
      "bill_length_mm            39.1\n",
      "bill_depth_mm             18.7\n",
      "flipper_length_mm        181.0\n",
      "body_mass_g             3750.0\n",
      "sex                       Male\n",
      "Name: 0, dtype: object\n"
     ]
    }
   ],
   "source": [
    "for index, row in penguins_df.iterrows():\n",
    "    #time = onset[0]\n",
    "    #self.context.at()\n",
    "\n",
    "    print(index)\n",
    "    print(\"\")\n",
    "    print(row)\n",
    "\n",
    "    break"
   ]
  },
  {
   "cell_type": "code",
   "execution_count": 38,
   "metadata": {},
   "outputs": [
    {
     "data": {
      "text/plain": [
       "species                 Adelie\n",
       "island               Torgersen\n",
       "bill_length_mm            39.1\n",
       "bill_depth_mm             18.7\n",
       "flipper_length_mm        181.0\n",
       "body_mass_g             3750.0\n",
       "sex                       Male\n",
       "Name: 0, dtype: object"
      ]
     },
     "execution_count": 38,
     "metadata": {},
     "output_type": "execute_result"
    }
   ],
   "source": [
    "row"
   ]
  },
  {
   "cell_type": "code",
   "execution_count": 37,
   "metadata": {},
   "outputs": [
    {
     "data": {
      "text/plain": [
       "'Adelie'"
      ]
     },
     "execution_count": 37,
     "metadata": {},
     "output_type": "execute_result"
    }
   ],
   "source": [
    "row[\"species\"]"
   ]
  },
  {
   "cell_type": "markdown",
   "metadata": {},
   "source": [
    "## Usage / Demo Snippets"
   ]
  },
  {
   "cell_type": "code",
   "execution_count": 24,
   "metadata": {},
   "outputs": [
    {
     "data": {
      "text/plain": [
       "Asig('files/ring.wav'): 2 x 44160 @ 44100Hz = 1.001s cn=['0', '1']"
      ]
     },
     "execution_count": 24,
     "metadata": {},
     "output_type": "execute_result"
    },
    {
     "data": {
      "image/png": "[encoded data removed]",
      "text/plain": [
       "<Figure size 640x480 with 1 Axes>"
      ]
     },
     "metadata": {},
     "output_type": "display_data"
    }
   ],
   "source": [
    "asig = Asig(\"files/ring.wav\")\n",
    "asig.plot()"
   ]
  },
  {
   "cell_type": "code",
   "execution_count": 25,
   "metadata": {},
   "outputs": [],
   "source": [
    "cs = ConditionalSound(\"files/ring.wav\")"
   ]
  },
  {
   "cell_type": "code",
   "execution_count": 29,
   "metadata": {},
   "outputs": [],
   "source": [
    "onset_col = penguins_df.columns[0]\n"
   ]
  },
  {
   "cell_type": "code",
   "execution_count": 30,
   "metadata": {},
   "outputs": [],
   "source": [
    "from sc3nb import linlin"
   ]
  },
  {
   "cell_type": "code",
   "execution_count": 31,
   "metadata": {},
   "outputs": [],
   "source": [
    "linlin?"
   ]
  },
  {
   "cell_type": "code",
   "execution_count": 33,
   "metadata": {},
   "outputs": [
    {
     "name": "stdout",
     "output_type": "stream",
     "text": [
      "0\n",
      "\n",
      "species                 Adelie\n",
      "island               Torgersen\n",
      "bill_length_mm            39.1\n",
      "bill_depth_mm             18.7\n",
      "flipper_length_mm        181.0\n",
      "body_mass_g             3750.0\n",
      "sex                       Male\n",
      "Name: 0, dtype: object\n"
     ]
    }
   ],
   "source": [
    "cs.evaluate(penguins_df, (onset_col, lambda val: linlin(val, 0,1, 0,10)), lambda row: print(row))"
   ]
  },
  {
   "cell_type": "code",
   "execution_count": null,
   "metadata": {},
   "outputs": [],
   "source": []
  }
 ],
 "metadata": {
  "kernelspec": {
   "display_name": "Python 3 (ipykernel)",
   "language": "python",
   "name": "python3"
  },
  "language_info": {
   "codemirror_mode": {
    "name": "ipython",
    "version": 3
   },
   "file_extension": ".py",
   "mimetype": "text/x-python",
   "name": "python",
   "nbconvert_exporter": "python",
   "pygments_lexer": "ipython3",
   "version": "3.10.11"
  }
 },
 "nbformat": 4,
 "nbformat_minor": 2
}
