{
 "cells": [
  {
   "cell_type": "code",
   "execution_count": null,
   "metadata": {},
   "outputs": [],
   "source": [
    "%load_ext autoreload\n",
    "%autoreload 2"
   ]
  },
  {
   "attachments": {},
   "cell_type": "markdown",
   "metadata": {},
   "source": [
    "# Sonecule: DiscreteCallbackPMS - DiscretePMS Sonecule using a Callback function for flexible mapping"
   ]
  },
  {
   "cell_type": "markdown",
   "metadata": {},
   "source": [
    "This notebook introduces and demonstrates usage of the `DiscreteCallbackPMS` sonecule.\n",
    "* The sonecule spawns an instance of a synth for each data point in a data set.\n",
    "* The synth offers several parameters that can be set only at init time\n",
    "* Specifically the parameters are:\n",
    "  * amplitude\n",
    "  * frequency\n",
    "  * sharpness\n",
    "  * spatial panning\n",
    "  * attack time\n",
    "  * duration of the event\n",
    "  * release time\n",
    "* Different from the `DiscretePMS`, where the mapping is specified by a mapping specification dictionary that is parsed column by column, this sonecule calls a callback function for each row, providing the row vector as an argument. \n",
    "* this allows highly flexible mappings and even things that are impossible with the non-callback Sonecule, such as suppressing sounds if certain conditions throughout channels apply.\n",
    "* Definition of a callback function is a daunting task for non-programmers. Therefore the sonecule comes with a `create_callback_template` method, that delivers as output a function (string) that can be copied and pasted in a jupyter notebook cell (or your IDE), as starting point for own sonification designs using the given data set and given synth."
   ]
  },
  {
   "attachments": {},
   "cell_type": "markdown",
   "metadata": {},
   "source": [
    "## Data Preparation"
   ]
  },
  {
   "cell_type": "code",
   "execution_count": null,
   "metadata": {},
   "outputs": [],
   "source": [
    "# headers and imports for the demo\n",
    "import sonecules as sn\n",
    "from pya import Asig\n",
    "import pyamapping as pam\n",
    "import matplotlib.pyplot as plt\n",
    "\n",
    "# setup for matplotlib \n",
    "plt.rcParams[\"figure.figsize\"] = (8,3)\n",
    "%matplotlib widget\n",
    "\n",
    "# start sonecules (with default backend sc3nb, aka sc3)\n",
    "sn.startup()\n",
    "ctx = sn.gcc()  # get the context as ctx"
   ]
  },
  {
   "cell_type": "code",
   "execution_count": null,
   "metadata": {},
   "outputs": [],
   "source": [
    "%run ../data/prepare-data.ipynb"
   ]
  },
  {
   "cell_type": "markdown",
   "metadata": {},
   "source": [
    "For this sonecule we work with the building data set for the demonstrations. That is a data set that describes the hourly water and electricity consumption of an office building plus environmental features such as temperature, humidity, wind-speed, time of day, solar radiation. With roughly 4300 rows the data set contains roughly half a year of data."
   ]
  },
  {
   "cell_type": "code",
   "execution_count": null,
   "metadata": {},
   "outputs": [],
   "source": [
    "df = dataframes[\"building\"]\n",
    "df.plot(lw=0.2);"
   ]
  },
  {
   "cell_type": "code",
   "execution_count": null,
   "metadata": {},
   "outputs": [],
   "source": [
    "sns.pairplot(df.iloc[2000:, 10:], height=0.8, plot_kws={\"s\": 3});"
   ]
  },
  {
   "attachments": {},
   "cell_type": "markdown",
   "metadata": {},
   "source": [
    "## Usage / Demo Snippets"
   ]
  },
  {
   "attachments": {},
   "cell_type": "markdown",
   "metadata": {},
   "source": [
    "Let's create a DiscreteCallbackPMS using a callback function for mapping.\n",
    "\n",
    "First we need to import the sonecule"
   ]
  },
  {
   "cell_type": "code",
   "execution_count": null,
   "metadata": {},
   "outputs": [],
   "source": [
    "from sonecules.scoreson import DiscreteCallbackPMS, mapcol"
   ]
  },
  {
   "cell_type": "markdown",
   "metadata": {},
   "source": [
    "The following code cell shows all steps usually used to sonify the data, i.e., \n",
    "- creation of the sonecule\n",
    "- cleaning the time line\n",
    "- defining the callback function (here named `callback_fn`, but any name is fine)\n",
    "- creating the sonification using the sonecules schedule function\n",
    "- starting your sonification using the sonecule start function\n",
    "\n",
    "For the example we start with one week =7*24 hourly measurments of the building data set"
   ]
  },
  {
   "cell_type": "markdown",
   "metadata": {},
   "source": [
    "Note that the callback function receives the following arguments:\n",
    "- r: the row vector from the data set\n",
    "- cmi: the dictionary of all columns' minimum values (useful for the mapcol function)\n",
    "- cma: the dictionary of all columns' maximum values (useful for the mapcol function)\n",
    "- pp: the dictionary containing all parameters as keys and their default values as value\n",
    "  - so if pp entries are not overwritten, the default will be used\n",
    "\n",
    "For mapping any python based code can be used, including if/else statements and computations.\n",
    "- a common case is to map values of a specific feature (e.g. column $k$) to the parameter\n",
    "- to simplify this usecase, we offer the `mapcol(r, column_name, cmi, cma, p1, p2)` function:\n",
    "  - it maps column `column_name` (string or integer)\n",
    "  - from source range [ cmi[column_name], cma[column_name] ] \n",
    "  - to a target range [p1, p2], note that p1 < p2 is not necessary...\n",
    "  - using a linear mapping function without clipping.\n",
    "- Any nonlinear warping can happen as developers see fit, e.g. see mapping for 'amp' below"
   ]
  },
  {
   "cell_type": "code",
   "execution_count": null,
   "metadata": {},
   "outputs": [],
   "source": [
    "# create the sonecule\n",
    "scb = DiscreteCallbackPMS(df.iloc[:7*24, 10:])  # one week, omit the first 6 columns\n",
    "\n",
    "# clear the timeline\n",
    "ctx.timeline.reset()\n",
    "\n",
    "# we use the mapcol helper function which maps the columns data \n",
    "# mapcol(data_row, feature, column_mins, column_maxs, target_min, target_max)\n",
    "\n",
    "# define the callback function as needed/wanted, for example\n",
    "def callback_fn(r, cmi, cma, pp):\n",
    "    pp['onset']     = mapcol(r, 'humidity', cmi, cma, 0, 3)\n",
    "    pp['freq']      = pam.midi_to_cps(mapcol(r, 'temperature', cmi, cma, 58, 82))\n",
    "    pp['amp']       = pam.db_to_amp(mapcol(r, 'solar_radiation', cmi, cma, -40, -20)) \n",
    "    pp['pan']       = mapcol(r, 'hc_wb_electrical', cmi, cma, -1, 1)\n",
    "    return pp # it returns the mapping dictionary\n",
    "\n",
    "# sonify the data using the above callback function\n",
    "scb.schedule(at=0, callback_fn=callback_fn)\n",
    "\n",
    "# start the playback \n",
    "scb.start(rate=1);"
   ]
  },
  {
   "cell_type": "markdown",
   "metadata": {},
   "source": [
    "- play with the definition of the callback_fn and execute again to explore the data\n",
    "- to see available column names use"
   ]
  },
  {
   "cell_type": "code",
   "execution_count": null,
   "metadata": {},
   "outputs": [],
   "source": [
    "scb.data.columns"
   ]
  },
  {
   "cell_type": "markdown",
   "metadata": {},
   "source": [
    "- control the duration and data slice.\n",
    "- Once you want to keep the callback function fixed there is no need to reexecute\n",
    "- Here some other data sonified with the same callback function"
   ]
  },
  {
   "cell_type": "code",
   "execution_count": null,
   "metadata": {},
   "outputs": [],
   "source": [
    "scb = DiscreteCallbackPMS(df.iloc[30*24:60*24, 9:])  # one month (omitting the first 30 days) of data in 3 seconds\n",
    "ctx.timeline.reset()\n",
    "scb.schedule(at=0, callback_fn=callback_fn).start();"
   ]
  },
  {
   "cell_type": "markdown",
   "metadata": {},
   "source": [
    "If wanted we can have a sonification that specifies or uses more parameters of the synth.\n",
    "If you use the default synth (\"dcbpms\"), its parameters are"
   ]
  },
  {
   "cell_type": "code",
   "execution_count": null,
   "metadata": {},
   "outputs": [],
   "source": [
    "scb.syn.params"
   ]
  },
  {
   "cell_type": "markdown",
   "metadata": {},
   "source": [
    "As of now synths do not come with given bounds, but it is useful to design and specify them and later sonecules can pick from a library of curated synth definitions with suitable bounds.\n",
    "Let's define a more complete mapping"
   ]
  },
  {
   "cell_type": "code",
   "execution_count": null,
   "metadata": {},
   "outputs": [],
   "source": [
    "scb = DiscreteCallbackPMS(df.iloc[::2, 9:])  # all data, every 2nd row (>6m) in 15 seconds\n",
    "\n",
    "# here a mapping function that specifies all synth parameters \n",
    "def callback_fn(r, cmi, cma, pp):\n",
    "    pp['onset']     = mapcol(r, 'humidity', cmi, cma, 0, 9)\n",
    "    pp['freq']      = pam.midi_to_cps(mapcol(r, 'temperature', cmi, cma, 58, 82))\n",
    "    pp['amp']       = pam.db_to_amp(mapcol(r, 'solar_radiation', cmi, cma, -30, -10)) \n",
    "    pp['pan']       = mapcol(r, 'hc_wb_electrical', cmi, cma, -1, 1)\n",
    "    pp['sharp']     = mapcol(r, 'solar_radiation', cmi, cma, 1, 12)\n",
    "    pp['vibfreq']   = pam.linlin(r['hc_wb_hot_water'], -0.5, 0.5, 3, 8)\n",
    "    pp['vibir']     = 0.05\n",
    "    pp['dur']       = 0.1\n",
    "    pp['rel']       = pp['dur']\n",
    "    return pp # it returns the mapping dictionary\n",
    "ctx.timeline.reset()\n",
    "scb.schedule(at=0.0, callback_fn=callback_fn).start();"
   ]
  },
  {
   "cell_type": "markdown",
   "metadata": {},
   "source": [
    "- As this is all executed in real-time, you will probably experience limits of your system.\n",
    "- Sonecules will issue late warnings if there are processing-based delays\n",
    "- in such cases, a non-real-time rendering is always an option to compute a guaranteed correct sonification."
   ]
  },
  {
   "cell_type": "code",
   "execution_count": null,
   "metadata": {},
   "outputs": [],
   "source": [
    "# Render the current Timeline as asig\n",
    "asig = ctx.render_asig()"
   ]
  },
  {
   "cell_type": "markdown",
   "metadata": {},
   "source": [
    "The audio has been rendered to a file and then loaded into an pya.Asig, so that \n",
    "it can be plotted, played, etc."
   ]
  },
  {
   "cell_type": "code",
   "execution_count": null,
   "metadata": {},
   "outputs": [],
   "source": [
    "# plot the sonification audio\n",
    "plt.figure()\n",
    "asig[:, :2].plot(lw=0.25, offset=1)  # plot the first two channels"
   ]
  },
  {
   "cell_type": "markdown",
   "metadata": {},
   "source": [
    "To play the asig via pya we first need to start the Aserver.\n",
    "(jump over that in case not needed/wanted here)"
   ]
  },
  {
   "cell_type": "code",
   "execution_count": null,
   "metadata": {},
   "outputs": [],
   "source": [
    "from pya import startup\n",
    "s = startup()"
   ]
  },
  {
   "cell_type": "code",
   "execution_count": null,
   "metadata": {},
   "outputs": [],
   "source": [
    "asig.play()"
   ]
  },
  {
   "cell_type": "code",
   "execution_count": null,
   "metadata": {},
   "outputs": [],
   "source": [
    "ctx.stop()  # execute this in case an error occurs and synths keep on playing"
   ]
  },
  {
   "cell_type": "markdown",
   "metadata": {},
   "source": [
    "Usually users prefer / wish to use their own synths. This can be done as follows:"
   ]
  },
  {
   "cell_type": "code",
   "execution_count": null,
   "metadata": {},
   "outputs": [],
   "source": [
    "# create your synths - this depends on the backend \n",
    "# in this case we use sc3nb and provide a SuperCollider UGen Graph Function for a SynthDef\n",
    "ctx.synths.add_synth_def(\"mysyn\", r\"\"\"{ | out=0, freq=400, dur=0.1, amp=0.5, rq=0.1, pan=0 |\n",
    "    var noise = WhiteNoise.ar(amp);\n",
    "    var filt = BPF.ar(noise, freq, rq);\n",
    "    var env = Line.kr(1, 0, dur, doneAction: 2);\n",
    "    Out.ar(out, Pan2.ar(filt, pan, env));\n",
    "}\"\"\")\n",
    "\n",
    "# create sonecule\n",
    "scb = DiscreteCallbackPMS(df.iloc[::2, 9:], \"mysyn\")  # all data, every 2nd row (>6m) in 15 seconds\n",
    "\n",
    "# here a mapping function that specifies all synth parameters \n",
    "def callback_fn(r, cmi, cma, pp):\n",
    "    pp['onset'] = mapcol(r, 'humidity', cmi, cma, 0, 4)\n",
    "    pp['freq']  = pam.midi_to_cps(mapcol(r, 'temperature', cmi, cma, 58, 82))\n",
    "    pp['amp']   = pam.dbamp(mapcol(r, 'solar_radiation', cmi, cma, -10, 10)) \n",
    "    pp['pan']   = mapcol(r, 'hc_wb_electrical', cmi, cma, -1, 1)\n",
    "    pp['dur']   = 0.1\n",
    "    pp['rq']    = 0.1\n",
    "    return pp # it returns the mapping dictionary\n",
    "\n",
    "ctx.timeline.reset()\n",
    "\n",
    "scb.schedule(at=0.0, callback_fn=callback_fn).start();"
   ]
  },
  {
   "attachments": {},
   "cell_type": "markdown",
   "metadata": {},
   "source": [
    "Now let the sonecule propose a mapping as starting point for own experiments.\n",
    "\n",
    "- Calling `create_callback_template()` \n",
    "- composes and then prints the python code string.\n",
    "- The output can be copied into a notebook cell and adapted as needed.\n",
    "- On execution it defines the callback function cbfn().\n",
    "- The sonification can be rendered as you go until satisfactory."
   ]
  },
  {
   "cell_type": "code",
   "execution_count": null,
   "metadata": {},
   "outputs": [],
   "source": [
    "scb = DiscreteCallbackPMS(df.iloc[:7*24, 8:], \"mysyn\")  # first week but no weekday features\n",
    "fnstr = scb.create_callback_template(auto_assign=True, duration=8)"
   ]
  },
  {
   "cell_type": "markdown",
   "metadata": {},
   "source": [
    "The printout shows python code \n",
    "- that you can simply copy and paste into a new code cell\n",
    "- ATTENTION: note that the code might not be delivering useful sound as such\n",
    "  - for instance: 'onset' may be mapped from a feature in which data don't spread nicely...\n",
    "  - so best is to check the mapping, adjust so that it makes sense \n",
    "- modify the cell as you see fit, e.g. remove rows, or set the right hand side to a constant as preferred\n",
    "- once satisfied, you can execute the function.\n",
    "- Note that the code line with the schedule is commented out: the variable name of the sonecule is assumed to be scb, so this has to be manually adjusted if it's different\n"
   ]
  },
  {
   "cell_type": "code",
   "execution_count": null,
   "metadata": {},
   "outputs": [],
   "source": [
    "def cbfn(r, cmi, cma, pp):\n",
    "    # columns are:'hour' 'am_pm' 'temperature' 'humidity' \n",
    "    # 'solar_radiation' 'wind_speed' 'hc_wb_electrical' 'hc_wb_cold_water' \n",
    "    # 'hc_wb_hot_water' \n",
    "    pp['onset']    \t = mapcol(r, 'temperature', cmi, cma, 0.00, 8.00)\n",
    "    pp['freq']     \t = mapcol(r, 'am_pm', cmi, cma, 300.00, 600.00)\n",
    "    pp['dur']      \t = mapcol(r, 'temperature', cmi, cma, 0.08, 0.15)\n",
    "    pp['amp']      \t = mapcol(r, 'humidity', cmi, cma, 0.38, 0.75)\n",
    "    pp['rq']       \t = mapcol(r, 'solar_radiation', cmi, cma, 0.01, 0.05)\n",
    "    pp['pan']      \t = mapcol(r, 'wind_speed', cmi, cma, 0.00, 0.00)\n",
    "    return pp\n",
    "# create sonification e.g. by using\n",
    "sn.gcc().timeline.reset()\n",
    "scb.schedule(at=0, callback_fn=cbfn).start(rate=1);"
   ]
  },
  {
   "cell_type": "markdown",
   "metadata": {},
   "source": [
    "Let's create another sonification for the mesonic default synth \"s1\""
   ]
  },
  {
   "cell_type": "code",
   "execution_count": null,
   "metadata": {},
   "outputs": [],
   "source": [
    "scb = DiscreteCallbackPMS(df.iloc[:60*24, 10:], \"s1\")  # for 2 months data\n",
    "fnstr = scb.create_callback_template(auto_assign=True, duration=8)"
   ]
  },
  {
   "cell_type": "code",
   "execution_count": null,
   "metadata": {},
   "outputs": [],
   "source": [
    "# this cell just is copied the output of the previous cell for a test...\n",
    "def cbfn(r, cmi, cma, pp):\n",
    "    # columns are:'temperature' 'humidity' 'solar_radiation' 'wind_speed' \n",
    "    # 'hc_wb_electrical' 'hc_wb_cold_water' 'hc_wb_hot_water' \n",
    "    pp['onset']    \t = mapcol(r, 'temperature', cmi, cma, 0.00, 8.00)\n",
    "    pp['freq']     \t = mapcol(r, 'humidity', cmi, cma, 300.00, 600.00)\n",
    "    pp['amp']      \t = mapcol(r, 'solar_radiation', cmi, cma, 0.23, 0.45)\n",
    "    pp['num']      \t = mapcol(r, 'wind_speed', cmi, cma, 3.00, 6.00)\n",
    "    pp['pan']      \t = mapcol(r, 'hc_wb_electrical', cmi, cma, 0.00, 0.00)\n",
    "    pp['dur']      \t = mapcol(r, 'hc_wb_cold_water', cmi, cma, 0.30, 0.60)\n",
    "    pp['att']      \t = mapcol(r, 'temperature', cmi, cma, 0.01, 0.01)\n",
    "    pp['curve']    \t = mapcol(r, 'humidity', cmi, cma, -1.50, -3.00)\n",
    "    return pp\n",
    "# create sonification e.g. by using\n",
    "sn.gcc().timeline.reset()\n",
    "scb.schedule(at=0, callback_fn=cbfn).start(rate=1);"
   ]
  },
  {
   "attachments": {},
   "cell_type": "markdown",
   "metadata": {},
   "source": [
    "And finally here an example of an hand-crafted mapping, from modifying the above code, i.e.\n",
    "- refining the mapping target ranges\n",
    "- applying some useful non-linearities, e.g. mapping pitch to MIDI, then converting to freq\n",
    "- setting some values as constants (here att and curve)\n",
    "- exchaning some features e.g. cold water should control the sharpness (num) and wind speed the panning"
   ]
  },
  {
   "cell_type": "code",
   "execution_count": null,
   "metadata": {},
   "outputs": [],
   "source": [
    "# this cell just is copied the output of the previous cell for a test...\n",
    "def cbfn(r, cmi, cma, pp):\n",
    "    # columns are:'temperature' 'humidity' 'solar_radiation' 'wind_speed' \n",
    "    # 'hc_wb_electrical' 'hc_wb_cold_water' 'hc_wb_hot_water' \n",
    "    pp['onset']    \t = mapcol(r, 'temperature', cmi, cma, 0.00, 5.00)\n",
    "    pitch            = mapcol(r, 'humidity', cmi, cma, 40, 100)\n",
    "    pp['freq']     \t = pam.midi_to_cps(pitch)\n",
    "    pp['amp']      \t = pam.db_to_amp(mapcol(r, 'solar_radiation', cmi, cma, -20, 0))\n",
    "    pp['num']      \t = mapcol(r, 'hc_wb_electrical', cmi, cma, 3, 10)\n",
    "    pp['pan']      \t = mapcol(r, 'wind_speed', cmi, cma, -1, 1)\n",
    "    pp['dur']      \t = mapcol(r, 'hc_wb_cold_water', cmi, cma, 0.05, 0.20)\n",
    "    pp['att']      \t = 0.000\n",
    "    pp['curve']    \t = -2\n",
    "    return pp\n",
    "# create sonification e.g. by using\n",
    "scb.reschedule(at=0, callback_fn=cbfn).start(rate=1);"
   ]
  },
  {
   "cell_type": "code",
   "execution_count": null,
   "metadata": {},
   "outputs": [],
   "source": [
    "ctx.close()  # close the mesonic context, exits backend gracefully"
   ]
  }
 ],
 "metadata": {},
 "nbformat": 4,
 "nbformat_minor": 2
}
