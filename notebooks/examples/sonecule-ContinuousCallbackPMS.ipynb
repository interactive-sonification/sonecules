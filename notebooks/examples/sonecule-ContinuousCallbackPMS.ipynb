{
 "cells": [
  {
   "cell_type": "code",
   "execution_count": null,
   "metadata": {},
   "outputs": [],
   "source": [
    "%load_ext autoreload\n",
    "%autoreload 2"
   ]
  },
  {
   "attachments": {},
   "cell_type": "markdown",
   "metadata": {},
   "source": [
    "# Sonecule: ContinuousCallbackPMS - ContinuousPMS Sonecule using a Callback function for flexible mapping"
   ]
  },
  {
   "cell_type": "markdown",
   "metadata": {},
   "source": [
    "This notebook introduces and demonstrates usage of the ContinuousCallbackPMS sonecule.\n",
    "* The sonecule spawns a synth to be modulated by a data-mapped parameters\n",
    "* The synths can be defined as wished with parameters as needed\n",
    "* The default parameter offers the following parameters:\n",
    "  * amplitude\n",
    "  * frequency\n",
    "  * sharpness\n",
    "  * spatial panning\n",
    "* Different from the ContinuousPMS, where the mapping is specified by a mapping specification dictionary that is parsed column by column, this sonecule calls a callback function for each row, providing the row vector as an argument. \n",
    "* this allows highly flexible mappings and even things that are impossible with the non-callback Sonecule, such as playing a sound that conveys which channel has the highest value.\n",
    "* Definition of a callback function is a daunting task for non-programmers. Therefore the sonecule comes with a create_callback_template method, that delivers a function that can be copied and pasted in a jupyter notebook cell (or your IDE), as starting point for own sonification designs.\n"
   ]
  },
  {
   "attachments": {},
   "cell_type": "markdown",
   "metadata": {},
   "source": [
    "## Data Preparation"
   ]
  },
  {
   "cell_type": "code",
   "execution_count": null,
   "metadata": {},
   "outputs": [],
   "source": [
    "# headers and imports for the demo\n",
    "import sonecules as sn\n",
    "import sc3nb as scn\n",
    "from pya import Asig\n",
    "import pyamapping as pam\n",
    "import matplotlib.pyplot as plt\n",
    "import time\n",
    "\n",
    "# setup for matplotlib \n",
    "plt.rcParams[\"figure.figsize\"] = (8,3)\n",
    "%matplotlib widget\n",
    "\n",
    "# start sonecules (with default backend sc3nb, aka sc3)\n",
    "sn.startup()\n",
    "ctx = sn.gcc()  # get the context as ctx"
   ]
  },
  {
   "cell_type": "code",
   "execution_count": null,
   "metadata": {},
   "outputs": [],
   "source": [
    "%run ../examples/prepare-data.ipynb"
   ]
  },
  {
   "cell_type": "code",
   "execution_count": null,
   "metadata": {},
   "outputs": [],
   "source": [
    "df = dataframes[\"building\"]\n",
    "df.plot(lw=0.2);"
   ]
  },
  {
   "attachments": {},
   "cell_type": "markdown",
   "metadata": {},
   "source": [
    "## Usage / Demo Snippets"
   ]
  },
  {
   "attachments": {},
   "cell_type": "markdown",
   "metadata": {},
   "source": [
    "Let's create a ContinuousCallbackPMS using a callback function for mapping.\n",
    "\n",
    "First we need to import the sonecule"
   ]
  },
  {
   "cell_type": "code",
   "execution_count": null,
   "metadata": {},
   "outputs": [],
   "source": [
    "from sonecules.scoreson import ContinuousCallbackPMS"
   ]
  },
  {
   "cell_type": "markdown",
   "metadata": {},
   "source": [
    "The following cell shows all steps usually used to sonify the data, i.e., \n",
    "- creation of the sonecule\n",
    "- cleaning the time line\n",
    "- defining the callback function (here named callback_fn, but any name is fine)\n",
    "- creating the sonification using the sonecules schedule function\n",
    "- starting your sonification using the sonecule start function\n",
    "\n",
    "For the example we start with one week =7*24 hourly measurments of the building data set"
   ]
  },
  {
   "cell_type": "code",
   "execution_count": null,
   "metadata": {},
   "outputs": [],
   "source": [
    "# create the sonecule\n",
    "scb = ContinuousCallbackPMS(df.iloc[:7*24, 6:])  # one week, omit the first 6 columns\n",
    "\n",
    "# reset the timeline\n",
    "ctx.timeline.reset()\n",
    "\n",
    "# this is just a shortcut to the mapcol function which maps the columns data \n",
    "# mapcol(r, feature, column_mins, column_maxs, target_min, target_max)\n",
    "mapcol = scb.mapcol\n",
    "\n",
    "# define the callback function as needed/wanted\n",
    "def callback_fn(r, cmi, cma, pp):\n",
    "    pp['freq']      = pam.midicps(mapcol(r, 'temperature', cmi, cma, 48, 72))\n",
    "    pp['amp']       = pam.dbamp(mapcol(r, 'humidity', cmi, cma, -20, 0)) \n",
    "    pp['pan']       = mapcol(r, 'hc_wb_electrical', cmi, cma, -1, 1)\n",
    "    pp['numharm']   = mapcol(r, 'solar_radiation', cmi, cma, 1, 12)\n",
    "    pp['vibfreq']   = scn.linlin(r['hc_wb_hot_water'], -0.5, 0.5, 3, 8)\n",
    "    pp['vibintrel'] = 0\n",
    "    return pp # it returns the mapping dictionary\n",
    "\n",
    "# sonify the data using the above callback function\n",
    "scb.schedule(at=0, duration=6, callback_fn=callback_fn)\n",
    "\n",
    "# start the playback \n",
    "scb.start(rate=1)"
   ]
  },
  {
   "cell_type": "markdown",
   "metadata": {},
   "source": [
    "- play with the definition of the callback_fn and execute again to explore the data\n",
    "- control the duration and data slice.\n",
    "- Once you want to keep the callback function fixed there is no need to reexecute\n",
    "- Here some other data sonified with the same callback function"
   ]
  },
  {
   "cell_type": "code",
   "execution_count": null,
   "metadata": {},
   "outputs": [],
   "source": [
    "scb = ContinuousCallbackPMS(df.iloc[30*24:60*24, 7:])  # the second month of data in 10 seconds\n",
    "ctx.timeline.reset()\n",
    "scb.schedule(at=0, duration=10, callback_fn=callback_fn).start()"
   ]
  },
  {
   "cell_type": "code",
   "execution_count": null,
   "metadata": {},
   "outputs": [],
   "source": [
    "scb = ContinuousCallbackPMS(df.iloc[::, 7:])  # all data, every 2nd row (>6m) in 15 seconds\n",
    "ctx.timeline.reset()\n",
    "if ctx.playback.running: \n",
    "    ctx.playback.stop()\n",
    "scb.schedule(at=0, duration=2, callback_fn=callback_fn).start()"
   ]
  },
  {
   "cell_type": "markdown",
   "metadata": {},
   "source": [
    "- As this is all executed in real-time, you will probably experience limits of your system.\n",
    "- Sonecules will issue late warnings if there are processing-based delays\n",
    "- in such cases, a non-real-time rendering is always an option to compute a guaranteed correct sonification. This will be demoed elsewhere. The plan is to integrate this as an option into all sonecules.\n"
   ]
  },
  {
   "cell_type": "code",
   "execution_count": null,
   "metadata": {},
   "outputs": [],
   "source": [
    "ctx.stop()  # execute this in case an error occurs and synths keep on playing"
   ]
  },
  {
   "attachments": {},
   "cell_type": "markdown",
   "metadata": {},
   "source": [
    "Now let the sonecule propose a mapping as starting point for own experiments.\n",
    "\n",
    "- Calling `create_callback_template()` composes \n",
    "- and then prints the python code string.\n",
    "- This output can be copied into a notebook cell and adapted as needed.\n",
    "- On execution it defines the callback function cbfn().\n",
    "- The sonification can be rendered as you go until satisfactory."
   ]
  },
  {
   "cell_type": "code",
   "execution_count": null,
   "metadata": {},
   "outputs": [],
   "source": [
    "scb = ContinuousCallbackPMS(df.iloc[:7*24, 8:])  # first week but no weekday features\n",
    "fnstr = scb.create_callback_template(auto_assign=True)"
   ]
  },
  {
   "cell_type": "markdown",
   "metadata": {},
   "source": [
    "The printout shows python code \n",
    "- that you can simply copy and paste into a new code cell\n",
    "- modify the cell as you see fit, e.g. remove rows, or set the right hand side to a constant as preferred\n",
    "- once satisfied, you can execute the function.\n",
    "- Note that the \n"
   ]
  },
  {
   "cell_type": "code",
   "execution_count": null,
   "metadata": {},
   "outputs": [],
   "source": [
    "def cbfn(r, cmi, cma, pp):\n",
    "    # columns are:'hour' 'am_pm' 'temperature' 'humidity' \n",
    "    # 'solar_radiation' 'wind_speed' 'hc_wb_electrical' 'hc_wb_cold_water' \n",
    "    # 'hc_wb_hot_water' \n",
    "    pp['freq']     \t = mapcol(r, 'hour', cmi, cma, 300.00, 600.00)\n",
    "    pp['amp']      \t = mapcol(r, 'am_pm', cmi, cma, 0.08, 0.15)\n",
    "    pp['vibfreq']  \t = mapcol(r, 'temperature', cmi, cma, 0.00, 0.00)\n",
    "    pp['vibintrel']\t = mapcol(r, 'humidity', cmi, cma, 0.00, 0.00)\n",
    "    pp['numharm']  \t = mapcol(r, 'solar_radiation', cmi, cma, 0.00, 10.00)\n",
    "    pp['pulserate']\t = mapcol(r, 'wind_speed', cmi, cma, 0.00, 0.00)\n",
    "    pp['pint']     \t = mapcol(r, 'hc_wb_electrical', cmi, cma, 0.00, 0.00)\n",
    "    pp['pwid']     \t = mapcol(r, 'hc_wb_cold_water', cmi, cma, 0.75, 1.50)\n",
    "    pp['pan']      \t = mapcol(r, 'hour', cmi, cma, -1.00, 1.00)\n",
    "    return pp\n",
    "# create sonification e.g. by using\n",
    "sn.gcc().timeline.reset()\n",
    "scb.schedule(at=0, duration=5, callback_fn=cbfn).start(rate=1)"
   ]
  },
  {
   "attachments": {},
   "cell_type": "markdown",
   "metadata": {},
   "source": [
    "And finally here is a hand-crafted mapping, from modifying the code"
   ]
  },
  {
   "cell_type": "code",
   "execution_count": null,
   "metadata": {},
   "outputs": [],
   "source": [
    "scb = ContinuousCallbackPMS(df.iloc[14*24:18*24, 8:]) \n",
    "\n",
    "def cbfn(r, cmi, cma, pp):\n",
    "    # columns are:\n",
    "    # 'hour' 'am_pm' 'temperature' 'humidity' \n",
    "    # 'solar_radiation' 'wind_speed' 'hc_wb_electrical' 'hc_wb_cold_water' \n",
    "    # 'hc_wb_hot_water' \n",
    "    # print(r, pp)\n",
    "    pp['freq']\t     = mapcol(r, 'solar_radiation', cmi, cma, 100, 800)\n",
    "    pp['amp']\t     = mapcol(r, 'humidity', cmi, cma, 0, 1)\n",
    "    pp['numharm']\t = mapcol(r, 'am_pm', cmi, cma, 1, 4)\n",
    "    pp['vibintrel']  = 0\n",
    "    pp['pan']\t     = mapcol(r, 'hc_wb_electrical', cmi, cma, -1, 1)\n",
    "    return pp\n",
    "\n",
    "ctx.timeline.reset()\n",
    "scb.schedule(at=1, duration=8, callback_fn=cbfn).start(rate=1)"
   ]
  },
  {
   "cell_type": "code",
   "execution_count": null,
   "metadata": {},
   "outputs": [],
   "source": [
    "ctx.backend.stop(ctx)"
   ]
  }
 ],
 "metadata": {},
 "nbformat": 4,
 "nbformat_minor": 2
}
