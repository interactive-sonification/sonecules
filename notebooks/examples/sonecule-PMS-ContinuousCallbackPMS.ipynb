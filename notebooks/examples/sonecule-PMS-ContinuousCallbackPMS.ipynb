{
 "cells": [
  {
   "cell_type": "code",
   "execution_count": null,
   "metadata": {},
   "outputs": [],
   "source": [
    "%load_ext autoreload\n",
    "%autoreload 2"
   ]
  },
  {
   "attachments": {},
   "cell_type": "markdown",
   "metadata": {},
   "source": [
    "# Sonecule: ContinuousCallbackPMS - ContinuousPMS Sonecule using a Callback function for flexible mapping"
   ]
  },
  {
   "cell_type": "markdown",
   "metadata": {},
   "source": [
    "This notebook introduces and demonstrates usage of the `ContinuousCallbackPMS` sonecule.\n",
    "* The sonecule spawns a synth to be modulated by a data-mapped parameters\n",
    "* The synths can be defined as wished with parameters as needed\n",
    "* The default synth offers the following parameters:\n",
    "  * amplitude\n",
    "  * frequency\n",
    "  * sharpness\n",
    "  * spatial panning\n",
    "* Different from the `ContinuousPMS`, where the mapping is specified by a mapping specification dictionary that is parsed column by column, this sonecule calls a callback function for each row, providing the row vector as an argument. \n",
    "* this allows highly flexible mappings and even things that are impossible with the non-callback Sonecule, such as playing a sound that conveys which channel has the highest value.\n",
    "* Definition of a callback function is a daunting task for non-programmers. Therefore the sonecule comes with a create_callback_template method, that delivers a function that can be copied and pasted in a jupyter notebook cell (or your IDE), as starting point for own sonification designs.\n"
   ]
  },
  {
   "attachments": {},
   "cell_type": "markdown",
   "metadata": {},
   "source": [
    "## Data Preparation"
   ]
  },
  {
   "cell_type": "code",
   "execution_count": null,
   "metadata": {},
   "outputs": [],
   "source": [
    "# headers and imports for the demo\n",
    "import sonecules as sn\n",
    "from pya import Asig\n",
    "import pyamapping as pam\n",
    "import matplotlib.pyplot as plt\n",
    "\n",
    "# setup for matplotlib \n",
    "plt.rcParams[\"figure.figsize\"] = (8,3)\n",
    "%matplotlib widget\n",
    "\n",
    "# start sonecules (with default backend sc3nb, aka sc3)\n",
    "sn.startup()\n",
    "ctx = sn.gcc()  # get the context as ctx"
   ]
  },
  {
   "cell_type": "code",
   "execution_count": null,
   "metadata": {},
   "outputs": [],
   "source": [
    "%run ../data/prepare-data.ipynb"
   ]
  },
  {
   "cell_type": "markdown",
   "metadata": {},
   "source": [
    "For this sonecule we work with the building data set for the demonstrations. That is a data set that describes the hourly water and electricity consumption of an office building plus environmental features such as temperature, humidity, wind-speed, time of day, solar radiation. With roughly 4300 rows the data set contains roughly half a year of data."
   ]
  },
  {
   "cell_type": "code",
   "execution_count": null,
   "metadata": {},
   "outputs": [],
   "source": [
    "df = dataframes[\"building\"]\n",
    "df.plot(lw=0.2);"
   ]
  },
  {
   "attachments": {},
   "cell_type": "markdown",
   "metadata": {},
   "source": [
    "## Usage / Demo Snippets"
   ]
  },
  {
   "attachments": {},
   "cell_type": "markdown",
   "metadata": {},
   "source": [
    "Let's create a ContinuousCallbackPMS using a callback function for mapping.\n",
    "\n",
    "First we need to import the sonecule"
   ]
  },
  {
   "cell_type": "code",
   "execution_count": null,
   "metadata": {},
   "outputs": [],
   "source": [
    "from sonecules.scoreson import ContinuousCallbackPMS, mapcol"
   ]
  },
  {
   "cell_type": "markdown",
   "metadata": {},
   "source": [
    "The following cell shows all steps usually used to sonify the data, i.e., \n",
    "- creation of the sonecule\n",
    "- cleaning the time line\n",
    "- defining the callback function (here named callback_fn, but any name is fine)\n",
    "- creating the sonification using the sonecules schedule function\n",
    "- starting your sonification using the sonecule start function\n",
    "\n",
    "For the example we start with one week =7*24 hourly measurments of the building data set"
   ]
  },
  {
   "cell_type": "markdown",
   "metadata": {},
   "source": [
    "Note that the callback function receives the following arguments:\n",
    "- r: the row vector from the data set\n",
    "- cmi: the dictionary of all columns' minimum values (useful for the mapcol function)\n",
    "- cma: the dictionary of all columns' maximum values (useful for the mapcol function)\n",
    "- pp: the dictionary containing all parameters as keys and their default values as value\n",
    "  - so if pp entries are not overwritten, the default will be used\n",
    "\n",
    "For mapping any python based code can be used, including if/else statements and computations.\n",
    "- a common case is to map values of a specific feature (e.g. column $k$) to the parameter\n",
    "- to simplify this usecase, we offer the `mapcol(r, column_name, cmi, cma, p1, p2)` function:\n",
    "  - it maps column `column_name` (string or integer)\n",
    "  - from source range [ cmi[column_name], cma[column_name] ] \n",
    "  - to a target range [p1, p2], note that p1 < p2 is not necessary...\n",
    "  - using a linear mapping function without clipping.\n",
    "- Any nonlinear warping can happen as developers see fit, e.g. see mapping for 'amp' below\n",
    "\n",
    "- **Please note that at the moment data are assumed to be sorted by time and row index is linearly mapped from 0 to duration. This behavior will probably change in future revisions of the sonecule towards explicit mapping on the virtual 'onset' parameter, same as it is already implemented in DiscreteCallbackPMS**."
   ]
  },
  {
   "cell_type": "code",
   "execution_count": null,
   "metadata": {},
   "outputs": [],
   "source": [
    "# create the sonecule\n",
    "scb = ContinuousCallbackPMS(df.iloc[:7*24, 6:])  # one week, omit the first 6 columns\n",
    "\n",
    "# reset the timeline\n",
    "ctx.timeline.reset()\n",
    "\n",
    "# we use the mapcol helper function which maps the columns data \n",
    "# mapcol(data_row, feature, column_mins, column_maxs, target_min, target_max)\n",
    "\n",
    "# define the callback function as needed/wanted\n",
    "def callback_fn(r, cmi, cma, pp):\n",
    "    pp['freq']      = pam.midi_to_cps(mapcol(r, 'temperature', cmi, cma, 48, 72))\n",
    "    pp['amp']       = pam.db_to_amp(mapcol(r, 'humidity', cmi, cma, -20, 0)) \n",
    "    pp['pan']       = mapcol(r, 'hc_wb_electrical', cmi, cma, -1, 1)\n",
    "    pp['numharm']   = mapcol(r, 'solar_radiation', cmi, cma, 1, 12)\n",
    "    pp['vibfreq']   = pam.linlin(r['hc_wb_hot_water'], -0.5, 0.5, 3, 8)\n",
    "    pp['vibintrel'] = 0\n",
    "    return pp # it returns the mapping dictionary\n",
    "\n",
    "# sonify the data using the above callback function\n",
    "scb.schedule(at=0, duration=6, callback_fn=callback_fn)\n",
    "\n",
    "# start the playback \n",
    "scb.start(rate=1)"
   ]
  },
  {
   "cell_type": "markdown",
   "metadata": {},
   "source": [
    "- play with the definition of the callback_fn and execute again to explore the data\n",
    "- control the duration and data slice.\n",
    "- Once you want to keep the callback function fixed there is no need to reexecute\n",
    "- Here some other data sonified with the same callback function"
   ]
  },
  {
   "cell_type": "code",
   "execution_count": null,
   "metadata": {},
   "outputs": [],
   "source": [
    "ctx.reset()\n",
    "scb = ContinuousCallbackPMS(df.iloc[30*24:60*24, 7:])  # the second month of data in 10 seconds\n",
    "scb.schedule(at=0, duration=10, callback_fn=callback_fn).start()"
   ]
  },
  {
   "cell_type": "code",
   "execution_count": null,
   "metadata": {},
   "outputs": [],
   "source": [
    "ctx.reset()\n",
    "scb = ContinuousCallbackPMS(df.iloc[::, 7:])  # all data, every row in 3.5 seconds\n",
    "scb.schedule(at=0, duration=3.5, callback_fn=callback_fn).start()"
   ]
  },
  {
   "cell_type": "markdown",
   "metadata": {},
   "source": [
    "- As this is all executed in real-time, you will probably experience computation limits of your system.\n",
    "- Sonecules will issue late warnings if there are processing-based delays\n",
    "- in such cases, a non-real-time rendering is always an option to compute a guaranteed correct sonification. Good that it is easy to render the mesonic Context"
   ]
  },
  {
   "cell_type": "code",
   "execution_count": null,
   "metadata": {},
   "outputs": [],
   "source": [
    "asig = ctx.render_asig()  # or ctx.render(\"filename.wav\")\n",
    "asig"
   ]
  },
  {
   "cell_type": "code",
   "execution_count": null,
   "metadata": {},
   "outputs": [],
   "source": [
    "# plot first two audio channels\n",
    "plt.figure()\n",
    "asig[:,:2].plot(offset=1, lw=0.5)"
   ]
  },
  {
   "cell_type": "code",
   "execution_count": null,
   "metadata": {},
   "outputs": [],
   "source": [
    "# to play the asig, we'd have to start the pya.Aserver\n",
    "from pya import startup\n",
    "aserver = startup()"
   ]
  },
  {
   "cell_type": "code",
   "execution_count": null,
   "metadata": {},
   "outputs": [],
   "source": [
    "# now we can play, also with different rates (speeds)\n",
    "asig.play(rate=1, server=aserver)"
   ]
  },
  {
   "cell_type": "markdown",
   "metadata": {},
   "source": [
    "Note that the duration of the Asig matches `timeline.end_time`"
   ]
  },
  {
   "cell_type": "code",
   "execution_count": null,
   "metadata": {},
   "outputs": [],
   "source": [
    "ctx.timeline.end_time"
   ]
  },
  {
   "cell_type": "markdown",
   "metadata": {},
   "source": [
    "...which can be set manually or automatically by using `timeline.end_time_offset`"
   ]
  },
  {
   "cell_type": "code",
   "execution_count": null,
   "metadata": {},
   "outputs": [],
   "source": [
    "print(f\"The last TimeBundle in the Timeline is at {ctx.timeline.last_timestamp}\")\n",
    "print(f\"The offset is {ctx.timeline.end_time_offset}\")\n",
    "print(f\"Therefore timeline.end_time = {ctx.timeline.last_timestamp + ctx.timeline.end_time_offset}\")"
   ]
  },
  {
   "cell_type": "markdown",
   "metadata": {},
   "source": [
    "Let's look at our rendering as asig"
   ]
  },
  {
   "attachments": {},
   "cell_type": "markdown",
   "metadata": {},
   "source": [
    "Now let the sonecule propose a mapping as starting point for own experiments.\n",
    "\n",
    "- Calling `create_callback_template()` composes \n",
    "- and then prints the python code string.\n",
    "- This output can be copied into a notebook cell and adapted as needed.\n",
    "- On execution it defines the callback function cbfn().\n",
    "- The sonification can be rendered as you go until satisfactory."
   ]
  },
  {
   "cell_type": "code",
   "execution_count": null,
   "metadata": {},
   "outputs": [],
   "source": [
    "scb = ContinuousCallbackPMS(df.iloc[:7*24, 8:])  # first week but no weekday features\n",
    "fnstr = scb.create_callback_template(auto_assign=True)"
   ]
  },
  {
   "cell_type": "markdown",
   "metadata": {},
   "source": [
    "The printout shows python code \n",
    "- that you can simply copy and paste into a new code cell\n",
    "- modify the cell as you see fit, e.g. remove rows, or set the right hand side to a constant as preferred\n",
    "- once satisfied, you can execute the function.\n",
    "- Note that the \n"
   ]
  },
  {
   "cell_type": "code",
   "execution_count": null,
   "metadata": {},
   "outputs": [],
   "source": [
    "def cbfn(r, cmi, cma, pp):\n",
    "    # columns are: 'hour' 'am_pm' 'temperature' 'humidity' \n",
    "    # 'solar_radiation' 'wind_speed' 'hc_wb_electrical' 'hc_wb_cold_water' \n",
    "    # 'hc_wb_hot_water' \n",
    "    pp['freq']     \t = mapcol(r, 'hour', cmi, cma, 300.00, 600.00)\n",
    "    pp['amp']      \t = mapcol(r, 'am_pm', cmi, cma, 0.08, 0.15)\n",
    "    pp['vibfreq']  \t = mapcol(r, 'temperature', cmi, cma, 0.00, 0.00)\n",
    "    pp['vibintrel']\t = mapcol(r, 'humidity', cmi, cma, 0.00, 0.00)\n",
    "    pp['numharm']  \t = mapcol(r, 'solar_radiation', cmi, cma, 0.00, 10.00)\n",
    "    pp['pulserate']\t = mapcol(r, 'wind_speed', cmi, cma, 0.00, 0.00)\n",
    "    pp['pint']     \t = mapcol(r, 'hc_wb_electrical', cmi, cma, 0.00, 0.00)\n",
    "    pp['pwid']     \t = mapcol(r, 'hc_wb_cold_water', cmi, cma, 0.75, 1.50)\n",
    "    pp['pan']      \t = mapcol(r, 'hour', cmi, cma, -1.00, 1.00)\n",
    "    return pp\n",
    "# create sonification e.g. by using\n",
    "sn.gcc().timeline.reset()\n",
    "scb.schedule(at=0, duration=5, callback_fn=cbfn).start(rate=1)"
   ]
  },
  {
   "attachments": {},
   "cell_type": "markdown",
   "metadata": {},
   "source": [
    "And finally here is a hand-crafted mapping, from modifying the code"
   ]
  },
  {
   "cell_type": "code",
   "execution_count": null,
   "metadata": {},
   "outputs": [],
   "source": [
    "scb = ContinuousCallbackPMS(df.iloc[14*24:18*24, 8:]) \n",
    "\n",
    "def cbfn(r, cmi, cma, pp):\n",
    "    # columns are:\n",
    "    # 'hour' 'am_pm' 'temperature' 'humidity' \n",
    "    # 'solar_radiation' 'wind_speed' 'hc_wb_electrical' 'hc_wb_cold_water' \n",
    "    # 'hc_wb_hot_water' \n",
    "    # print(r, pp)\n",
    "    pp['freq']\t     = mapcol(r, 'solar_radiation', cmi, cma, 100, 400)\n",
    "    pp['amp']\t     = mapcol(r, 'humidity', cmi, cma, 0, 1)\n",
    "    pp['numharm']\t = mapcol(r, 'am_pm', cmi, cma, 1, 4)\n",
    "    pp['vibintrel']  = 0\n",
    "    pp['pan']\t     = mapcol(r, 'hc_wb_electrical', cmi, cma, -1, 1)\n",
    "    return pp\n",
    "\n",
    "ctx.timeline.reset()\n",
    "scb.schedule(at=1, duration=8, callback_fn=cbfn).start(rate=1)"
   ]
  },
  {
   "cell_type": "code",
   "execution_count": null,
   "metadata": {},
   "outputs": [],
   "source": [
    "ctx.stop()"
   ]
  },
  {
   "cell_type": "code",
   "execution_count": null,
   "metadata": {},
   "outputs": [],
   "source": [
    "# close context only if it is not needed anymore...\n",
    "# ctx.close()"
   ]
  },
  {
   "cell_type": "markdown",
   "metadata": {},
   "source": [
    "## Code Template"
   ]
  },
  {
   "cell_type": "markdown",
   "metadata": {},
   "source": [
    "The following code snippets are intended for copy & paste to your notebooks, to facilitate getting your data sonified\n",
    "using this sonecule."
   ]
  },
  {
   "cell_type": "code",
   "execution_count": null,
   "metadata": {},
   "outputs": [],
   "source": [
    "from sonecules.scoreson import ContinuousCallbackPMS, mapcol"
   ]
  },
  {
   "cell_type": "code",
   "execution_count": null,
   "metadata": {},
   "outputs": [],
   "source": [
    "# load your multi-channel data into an Asig, e.g. \n",
    "data = np.random.random((400, 4))-0.5 # 100 rows with 8 channels, here same fake data\n",
    "data = np.cumsum(data,axis=0)\n",
    "df = pd.DataFrame(data, columns=[\"c1\", \"c2\", \"c3\", \"c4\"])\n",
    "df.plot(subplots=True);\n",
    "df.head()"
   ]
  },
  {
   "cell_type": "markdown",
   "metadata": {},
   "source": [
    "Next (optionally) we could define our synth.\n",
    "The example shows it for the sc3nb backend, for the pya backend this will be simply an Asig generating python function"
   ]
  },
  {
   "cell_type": "code",
   "execution_count": null,
   "metadata": {},
   "outputs": [],
   "source": [
    "ctx.synths.add_synth_def(\"csharpsyn\",\n",
    "    r\"\"\"{ | out=0, freq=400, amp=0.2, vibfreq=0, vibir=0, sharp=0, pan=0 |\n",
    "    var vib = SinOsc.ar(vibfreq, mul: vibir*freq, add: freq);\n",
    "    var sig = HPF.ar(Formant.ar(vib, vib, bwfreq: vib*(sharp+1), mul: amp), 40);\n",
    "    Out.ar(out, Pan2.ar(sig, pan, amp));\n",
    "}\"\"\")"
   ]
  },
  {
   "cell_type": "code",
   "execution_count": null,
   "metadata": {},
   "outputs": [],
   "source": [
    "# load your data / select your data\n",
    "mydf = df\n",
    "\n",
    "# sonecule for your synth with defaults and bounds\n",
    "scb = ContinuousCallbackPMS(mydf, \"csharpsyn\")"
   ]
  },
  {
   "cell_type": "code",
   "execution_count": null,
   "metadata": {},
   "outputs": [],
   "source": [
    "scb.create_callback_template(auto_assign=True)"
   ]
  },
  {
   "cell_type": "markdown",
   "metadata": {},
   "source": [
    "Now copy the output to a new cell (below)\n",
    "- uncomment the last line, make sure the sonecule variable name match that before .schedule\n",
    "- modify your callback function as needed"
   ]
  },
  {
   "cell_type": "code",
   "execution_count": null,
   "metadata": {},
   "outputs": [],
   "source": [
    "def cbfn(r, cmi, cma, pp):\n",
    "    # columns are: 'c1' 'c2' 'c3' 'c4' \n",
    "    pp['freq']     \t = mapcol(r, 'c1', cmi, cma, 300.00, 600.00)\n",
    "    pp['amp']      \t = mapcol(r, 'c2', cmi, cma, 0.15, 0.90)\n",
    "    pp['vibfreq']  \t = mapcol(r, 'c3', cmi, cma, 20.00, 50.00)\n",
    "    pp['vibir']    \t = mapcol(r, 'c4', cmi, cma, 0.00, 0.10)\n",
    "    pp['sharp']    \t = mapcol(r, 'c1', cmi, cma, 0.00, 5.00)\n",
    "    pp['pan']      \t = mapcol(r, 'c2', cmi, cma, -1.00, 1.00)\n",
    "    return pp\n",
    "# create sonification e.g. by using\n",
    "sn.gcc().timeline.reset()\n",
    "scb.schedule(at=0, duration=5, callback_fn=cbfn).start(rate=1)"
   ]
  },
  {
   "cell_type": "code",
   "execution_count": null,
   "metadata": {},
   "outputs": [],
   "source": [
    "ctx.stop()"
   ]
  },
  {
   "cell_type": "code",
   "execution_count": null,
   "metadata": {},
   "outputs": [],
   "source": [
    "ctx.close()"
   ]
  }
 ],
 "metadata": {},
 "nbformat": 4,
 "nbformat_minor": 2
}
