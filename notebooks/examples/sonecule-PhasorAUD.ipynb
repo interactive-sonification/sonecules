{
 "cells": [
  {
   "cell_type": "code",
   "execution_count": null,
   "metadata": {},
   "outputs": [],
   "source": [
    "%load_ext autoreload\n",
    "%autoreload 2"
   ]
  },
  {
   "cell_type": "markdown",
   "metadata": {},
   "source": [
    "# Sonecule: PhasorAUD – A looping interactive Audification of 1D data"
   ]
  },
  {
   "cell_type": "markdown",
   "metadata": {},
   "source": [
    "This notebook introduces and demonstrates usage of the PhasorAUD sonecule.\n",
    "- The sonecule enables a simple Audification of a 1-dimensional data series.\n",
    "- It can be initialized with \n",
    "  - a pya Asig (i.e. audio signal using pya)\n",
    "    - `PhasorAUD(asig, sr=None, channel=0)`\n",
    "  - a pandas DataFrame or Series\n",
    "    - `PhasorAUD.from_df(df, sr=None, time_column=None, data_column=0)`\n",
    "  - a numpy ndarray\n",
    "    - `PhasorAUD.from_np(data, sr, time_column=None)`\n",
    "- Preprocessing such as time stretching, slicing, filtering is offered by specialized functions, either in pya (iirfilter, stretch) or libraries such as scipy.signal - correspondingly processed signals can be passed into Audification modules for audition and interaction.\n",
    "- The current PhasorAUD uses SuperCollider3, controlled via sc3nb, as Backend and therein uses a Phasor and BufRd UGens for audifications that scan the audio around a chosen position respos, which allows  looped playback of a user-selectable data segment in the data buffer.\n",
    "- The synth is mutable, i.e., its parameters can be controlled interactively (code or GUI)\n",
    "  - should enable pause/resume\n",
    "  - with rate control (note: not band-limited!) via parameter rate\n",
    "  - with amplitude control via parameter amp\n",
    "  - with stereo position control via parameter pan\n",
    "  - with relative start and end point control (in %), via parameter relstart and relend\n",
    "  - with reset position control via parameter respos \n",
    "  - with onset (in schedule)"
   ]
  },
  {
   "cell_type": "markdown",
   "metadata": {},
   "source": [
    "Let's get started. First some imports and settings and startup of sonecules"
   ]
  },
  {
   "cell_type": "code",
   "execution_count": null,
   "metadata": {},
   "outputs": [],
   "source": [
    "# headers and imports for the demo\n",
    "import sonecules as sn\n",
    "import sc3nb as scn\n",
    "from pya import Asig\n",
    "import pyamapping as pam\n",
    "import matplotlib.pyplot as plt\n",
    "import time\n",
    "\n",
    "# setup for matplotlib \n",
    "plt.rcParams[\"figure.figsize\"] = (8,3)\n",
    "%matplotlib widget\n",
    "\n",
    "# start sonecules (with default backend sc3nb, aka sc3)\n",
    "sn.startup()\n",
    "ctx = sn.gcc()  # get the context as ctx"
   ]
  },
  {
   "cell_type": "markdown",
   "metadata": {},
   "source": [
    "Load data sets used for the demo"
   ]
  },
  {
   "cell_type": "code",
   "execution_count": null,
   "metadata": {},
   "outputs": [],
   "source": [
    "%run ../examples/prepare-data.ipynb"
   ]
  },
  {
   "cell_type": "code",
   "execution_count": null,
   "metadata": {},
   "outputs": [],
   "source": [
    "df = dataframes['eeg'].loc[:, [1,4,7,10]]\n",
    "df.plot(subplots=True);\n",
    "# df.columns"
   ]
  },
  {
   "cell_type": "markdown",
   "metadata": {},
   "source": [
    "## Usage Demo for the PhasorAUD Sonecule"
   ]
  },
  {
   "cell_type": "code",
   "execution_count": null,
   "metadata": {},
   "outputs": [],
   "source": [
    "from mesonic.synth import Synth\n",
    "from sonecules.buffersyn import PhasorAUD"
   ]
  },
  {
   "cell_type": "markdown",
   "metadata": {},
   "source": [
    "The following code cell shows everything needed \n",
    "- to create the sonecule with data, \n",
    "- to clear the auditory canvas (aka timeline)\n",
    "- to start the playback at a given rate\n",
    "- to plot the timeline."
   ]
  },
  {
   "cell_type": "code",
   "execution_count": null,
   "metadata": {},
   "outputs": [],
   "source": [
    "# create the sonecule from data (e.g. channel 7 of the EEG data set )\n",
    "aud1 = PhasorAUD.from_df(df, sr=256, column=7)\n",
    "\n",
    "# clear the timeline \n",
    "ctx.timeline.reset()\n",
    "\n",
    "# schedule the event (which is just one: to start the synth)\n",
    "aud1.schedule(at=0, rate=5, pan=0, amp=0.5).start()\n",
    "\n",
    "# plot the data (just for fun)\n",
    "df.plot(subplots=True);"
   ]
  },
  {
   "cell_type": "code",
   "execution_count": null,
   "metadata": {},
   "outputs": [],
   "source": [
    "aud1.stop()"
   ]
  },
  {
   "cell_type": "code",
   "execution_count": null,
   "metadata": {},
   "outputs": [],
   "source": [
    "# here a very slow and low-frequency audification\n",
    "aud1.schedule(at=0, rate=2, pan=0, relstart=0.5, relend=0.8,amp=1).start()"
   ]
  },
  {
   "cell_type": "markdown",
   "metadata": {},
   "source": [
    "Now let's change the rate to 50 for faster temporal compression"
   ]
  },
  {
   "cell_type": "code",
   "execution_count": null,
   "metadata": {},
   "outputs": [],
   "source": [
    "aud1.set(rate=50, amp=0.2, pan=0)"
   ]
  },
  {
   "cell_type": "code",
   "execution_count": null,
   "metadata": {},
   "outputs": [],
   "source": [
    "aud1.set(relstart=0.2, relend=0.30)"
   ]
  },
  {
   "cell_type": "markdown",
   "metadata": {},
   "source": [
    "PhasorAUD offers to set the relative start and end position `relstart and relend` in which the phasor cycles.\n",
    "- i.e. once relend is reached it jumps to relstart"
   ]
  },
  {
   "cell_type": "code",
   "execution_count": null,
   "metadata": {},
   "outputs": [],
   "source": [
    "# to start the sonification at a certain position, without looping\n",
    "aud1.schedule(at=0, rate=40, pan=1, relstart=0.3, amp=0.8).start()"
   ]
  },
  {
   "cell_type": "code",
   "execution_count": null,
   "metadata": {},
   "outputs": [],
   "source": [
    "pos = 0\n",
    "wid = 0.1\n",
    "aud1.set(relstart=pos, relend=pos+wid)"
   ]
  },
  {
   "cell_type": "code",
   "execution_count": null,
   "metadata": {},
   "outputs": [],
   "source": [
    "# run this cell a couple of times to step-by-step move forward\n",
    "pos += 0.01; aud1.set(relstart=pos, relend=pos+wid)"
   ]
  },
  {
   "cell_type": "code",
   "execution_count": null,
   "metadata": {},
   "outputs": [],
   "source": [
    "aud1.stop()"
   ]
  },
  {
   "cell_type": "markdown",
   "metadata": {},
   "source": [
    "Now we can easily control the Audification with some sliders\n",
    "* move the startpos slider to skim through the audification\n",
    "* control rate and trigger rate independently"
   ]
  },
  {
   "cell_type": "code",
   "execution_count": null,
   "metadata": {},
   "outputs": [],
   "source": [
    "from ipywidgets import interactive\n",
    "aud1.schedule(at=0, rate=50, pan=0, relstart=0.0, amp=0.8).start() \n",
    "def aud_gui(relstart=0, wid=0.1, rate=50):\n",
    "    aud1.set(relstart=relstart, relend=relstart+wid, rate=rate)\n",
    "interactive(aud_gui, relstart=(0, 1, 0.005), wid=(0,0.5,0.005), rate=(1, 200, 1)) "
   ]
  },
  {
   "cell_type": "code",
   "execution_count": null,
   "metadata": {},
   "outputs": [],
   "source": [
    "# and stop when done\n",
    "aud1.stop()"
   ]
  },
  {
   "cell_type": "code",
   "execution_count": null,
   "metadata": {},
   "outputs": [],
   "source": [
    "ctx.stop()"
   ]
  },
  {
   "cell_type": "markdown",
   "metadata": {},
   "source": [
    "**Signal Conditioning**\n",
    "\n",
    "* BasicAUD and PhasorAUD don't offer filtering or distortion, or multi-channel capabilities.\n",
    "* These, however, are made available in more specialized Sonecules of the AUD family.\n",
    "* However, some signal conditionings are better applied before audition anyway!\n",
    "* Modifications such as applying a time scale modification (aka time stretching, i.e. rescaling the time without modifying the spectrum), is for instance well done in pya using Asig.stretch(factor) as shown here for a selected channel and time interval and stretch factor in a one-liner\n",
    "  \n",
    "        aud1 = PhasorAUD(my_asig[{1.5:5.2},['channelname']].stretch(3.5))\n",
    "* so while Sonecules probably don't do it all, combinations with pandas and pya functions enable swift, and flexible implementations of what is needed."
   ]
  },
  {
   "cell_type": "code",
   "execution_count": null,
   "metadata": {},
   "outputs": [],
   "source": [
    "from pya import startup\n",
    "s = startup()"
   ]
  },
  {
   "cell_type": "code",
   "execution_count": null,
   "metadata": {},
   "outputs": [],
   "source": [
    "Asig(df.loc[:, 7].values, sr=256).stereo().norm(0.5).play(rate=30).stretch(3).play(onset=2, rate=30)"
   ]
  },
  {
   "cell_type": "markdown",
   "metadata": {},
   "source": [
    "## Code Template"
   ]
  },
  {
   "cell_type": "markdown",
   "metadata": {},
   "source": [
    "The following code snippets are intended for copy & paste to your notebooks, to facilitate getting your data sonified\n",
    "using this sonecule.\n",
    "* It is assumed that your data is stored in an Asig dasig"
   ]
  },
  {
   "cell_type": "code",
   "execution_count": null,
   "metadata": {},
   "outputs": [],
   "source": [
    "# create or load your data, e.g.\n",
    "\n",
    "# chaotic series from the logistic equation\n",
    "a, x, xs = 3.5, 0.2, []\n",
    "for i in range(30000): \n",
    "    x = a * x * (1-x); \n",
    "    a += 0.000016\n",
    "    xs.append(x)\n",
    "data = np.array(xs)\n",
    "\n",
    "# or load data\n",
    "# data = pd.read_csv(\"your_csv_file.csv\", delimiter=\",\")\n",
    "# data = pd.read_excel(\"your_excel_file.xlsc\") # see pandas documenation\n",
    "a1 = Asig(data, sr=10000)\n",
    "plt.figure();a1.plot(lw=0.01)\n",
    "a1"
   ]
  },
  {
   "cell_type": "code",
   "execution_count": null,
   "metadata": {},
   "outputs": [],
   "source": [
    "# load your data / select your data\n",
    "myasig = a1\n",
    "\n",
    "# sonecule for your synth with defaults and bounds\n",
    "aud1 = PhasorAUD(a1)\n",
    "\n",
    "# clear the timeline \n",
    "ctx.timeline.reset() \n",
    "\n",
    "# finally start the realtime playback at a given rate\n",
    "aud1.schedule(at=0, rate=0.2, amp=0.2).start()\n",
    "\n",
    "# here some scheduled interactions\n",
    "for t in np.linspace(3,8,40):\n",
    "    with ctx.at(t):\n",
    "        pos = 0.5 + 0.5 * np.sin(2 * np.pi*t*1)\n",
    "        aud1.set(relstart=pos, relend=pos+0.01)\n",
    "aud1.stop(at=8)\n",
    "\n",
    "# if needed: plot the timeline using \n",
    "ctx.timeline.plot()"
   ]
  },
  {
   "cell_type": "code",
   "execution_count": null,
   "metadata": {},
   "outputs": [],
   "source": [
    "ctx.stop()"
   ]
  }
 ],
 "metadata": {},
 "nbformat": 4,
 "nbformat_minor": 2
}
