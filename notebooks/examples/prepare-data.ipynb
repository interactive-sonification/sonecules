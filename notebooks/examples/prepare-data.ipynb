{
 "cells": [
  {
   "attachments": {},
   "cell_type": "markdown",
   "metadata": {},
   "source": [
    "## Data Preparation"
   ]
  },
  {
   "cell_type": "code",
   "execution_count": null,
   "metadata": {},
   "outputs": [],
   "source": [
    "import pandas as pd\n",
    "import numpy as np \n",
    "import seaborn as sns\n",
    "\n",
    "data_path = \"../data\"\n",
    "\n",
    "eeg_data = np.loadtxt(f\"{data_path}/epileptic-eeg.csv\", delimiter=\",\")\n",
    "eeg_df = pd.DataFrame(eeg_data)\n",
    "\n",
    "ecg_data = np.loadtxt(f\"{data_path}/ecg-200Hz-10s-6channels.csv\", delimiter=\" \")\n",
    "ecg_df = pd.DataFrame(ecg_data)\n",
    "\n",
    "penguins_df = sns.load_dataset(\"penguins\")\n",
    "penguins_df = penguins_df.dropna(subset=[\"bill_length_mm\", \"bill_depth_mm\", \"flipper_length_mm\", \"body_mass_g\", \"sex\"])\n",
    "penguins_df = penguins_df.reset_index(drop=True)\n",
    "\n",
    "seaice_df = sns.load_dataset(\"seaice\")\n",
    "\n",
    "# building dataset\n",
    "columns = [ \"monday\", \"tuesday\", \"wednesday\", \"thursday\", \"friday\",\"saturday\", \"sunday\", \n",
    "           \"hour_from_noon\", \"hour\", \"am_pm\", \"temperature\", \"humidity\", \"solar_radiation\", \n",
    "           \"wind_speed\", \"hc_wb_electrical\", \"hc_wb_cold_water\", \"hc_wb_hot_water\"]\n",
    "building_df = pd.read_csv(f\"{data_path}/building.csv\", delimiter=\",\", names=columns)\n",
    "\n",
    "dataframes = {\n",
    "    \"seaice\": seaice_df,\n",
    "    \"penguins\": penguins_df,\n",
    "    \"eeg\": eeg_df,\n",
    "    \"ecg\": ecg_df,\n",
    "    \"building\": building_df\n",
    "}"
   ]
  },
  {
   "cell_type": "code",
   "execution_count": null,
   "metadata": {},
   "outputs": [],
   "source": [
    "# this is a patch for Asig to enable time stretching. It\n",
    "from pya import Asig \n",
    "\n",
    "def stretch_fn(self, stretch=1):\n",
    "    import pytsmod as tsm\n",
    "    return Asig(tsm.wsola(self.sig.T, s=stretch).T, sr=self.sr)\n",
    "\n",
    "Asig.stretch = stretch_fn"
   ]
  },
  {
   "cell_type": "code",
   "execution_count": null,
   "metadata": {},
   "outputs": [],
   "source": []
  }
 ],
 "metadata": {},
 "nbformat": 4,
 "nbformat_minor": 2
}
