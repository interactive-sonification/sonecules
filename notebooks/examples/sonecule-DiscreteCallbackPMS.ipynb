{
 "cells": [
  {
   "cell_type": "code",
   "execution_count": null,
   "metadata": {},
   "outputs": [],
   "source": []
  },
  {
   "attachments": {},
   "cell_type": "markdown",
   "metadata": {},
   "source": [
    "# Sonecule: DiscreteCallbackPMS - DiscretePMS Sonecule using a Callback function for flexible mapping"
   ]
  },
  {
   "cell_type": "markdown",
   "metadata": {},
   "source": [
    "This notebook introduces and demonstrates usage of the DiscreteCallbackPMS sonecule.\n",
    "* The sonecule spawns synth for each data point in a data set.\n",
    "* The synth offers several parameters that can set at init time\n",
    "* Specifically the parameters are:\n",
    "  * amplitude\n",
    "  * frequency\n",
    "  * sharpness\n",
    "  * spatial panning\n",
    "  * attack time\n",
    "  * duration of the event\n",
    "  * release time\n",
    "* Different from the DiscretePMS, where the mapping is specified by a mapping specification dictionary that is parsed column by column, this sonecule calls a callback function for each row, providing the row vector as an argument. \n",
    "* this allows highly flexible mappings and even things that are impossible with the non-callback Sonecule, such as suppressing sounds if certain conditions throughout channels apply.\n",
    "* Definition of a callback function is a daunting task for non-programmers. Therefore the sonecule comes with a create_callback_template method, that delivers a function that can be copied and pasted in a jupyter notebook cell (or your IDE), as starting point for own sonification designs."
   ]
  },
  {
   "attachments": {},
   "cell_type": "markdown",
   "metadata": {},
   "source": [
    "## Data Preparation"
   ]
  },
  {
   "cell_type": "code",
   "execution_count": null,
   "metadata": {},
   "outputs": [],
   "source": [
    "# headers and imports for the demo\n",
    "import sonecules as sn\n",
    "import sc3nb as scn\n",
    "from pya import Asig\n",
    "import pyamapping as pam\n",
    "import matplotlib.pyplot as plt\n",
    "import time\n",
    "\n",
    "# setup for matplotlib \n",
    "plt.rcParams[\"figure.figsize\"] = (8,3)\n",
    "%matplotlib widget\n",
    "\n",
    "# start sonecules (with default backend sc3nb, aka sc3)\n",
    "sn.startup()\n",
    "ctx = sn.gcc()  # get the context as ctx"
   ]
  },
  {
   "cell_type": "code",
   "execution_count": null,
   "metadata": {},
   "outputs": [],
   "source": [
    "%run ../examples/prepare-data.ipynb"
   ]
  },
  {
   "cell_type": "code",
   "execution_count": null,
   "metadata": {},
   "outputs": [],
   "source": [
    "df = dataframes[\"building\"]\n",
    "df.plot(lw=0.2);"
   ]
  },
  {
   "cell_type": "code",
   "execution_count": null,
   "metadata": {},
   "outputs": [],
   "source": [
    "sns.pairplot(df.iloc[2000:, 10:], height=0.8, plot_kws={\"s\": 3});"
   ]
  },
  {
   "attachments": {},
   "cell_type": "markdown",
   "metadata": {},
   "source": [
    "## Usage / Demo Snippets"
   ]
  },
  {
   "attachments": {},
   "cell_type": "markdown",
   "metadata": {},
   "source": [
    "Let's create a ContinuousCallbackPMS using a callback function for mapping.\n",
    "\n",
    "First we need to import the sonecule"
   ]
  },
  {
   "cell_type": "code",
   "execution_count": null,
   "metadata": {},
   "outputs": [],
   "source": [
    "from sonecules.scoresyn import DiscreteCallbackPMS"
   ]
  },
  {
   "cell_type": "markdown",
   "metadata": {},
   "source": [
    "The following cell shows all steps usually used to sonify the data, i.e., \n",
    "- creation of the sonecule\n",
    "- cleaning the time line\n",
    "- defining the callback function (here named callback_fn, but any name is fine)\n",
    "- creating the sonification using the sonecules schedule function\n",
    "- starting your sonification using the sonecule start function\n",
    "\n",
    "For the example we start with one week =7*24 hourly measurments of the building data set"
   ]
  },
  {
   "cell_type": "code",
   "execution_count": null,
   "metadata": {},
   "outputs": [],
   "source": [
    "# create the sonecule\n",
    "scb = DiscreteCallbackPMS(df.iloc[:60*24, 10:])  # one week, omit the first 6 columns\n",
    "\n",
    "# clear the timeline\n",
    "ctx.timeline.reset()\n",
    "\n",
    "# this is just a shortcut to the mapcol function which maps the columns data \n",
    "# mapcol(r, feature, column_mins, column_maxs, target_min, target_max)\n",
    "mapcol = scb.mapcol\n",
    "\n",
    "# define the callback function as needed/wanted, for example\n",
    "def callback_fn(r, cmi, cma, pp):\n",
    "    pp['onset']     = mapcol(r, 'humidity', cmi, cma, 0, 9)\n",
    "    pp['freq']      = pam.midicps(mapcol(r, 'temperature', cmi, cma, 58, 82))\n",
    "    pp['amp']       = pam.dbamp(mapcol(r, 'solar_radiation', cmi, cma, -40, -20)) \n",
    "    pp['pan']       = mapcol(r, 'hc_wb_electrical', cmi, cma, -1, 1)\n",
    "    return pp # it returns the mapping dictionary\n",
    "\n",
    "# sonify the data using the above callback function\n",
    "scb.schedule(at=0, callback_fn=callback_fn)\n",
    "\n",
    "# start the playback \n",
    "scb.start(rate=1);"
   ]
  },
  {
   "cell_type": "markdown",
   "metadata": {},
   "source": [
    "- play with the definition of the callback_fn and execute again to explore the data\n",
    "- to see available column names use"
   ]
  },
  {
   "cell_type": "code",
   "execution_count": null,
   "metadata": {},
   "outputs": [],
   "source": [
    "# to check the sc3 scope:\n",
    "# ctx.backend.sc.lang.cmd(\"s.scope\")"
   ]
  },
  {
   "cell_type": "code",
   "execution_count": null,
   "metadata": {},
   "outputs": [],
   "source": [
    "scb.data.columns"
   ]
  },
  {
   "cell_type": "markdown",
   "metadata": {},
   "source": [
    "- control the duration and data slice.\n",
    "- Once you want to keep the callback function fixed there is no need to reexecute\n",
    "- Here some other data sonified with the same callback function"
   ]
  },
  {
   "cell_type": "code",
   "execution_count": null,
   "metadata": {},
   "outputs": [],
   "source": [
    "scb = DiscreteCallbackPMS(df.iloc[30*24:60*24, 9:])  # the second month of data in 10 seconds\n",
    "ctx.timeline.reset()\n",
    "scb.schedule(at=0, callback_fn=callback_fn).start();"
   ]
  },
  {
   "cell_type": "markdown",
   "metadata": {},
   "source": [
    "If wanted we can have a sonification that specifies or uses more parameters of the synths.\n",
    "If you use the default synth (\"dcbpms\"), its parameters are"
   ]
  },
  {
   "cell_type": "code",
   "execution_count": null,
   "metadata": {},
   "outputs": [],
   "source": [
    "scb.syn.params"
   ]
  },
  {
   "cell_type": "markdown",
   "metadata": {},
   "source": [
    "As of now synths do not come with given bounds, but it is useful to design and specify them and later sonecules can pick from a library of curated synth definitions with suitable bounds.\n",
    "Let's define a more complete mapping"
   ]
  },
  {
   "cell_type": "code",
   "execution_count": null,
   "metadata": {},
   "outputs": [],
   "source": [
    "scb = DiscreteCallbackPMS(df.iloc[::2, 9:])  # all data, every 2nd row (>6m) in 15 seconds\n",
    "\n",
    "# here a mapping function that specifies all synth parameters \n",
    "def callback_fn(r, cmi, cma, pp):\n",
    "    pp['onset']     = mapcol(r, 'humidity', cmi, cma, 0, 9)\n",
    "    pp['freq']      = pam.midicps(mapcol(r, 'temperature', cmi, cma, 58, 82))\n",
    "    pp['amp']       = pam.dbamp(mapcol(r, 'solar_radiation', cmi, cma, -30, 0)) \n",
    "    pp['pan']       = mapcol(r, 'hc_wb_electrical', cmi, cma, -1, 1)\n",
    "    pp['sharp']     = mapcol(r, 'solar_radiation', cmi, cma, 1, 12)\n",
    "    pp['vibfreq']   = scn.linlin(r['hc_wb_hot_water'], -0.5, 0.5, 3, 8)\n",
    "    pp['vibir']     = 0.05\n",
    "    pp['dur']       = 0.1\n",
    "    pp['rel']       = pp['dur']\n",
    "    return pp # it returns the mapping dictionary\n",
    "ctx.timeline.reset()\n",
    "scb.schedule(at=0.5, callback_fn=callback_fn).start();"
   ]
  },
  {
   "cell_type": "markdown",
   "metadata": {},
   "source": [
    "- As this is all executed in real-time, you will probably experience limits of your system.\n",
    "- Sonecules will issue late warnings if there are processing-based delays\n",
    "- in such cases, a non-real-time rendering is always an option to compute a guaranteed correct sonification. This will be demoed elsewhere. The plan is to integrate this as an option into all sonecules.\n"
   ]
  },
  {
   "cell_type": "code",
   "execution_count": null,
   "metadata": {},
   "outputs": [],
   "source": [
    "ctx.stop()  # execute this in case an error occurs and synths keep on playing"
   ]
  },
  {
   "cell_type": "markdown",
   "metadata": {},
   "source": [
    "Now usually users like to use their own developed synth. This can be done as follows:"
   ]
  },
  {
   "cell_type": "code",
   "execution_count": null,
   "metadata": {},
   "outputs": [],
   "source": [
    "# create your synths\n",
    "ctx.synths.add_synth_def(\"mysyn\", r\"\"\"{ | out=0, freq=400, dur=0.1, amp=0.5, rq=0.1, pan=0 |\n",
    "    var noise = WhiteNoise.ar(amp);\n",
    "    var filt = BPF.ar(noise, freq, rq);\n",
    "    var env = Line.kr(1, 0, dur, doneAction: 2);\n",
    "    Out.ar(out, Pan2.ar(filt, pan, env));\n",
    "}\"\"\")\n",
    "\n",
    "# create sonecule\n",
    "scb = DiscreteCallbackPMS(df.iloc[::2, 9:], \"mysyn\")  # all data, every 2nd row (>6m) in 15 seconds\n",
    "\n",
    "# here a mapping function that specifies all synth parameters \n",
    "def callback_fn(r, cmi, cma, pp):\n",
    "    pp['onset']     = mapcol(r, 'humidity', cmi, cma, 0, 4)\n",
    "    pp['freq']      = pam.midicps(mapcol(r, 'temperature', cmi, cma, 58, 82))\n",
    "    pp['amp']       = pam.dbamp(mapcol(r, 'solar_radiation', cmi, cma, -10, 10)) \n",
    "    pp['pan']       = mapcol(r, 'hc_wb_electrical', cmi, cma, -1, 1)\n",
    "    pp['dur']       = 0.1\n",
    "    pp['rq']       = 0.1\n",
    "    return pp # it returns the mapping dictionary\n",
    "\n",
    "ctx.timeline.reset()\n",
    "\n",
    "scb.schedule(at=0.5, callback_fn=callback_fn).start();"
   ]
  },
  {
   "attachments": {},
   "cell_type": "markdown",
   "metadata": {},
   "source": [
    "Now let the sonecule propose a mapping as starting point for own experiments.\n",
    "\n",
    "- Calling `create_callback_template()` \n",
    "- composes and then prints the python code string.\n",
    "- The output can be copied into a notebook cell and adapted as needed.\n",
    "- On execution it defines the callback function cbfn().\n",
    "- The sonification can be rendered as you go until satisfactory."
   ]
  },
  {
   "cell_type": "code",
   "execution_count": null,
   "metadata": {},
   "outputs": [],
   "source": [
    "scb = DiscreteCallbackPMS(df.iloc[:7*24, 8:], \"mysyn\")  # first week but no weekday features\n",
    "fnstr = scb.create_callback_template(auto_assign=True, duration=8)"
   ]
  },
  {
   "cell_type": "markdown",
   "metadata": {},
   "source": [
    "The printout shows python code \n",
    "- that you can simply copy and paste into a new code cell\n",
    "- ATTENTION: note that the code might not be delivering useful sound as such\n",
    "  - for instance: 'amp' has no default bounds, so mapping might be from 0 to 0 - not audible\n",
    "  - for instance: 'onset' may be mapped from a feature in which data don't spread nicely...\n",
    "  - so best is to check the mapping, adjust so that it makes sense \n",
    "- modify the cell as you see fit, e.g. remove rows, or set the right hand side to a constant as preferred\n",
    "- once satisfied, you can execute the function.\n",
    "- Note that the code line with the schedule is commented out: the variable name of the sonecule class can't be guessed, so this has to be manually adjusted\n"
   ]
  },
  {
   "cell_type": "code",
   "execution_count": null,
   "metadata": {},
   "outputs": [],
   "source": [
    "def cbfn(r, cmi, cma, pp):\n",
    "    # columns are:'hour' 'am_pm' 'temperature' 'humidity' \n",
    "    # 'solar_radiation' 'wind_speed' 'hc_wb_electrical' 'hc_wb_cold_water' \n",
    "    # 'hc_wb_hot_water' \n",
    "    pp['onset']    \t = mapcol(r, 'temperature', cmi, cma, 0.00, 8.00)\n",
    "    pp['freq']     \t = mapcol(r, 'am_pm', cmi, cma, 300.00, 600.00)\n",
    "    pp['dur']      \t = mapcol(r, 'temperature', cmi, cma, 0.08, 0.15)\n",
    "    pp['amp']      \t = mapcol(r, 'humidity', cmi, cma, 0.38, 0.75)\n",
    "    pp['rq']       \t = mapcol(r, 'solar_radiation', cmi, cma, 0.01, 0.05)\n",
    "    pp['pan']      \t = mapcol(r, 'wind_speed', cmi, cma, 0.00, 0.00)\n",
    "    return pp\n",
    "# create sonification e.g. by using\n",
    "sn.gcc().timeline.reset()\n",
    "scb.schedule(at=0, callback_fn=cbfn).start(rate=1);"
   ]
  },
  {
   "cell_type": "markdown",
   "metadata": {},
   "source": [
    "Let's create another sonification for the mesonic default synth \"s1\""
   ]
  },
  {
   "cell_type": "code",
   "execution_count": null,
   "metadata": {},
   "outputs": [],
   "source": [
    "scb = DiscreteCallbackPMS(df.iloc[:60*24, 10:], \"s1\")  # for 2 months data\n",
    "fnstr = scb.create_callback_template(auto_assign=True, duration=8)"
   ]
  },
  {
   "cell_type": "code",
   "execution_count": null,
   "metadata": {},
   "outputs": [],
   "source": [
    "# this cell just is copied the output of the previous cell for a test...\n",
    "def cbfn(r, cmi, cma, pp):\n",
    "    # columns are:'temperature' 'humidity' 'solar_radiation' 'wind_speed' \n",
    "    # 'hc_wb_electrical' 'hc_wb_cold_water' 'hc_wb_hot_water' \n",
    "    pp['onset']    \t = mapcol(r, 'temperature', cmi, cma, 0.00, 8.00)\n",
    "    pp['freq']     \t = mapcol(r, 'humidity', cmi, cma, 300.00, 600.00)\n",
    "    pp['amp']      \t = mapcol(r, 'solar_radiation', cmi, cma, 0.23, 0.45)\n",
    "    pp['num']      \t = mapcol(r, 'wind_speed', cmi, cma, 3.00, 6.00)\n",
    "    pp['pan']      \t = mapcol(r, 'hc_wb_electrical', cmi, cma, 0.00, 0.00)\n",
    "    pp['dur']      \t = mapcol(r, 'hc_wb_cold_water', cmi, cma, 0.30, 0.60)\n",
    "    pp['att']      \t = mapcol(r, 'temperature', cmi, cma, 0.01, 0.01)\n",
    "    pp['curve']    \t = mapcol(r, 'humidity', cmi, cma, -1.50, -3.00)\n",
    "    return pp\n",
    "# create sonification e.g. by using\n",
    "sn.gcc().timeline.reset()\n",
    "scb.schedule(at=0, callback_fn=cbfn).start(rate=1);"
   ]
  },
  {
   "attachments": {},
   "cell_type": "markdown",
   "metadata": {},
   "source": [
    "And finally here is a hand-crafted mapping, from modifying the code"
   ]
  },
  {
   "cell_type": "code",
   "execution_count": null,
   "metadata": {},
   "outputs": [],
   "source": [
    "ctx.backend.stop(ctx)"
   ]
  },
  {
   "cell_type": "code",
   "execution_count": null,
   "metadata": {},
   "outputs": [],
   "source": []
  }
 ],
 "metadata": {},
 "nbformat": 4,
 "nbformat_minor": 2
}
