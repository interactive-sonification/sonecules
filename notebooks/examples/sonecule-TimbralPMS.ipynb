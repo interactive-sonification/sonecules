{
 "cells": [
  {
   "cell_type": "code",
   "execution_count": null,
   "metadata": {},
   "outputs": [],
   "source": [
    "%load_ext autoreload\n",
    "%autoreload 2"
   ]
  },
  {
   "cell_type": "markdown",
   "metadata": {},
   "source": [
    "# Sonecule: TimbralPMS – Timbral Parameter Mapping Sonification of multivariate data series"
   ]
  },
  {
   "cell_type": "markdown",
   "metadata": {},
   "source": [
    "This notebook introduces and demonstrates usage of the TimbralPMS sonecule.\n",
    "- The sonecule enables Timbral Sonification, i.e. the sonification of a multivariate data set where each channel controls the amplitude of its own partial of a tone consisting of multiple harmonics.\n",
    "- It can be initialized with \n",
    "  - a pya Asig (i.e. audio signal using pya)\n",
    "    - `TimbralPMS(asig, sr=None, channel=0)`\n",
    "  - a pandas DataFrame or Series\n",
    "    - `TimbralPMS.from_df(df, sr=None, time_column=None, data_column=0)`\n",
    "  - a numpy ndarray\n",
    "    - `TimbralPMS.from_np(data, sr, time_column=None)`\n",
    "- Preprocessing such as time stretching, slicing, filtering is offered by specialized functions, either in pya (iirfilter, stretch) or libraries such as scipy.signal - correspondingly processed signals can be passed into TimbralPMS Sonecules for audition and interaction.\n",
    "- The current TimbralSonification uses SuperCollider3, controlled via sc3nb, as Backend and therein uses a PlayBuf operating on a d-channel Buffer. Different from audification, here the values read from the buffer controls the amplitude of a battery of sine waves.\n",
    "- The synth is mutable, i.e., its parameters can be controlled interactively (via code or GUI)\n",
    "  - should enable pause/resume\n",
    "  - control parameters are\n",
    "    - freq: the fundamental frequency of the sound\n",
    "    - rate: how fast the the Buffer is read\n",
    "    - amp: the amplitude \n",
    "    - pan: the stereo position at which the sound appears in the mix\n",
    "  - with onset (in schedule)"
   ]
  },
  {
   "cell_type": "markdown",
   "metadata": {},
   "source": [
    "Let's get started. First some imports and settings and startup of sonecules"
   ]
  },
  {
   "cell_type": "code",
   "execution_count": null,
   "metadata": {},
   "outputs": [],
   "source": [
    "# headers and imports for the demo\n",
    "import sonecules as sn\n",
    "import sc3nb as scn\n",
    "from pya import Asig\n",
    "import pyamapping as pam\n",
    "import matplotlib.pyplot as plt\n",
    "import time\n",
    "\n",
    "# setup for matplotlib \n",
    "plt.rcParams[\"figure.figsize\"] = (8,3)\n",
    "%matplotlib widget\n",
    "\n",
    "# start sonecules (with default backend sc3nb, aka sc3)\n",
    "sn.startup()\n",
    "ctx = sn.gcc()  # get the context as ctx"
   ]
  },
  {
   "cell_type": "markdown",
   "metadata": {},
   "source": [
    "Load data sets used for the demo"
   ]
  },
  {
   "cell_type": "code",
   "execution_count": null,
   "metadata": {},
   "outputs": [],
   "source": [
    "%run ../examples/prepare-data.ipynb"
   ]
  },
  {
   "cell_type": "code",
   "execution_count": null,
   "metadata": {},
   "outputs": [],
   "source": [
    "df = dataframes['eeg'].loc[:, :]\n",
    "df.plot(subplots=True);"
   ]
  },
  {
   "cell_type": "markdown",
   "metadata": {},
   "source": [
    "## Usage Demo for the TimbralPMS Sonecule"
   ]
  },
  {
   "cell_type": "code",
   "execution_count": null,
   "metadata": {},
   "outputs": [],
   "source": [
    "from mesonic.synth import Synth\n",
    "from sonecules.buffersyn import TimbralPMS"
   ]
  },
  {
   "cell_type": "markdown",
   "metadata": {},
   "source": [
    "The following code cell shows everything needed \n",
    "- to create the sonecule with data, \n",
    "- to clear the auditory canvas (aka timeline)\n",
    "- to start the playback at a given rate\n",
    "- to plot the timeline."
   ]
  },
  {
   "cell_type": "code",
   "execution_count": null,
   "metadata": {},
   "outputs": [],
   "source": [
    "# create the sonecule from data (e.g. channel 7 of the EEG data set )\n",
    "tson = TimbralPMS.from_df(df, sr=256) \n",
    "\n",
    "# clear the timeline \n",
    "ctx.timeline.reset()\n",
    "\n",
    "# schedule the event (which is just one: to start the synth)\n",
    "tson.schedule(at=0, rate=3, freq=60, pan=0, amp=0.1, loop=0).start()\n",
    "\n",
    "# plot the data (just for fun)\n",
    "# df.plot(subplots=True); # plots first channel at top\n",
    "plt.figure(); tson.dasig.plot(offset=1, lw=0.5)"
   ]
  },
  {
   "cell_type": "code",
   "execution_count": null,
   "metadata": {},
   "outputs": [],
   "source": [
    "# let's listen to the onset of the epilepsy in realime\n",
    "tson = TimbralPMS(Asig(df.values, sr=256)[{6.2:10.4},::2]) # use even channels\n",
    "ctx.timeline.reset()\n",
    "tson.schedule(at=0, rate=1, freq=50, startpos=0, trfreq=0, pan=0, amp=0.1, loop=1).start()\n",
    "plt.figure(); tson.dasig.plot(offset=1, lw=0.5)"
   ]
  },
  {
   "cell_type": "code",
   "execution_count": null,
   "metadata": {},
   "outputs": [],
   "source": [
    "# we can set startPos (Attention: in samples, not duration!) and trfreq to make a selection\n",
    "tson.set(trfreq=0.1, rate=0.5, startpos=256*1.8, amp=0.3)"
   ]
  },
  {
   "cell_type": "code",
   "execution_count": null,
   "metadata": {},
   "outputs": [],
   "source": [
    "tson.set(freq=40, rate=0.25)"
   ]
  },
  {
   "cell_type": "code",
   "execution_count": null,
   "metadata": {},
   "outputs": [],
   "source": [
    "# or interact with a GUI\n",
    "from ipywidgets import interactive\n",
    "def xplore(startpos=256):\n",
    "    tson.set(rate=0, startpos=startpos, trfreq=20)\n",
    "interactive(xplore, startpos=(0, 1000, 1))"
   ]
  },
  {
   "cell_type": "code",
   "execution_count": null,
   "metadata": {},
   "outputs": [],
   "source": [
    "tson.stop(); ctx.stop()"
   ]
  },
  {
   "cell_type": "markdown",
   "metadata": {},
   "source": [
    "Next comes a tiny patch that demonstrates how with few lines of code you can probe the timbre.\n",
    "\n",
    "Simply execute the cell and move the mouse pointer along the x-axis in the plot"
   ]
  },
  {
   "cell_type": "code",
   "execution_count": null,
   "metadata": {},
   "outputs": [],
   "source": [
    "# or probe the plot interactively \n",
    "tson = TimbralPMS(Asig(df.values, sr=256)[{6.2:10.4},::]) # use even channels\n",
    "ctx.timeline.reset()\n",
    "tson.schedule(at=0, rate=0, freq=50, startpos=0, trfreq=30, pan=0, amp=0.1, loop=1).start()\n",
    "\n",
    "# and now the GUI\n",
    "fig = plt.figure()\n",
    "ax = tson.dasig.plot(offset=1)\n",
    "def on_motion(event):\n",
    "    try: tson.set(startpos=event.xdata * tson.dasig.sr)\n",
    "    except: pass\n",
    "cid = fig.canvas.mpl_connect('motion_notify_event', on_motion)"
   ]
  },
  {
   "cell_type": "code",
   "execution_count": null,
   "metadata": {},
   "outputs": [],
   "source": [
    "# stop the sonification\n",
    "tson.stop(); ctx.stop()"
   ]
  },
  {
   "cell_type": "markdown",
   "metadata": {},
   "source": [
    "## Code Template"
   ]
  },
  {
   "cell_type": "markdown",
   "metadata": {},
   "source": [
    "The following code snippets are intended for copy & paste to your notebooks, to facilitate getting your data sonified\n",
    "using this sonecule.\n",
    "* It is assumed that your data is stored in an Asig dasig"
   ]
  },
  {
   "cell_type": "code",
   "execution_count": null,
   "metadata": {},
   "outputs": [],
   "source": [
    "# create or load your data\n",
    "a1 = Asig(dataframes['ecg'].values, sr=200)\n",
    "\n",
    "# alternatively \n",
    "# data = pd.read_csv(\"your_csv_file.csv\", delimiter=\",\")\n",
    "# data = pd.read_excel(\"your_excel_file.xlsc\") # see pandas documenation\n",
    "# and a1 = Asig(data)\n",
    "plt.figure();a1.plot(offset=1)"
   ]
  },
  {
   "cell_type": "code",
   "execution_count": null,
   "metadata": {},
   "outputs": [],
   "source": [
    "# load your data / select your data\n",
    "myasig = Asig(dataframes['ecg'].values, sr=200)\n",
    "\n",
    "# any preprocessing here: e.g. if we want warped data \n",
    "myasig.sig = np.abs(a1.sig)**0.5\n",
    "\n",
    "# sonecule for your synth with defaults and bounds\n",
    "tson = TimbralPMS(myasig)\n",
    "\n",
    "# clear the timeline \n",
    "ctx.timeline.reset() \n",
    "\n",
    "# finally start the realtime playback at a given rate\n",
    "tson.schedule(at=0, rate=0.5, amp=0.4, freq=100).start();"
   ]
  },
  {
   "cell_type": "code",
   "execution_count": null,
   "metadata": {},
   "outputs": [],
   "source": [
    "tson.stop()"
   ]
  },
  {
   "cell_type": "code",
   "execution_count": null,
   "metadata": {},
   "outputs": [],
   "source": []
  }
 ],
 "metadata": {},
 "nbformat": 4,
 "nbformat_minor": 2
}
