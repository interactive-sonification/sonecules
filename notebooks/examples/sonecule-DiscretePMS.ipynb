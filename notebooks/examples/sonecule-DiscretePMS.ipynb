{
 "cells": [
  {
   "cell_type": "code",
   "execution_count": null,
   "metadata": {},
   "outputs": [],
   "source": [
    "%load_ext autoreload\n",
    "%autoreload 2"
   ]
  },
  {
   "cell_type": "markdown",
   "metadata": {},
   "source": [
    "# Sonecule: DiscretePMS – Discrete Parameter-Mapping Sonification"
   ]
  },
  {
   "cell_type": "markdown",
   "metadata": {},
   "source": [
    "This notebook introduces and demonstrates usage of the DiscretePMS sonecule.\n",
    "* The sonecule spawns synth for each data point in a data set\n",
    "* The synth offers several parameters that can set at init time\n",
    "* Specifically the parameters are:\n",
    "  * amplitude\n",
    "  * frequency\n",
    "  * sharpness\n",
    "  * spatial panning\n",
    "  * attack time\n",
    "  * duration of the event\n",
    "  * release time\n",
    "* In many custom situations, a custom synth will be created and passed on for individual sonifications, replacing the default.\n",
    "* The mapping specifies how data channels shall control the individual parameters"
   ]
  },
  {
   "cell_type": "code",
   "execution_count": null,
   "metadata": {},
   "outputs": [],
   "source": [
    "# headers and imports for the demo\n",
    "import sonecules as sn\n",
    "import sc3nb as scn\n",
    "from pya import Asig\n",
    "import pyamapping as pam\n",
    "import matplotlib.pyplot as plt\n",
    "import time\n",
    "\n",
    "# setup for matplotlib \n",
    "plt.rcParams[\"figure.figsize\"] = (8,3)\n",
    "%matplotlib widget\n",
    "\n",
    "# start sonecules (with default backend sc3nb, aka sc3)\n",
    "sn.startup()\n",
    "ctx = sn.gcc()  # get the context as ctx"
   ]
  },
  {
   "cell_type": "markdown",
   "metadata": {},
   "source": [
    "Load data sets used for the demo"
   ]
  },
  {
   "cell_type": "code",
   "execution_count": null,
   "metadata": {},
   "outputs": [],
   "source": [
    "%run ../examples/prepare-data.ipynb"
   ]
  },
  {
   "cell_type": "code",
   "execution_count": null,
   "metadata": {},
   "outputs": [],
   "source": [
    "sns.pairplot(data=penguins_df, hue=\"species\", height=1.2);"
   ]
  },
  {
   "cell_type": "code",
   "execution_count": null,
   "metadata": {},
   "outputs": [],
   "source": [
    "df = dataframes['penguins']\n",
    "df.columns"
   ]
  },
  {
   "cell_type": "markdown",
   "metadata": {},
   "source": [
    "## Usage Demo for the DiscretePMS Sonecule"
   ]
  },
  {
   "cell_type": "code",
   "execution_count": null,
   "metadata": {},
   "outputs": [],
   "source": [
    "from mesonic.synth import Synth\n",
    "from sonecules.scoreson import DiscretePMS, pms"
   ]
  },
  {
   "cell_type": "markdown",
   "metadata": {},
   "source": [
    "The following code cell shows everything needed \n",
    "- to create the sonecule with data, \n",
    "- to clear the auditory canvas (aka timeline)\n",
    "- to start the playback at a given rate\n",
    "- to plot the timeline."
   ]
  },
  {
   "cell_type": "markdown",
   "metadata": {},
   "source": [
    "Usually we want to use a specific synths which we would define using the backend.\n",
    "- We can create it using `context.synths.add_synth_def`, which in this case creates the defines the synth for the default backend (sc3nb)\n",
    "- The synth definition process is currently in active development and will improve in the future.  \n",
    "- However our ultimate goal is that sonecules will already offer a well curated library of pre-packaged synths, so that it is rarely necessary to craft your own.\n",
    "\n",
    "The default synth (if none is provided is \"cpmssyn\", a 'continuous synth for PMSon'). \n",
    "- It is a pitched tone with added vibrato \n",
    "- It offers the continuous controls:\n",
    "\n",
    "| parameter | range      | meaning                                         |\n",
    "| --------- | ---------- | ----------------------------------------------- |\n",
    "| freq      | [20,0.5sr] | frequency [Hz]                                  |\n",
    "| amp       | [0, 1]     | amplitude                                       |\n",
    "| sharp     | [0, 10]    | sharpness, the higher the more sharp the sound  |\n",
    "| pan       | [-1, 1]    | spatial panning from left to right              |\n",
    "| dur       | [0,...]    | duration in seconds                             |\n",
    "| att       | [0,...]    | attack time (<dur)                              |\n",
    "| rel       | [0,...]    | release time (<dur)                             |\n",
    "| vibfreq   | [0,...]    | vibrato frequency [Hz]                          |\n",
    "| vibir     | [0,...]    | relative vibrato intensity (dfreq = vibir*freq) |\n",
    "\n",
    "As currently no default synths are implemented we have to do the work ourselves"
   ]
  },
  {
   "cell_type": "code",
   "execution_count": null,
   "metadata": {},
   "outputs": [],
   "source": [
    "ctx.synths.add_synth_def(\"syndpms\", \n",
    "\"\"\"{ | out=0, freq=400, dur=0.4, att=0.001, rel=0.5, amp=0.1, vibfreq=0, vibir=0, sharp=0, pan=0 | \n",
    "    var vib = SinOsc.ar(vibfreq, mul: vibir*freq, add: freq);\n",
    "    var sig = HPF.ar(Formant.ar(vib, vib, bwfreq: vib*(sharp+1), mul: amp), 40);\n",
    "    var env = EnvGen.kr(Env.new([0,1,1,0], [att, dur-att-rel, rel]), doneAction:2);\n",
    "    Out.ar(out, Pan2.ar(sig, pan, env));\n",
    "}\"\"\")"
   ]
  },
  {
   "cell_type": "code",
   "execution_count": null,
   "metadata": {},
   "outputs": [],
   "source": [
    "synth = ctx.synths.create(\"syndpms\", mutable=False)"
   ]
  },
  {
   "cell_type": "code",
   "execution_count": null,
   "metadata": {},
   "outputs": [],
   "source": [
    "with ctx.test():  # demo for the syndpms, change the params and execute again\n",
    "    for i in range(3):\n",
    "        with ctx.at(i/10) as timepoint:\n",
    "            synth.start(freq=280 + 100 * i, dur=i/3, amp=0.1, att=0, rel=0.1, sharp=5, vibfreq=5, vibir=0.02, pan=0)"
   ]
  },
  {
   "cell_type": "code",
   "execution_count": null,
   "metadata": {},
   "outputs": [],
   "source": [
    "ctx.reset()  # clear the timeline after the test"
   ]
  },
  {
   "cell_type": "markdown",
   "metadata": {},
   "source": [
    "The next cell shows all steps in specifying the mapping in one go"
   ]
  },
  {
   "cell_type": "code",
   "execution_count": null,
   "metadata": {},
   "outputs": [],
   "source": [
    "df.columns"
   ]
  },
  {
   "cell_type": "markdown",
   "metadata": {},
   "source": [
    "The mapping is just a dictionary where \n",
    "- keys are the parameters, and \n",
    "- values is either **a number** (for a constant) or **a dictionary** with some mandatory and some optional keys:\n",
    "    - \"col\": column/feature of the dataset to be used \n",
    "    - \"fn\": mapping function(values, xr, yr), but strings such as \"lin\", \"exp\", \"log\"\n",
    "        are allowed as shortcut\n",
    "    - \"yr\": the target range for the parameter (implied from synths bounds if omitted)\n",
    "    - \"xr\": the source range (which is implied from the data if omitted)\n",
    "see documenation for further mapping flags\n"
   ]
  },
  {
   "cell_type": "code",
   "execution_count": null,
   "metadata": {},
   "outputs": [],
   "source": [
    "# create a sonecule, initialized with the synth to be used\n",
    "# second argument can provide defaults and bounds for parameters\n",
    "sndpms = DiscretePMS(\"syndpms\")\n",
    "\n",
    "# the most flexible and raw definition as dictionary\n",
    "test_mapping = {\n",
    "    \"onset\" : {\"col\": \"bill_length_mm\",    \"fn\": \"lin\", \"yr\": [0,8]},\n",
    "    \"freq\"  : {\"col\": \"flipper_length_mm\", \"fn\": \"exp\", \"yr\": [pam.midi_to_cps(40), pam.midi_to_cps(110)]},\n",
    "    \"sharp\" : {\"col\": \"body_mass_g\",       \"fn\": \"lin\", \"yr\": [1, 4]},\n",
    "    \"pan\" : 0, \n",
    "    \"att\" : 0, \n",
    "    \"dur\" : 0.25, \n",
    "    \"rel\" : 0.15, \n",
    "    \"amp\" : 0.1,\n",
    "}\n",
    "\n",
    "# render the sonification into the timeline\n",
    "sndpms.reschedule(df=df, mapping=test_mapping)\n",
    "\n",
    "# start the realtime playback at a given rate\n",
    "sndpms.start(rate=1)"
   ]
  },
  {
   "cell_type": "markdown",
   "metadata": {},
   "source": [
    "Usually this can be done in a more condensed way, by\n",
    "- omitting the defaults and bounds (later synths will come with good such values anyway)\n",
    "- using the `(column, mapping_function, yr)` tuple instead of a value dict \n",
    "  - e.g. `['flipper_length_mm', 'exp', [440, 880]]`\n",
    "- using the dict() function for the outer dict, which allows to write a dict as function kwargs\n",
    "- using the **parameter mapping specification** function `pms()` for the inner (d.h. value) dicts,\n",
    "- starting the sonification by daisy-chaining of the start() method\n",
    "- by removing the constructor for subsequent calls, i.e. reusing the sonecule sndpms so that only `sndpms.schedule().start()` is called"
   ]
  },
  {
   "cell_type": "markdown",
   "metadata": {},
   "source": [
    "We apply most of these tipps, but for the mapping only condense by using the value tuple "
   ]
  },
  {
   "cell_type": "code",
   "execution_count": null,
   "metadata": {},
   "outputs": [],
   "source": [
    "sndpms.reschedule(df=df, mapping={\n",
    "    \"onset\" : (\"bill_length_mm\",    \"lin\", [0, 2]),\n",
    "    \"freq\"  : (\"flipper_length_mm\", \"exp\", [pam.midi_to_cps(40), pam.midi_to_cps(110)]),\n",
    "    \"sharp\" : (\"body_mass_g\",       \"lin\", [1, 4]),\n",
    "    \"pan\" : 0, \"att\" : 0, \"dur\" : 0.25, \"rel\" : 0.15, \"amp\" : 0.1,\n",
    "}).start(rate=1)"
   ]
  },
  {
   "cell_type": "markdown",
   "metadata": {},
   "source": [
    "No let's see how to use dict with keyword arguments, allowing to get rid of they quotes for the keys and enhance readability"
   ]
  },
  {
   "cell_type": "code",
   "execution_count": null,
   "metadata": {},
   "outputs": [],
   "source": [
    "sndpms.reschedule(df=df, mapping=dict(\n",
    "    onset = (\"bill_length_mm\",    \"lin\", [0, 2]),\n",
    "    freq  = (\"flipper_length_mm\", \"exp\", [pam.midi_to_cps(40), pam.midi_to_cps(110)]),\n",
    "    sharp = (\"body_mass_g\",       \"lin\", [1, 4]),\n",
    "    pan = 0, att = 0, dur = 0.25, rel = 0.15, amp = 0.1\n",
    ")).start(rate=1)"
   ]
  },
  {
   "cell_type": "markdown",
   "metadata": {},
   "source": [
    "Finally let's use the helper `pms` (parameter mapping specification), which eases the creation of parameter specification dictionary and flexibly allows to add features.\n",
    "Note that in the following example \n",
    "- we specify the source range (xr) for the flipper_length range to xr=[190, 195]\n",
    "- this is mapped to frequency and due to the clipping, we hear how many penguins\n",
    "  - have lower than 190 mm flipper lengths (200 Hz tone)\n",
    "  - have higher than 195 mm flipper length (400 Hz tone) "
   ]
  },
  {
   "cell_type": "code",
   "execution_count": null,
   "metadata": {},
   "outputs": [],
   "source": [
    "sndpms.reschedule(df=df, mapping=dict(\n",
    "    onset = pms(\"bill_length_mm\",    \"lin\", [0, 3]),\n",
    "    freq  = pms(\"flipper_length_mm\", \"exp\", [200, 400], xr=[190, 195], clip=\"minmax\"),\n",
    "    sharp = pms(\"body_mass_g\",       \"lin\", [1, 4]),\n",
    "    pan = 0, att = 0, dur = 0.05, rel = 0.15, amp = 0.1\n",
    ")).start(rate=1)"
   ]
  },
  {
   "cell_type": "code",
   "execution_count": null,
   "metadata": {},
   "outputs": [],
   "source": [
    "sndpms.reschedule(df=df, mapping=dict(\n",
    "    onset = pms(\"bill_length_mm\",    \"lin\", [0, 3]),\n",
    "    freq  = pms(\"flipper_length_mm\", \"exp\", [200, 400], xr=[190, 195], clip=\"minmax\"),\n",
    "    sharp = pms(\"body_mass_g\",       \"lin\", [1, 4]),\n",
    "    pan = 0, att = 0, dur = 0.05, rel = 0.15, amp = 0.1\n",
    ")).start(rate=1)"
   ]
  },
  {
   "cell_type": "markdown",
   "metadata": {},
   "source": [
    "For the dictionary synonymous keys can be used, defaulting specs to the first\n",
    "* `'col'`: to specify the name of the pandas series uses as data for mapping\n",
    "  * equivalent keys are `'n', 'name', 'feature', 'feat', 'f'`\n",
    "* `'fn'`: to specify the mapping function to map from data feature to parameter \n",
    "  * equivalent key is `'via'`\n",
    "  * supported values are: `\"lin\", \"exp\", \"log\"` \n",
    "  * not yet supported: `\"poly({{n}})\"`\n",
    "* `'yr'`: to specify the target range `[y1, y2]` - can be unsorted if needed\n",
    "  * equivalent keys are 'to' and 'yrange'\n",
    "* `'xr'`:  to specify the source (data) range as `[min, max]` tuple\n",
    "  * equivalent keys are `'within'` and `'xrange'`\n",
    "* `'xqr'`: to specify the source range in quantiles\n",
    "  * equivalent keys are 'within_q' and 'xqrange'\n",
    "  * not yet supported\n",
    "* `'clip'` to specify how mapping results are clipped\n",
    "  * values are `\"min\", \"max\", \"minmax\", \"\" or None` (the latter: TBC)\n",
    "  * ToDo: only minmax supported so far\n",
    "* `'pre'` to specify one or many functions on the series to be performed prior to mapping\n",
    "  * values are either strings such as `midicps, cpsmidi, ampdb, dbamp, floor, diff` (and soon a few more)\n",
    "  * value can also be a list of such strings: execution is in order\n",
    "  * instead of strings, functions (names or lambda expressions) can be specified\n",
    "* `'post'` to specify one or many functions to modify the resulting series after mapping\n",
    "  * see notes for `'pre'` for syntax\n",
    "  * as example, \n",
    "    * instead of `fn=\"exp\", yr=[pam.midicps(40), pam.midicps(60)]`\n",
    "    * you could use `fn=\"lin\", yr=[40, 60], post=\"midicps\"`"
   ]
  },
  {
   "cell_type": "code",
   "execution_count": null,
   "metadata": {},
   "outputs": [],
   "source": [
    "# variant 1: map_function:\n",
    "# pms would return a dictionary, depending on call arguments, shortcuts defined for arguments such as fn\n",
    "sndpms.reschedule(df=df, mapping=dict(\n",
    "    onset = pms(\"bill_length_mm\",    \"lin\", yr=[0, 12]),\n",
    "    freq  = pms(\"flipper_length_mm\", \"exp\", yr=[pam.midicps(30), pam.midicps(94)]),\n",
    "    sharp = pms(\"body_mass_g\",       \"lin\", yr=[1, 15]),\n",
    "    pan   = pms(\"bill_depth_mm\",     \"lin\", xr=[15, 16], yr=[-1, 1]), \n",
    "    att = 0.3,  dur = 1.0, rel = 0.8, amp = 0.3,\n",
    ")).start()"
   ]
  },
  {
   "cell_type": "code",
   "execution_count": null,
   "metadata": {},
   "outputs": [],
   "source": [
    "# variant 2: map_function with dict (to be more pythonic)\n",
    "# pms would return a dictionary, depending on call arguments\n",
    "sndpms.reschedule(df=df, mapping=dict(\n",
    "    onset = pms(\"INDEX\", \"lin\", yr=[0, 5]),\n",
    "    freq  = pms(\"flipper_length_mm\", \"exp\", yr=[pam.midi_to_cps(40), pam.midi_to_cps(110)]),\n",
    "    sharp = pms(\"body_mass_g\", \"lin\", yr=[1, 4]),\n",
    "    pan   = pms(\"bill_depth_mm\", xr=[13, 30], fn=\"lin\", yr=[-1, 1]), \n",
    "    att=0, dur=0.02, amp=0.1, rel=0\n",
    ")).start()"
   ]
  },
  {
   "cell_type": "code",
   "execution_count": null,
   "metadata": {},
   "outputs": [],
   "source": [
    "# variant 3: map_function with dict (to look more pythonic)\n",
    "# pms args would be taken as col, xr=None, fn=\"lin\", yr=None (in this order) \n",
    "sndpms.reschedule(df=df, mapping=dict(\n",
    "    onset = pms(\"body_mass_g\", fn=\"lin\", yr=[2, 8]),\n",
    "    freq  = pms(col=\"flipper_length_mm\", fn=\"exp\", yr=[pam.midi_to_cps(20), pam.midi_to_cps(70)]),\n",
    "    sharp = pms(col=\"body_mass_g\", fn=\"lin\", yr=[1, 4]),\n",
    "    pan   = pms(col=\"bill_depth_mm\", xqr=[0.2, 0.8], fn=\"lin\", yr=[-1, 1]), \n",
    "    att=0, dur=0.05, amp=0.1, rel=0.25,\n",
    ")).start()"
   ]
  },
  {
   "cell_type": "code",
   "execution_count": null,
   "metadata": {},
   "outputs": [],
   "source": [
    "# for own mapping experiments, its useful to see all columns\n",
    "df.columns"
   ]
  },
  {
   "cell_type": "code",
   "execution_count": null,
   "metadata": {},
   "outputs": [],
   "source": [
    "sndpms.reschedule(df=df, mapping=dict(\n",
    "    onset = (\"bill_length_mm\", \"lin\", [0, 5]),\n",
    "    freq  = (\"body_mass_g\", \"exp\", [pam.midi_to_cps(40), pam.midi_to_cps(110)]),\n",
    "    sharp = (\"bill_depth_mm\", \"lin\", [1, 2]),\n",
    "    rel   = (\"bill_length_mm\", \"lin\", [0.3, 1.5]), \n",
    "    pan=0, att=0, dur=0.01, amp=0.1,\n",
    ")).start()"
   ]
  },
  {
   "cell_type": "markdown",
   "metadata": {},
   "source": [
    "### One-To-Many Mapping: \n",
    "\n",
    "Example using a 1-channel ECG\n",
    "- using the one-to-many mapping to give more saliency to  variations at different values (e.g., R-Peak, T-Wave, Iso-Electricity, Negative values)\n"
   ]
  },
  {
   "cell_type": "code",
   "execution_count": null,
   "metadata": {},
   "outputs": [],
   "source": [
    "ecg_df = dataframes['ecg'][[0,5]]\n",
    "ecg_df.plot(figsize=(10,2));"
   ]
  },
  {
   "cell_type": "code",
   "execution_count": null,
   "metadata": {},
   "outputs": [],
   "source": [
    "sndpms.reschedule(df=ecg_df, mapping=dict(\n",
    "    onset = pms(\"INDEX\", \"lin\", [0, 10]),\n",
    "    freq  = pms(0, \"lin\", [60, 84], pre=[\"diff\", \"abs\"], xr=[0, 0.3], post=[lambda x: np.round(x/5)*5, \"midicps\"]),\n",
    "    amp   = pms(0, \"lin\", [-20, -5], pre=\"abs\", xr=[0, 1], post=\"dbamp\", clip=\"minmax\"),\n",
    "    sharp = pms(0, \"lin\", [0, 2],    xr=[0,  0.2], clip=\"minmax\"),\n",
    "    rel   = pms(0, \"exp\", [0.01, 5], xr=[0.25, 1], clip=\"minmax\"),\n",
    "    pan   = 0,\n",
    "    att   = 0.01,\n",
    "    dur   = 0,\n",
    ")).start()\n"
   ]
  },
  {
   "cell_type": "code",
   "execution_count": null,
   "metadata": {},
   "outputs": [],
   "source": [
    "sndpms.mapping_df.plot(subplots=True, figsize=(8,4));"
   ]
  },
  {
   "cell_type": "code",
   "execution_count": null,
   "metadata": {},
   "outputs": [],
   "source": [
    "ecg_df.columns"
   ]
  },
  {
   "cell_type": "code",
   "execution_count": null,
   "metadata": {},
   "outputs": [],
   "source": [
    "sndpms.reschedule(df=ecg_df, mapping=dict(\n",
    "    onset = pms(0, \"lin\", [0.05,   10]),\n",
    "    freq  = pms(5, \"exp\", [ 200, 1200]),\n",
    "    amp   = pms(5, \"exp\", [0.05,  0.5], xr=[0.25, 1],   clip=\"minmax\"),\n",
    "    sharp = pms(5, \"lin\", [   0,    2], xr=[   0, 0.2], clip=\"minmax\"),\n",
    "    rel   = pms(0, \"exp\", [0.02,    5], xr=[   0, 1],   clip=\"minmax\"),\n",
    "    pan   = 0,\n",
    "    att   = 0,\n",
    "    dur   = 0,\n",
    ")).start()\n",
    "\n",
    "ecg_df.plot(x=0, y=5, figsize=(3,3), lw=0.1, marker=\".\", ms=0.8);\n",
    "# sndpms.mapping_df.plot(subplots=True, figsize=(8,4));"
   ]
  },
  {
   "cell_type": "code",
   "execution_count": null,
   "metadata": {},
   "outputs": [],
   "source": [
    "sndpms.remove()  # does remove the events from the sonecule from the Timeline\n",
    "ctx.timeline"
   ]
  },
  {
   "cell_type": "markdown",
   "metadata": {},
   "source": [
    "## Code Template"
   ]
  },
  {
   "cell_type": "markdown",
   "metadata": {},
   "source": [
    "The following code snippets are intended for copy & paste to your notebooks, to facilitate getting your data sonified\n",
    "using this sonecule.\n",
    "* It is assumed that your data is stored in an Asig dasig"
   ]
  },
  {
   "cell_type": "code",
   "execution_count": null,
   "metadata": {},
   "outputs": [],
   "source": [
    "# load your multi-channel data into an Asig, e.g. \n",
    "data = np.random.random((40, 4))-0.5 # 100 rows with 8 channels, here same fake data\n",
    "data = np.cumsum(data,axis=0)\n",
    "df = pd.DataFrame(data, columns=[\"c1\", \"c2\", \"c3\", \"c4\"])\n",
    "df.plot(subplots=True);\n",
    "df.head()"
   ]
  },
  {
   "cell_type": "code",
   "execution_count": null,
   "metadata": {},
   "outputs": [],
   "source": [
    "ctx.synths.add_synth_def(\"syd0\", \n",
    "\"\"\"{ | out=0, freq=400, dur=0.4, att=0.001, rel=0.5, amp=0.1, vibfreq=0, vibir=0, sharp=0, pan=0 | \n",
    "    var vib = SinOsc.ar(vibfreq, mul: vibir*freq, add: freq);\n",
    "    var sig = HPF.ar(Formant.ar(vib, vib, bwfreq: vib*(sharp+1), mul: amp), 40);\n",
    "    var env = EnvGen.kr(Env.new([0,1,1,0], [att, dur-att-rel, rel]), doneAction:2);\n",
    "    OffsetOut.ar(out, Pan2.ar(sig, pan, env));\n",
    "}\"\"\")\n",
    "\n",
    "# load your data / select your data\n",
    "mydf = df\n",
    "\n",
    "# sonecule for your synth with defaults and bounds\n",
    "sndpms = DiscretePMS(\"syd0\")\n"
   ]
  },
  {
   "cell_type": "code",
   "execution_count": null,
   "metadata": {},
   "outputs": [],
   "source": [
    "# example custom function to quantize pitch mapping to grid of semitones\n",
    "def myfreqfn(v, xr, yr, q=4):\n",
    "    return pam.midi_to_cps(np.round(pam.linlin(v, *xr, *yr)/q)*q)\n",
    "\n",
    "# and render the sonification into the timeline\n",
    "sndpms.reschedule(df=mydf, mapping=dict(\n",
    "    onset = pms(\"INDEX\", \"lin\", [0, 3]),\n",
    "    freq  = pms(\"c3\", myfreqfn, [40, 70], q=7), # try q=7, q=12, q=1\n",
    "    sharp = pms(\"c2\", \"lin\", [0, 5]),\n",
    "    dur   = pms(\"c1\", \"exp\", [0.05, 1]),\n",
    "    rel   = pms(\"c1\", \"exp\", [0.05, 1]), \n",
    "    amp   = pms(\"c4\", \"exp\", [0.9, 0.01]),\n",
    "    pan = 0, att = 0,\n",
    "))\n",
    "\n",
    "# finally start the realtime playback at a given rate'\n",
    "sndpms.start(rate=1)\n",
    "\n",
    "# if needed: plot the timeline using \n",
    "ctx.timeline.plot()"
   ]
  },
  {
   "cell_type": "code",
   "execution_count": null,
   "metadata": {},
   "outputs": [],
   "source": []
  }
 ],
 "metadata": {},
 "nbformat": 4,
 "nbformat_minor": 2
}
