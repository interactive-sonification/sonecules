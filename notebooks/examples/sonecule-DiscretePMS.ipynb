{
 "cells": [
  {
   "cell_type": "code",
   "execution_count": null,
   "metadata": {},
   "outputs": [],
   "source": [
    "%load_ext autoreload\n",
    "%autoreload 2"
   ]
  },
  {
   "cell_type": "markdown",
   "metadata": {},
   "source": [
    "# Sonecule: DiscretePMS – Discrete Parameter-Mapping Sonification"
   ]
  },
  {
   "cell_type": "markdown",
   "metadata": {},
   "source": [
    "This notebook introduces and demonstrates usage of the DiscretePMS sonecule.\n",
    "* The sonecule spawns synth for each data point in a data set\n",
    "* The synth offers several parameters that can set at init time\n",
    "* Specifically the parameters are:\n",
    "  * amplitude\n",
    "  * frequency\n",
    "  * sharpness\n",
    "  * spatial panning\n",
    "  * attack time\n",
    "  * duration of the event\n",
    "  * release time\n",
    "* In many custom situations, a custom synth will be created and passed on for individual sonifications, replacing the default.\n",
    "* The mapping specifies how data channels shall control the individual parameters"
   ]
  },
  {
   "cell_type": "code",
   "execution_count": null,
   "metadata": {},
   "outputs": [],
   "source": [
    "# headers and imports for the demo\n",
    "import sonecules as sn\n",
    "import sc3nb as scn\n",
    "from pya import Asig\n",
    "import pyamapping as pam\n",
    "import matplotlib.pyplot as plt\n",
    "import time\n",
    "\n",
    "# setup for matplotlib \n",
    "plt.rcParams[\"figure.figsize\"] = (8,3)\n",
    "%matplotlib widget\n",
    "\n",
    "def a2d(**kwargs):\n",
    "    return kwargs \n",
    "\n",
    "# start sonecules (with default backend sc3nb, aka sc3)\n",
    "sn.startup()\n",
    "ctx = sn.gcc()  # get the context as ctx"
   ]
  },
  {
   "cell_type": "markdown",
   "metadata": {},
   "source": [
    "Load data sets used for the demo"
   ]
  },
  {
   "cell_type": "code",
   "execution_count": null,
   "metadata": {},
   "outputs": [],
   "source": [
    "%run ../examples/prepare-data.ipynb"
   ]
  },
  {
   "cell_type": "code",
   "execution_count": null,
   "metadata": {},
   "outputs": [],
   "source": [
    "sns.pairplot(data=penguins_df, hue=\"species\", height=1.2);"
   ]
  },
  {
   "cell_type": "code",
   "execution_count": null,
   "metadata": {},
   "outputs": [],
   "source": [
    "df = dataframes['penguins']\n",
    "df.columns"
   ]
  },
  {
   "cell_type": "markdown",
   "metadata": {},
   "source": [
    "## Usage Demo for the DiscretePMS Sonecule"
   ]
  },
  {
   "cell_type": "code",
   "execution_count": null,
   "metadata": {},
   "outputs": [],
   "source": [
    "from mesonic.synth import Synth\n",
    "from sonecules.scoresyn import DiscretePMS, pms"
   ]
  },
  {
   "cell_type": "markdown",
   "metadata": {},
   "source": [
    "The following code cell shows everything needed \n",
    "- to create the sonecule with data, \n",
    "- to clear the auditory canvas (aka timeline)\n",
    "- to start the playback at a given rate\n",
    "- to plot the timeline."
   ]
  },
  {
   "cell_type": "markdown",
   "metadata": {},
   "source": [
    "Usually we want to use a specific synths which we would define using the backend.\n",
    "- In this case the default backend is sc3nb, so we can create it using scn.SynthDef\n",
    "- Later sonecules will offer a well curated library of pre-packaged synths, so that it is rarely necessary to craft your own.\n",
    "- The default synth (if none is provided is \"cpmssyn\", a 'continuous synth for PMSon'). \n",
    "- It is a pitched tone with added vibrato \n",
    "- It offers the continuous controls:\n",
    "\n",
    "| parameter | range      | meaning                                         |\n",
    "| --------- | ---------- | ----------------------------------------------- |\n",
    "| freq      | [20,0.5sr] | frequency [Hz]                                  |\n",
    "| amp       | [0, 1]     | amplitude                                       |\n",
    "| sharp     | [0, 10]    | sharpness, the higher the more sharp the sound  |\n",
    "| pan       | [-1, 1]    | spatial panning from left to right              |\n",
    "| dur       | [0,...]    | duration in seconds                             |\n",
    "| att       | [0,...]    | attack time (<dur)                              |\n",
    "| rel       | [0,...]    | release time (<dur)                             |\n",
    "| vibfreq   | [0,...]    | vibrato frequency [Hz]                          |\n",
    "| vibir     | [0,...]    | relative vibrato intensity (dfreq = vibir*freq) |\n",
    "\n",
    "As currently no default synths are implemented we have to do the work ourselves"
   ]
  },
  {
   "cell_type": "code",
   "execution_count": null,
   "metadata": {},
   "outputs": [],
   "source": [
    "scn.SynthDef(\"sydpms\", \n",
    "\"\"\"{ | out=0, freq=400, dur=0.4, att=0.001, rel=0.5, amp=0.1, vibfreq=0, vibir=0, sharp=0, pan=0 | \n",
    "    var vib = SinOsc.ar(vibfreq, mul: vibir*freq, add: freq);\n",
    "    var sig = HPF.ar(Formant.ar(vib, vib, bwfreq: vib*(sharp+1), mul: amp), 40);\n",
    "    var env = EnvGen.kr(Env.new([0,1,1,0], [att, dur-att-rel, rel]), doneAction:2);\n",
    "    Out.ar(out, Pan2.ar(sig, pan, env));\n",
    "}\"\"\").add()"
   ]
  },
  {
   "cell_type": "code",
   "execution_count": null,
   "metadata": {},
   "outputs": [],
   "source": [
    "# # demo for the syctick\n",
    "scn.Synth(\"sydpms\", a2d(freq=280, amp=0.1, att=0, dur=1, rel=0.1, sharp=5, vibfreq=5, vibir=0.02, pan=0))"
   ]
  },
  {
   "cell_type": "markdown",
   "metadata": {},
   "source": [
    "The next cell shows all steps in specifying the mapping in one go"
   ]
  },
  {
   "cell_type": "code",
   "execution_count": null,
   "metadata": {},
   "outputs": [],
   "source": [
    "df.columns"
   ]
  },
  {
   "cell_type": "markdown",
   "metadata": {},
   "source": [
    "The mapping is just a dictionary where \n",
    "- keys are the parameters, and \n",
    "- values is either **a number** (for a constant) or **a dictionary** with some mandatory and some optional keys:\n",
    "    - \"col\": column/feature of the dataset to be used \n",
    "    - \"fn\": mapping function(values, xr, yr), but strings such as \"lin\", \"exp\", \"log\"\n",
    "        are allowed as shortcut\n",
    "    - \"yr\": the target range for the parameter (implied from synths bounds if omitted)\n",
    "    - \"xr\": the source range (which is implied from the data if omitted)\n",
    "see documenation for further mapping flags\n"
   ]
  },
  {
   "cell_type": "code",
   "execution_count": null,
   "metadata": {},
   "outputs": [],
   "source": [
    "# create a sonecule, initialized with the synth to be used\n",
    "# second argument can provide defaults and bounds for parameters\n",
    "sndpms = DiscretePMS(\"sydpms\")\n",
    "\n",
    "# the most flexible and raw definition as dictionary\n",
    "test_mapping = {\n",
    "    \"onset\" : {\"col\": \"bill_length_mm\",    \"fn\": \"lin\", \"yr\": [0,8]},\n",
    "    \"freq\" :  {\"col\": \"flipper_length_mm\", \"fn\": \"exp\", \"yr\": [pam.midi_to_cps(40), pam.midi_to_cps(110)]},\n",
    "    \"sharp\" : {\"col\": \"body_mass_g\",       \"fn\": \"lin\", \"yr\": [1, 4]},\n",
    "    \"pan\" : 0, \n",
    "    \"att\" : 0, \n",
    "    \"dur\" : 0.25, \n",
    "    \"rel\" : 0.15, \n",
    "    \"amp\" : 0.1,\n",
    "}\n",
    "\n",
    "# clear the timeline \n",
    "ctx.timeline.reset() \n",
    "\n",
    "# and render the sonification into the timeline\n",
    "sndpms.schedule(df=df, mapping=test_mapping)\n",
    "\n",
    "# finally start the realtime playback at a given rate\n",
    "sndpms.start(rate=1)"
   ]
  },
  {
   "cell_type": "markdown",
   "metadata": {},
   "source": [
    "Usually this can be done in a more condensed way, by\n",
    "- omitting the defaults and bounds (later synths will come with good such values anyway)\n",
    "- using the `(column, mapping_function, yr)` tuple instead of a value dict \n",
    "  - e.g. `['flipper_length_mm', 'exp', [440, 880]]`\n",
    "- using the a2d() function for the outer dict, which allows to write a dict as function kwargs\n",
    "- using the **parse mapping specification** function `pms()` for the inner (d.h. value) dicts,\n",
    "- starting the sonification by daisy-chaining of the start() method\n",
    "- by removing the constructor for subsequent calls, i.e. reusing the sonecule sndpms so that only `sndpms.schedule().start()` is called"
   ]
  },
  {
   "cell_type": "markdown",
   "metadata": {},
   "source": [
    "We apply most of these tipps, but for the mapping only condense by using the value tuple "
   ]
  },
  {
   "cell_type": "code",
   "execution_count": null,
   "metadata": {},
   "outputs": [],
   "source": [
    "sndpms = DiscretePMS(\"sydpms\")\n",
    "ctx.timeline.reset() \n",
    "sndpms.schedule(df=df, mapping={\n",
    "    \"onset\" : (\"bill_length_mm\",    \"lin\", [0, 2]),\n",
    "    \"freq\" :  (\"flipper_length_mm\", \"exp\", [pam.midi_to_cps(40), pam.midi_to_cps(110)]),\n",
    "    \"sharp\" : (\"body_mass_g\",       \"lin\", [1, 4]),\n",
    "    \"pan\" : 0, \"att\" : 0, \"dur\" : 0.25, \"rel\" : 0.15, \"amp\" : 0.1,\n",
    "}).start(rate=1)"
   ]
  },
  {
   "cell_type": "markdown",
   "metadata": {},
   "source": [
    "No let's see how a2d turns the inner dictionary into argument, allowing to get rid of many quotes and enhance readability"
   ]
  },
  {
   "cell_type": "code",
   "execution_count": null,
   "metadata": {},
   "outputs": [],
   "source": [
    "ctx.timeline.reset() \n",
    "sndpms.schedule(df=df, mapping=a2d(\n",
    "    onset = (\"bill_length_mm\",    \"lin\", [0, 2]),\n",
    "    freq  = (\"flipper_length_mm\", \"exp\", [pam.midi_to_cps(40), pam.midi_to_cps(110)]),\n",
    "    sharp = (\"body_mass_g\",       \"lin\", [1, 4]),\n",
    "    pan = 0, att = 0, dur = 0.25, rel = 0.15, amp = 0.1\n",
    "    )).start(rate=1)"
   ]
  },
  {
   "cell_type": "markdown",
   "metadata": {},
   "source": [
    "Finally let's use pms (parse mapping specification), which beautifies the parameter specification dictionary and flexibly allows to add features.\n",
    "Note that in the following example \n",
    "- we specify the source range (xr) for the flipper_length range to xr=[190, 195]\n",
    "- this is mapped to frequency and due to the clipping, we hear how many penguins\n",
    "  - have lower than 190 mm flipper lengths (200 Hz tone)\n",
    "  - have higher than 195 mm flipper length (400 Hz tone) "
   ]
  },
  {
   "cell_type": "code",
   "execution_count": null,
   "metadata": {},
   "outputs": [],
   "source": [
    "ctx.timeline.reset() \n",
    "sndpms.schedule(df=df, mapping=a2d(\n",
    "    onset = pms(\"bill_length_mm\",    \"lin\", [0, 6]),\n",
    "    freq  = pms(\"flipper_length_mm\", \"exp\", [200, 400], xr=[190, 195], clip=\"minmax\"),\n",
    "    sharp = pms(\"body_mass_g\",       \"lin\", [1, 8]),\n",
    "    pan = 0, att = 0, dur = 0.05, rel = 0.15, amp = 0.1\n",
    "    )).start(rate=1)"
   ]
  },
  {
   "cell_type": "markdown",
   "metadata": {},
   "source": [
    "For the dictionary synonymous keys can be used, defaulting specs to the first\n",
    "* `'col'`: to specify the name of the pandas series uses as data for mapping\n",
    "  * equivalent keys are `'n', 'name', 'feature', 'feat', 'f'`\n",
    "* `'fn'`: to specify the mapping function to map from data feature to parameter \n",
    "  * equivalent key is `'via'`\n",
    "  * supported values are: `\"lin\", \"exp\", \"log\"` \n",
    "  * not yet supported: `\"poly({{n}})\"`\n",
    "* `'yr'`: to specify the target range `[y1, y2]` - can be unsorted if needed\n",
    "  * equivalent keys are 'to' and 'yrange'\n",
    "* `'xr'`:  to specify the source (data) range as `[min, max]` tuple\n",
    "  * equivalent keys are `'within'` and `'xrange'`\n",
    "* `'xqr'`: to specify the source range in quantiles\n",
    "  * equivalent keys are 'within_q' and 'xqrange'\n",
    "  * not yet supported\n",
    "* `'clip'` to specify how mapping results are clipped\n",
    "  * values are `\"min\", \"max\", \"minmax\", \"\" or None` (the latter: TBC)\n",
    "  * ToDo: only minmax supported so far\n",
    "* `'pre'` to specify one or many functions on the series to be performed prior to mapping\n",
    "  * values are either strings such as `midicps, cpsmidi, ampdb, dbamp, floor, diff` (and soon a few more)\n",
    "  * value can also be a list of such strings: execution is in order\n",
    "  * instead of strings, functions (names or lambda expressions) can be specified\n",
    "* `'post'` to specify one or many functions to modify the resulting series after mapping\n",
    "  * see notes for `'pre'` for syntax\n",
    "  * as example, \n",
    "    * instead of `fn=\"exp\", yr=[pam.midicps(40), pam.midicps(60)]`\n",
    "    * you could use `fn=\"lin\", yr=[40, 60], post=\"midicps\"`"
   ]
  },
  {
   "cell_type": "code",
   "execution_count": null,
   "metadata": {},
   "outputs": [],
   "source": [
    "# create a sonecule, initialized with your data selection\n",
    "sncpms = DiscretePMS(\"sydpms\")\n",
    "ctx.timeline.reset() \n",
    "\n",
    "# Variante 1: map_function:\n",
    "# pms would return a dictionary, depending on call arguments, shortcuts defined for arguments such as fn\n",
    "sncpms.schedule(df=df, mapping=a2d(\n",
    "    onset = pms(\"bill_length_mm\",    \"lin\", yr=[0, 12]),\n",
    "    freq =  pms(\"flipper_length_mm\", \"exp\", yr=[pam.midicps(30), pam.midicps(94)]),\n",
    "    sharp = pms(\"body_mass_g\",       \"lin\", yr=[1, 15]),\n",
    "    pan =   pms(\"bill_depth_mm\",     \"lin\", xr=[15, 16], yr=[-1, 1]), \n",
    "    att = 0.3,  dur = 1.0, rel = 0.8, amp = 0.3,\n",
    "    )).start()"
   ]
  },
  {
   "cell_type": "code",
   "execution_count": null,
   "metadata": {},
   "outputs": [],
   "source": [
    "# Variante 2: map_function with a2d (to be more pythonic)\n",
    "# pms would return a dictionary, depending on call arguments\n",
    "sncpms.schedule(df=df, mapping=a2d(\n",
    "    onset       = pms(\"INDEX\", \"lin\", yr=[0, 5]),\n",
    "    freq        = pms(\"flipper_length_mm\", \"exp\", yr=[pam.midi_to_cps(40), pam.midi_to_cps(110)]),\n",
    "    sharp       = pms(\"body_mass_g\", \"lin\", yr=[1, 4]),\n",
    "    pan         = pms(\"bill_depth_mm\", xr=[13, 30], fn=\"lin\", yr=[-1, 1]), \n",
    "    att=0, dur=0.02, amp=0.1, rel=0\n",
    "    )).start()"
   ]
  },
  {
   "cell_type": "code",
   "execution_count": null,
   "metadata": {},
   "outputs": [],
   "source": [
    "# Variante 3: map_function with a2d (to be more pythonic)\n",
    "# pms args would be taken as col, xr=None, fn=\"lin\", yr=None (in this order) \n",
    "sncpms = DiscretePMS(\"sydpms\")\n",
    "ctx.timeline.reset() \n",
    "sncpms.schedule(df=df, mapping=a2d(\n",
    "    onset       = pms(\"body_mass_g\", fn=\"lin\", yr=[2, 8]),\n",
    "    freq        = pms(col=\"flipper_length_mm\", fn=\"exp\", yr=[pam.midi_to_cps(20), pam.midi_to_cps(70)]),\n",
    "    sharp       = pms(col=\"body_mass_g\", fn=\"lin\", yr=[1, 4]),\n",
    "    pan         = pms(col=\"bill_depth_mm\", xqr=[0.2, 0.8], fn=\"lin\", yr=[-1, 1]), \n",
    "    att=0, dur=0.05, amp=0.1, rel=0.25,\n",
    "    )).start()"
   ]
  },
  {
   "cell_type": "markdown",
   "metadata": {},
   "source": [
    "Note that the events remain in the timeline. \n",
    "Setting the "
   ]
  },
  {
   "cell_type": "code",
   "execution_count": null,
   "metadata": {},
   "outputs": [],
   "source": [
    "ctx.timeline"
   ]
  },
  {
   "cell_type": "markdown",
   "metadata": {},
   "source": [
    "Setting the time actively to 0 will cue the playback to that onset and result in\n",
    "a sonification to be replayed"
   ]
  },
  {
   "cell_type": "code",
   "execution_count": null,
   "metadata": {},
   "outputs": [],
   "source": [
    "ctx.realtime_playback.time = 0"
   ]
  },
  {
   "cell_type": "code",
   "execution_count": null,
   "metadata": {},
   "outputs": [],
   "source": [
    "# to free the timeline use\n",
    "ctx.clear()"
   ]
  },
  {
   "cell_type": "code",
   "execution_count": null,
   "metadata": {},
   "outputs": [],
   "source": [
    "# to stop all sound playing via the backend use \n",
    "ctx.stop()"
   ]
  },
  {
   "cell_type": "code",
   "execution_count": null,
   "metadata": {},
   "outputs": [],
   "source": [
    "# note that the playback's latency is >0 - it can also be set\n",
    "# but see mesonic for details and help\n",
    "ctx.realtime_playback.processor.latency"
   ]
  },
  {
   "cell_type": "code",
   "execution_count": null,
   "metadata": {},
   "outputs": [],
   "source": [
    "# for own mapping experiments, its useful to see all columns\n",
    "df.columns"
   ]
  },
  {
   "cell_type": "markdown",
   "metadata": {},
   "source": [
    "Using a2d we can write this more like code, removing clutter"
   ]
  },
  {
   "cell_type": "code",
   "execution_count": null,
   "metadata": {},
   "outputs": [],
   "source": [
    "# as long as we reuse the synth, no need to create the object, but just use with different mappings\n",
    "ctx.timeline.reset() \n",
    "sndpms.schedule(df, mapping=a2d(\n",
    "    onset =     (\"bill_length_mm\", \"lin\", [0, 5]),\n",
    "    freq =      (\"body_mass_g\", \"exp\", [pam.midi_to_cps(40), pam.midi_to_cps(110)]),\n",
    "    sharp =     (\"bill_depth_mm\", \"lin\", [1, 2]),\n",
    "    rel=        (\"bill_length_mm\", \"lin\", [0.3, 1.5]), \n",
    "    pan=0, att=0, dur=0.01, amp=0.1,\n",
    "    )).start()"
   ]
  },
  {
   "cell_type": "markdown",
   "metadata": {},
   "source": [
    "### One-To-Many Mapping: \n",
    "\n",
    "Example using a 1-channel ECG\n",
    "- using the one-to-many mapping to give more saliency to  variations at different values (e.g., R-Peak, T-Wave, Iso-Electricity, Negative values)\n"
   ]
  },
  {
   "cell_type": "code",
   "execution_count": null,
   "metadata": {},
   "outputs": [],
   "source": [
    "df = dataframes['ecg'].iloc[:, [0, 5]]# .to_frame()\n",
    "df.plot(figsize=(10,2));"
   ]
  },
  {
   "cell_type": "code",
   "execution_count": null,
   "metadata": {},
   "outputs": [],
   "source": [
    "# as long as we reuse the synth, no need to create the object, but just use with different mappings\n",
    "sndpms = DiscretePMS(\"sydpms\")\n",
    "ctx.timeline.reset() "
   ]
  },
  {
   "cell_type": "code",
   "execution_count": null,
   "metadata": {},
   "outputs": [],
   "source": [
    "sndpms.schedule(df.iloc[:,:], mapping=a2d(\n",
    "    onset =   pms(\"INDEX\", \"lin\", [0, 10]),\n",
    "    freq  =   pms(0, \"lin\", [60, 84], pre=[\"diff\", \"abs\"], xr=[0, 0.3],\n",
    "                        post=[ lambda x: np.round(x/5)*5, \"midicps\"]),\n",
    "    amp =     pms(0, \"lin\", [-20, -5], pre=\"abs\", xr=[0, 1], post=\"dbamp\", clip=\"minmax\"),\n",
    "    sharp =   pms(0, \"lin\", [0, 2],      xr=[0,  0.2], clip=\"minmax\"),\n",
    "    rel =     pms(0, \"exp\", [0.01, 5],   xr=[0.25, 1], clip=\"minmax\"),\n",
    "    pan=0, att=0.01, dur=0,\n",
    "    )).start()\n",
    "sndpms.mapping_df.plot(subplots=True, figsize=(8,4))\n",
    "ctx.timeline"
   ]
  },
  {
   "cell_type": "code",
   "execution_count": null,
   "metadata": {},
   "outputs": [],
   "source": [
    "df.columns"
   ]
  },
  {
   "cell_type": "code",
   "execution_count": null,
   "metadata": {},
   "outputs": [],
   "source": [
    "sndpms.schedule(df.iloc[:,:], mapping=a2d(\n",
    "    onset =   pms(0, \"lin\", [0.05, 10]),\n",
    "    freq  =   pms(5, \"exp\", [200, 1200]),\n",
    "    amp =     pms(5, \"exp\", [0.05, 0.5], xr=[0.25, 1], clip=\"minmax\"),\n",
    "    sharp =   pms(5, \"lin\", [0, 2],      xr=[0,  0.2], clip=\"minmax\"),\n",
    "    rel =     pms(0, \"exp\", [0.02, 5],   xr=[0, 1], clip=\"minmax\"),\n",
    "    pan=0, att=0, dur=0,\n",
    "    )).start()\n",
    "\n",
    "df.plot(x=0, y=5, figsize=(3,3), lw=0.1, marker=\".\", ms=0.8);\n",
    "# sndpms.mapping_df.plot(subplots=True, figsize=(8,4));"
   ]
  },
  {
   "cell_type": "markdown",
   "metadata": {},
   "source": [
    "\n",
    "### Custom Mapping:\n",
    "\n",
    "Mapping the 3 species to 3 instruments using buffers"
   ]
  },
  {
   "cell_type": "markdown",
   "metadata": {},
   "source": [
    "### Hybrid Discrete Mappings\n",
    "\n",
    "to be written"
   ]
  },
  {
   "cell_type": "markdown",
   "metadata": {},
   "source": [
    "## Code Template"
   ]
  },
  {
   "cell_type": "markdown",
   "metadata": {},
   "source": [
    "The following code snippets are intended for copy & paste to your notebooks, to facilitate getting your data sonified\n",
    "using this sonecule.\n",
    "* It is assumed that your data is stored in an Asig dasig"
   ]
  },
  {
   "cell_type": "code",
   "execution_count": null,
   "metadata": {},
   "outputs": [],
   "source": [
    "# load your multi-channel data into an Asig, e.g. \n",
    "data = np.random.random((40, 4))-0.5 # 100 rows with 8 channels, here same fake data\n",
    "data = np.cumsum(data,axis=0)\n",
    "df = pd.DataFrame(data, columns=[\"c1\", \"c2\", \"c3\", \"c4\"])\n",
    "df.plot(subplots=True);\n",
    "df.head()"
   ]
  },
  {
   "cell_type": "code",
   "execution_count": null,
   "metadata": {},
   "outputs": [],
   "source": [
    "scn.SynthDef(\"syd0\", \n",
    "\"\"\"{ | out=0, freq=400, dur=0.4, att=0.001, rel=0.5, amp=0.1, vibfreq=0, vibir=0, sharp=0, pan=0 | \n",
    "    var vib = SinOsc.ar(vibfreq, mul: vibir*freq, add: freq);\n",
    "    var sig = HPF.ar(Formant.ar(vib, vib, bwfreq: vib*(sharp+1), mul: amp), 40);\n",
    "    var env = EnvGen.kr(Env.new([0,1,1,0], [att, dur-att-rel, rel]), doneAction:2);\n",
    "    OffsetOut.ar(out, Pan2.ar(sig, pan, env));\n",
    "}\"\"\").add()\n",
    "\n",
    "# load your data / select your data\n",
    "mydf = df\n",
    "\n",
    "# sonecule for your synth with defaults and bounds\n",
    "sndpms = DiscretePMS(\"syd0\")\n",
    "\n",
    "# clear the timeline \n",
    "ctx.timeline.reset() \n",
    "\n",
    "# example custom function to quantize pitch mapping to grid of semitones\n",
    "def myfreqfn(v, xr, yr, q=4):\n",
    "    return pam.midi_to_cps(np.round(pam.linlin(v, *xr, *yr)/q)*q)\n",
    "\n",
    "# and render the sonification into the timeline\n",
    "sndpms.schedule(df=mydf, mapping=a2d(\n",
    "    onset =     (\"INDEX\", \"lin\", [0, 3]),\n",
    "    freq =      pms(\"c3\", myfreqfn, [40, 70], q=7), # try q=7, q=12, q=1\n",
    "    sharp =     (\"c2\", \"lin\", [0, 5]),\n",
    "    dur =       (\"c1\", \"exp\", [0.05, 1]),\n",
    "    rel =       (\"c1\", \"exp\", [0.05, 1]), \n",
    "    amp =       (\"c4\", \"exp\", [0.9, 0.01]),\n",
    "    pan = 0, att = 0,\n",
    "))\n",
    "\n",
    "# finally start the realtime playback at a given rate\n",
    "sncpms.start(rate=1)\n",
    "\n",
    "# if needed: plot the timeline using \n",
    "ctx.timeline.plot()"
   ]
  }
 ],
 "metadata": {},
 "nbformat": 4,
 "nbformat_minor": 2
}
