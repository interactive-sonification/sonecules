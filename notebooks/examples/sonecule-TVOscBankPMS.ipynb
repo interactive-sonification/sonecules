{
 "cells": [
  {
   "cell_type": "code",
   "execution_count": null,
   "metadata": {},
   "outputs": [],
   "source": [
    "%load_ext autoreload\n",
    "%autoreload 2"
   ]
  },
  {
   "cell_type": "markdown",
   "metadata": {},
   "source": [
    "# Sonecule: TVOscBankPMS – Time-variant Oscillator Bank Parameter Mapping Sonification"
   ]
  },
  {
   "cell_type": "markdown",
   "metadata": {},
   "source": [
    "This notebook introduces and demonstrates usage of the TVOscBankPMS sonecule.\n",
    "\n",
    "The sonecule uses a bank of continous sine oscillators to represent the channels of multivariate data,\n",
    "- mapping each value to a pitch deviation from the oscillators base (central) frequency\n",
    "  - ampmode==\"val\"/\"absval\": mapping each value or absolute value to amplitude\n",
    "  - ampmode==\"change\": mapping the absolute change to amplitude\n",
    "- parameters:\n",
    "  - base_pitch: midi note number of the first channel\n",
    "  - delta_pitch: \n",
    "    - if int: channel separation in semitones\n",
    "    - if array: offsets in...  "
   ]
  },
  {
   "cell_type": "code",
   "execution_count": null,
   "metadata": {},
   "outputs": [],
   "source": [
    "# headers and imports for the demo\n",
    "import sonecules as sn\n",
    "import sc3nb as scn\n",
    "from pya import Asig\n",
    "import pyamapping as pam\n",
    "import matplotlib.pyplot as plt\n",
    "\n",
    "# setup for matplotlib \n",
    "plt.rcParams[\"figure.figsize\"] = (8,3)\n",
    "%matplotlib widget\n",
    "\n",
    "# start sonecules (with default backend sc3nb, aka sc3)\n",
    "sn.startup()\n",
    "ctx = sn.gcc()  # get the context as ctx"
   ]
  },
  {
   "cell_type": "code",
   "execution_count": null,
   "metadata": {},
   "outputs": [],
   "source": [
    "# sn.gcc().backend.sc.exit()"
   ]
  },
  {
   "cell_type": "markdown",
   "metadata": {},
   "source": [
    "Load data sets used for the demo"
   ]
  },
  {
   "cell_type": "code",
   "execution_count": null,
   "metadata": {},
   "outputs": [],
   "source": [
    "%run ../examples/prepare-data.ipynb"
   ]
  },
  {
   "cell_type": "code",
   "execution_count": null,
   "metadata": {},
   "outputs": [],
   "source": [
    "# select test data for sonecule, here EEG data from an epilepsy\n",
    "dasig = Asig(eeg_data, sr=250)\n",
    "plt.figure(figsize=(12,2)); \n",
    "plt.subplot(121); dasig.plot(offset=1)\n",
    "\n",
    "data = dasig[{7:11}, [0,1,2,5,9,12]][::5]\n",
    "plt.subplot(122); data.plot(offset=2)"
   ]
  },
  {
   "cell_type": "markdown",
   "metadata": {},
   "source": [
    "## Usage Demo for the TVOscBankPMS Sonecule"
   ]
  },
  {
   "cell_type": "code",
   "execution_count": null,
   "metadata": {},
   "outputs": [],
   "source": [
    "from mesonic.synth import Synth\n",
    "from sonecules.scoresyn import TVOscBankPMS"
   ]
  },
  {
   "cell_type": "markdown",
   "metadata": {},
   "source": [
    "The following code cell shows everything needed \n",
    "- to create the sonecule with data, \n",
    "- to clear the auditory canvas (aka timeline)\n",
    "- to start the playback at a given rate\n",
    "- to plot the timeline."
   ]
  },
  {
   "cell_type": "code",
   "execution_count": null,
   "metadata": {},
   "outputs": [],
   "source": [
    "# create a sonecule, initialized with your data selection\n",
    "snctvo = TVOscBankPMS(dasig[{7.5: 11.5}, [1, 2, 3]][::2])\n",
    "\n",
    "# clear the timeline (if needed, initially it is empty anyway)\n",
    "ctx.timeline.reset() \n",
    "\n",
    "# as needed schedule specific sonifications using that data, specifying method parameters as needed\n",
    "snctvo.schedule(at=0, rate=2, base_pitch=60, pitch_step=12, pitch_relwid=0.1,\n",
    "    amp_mode=\"change\", level=-20, map_mode=\"channelwise\")\n",
    "\n",
    "# start the realtime playback at a given rate\n",
    "snctvo.start(rate=1)\n",
    "\n",
    "# plot the timeline\n",
    "ctx.timeline.plot()"
   ]
  },
  {
   "cell_type": "markdown",
   "metadata": {},
   "source": [
    "Note that the events remain in the timeline. \n",
    "Setting the "
   ]
  },
  {
   "cell_type": "code",
   "execution_count": null,
   "metadata": {},
   "outputs": [],
   "source": [
    "ctx.timeline"
   ]
  },
  {
   "cell_type": "markdown",
   "metadata": {},
   "source": [
    "Setting the time actively to 0 will cue the playback to that onset and result in\n",
    "a sonification to be replayed"
   ]
  },
  {
   "cell_type": "code",
   "execution_count": null,
   "metadata": {},
   "outputs": [],
   "source": [
    "ctx.playback.time = 0"
   ]
  },
  {
   "cell_type": "code",
   "execution_count": null,
   "metadata": {},
   "outputs": [],
   "source": [
    "# to free the timeline use\n",
    "ctx.clear()"
   ]
  },
  {
   "cell_type": "code",
   "execution_count": null,
   "metadata": {},
   "outputs": [],
   "source": [
    "# to stop all sound playing via the backend use \n",
    "ctx.stop()"
   ]
  },
  {
   "cell_type": "code",
   "execution_count": null,
   "metadata": {},
   "outputs": [],
   "source": [
    "# note that the playback's latency is >0 - it can also be set\n",
    "# but see mesonic for details and help\n",
    "ctx.playback.processor.latency"
   ]
  },
  {
   "cell_type": "code",
   "execution_count": null,
   "metadata": {},
   "outputs": [],
   "source": [
    "# we can play now interactaively sonify the data with different parameters.\n",
    "ctx.timeline.reset()\n",
    "\n",
    "snctvo.schedule(\n",
    "    at=0, rate=0.5, base_pitch=50, pitch_step=24, pitch_relwid=0.5, \n",
    "    amp_mode=\"change\", level=-10, map_mode=\"channelwise\",\n",
    ").start(rate=1)"
   ]
  },
  {
   "cell_type": "markdown",
   "metadata": {},
   "source": [
    "the above code demonstrates how the values can also modulate pitch deviations,\n",
    "- here specifically by 0.5 = 50% of the inter-base pitch deviations"
   ]
  },
  {
   "cell_type": "code",
   "execution_count": null,
   "metadata": {},
   "outputs": [],
   "source": [
    "ctx.timeline.reset()\n",
    "\n",
    "snctvo.schedule(\n",
    "    at=0, rate=1, base_pitch=80, pitch_step=2, pitch_relwid=0, \n",
    "    amp_mode=\"change\", level=-20, map_mode=\"channelwise\"\n",
    ").start()"
   ]
  },
  {
   "cell_type": "markdown",
   "metadata": {},
   "source": [
    "* Instead of specifying a constant pitch step between channel tones we can specifiy an array of pitches to be used.\n",
    "* This can result in a 'musical/harmonic' sonification, e.g. by setting the individual channels to the notes of a major chord.\n",
    "* This technique has been called Polyphonic Time Series Sonification and was used for ECG data.\n",
    "* Now it can be flexibly recreated in few lines of code \n",
    "* The following example illustrates such a special case"
   ]
  },
  {
   "cell_type": "code",
   "execution_count": null,
   "metadata": {},
   "outputs": [],
   "source": [
    "snctvo = TVOscBankPMS(dasig[{35:40}, :6][::5])\n",
    "ctx.timeline.reset()\n",
    "snctvo.schedule(\n",
    "    at=0, rate=1, base_pitch=50, pitch_step=[0,4,7,12,16,19], pitch_relwid=0, \n",
    "    amp_mode=\"change\", level=-10, map_mode=\"channelwise\"\n",
    ").start()"
   ]
  },
  {
   "cell_type": "markdown",
   "metadata": {},
   "source": [
    "* In TVOsc, the spectral position is specified by pitch and pitch step\n",
    "* What if we want use use specific frequencies, e.g. harmonics of a fundamental?\n",
    "* with the current interface, some computations are required as shown below\n",
    "* later versions may offer other keywords such as base_freq and freq_step,\n",
    "* or offer to set base_pitch to None in which case a kwarg freq_step as an array of frequenies would be expected. \n",
    "* Such extensions are planned for future versions. Suggestions for a flexible but clear API are welcome!"
   ]
  },
  {
   "cell_type": "code",
   "execution_count": null,
   "metadata": {},
   "outputs": [],
   "source": [
    "# timbral sonification is just a special case of TVOSon\n",
    "ctx.timeline.reset()\n",
    "snctvo = TVOscBankPMS(dasig[{5: 45}, :][::5])\n",
    "f0 = 40\n",
    "base_pitch = pam.cps_to_midi(f0)\n",
    "pitch_steps = [ pam.cps_to_midi(f0*(i+1)) - base_pitch for i in range(dasig.channels)] \n",
    "snctvo.schedule(at=0, rate=5, base_pitch=base_pitch, pitch_step=pitch_steps, pitch_relwid=0,  # use 1.5 for pitch added effect\n",
    "    amp_mode=\"change\", level=-10, map_mode=\"channelwise\",\n",
    ").start(rate=1)"
   ]
  },
  {
   "cell_type": "markdown",
   "metadata": {},
   "source": [
    "Auditory Graph as a function sonification is a special case of TVOscBankPMS as well\n",
    "\n",
    "Let's create data points of a math function to be represented as auditory graph.\n",
    "* let's put it into an Asig an plot it\n"
   ]
  },
  {
   "cell_type": "code",
   "execution_count": null,
   "metadata": {},
   "outputs": [],
   "source": [
    "# here create a mathematical function as data\n",
    "def fn(x):\n",
    "    return x**2 - 4*x + 1*np.sin(15*x**0.8)\n",
    "data = fn(np.linspace(0, 5, 100))\n",
    "dasig = Asig(data, sr=100)\n",
    "plt.figure(figsize=(8,2)); dasig.plot(offset=1)"
   ]
  },
  {
   "cell_type": "code",
   "execution_count": null,
   "metadata": {},
   "outputs": [],
   "source": [
    "# now sonify it as Auditory Graph using the TVOscBankPMS sonecule\n",
    "snctvo = TVOscBankPMS(dasig)  \n",
    "ctx.timeline.reset() \n",
    "snctvo.schedule(at=0, rate=0.2, base_pitch=72, pitch_step=30, pitch_relwid=1,\n",
    "    amp_mode=\"value\", level=-20, map_mode=\"channelwise\")\n",
    "snctvo.start(rate=1)"
   ]
  },
  {
   "cell_type": "markdown",
   "metadata": {},
   "source": [
    "## Code Template"
   ]
  },
  {
   "cell_type": "markdown",
   "metadata": {},
   "source": [
    "The following code snippets are intended for copy & paste to your notebooks, to facilitate getting your data sonified\n",
    "using this sonecule.\n",
    "* It is assumed that your data is stored in an Asig dasig"
   ]
  },
  {
   "cell_type": "code",
   "execution_count": null,
   "metadata": {},
   "outputs": [],
   "source": [
    "# load your multi-channel data into an Asig, e.g. \n",
    "data = np.random.random((100, 12)) # 100 rows with 8 channels, here same fake data\n",
    "dasig = Asig(data, sr=10)\n",
    "plt.figure(figsize=(8,2)); dasig.plot(offset=1)"
   ]
  },
  {
   "cell_type": "code",
   "execution_count": null,
   "metadata": {},
   "outputs": [],
   "source": [
    "# create a sonecule, initialized with your data selection\n",
    "snctvo = TVOscBankPMS(dasig[{None:None}, :])  # using timeslice to access subset\n",
    "\n",
    "# clear the timeline (if needed, initially it is empty anyway)\n",
    "ctx.timeline.reset() \n",
    "\n",
    "# as needed schedule specific sonifications using that data, specifying method parameters as needed\n",
    "snctvo.schedule(at=0, rate=4, base_pitch=40, pitch_step=5, pitch_relwid=1.5,\n",
    "    amp_mode=\"change\", level=-20, map_mode=\"channelwise\")\n",
    "\n",
    "# start the realtime playback at a given rate\n",
    "snctvo.start(rate=1)\n",
    "\n",
    "# if needed: plot the timeline using `ctx.timeline.plot()`"
   ]
  },
  {
   "cell_type": "code",
   "execution_count": null,
   "metadata": {},
   "outputs": [],
   "source": []
  }
 ],
 "metadata": {},
 "nbformat": 4,
 "nbformat_minor": 2
}
