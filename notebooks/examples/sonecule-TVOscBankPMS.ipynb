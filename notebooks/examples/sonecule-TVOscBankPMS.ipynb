{
 "cells": [
  {
   "cell_type": "markdown",
   "metadata": {},
   "source": [
    "# Sonecule: TVOscBankPMS -- Time-variant Oscillator Bank Parameter Mapping Sonification"
   ]
  },
  {
   "cell_type": "markdown",
   "metadata": {},
   "source": [
    "This notebook introduces and demonstrates usage of the TVOscBankPMS sonecule.\n",
    "\n",
    "The sonecule uses a bank of continous sine oscillators to represent the channels of multivariate data,\n",
    "- mapping each value to a pitch deviation from the oscillators base (central) frequency\n",
    "  - ampmode==\"val\"/\"absval\": mapping each value or absolute value to amplitude\n",
    "  - ampmode==\"change\": mapping the absolute change to amplitude\n",
    "- parameters:\n",
    "  - base_pitch: midi note number of the first channel\n",
    "  - delta_pitch: \n",
    "    - if int: channel separation in semitones\n",
    "    - if array: offsets in...  "
   ]
  },
  {
   "cell_type": "code",
   "execution_count": null,
   "metadata": {},
   "outputs": [],
   "source": [
    "sn.gcc().backend.sc.exit()"
   ]
  },
  {
   "cell_type": "code",
   "execution_count": null,
   "metadata": {},
   "outputs": [],
   "source": [
    "# headers and imports for the demo\n",
    "import sonecules as sn\n",
    "sn.startup()\n",
    "sn.pb = sn.playback\n",
    "ctx = sn.gcc()\n",
    "import sc3nb as scn\n",
    "from pya import Asig\n",
    "import matplotlib.pyplot as plt\n",
    "plt.rcParams[\"figure.figsize\"] = (8,3)\n",
    "%matplotlib widget"
   ]
  },
  {
   "cell_type": "markdown",
   "metadata": {},
   "source": [
    "Load data sets used for the demo"
   ]
  },
  {
   "cell_type": "code",
   "execution_count": null,
   "metadata": {},
   "outputs": [],
   "source": [
    "%run ../examples/prepare-data.ipynb"
   ]
  },
  {
   "cell_type": "code",
   "execution_count": null,
   "metadata": {},
   "outputs": [],
   "source": [
    "# select test data for sonecule\n",
    "dasig = Asig(eeg_data, sr=250)\n",
    "plt.figure(); dasig.plot(offset=1)\n",
    "\n",
    "data = dasig[{7:11}, [0,1,2,5,9,12]][::5]\n",
    "plt.figure(); data.plot(offset=2)"
   ]
  },
  {
   "cell_type": "markdown",
   "metadata": {},
   "source": [
    "## Usage Demo for the TVOscBankPMS Sonecule"
   ]
  },
  {
   "cell_type": "code",
   "execution_count": null,
   "metadata": {},
   "outputs": [],
   "source": [
    "from mesonic.synth import Synth\n",
    "from sonecules.scoresyn import TVOSon"
   ]
  },
  {
   "cell_type": "code",
   "execution_count": null,
   "metadata": {},
   "outputs": [],
   "source": [
    "# create a sonecule, initialized with your data selection\n",
    "snctvo = TVOSon(dasig[{7.5: 11.5}, [1, 2, 3]][::2])\n",
    "\n",
    "# clear the timeline (if needed, initially it is empty anyway)\n",
    "ctx.timeline.reset() \n",
    "\n",
    "# as needed schedule specific sonifications using that data, specifying method parameters as needed\n",
    "snctvo.schedule(\n",
    "    at=0,\n",
    "    rate=2,\n",
    "    base_pitch=60,\n",
    "    pitch_step=12,\n",
    "    pitch_relwid=0.1,\n",
    "    amp_mode=\"change\",\n",
    "    level=-20,\n",
    "    map_mode=\"channelwise\",\n",
    ")\n",
    "\n",
    "# start the realtime playback at a given rate\n",
    "snctvo.start(rate=1)\n",
    "\n",
    "# plot the timeline\n",
    "# ctx.timeline.plot()"
   ]
  },
  {
   "cell_type": "code",
   "execution_count": null,
   "metadata": {},
   "outputs": [],
   "source": [
    "ctx.timeline"
   ]
  },
  {
   "cell_type": "code",
   "execution_count": null,
   "metadata": {},
   "outputs": [],
   "source": [
    "ctx.clear()"
   ]
  },
  {
   "cell_type": "code",
   "execution_count": null,
   "metadata": {},
   "outputs": [],
   "source": [
    "ctx.stop()"
   ]
  },
  {
   "cell_type": "code",
   "execution_count": null,
   "metadata": {},
   "outputs": [],
   "source": [
    "ctx.realtime_playback.processor.latency"
   ]
  },
  {
   "cell_type": "code",
   "execution_count": null,
   "metadata": {},
   "outputs": [],
   "source": [
    "ctx.timeline"
   ]
  },
  {
   "cell_type": "code",
   "execution_count": null,
   "metadata": {},
   "outputs": [],
   "source": [
    "# we can play now interactaively sonify the data with different parameters.\n",
    "ctx.timeline.reset()\n",
    "\n",
    "snctvo.schedule(\n",
    "    at=0, rate=2, base_pitch=60, pitch_step=12, pitch_relwid=0.1, \n",
    "    amp_mode=\"change\", level=-20, map_mode=\"channelwise\",\n",
    ").start(rate=1)"
   ]
  },
  {
   "cell_type": "code",
   "execution_count": null,
   "metadata": {},
   "outputs": [],
   "source": [
    "ctx.timeline"
   ]
  },
  {
   "cell_type": "code",
   "execution_count": null,
   "metadata": {},
   "outputs": [],
   "source": [
    "snctvo.schedule(\n",
    "    at=0.25, rate=2, base_pitch=70, pitch_step=12, pitch_relwid=0.1, \n",
    "    amp_mode=\"change\", level=-20, map_mode=\"channelwise\")\n",
    "\n",
    "ctx._playbacks = set() \n",
    "\n",
    "ctx.create_playback().start()"
   ]
  },
  {
   "cell_type": "code",
   "execution_count": null,
   "metadata": {},
   "outputs": [],
   "source": [
    "ctx.timeline"
   ]
  },
  {
   "cell_type": "code",
   "execution_count": null,
   "metadata": {},
   "outputs": [],
   "source": [
    "ctx.realtime_playback.start()"
   ]
  },
  {
   "cell_type": "code",
   "execution_count": null,
   "metadata": {},
   "outputs": [],
   "source": []
  }
 ],
 "metadata": {},
 "nbformat": 4,
 "nbformat_minor": 2
}
