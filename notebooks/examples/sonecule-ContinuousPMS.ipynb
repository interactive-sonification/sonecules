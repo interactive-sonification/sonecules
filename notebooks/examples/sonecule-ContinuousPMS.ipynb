{
 "cells": [
  {
   "cell_type": "code",
   "execution_count": null,
   "metadata": {},
   "outputs": [],
   "source": [
    "%load_ext autoreload\n",
    "%autoreload 2"
   ]
  },
  {
   "cell_type": "markdown",
   "metadata": {},
   "source": [
    "# Sonecule: ContinuousPMS – Continuous Parameter-Mapping Sonification"
   ]
  },
  {
   "cell_type": "markdown",
   "metadata": {},
   "source": [
    "This notebook introduces and demonstrates usage of the ContinousPMS sonecule.\n",
    "* The sonecule uses a synth that creates a continuous sound stream \n",
    "* for that a synth is used that offers several parameters that can be modulated\n",
    "* Specifically the parameters are:\n",
    "  * amplitude\n",
    "  * frequency\n",
    "  * number of harmonics\n",
    "  * spatial panning\n",
    "* Most likely, a custom synth will be created and passed on for individual sonifications, replacing the default.\n",
    "* The mapping specifies how data channels shall control the individual parameters"
   ]
  },
  {
   "cell_type": "code",
   "execution_count": null,
   "metadata": {},
   "outputs": [],
   "source": [
    "# headers and imports for the demo\n",
    "import sonecules as sn\n",
    "import sc3nb as scn\n",
    "from pya import Asig\n",
    "import pyamapping as pam\n",
    "import matplotlib.pyplot as plt\n",
    "import time\n",
    "\n",
    "# setup for matplotlib \n",
    "plt.rcParams[\"figure.figsize\"] = (8,3)\n",
    "%matplotlib widget\n",
    "\n",
    "# start sonecules (with default backend sc3nb, aka sc3)\n",
    "sn.startup()\n",
    "ctx = sn.gcc()  # get the context as ctx"
   ]
  },
  {
   "cell_type": "markdown",
   "metadata": {},
   "source": [
    "Load data sets used for the demo"
   ]
  },
  {
   "cell_type": "code",
   "execution_count": null,
   "metadata": {},
   "outputs": [],
   "source": [
    "%run ../examples/prepare-data.ipynb"
   ]
  },
  {
   "cell_type": "code",
   "execution_count": null,
   "metadata": {},
   "outputs": [],
   "source": [
    "df = dataframes['building']\n",
    "df.iloc[:,10:-1].plot(lw=0.5, subplots=True, figsize=(9,6)); plt.tight_layout()\n",
    "df.head()"
   ]
  },
  {
   "cell_type": "markdown",
   "metadata": {},
   "source": [
    "## Usage Demo for the ContinuousPMS Sonecule"
   ]
  },
  {
   "cell_type": "code",
   "execution_count": null,
   "metadata": {},
   "outputs": [],
   "source": [
    "from sonecules.scoresyn import ContinuousPMS, pms"
   ]
  },
  {
   "cell_type": "markdown",
   "metadata": {},
   "source": [
    "The following code cell shows everything needed \n",
    "- to create the sonecule with data, \n",
    "- to reset the auditory canvas (aka timeline)\n",
    "- to start the playback at a given rate\n",
    "- to plot the timeline."
   ]
  },
  {
   "cell_type": "markdown",
   "metadata": {},
   "source": [
    "Usually we want to use a specific synths which we would define using the backend.\n",
    "- We can create it using `context.synths.add_synth_def`, which in this case creates the defines the synth for the default backend (sc3nb)\n",
    "- The synth definition process is currently in active development and will improve in the future.  \n",
    "- However our ultimate goal is that sonecules will already offer a well curated library of pre-packaged synths, so that it is rarely necessary to craft your own.\n",
    "\n",
    "\n",
    "The default synth (if none is provided is \"cpmssyn\", a 'continuous synth for PMSon'). \n",
    "- It is a pitched tone with added vibrato \n",
    "- It offers the continuous controls:\n",
    "\n",
    "| parameter   | range  | meaning                                         |\n",
    "| ----------- | ------ | ----------------------------------------------- |\n",
    "| freq:       | [20..] | frequency                                       |\n",
    "| amp         | [0,1]  | amplitude                                       |\n",
    "| sharp: | [0,10] | sharp, the higher the more sharp the sound |\n",
    "| pan         | [-1,1] | spatial panning from left to right              |\n",
    "| plfreq      | [0..]  | multiplied pulse frequency                      |\n",
    "| plwid       | [0,1]  | duty cycle of the pulse                         |\n",
    "| plint       | [0,1]  | intensity of the pulse modulation               |\n",
    "\n",
    "As currently no default synths are implemented we have to do the work ourselves"
   ]
  },
  {
   "cell_type": "code",
   "execution_count": null,
   "metadata": {},
   "outputs": [],
   "source": [
    "ctx.synths.add_synth_def(\"syc0\", \n",
    "r\"\"\"{ | out=0, freq=400, amp=0.1, plfreq=0, plwid=0.5, plint=0, sharp=0, pan=0, lg=0 | \n",
    "    var f = freq.lag(lg);\n",
    "    var pulse = LFPulse.ar(plfreq, width: plwid, mul: plint, add: 1-plint);\n",
    "    var tone = HPF.ar(Formant.ar(f, f, bwfreq: f * (sharp + 1)), 40);\n",
    "    Out.ar(out, Pan2.ar(tone*pulse, pan.lag(lg), level: amp.lag(lg)));\n",
    "}\"\"\")\n",
    "\n",
    "ctx.synths.add_synth_def(\"sycvib\", \n",
    "r\"\"\"{ | out=0, freq=400, amp=0.1, vibfreq=0, vibintrel=0, sharp=0, pan=0, lg=0 | \n",
    "    var vib = SinOsc.ar(vibfreq, mul: vibintrel*freq, add: freq.lag(lg));\n",
    "    var sig = HPF.ar(Formant.ar(vib, vib, bwfreq: vib*sharp+1, mul: amp.lag(lg)), 40);\n",
    "    Out.ar(out, Pan2.ar(sig, pan.lag(lg)));\n",
    "}\"\"\")\n",
    "\n",
    "ctx.synths.add_synth_def(\"sycnoise\", \n",
    "r\"\"\"{ | out=0, freq=400, amp=0.1, rq=0.1, pan=0, lg=0 | \n",
    "    var sig = BPF.ar(WhiteNoise.ar(amp), freq.lag(lg), rq.lag(lg));\n",
    "    Out.ar(out, Pan2.ar(sig, pan.lag(lg)));\n",
    "}\"\"\")\n",
    "\n",
    "ctx.synths.add_synth_def(\"syctick\", \n",
    "r\"\"\"{ | out=0, freq=400, cf=4000, amp=0.1, pan=0, lg=0 | \n",
    "    var sig = LPF.ar(Impulse.ar(freq.lag(lg)), cf.lag(lg));\n",
    "    Out.ar(out, Pan2.ar(sig, pan.lag(lg), amp));\n",
    "}\"\"\")\n"
   ]
  },
  {
   "cell_type": "code",
   "execution_count": null,
   "metadata": {},
   "outputs": [],
   "source": [
    "from ipywidgets import interactive"
   ]
  },
  {
   "cell_type": "code",
   "execution_count": null,
   "metadata": {},
   "outputs": [],
   "source": [
    "ctx.enable_realtime() # we enable realtime for some Synth demos"
   ]
  },
  {
   "cell_type": "code",
   "execution_count": null,
   "metadata": {},
   "outputs": [],
   "source": [
    "ctx.reset()\n",
    "# use this code to explore the synths as you see fit\n",
    "sx = ctx.synths.create(\"syc0\")\n",
    "sx.start(freq=200, amp=0.1, plfreq=5, plwid=0.1, sharp=4, pan=0)"
   ]
  },
  {
   "cell_type": "code",
   "execution_count": null,
   "metadata": {},
   "outputs": [],
   "source": [
    "sx.freq = 300\n",
    "sx.amp = 0.1\n",
    "sx.plfreq = 15\n",
    "sx.plwid = 0.7\n",
    "sx.plint = 0.5\n",
    "sx.sharp = 2\n",
    "sx.pan = 0\n",
    "sx.lg = 0"
   ]
  },
  {
   "cell_type": "code",
   "execution_count": null,
   "metadata": {},
   "outputs": [],
   "source": [
    "ctx.stop()"
   ]
  },
  {
   "cell_type": "code",
   "execution_count": null,
   "metadata": {},
   "outputs": [],
   "source": [
    "ctx.reset()\n",
    "syctick = ctx.synths.create(\"syctick\")\n",
    "syctick.start(freq=80, amp=0.05, cf=2000, pan=0)\n",
    "def syn_gui(freq=10, cf=4000, amp=0.15, pan=0, lg=0.5):\n",
    "    syctick.set(freq=freq, cf=cf, amp=amp, pan=pan, lg=lg)\n",
    "interactive(syn_gui, freq=(0, 1000, 1), cf=(1, 20000, 1), amp=(0, 1, 0.01), pan=(-1,1,0.1), lg=(0,5,0.1)) "
   ]
  },
  {
   "cell_type": "code",
   "execution_count": null,
   "metadata": {},
   "outputs": [],
   "source": [
    "syctick.stop()"
   ]
  },
  {
   "cell_type": "code",
   "execution_count": null,
   "metadata": {},
   "outputs": [],
   "source": [
    "ctx.reset()\n",
    "# demo for the sycnoise\n",
    "sx = ctx.synths.create(\"sycnoise\")\n",
    "with ctx.at(0): sx.start(freq=800, amp=0.05, rq=0.1, pan=0)\n",
    "with ctx.at(1): sx.set(lg=0.5, freq=500,  rq=0.1, amp=0.2, pan=-1)\n",
    "with ctx.at(2): sx.set(lg=0.5, freq=5000, rq=0.5, amp=0.1, pan=1)\n",
    "with ctx.at(3): sx.set(lg=0.5, freq=2000, rq=1.2, amp=0.1, pan=1) \n",
    "with ctx.at(4): sx.set(lg=0.5, freq=400,  rq=0.1, amp=0.3, pan=1) \n",
    "with ctx.at(5): sx.stop()"
   ]
  },
  {
   "cell_type": "code",
   "execution_count": null,
   "metadata": {},
   "outputs": [],
   "source": [
    "ctx.reset()"
   ]
  },
  {
   "cell_type": "code",
   "execution_count": null,
   "metadata": {},
   "outputs": [],
   "source": [
    "self._timeline"
   ]
  },
  {
   "cell_type": "code",
   "execution_count": null,
   "metadata": {},
   "outputs": [],
   "source": [
    "ctx.timeline.plot()"
   ]
  },
  {
   "cell_type": "code",
   "execution_count": null,
   "metadata": {},
   "outputs": [],
   "source": [
    "ctx.disable_realtime()"
   ]
  },
  {
   "cell_type": "markdown",
   "metadata": {},
   "source": [
    "Let's start with Parameter Mapping Sonification\n",
    "\n",
    "The next cell shows all steps in specifying the mapping in one go"
   ]
  },
  {
   "cell_type": "code",
   "execution_count": null,
   "metadata": {},
   "outputs": [],
   "source": [
    "# create a sonecule, initialized with the synth to be used\n",
    "# second argument can provide defaults and bounds for parameters\n",
    "sncpms = ContinuousPMS(\"syc0\", { \n",
    "    \"freq\" : {\"bounds\": (100, 5000)},\n",
    "    \"amp\"  : {\"default\": 0.1},\n",
    "    \"sharp\": {\"default\": 0},\n",
    "    \"lg\"   : {\"default\": 0.1}\n",
    "})\n",
    "\n",
    "# the mapping is just a dictionary where keys are the parameters,\n",
    "# and values are dictionaries with keys tuples of \n",
    "# - data column, \n",
    "# - mapping type, and  \n",
    "# - arguments of the mapping function as dictionary, e.g.\n",
    "test_mapping = {\n",
    "    \"onset\": (\"INDEX\", \"lin\", [0, 4]),\n",
    "    \"freq\" : (\"humidity\", \"exp\", [pam.midi_to_cps(50), pam.midi_to_cps(70)]),\n",
    "    \"sharp\": (\"temperature\", \"lin\", [0, 10]),\n",
    "    \"pan\"  : (\"solar_radiation\", \"lin\", [-1, 1]),\n",
    "}\n",
    "\n",
    "# reset the timeline \n",
    "ctx.timeline.reset() \n",
    "\n",
    "# and render the sonification into the timeline\n",
    "sncpms.schedule(df=df.iloc[:10*24], mapping=test_mapping)\n",
    "\n",
    "# finally start the realtime playback at a given rate\n",
    "sncpms.start(rate=1)"
   ]
  },
  {
   "cell_type": "markdown",
   "metadata": {},
   "source": [
    "The mapping is just a dictionary where \n",
    "- keys are the parameters, and \n",
    "- values is either **a number** (for a constant) or **a dictionary** with some mandatory and some optional keys:\n",
    "    - \"col\": column/feature of the dataset to be used \n",
    "    - \"fn\": mapping function(values, xr, yr), but strings such as \"lin\", \"exp\", \"log\"\n",
    "        are allowed as shortcut\n",
    "    - \"yr\": the target range for the parameter (implied from synths bounds if omitted)\n",
    "    - \"xr\": the source range (which is implied from the data if omitted)\n",
    "see documenation for further mapping flags\n"
   ]
  },
  {
   "cell_type": "markdown",
   "metadata": {},
   "source": [
    "Usually this can be done in a more condensed way, by\n",
    "- omitting the defaults and bounds (later synths will come with good such values anyway)\n",
    "- using shortcuts such as providing [min, max] instead of {\"y1\": min, \"y2\": max}\n",
    "- setting constant values by value\n",
    "- defining the mapping in the call\n",
    "- starting the sonification by daisy chaining\n",
    "as shown here"
   ]
  },
  {
   "cell_type": "code",
   "execution_count": null,
   "metadata": {},
   "outputs": [],
   "source": [
    "# create a sonecule, initialized with your data selection\n",
    "sncpms = ContinuousPMS(\"syc0\")\n",
    "ctx.timeline.reset() \n",
    "df_selection = df.iloc[:14*24]\n",
    "sncpms.schedule(df=df_selection, mapping=dict(\n",
    "    onset = pms(\"INDEX\",           \"lin\", [0, 10]),\n",
    "    freq  = pms(\"humidity\",        \"exp\", [100, 400]),\n",
    "    sharp = pms(\"temperature\",     \"lin\", [2, 8]),\n",
    "    pan   = pms(\"solar_radiation\", \"lin\", [-1, 1]),\n",
    "    amp   = pms(\"wind_speed\",      \"exp\", [0.02, 1]),\n",
    "    lg    = 0.05,\n",
    "))\n",
    "\n",
    "# lets plot the used data\n",
    "df_selection.loc[:, ['humidity', 'temperature', 'solar_radiation', 'wind_speed']].plot()"
   ]
  },
  {
   "cell_type": "code",
   "execution_count": null,
   "metadata": {},
   "outputs": [],
   "source": [
    "sncpms.start()"
   ]
  },
  {
   "cell_type": "markdown",
   "metadata": {},
   "source": [
    "Note that the events remain in the timeline. "
   ]
  },
  {
   "cell_type": "code",
   "execution_count": null,
   "metadata": {},
   "outputs": [],
   "source": [
    "ctx.timeline"
   ]
  },
  {
   "cell_type": "markdown",
   "metadata": {},
   "source": [
    "Starting the playback will result in the Timeline to be replayed"
   ]
  },
  {
   "cell_type": "code",
   "execution_count": null,
   "metadata": {},
   "outputs": [],
   "source": [
    "ctx.playback.start(at=0)  # or ctx.playback.time = 0 if ctx.playback.running "
   ]
  },
  {
   "cell_type": "markdown",
   "metadata": {},
   "source": [
    "Note that starting at a time where the Synth was not playing results in errors at the backend."
   ]
  },
  {
   "cell_type": "code",
   "execution_count": null,
   "metadata": {},
   "outputs": [],
   "source": [
    "ctx.playback.start(at=9.5)  # or ctx.playback.time = 0 if ctx.playback.running "
   ]
  },
  {
   "cell_type": "markdown",
   "metadata": {},
   "source": [
    "For reseting timeline back to the empty state"
   ]
  },
  {
   "cell_type": "code",
   "execution_count": null,
   "metadata": {},
   "outputs": [],
   "source": [
    "ctx.timeline.reset()"
   ]
  },
  {
   "cell_type": "code",
   "execution_count": null,
   "metadata": {},
   "outputs": [],
   "source": [
    "ctx.timeline"
   ]
  },
  {
   "cell_type": "code",
   "execution_count": null,
   "metadata": {},
   "outputs": [],
   "source": [
    "# to stop all sound playing via the backend use \n",
    "ctx.stop()"
   ]
  },
  {
   "cell_type": "code",
   "execution_count": null,
   "metadata": {},
   "outputs": [],
   "source": [
    "# for own mapping experiments, its useful to see all columns\n",
    "df.columns"
   ]
  },
  {
   "cell_type": "code",
   "execution_count": null,
   "metadata": {},
   "outputs": [],
   "source": [
    "# as long as we reuse the synth, no need to create the object, but just use with different mappings\n",
    "ctx.timeline.reset() \n",
    "sncpms.schedule(df=df.iloc[4*24:14*24], mapping=dict(\n",
    "    onset = pms(\"INDEX\",           \"lin\", [0, 10]),\n",
    "    freq  = pms(\"humidity\",        \"exp\", [100, 400]),\n",
    "    sharp = pms(\"temperature\",     \"lin\", [2, 8]),\n",
    "    pan   = pms(\"solar_radiation\", \"lin\", [-1, 1]),\n",
    "    amp   = pms(\"wind_speed\",      \"exp\", [0.02, 1]),\n",
    "    lg    = 0.05,\n",
    ")).start(rate=1)"
   ]
  },
  {
   "cell_type": "markdown",
   "metadata": {},
   "source": [
    "### Hyrbid Continuous Parameter Mappings"
   ]
  },
  {
   "cell_type": "markdown",
   "metadata": {},
   "source": [
    "Let's now explore a more interesting mapping:\n",
    "- together with the above mapping of s\n",
    "- to play impulses for the electricity\n",
    "- wind sounds for the wind speed\n",
    "- and map the water use on pulse choppings of the stream"
   ]
  },
  {
   "cell_type": "code",
   "execution_count": null,
   "metadata": {},
   "outputs": [],
   "source": [
    "# create a sonecule, initialized with your data selection\n",
    "df_selection = df.iloc[0*24:14*24]\n",
    "df_selection.iloc[:,10:-2].plot(subplots=True, figsize=(10,6));"
   ]
  },
  {
   "cell_type": "code",
   "execution_count": null,
   "metadata": {},
   "outputs": [],
   "source": [
    "# test does ctx.reset before the indented code and ctx.playback.start after \n",
    "with ctx.test():\n",
    "    onset_mapping_spec = pms(\"INDEX\", \"lin\", [0, 10])\n",
    "    s1 = ContinuousPMS(\"syc0\").schedule(df_selection, dict(\n",
    "        onset = onset_mapping_spec,\n",
    "        freq  = pms(\"temperature\", \"lin\", [50, 62], post=\"midicps\"),\n",
    "        sharp = pms(\"humidity\", \"lin\", [2, 8]),\n",
    "        amp   = pms(\"solar_radiation\", \"lin\", [-30, 0], post=\"dbamp\"),\n",
    "        pan = 0, lg = 0.05,\n",
    "    ))\n",
    "    s2 = ContinuousPMS(\"sycnoise\").schedule(df_selection, dict(\n",
    "        onset = onset_mapping_spec,\n",
    "        freq  = pms(\"wind_speed\", \"exp\", [100, 2000]),\n",
    "        amp   = pms(\"wind_speed\", \"exp\", [0.2, 0.8]),\n",
    "        pan = 0.5, rq = 0.4, lg = 0.05,\n",
    "    ))\n",
    "    s3 = ContinuousPMS(\"syctick\").schedule(df_selection, dict(\n",
    "        onset = onset_mapping_spec,\n",
    "        freq  = pms(\"hc_wb_electrical\", \"exp\", [10, 80]),\n",
    "        pan = -0.5, cf = 8000, amp = 1, lg = 0.05,\n",
    "    ))"
   ]
  },
  {
   "cell_type": "code",
   "execution_count": null,
   "metadata": {},
   "outputs": [],
   "source": [
    "# Remember that you can start the playback again to listen again\n",
    "ctx.playback.start()"
   ]
  },
  {
   "cell_type": "code",
   "execution_count": null,
   "metadata": {},
   "outputs": [],
   "source": [
    "ctx.timeline.plot()"
   ]
  },
  {
   "cell_type": "markdown",
   "metadata": {},
   "source": [
    "## Code Template"
   ]
  },
  {
   "cell_type": "markdown",
   "metadata": {},
   "source": [
    "The following code snippets are intended for copy & paste to your notebooks, to facilitate getting your data sonified\n",
    "using this sonecule."
   ]
  },
  {
   "cell_type": "code",
   "execution_count": null,
   "metadata": {},
   "outputs": [],
   "source": [
    "# load your data / select your data\n",
    "data = np.random.random((1000, 4)) - 0.5 # 100 rows with 8 channels, here same fake data\n",
    "data = np.cumsum(data,axis=0)\n",
    "df = pd.DataFrame(data, columns=[\"c1\", \"c2\", \"c3\", \"c4\"])\n",
    "df.plot(subplots=True);"
   ]
  },
  {
   "cell_type": "code",
   "execution_count": null,
   "metadata": {},
   "outputs": [],
   "source": [
    "ctx.reset()"
   ]
  },
  {
   "cell_type": "code",
   "execution_count": null,
   "metadata": {},
   "outputs": [],
   "source": [
    "# prepare your Synth Definition \n",
    "# This will be improved in the future. \n",
    "ctx.synths.add_synth_def(\"syc0\", \n",
    "\"\"\"{ | out=0, freq=400, amp=0.1, plfreq=0, plwid=0.5, plint=0, sharp=0, pan=0, lg=0 | \n",
    "    var f = freq.lag(lg);\n",
    "    var pulse = LFPulse.ar(plfreq, width: plwid, mul: plint, add: 1-plint);\n",
    "    var tone = HPF.ar(Formant.ar(f, f, bwfreq: f * (sharp + 1)), 40);\n",
    "    Out.ar(out, Pan2.ar(tone*pulse, pan.lag(lg), level: amp.lag(lg)));\n",
    "}\"\"\")\n",
    "\n",
    "# sonecule for your synth with defaults and bounds\n",
    "sncpms = ContinuousPMS(\"syc0\", { \n",
    "    \"freq\": {\"bounds\": (100, 5000)},\n",
    "    \"amp\": {\"default\": 0.5},\n",
    "    \"sharp\": {\"default\": 0},\n",
    "    \"lg\": {\"default\": 0.01}\n",
    "    })"
   ]
  },
  {
   "cell_type": "code",
   "execution_count": null,
   "metadata": {},
   "outputs": [],
   "source": [
    "# mapping dictionary \n",
    "test_mapping = dict(\n",
    "    onset  = pms(\"INDEX\", \"lin\", [0, 8]),\n",
    "    freq   = pms(\"c1\", \"exp\", [pam.midi_to_cps(50), pam.midi_to_cps(70)]),\n",
    "    sharp  = pms(\"c2\", \"lin\", [0, 10]),\n",
    "    plfreq = pms(\"c3\", \"lin\", [5, 25]),\n",
    "    plint  = 1, plwid = 0.5,\n",
    ")\n",
    "\n",
    "# and render the sonification into the timeline\n",
    "sncpms.reschedule(df=df, mapping=test_mapping)\n",
    "\n",
    "# finally start the realtime playback at a given rate\n",
    "sncpms.start(rate=1)"
   ]
  },
  {
   "cell_type": "code",
   "execution_count": null,
   "metadata": {},
   "outputs": [],
   "source": [
    "# if needed: plot the timeline using \n",
    "ctx.timeline.plot()"
   ]
  },
  {
   "cell_type": "code",
   "execution_count": null,
   "metadata": {},
   "outputs": [],
   "source": []
  }
 ],
 "metadata": {},
 "nbformat": 4,
 "nbformat_minor": 2
}
