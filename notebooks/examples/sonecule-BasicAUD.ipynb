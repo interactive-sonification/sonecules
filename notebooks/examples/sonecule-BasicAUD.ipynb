{
 "cells": [
  {
   "cell_type": "code",
   "execution_count": null,
   "metadata": {},
   "outputs": [],
   "source": [
    "%load_ext autoreload\n",
    "%autoreload 2"
   ]
  },
  {
   "cell_type": "markdown",
   "metadata": {},
   "source": [
    "# Sonecule: BasicAUD – A simple Audification of 1D data"
   ]
  },
  {
   "cell_type": "markdown",
   "metadata": {},
   "source": [
    "This notebook introduces and demonstrates usage of the BasicAUD sonecule.\n",
    "- The sonecule enables a simple Audification of a data series.\n",
    "- It can be initialized with \n",
    "  - a pya Asig (i.e. audio signal using pya)\n",
    "    - `BasicAUD(asig, sr=None, channel=0)`\n",
    "  - a pandas DataFrame or Series\n",
    "    - `BasicAUD.from_df(df, sr=None, time_column=None, data_column=0)`\n",
    "  - a numpy ndarray\n",
    "    - `.from_np(data, sr, time_column=None)`\n",
    "- Preprocessing such as time stretching, slicing, filtering is offered by specialized functions, either in pya (iirfilter, stretch) or libraries such as scipy.signal - correspondingly processed signals can be passed into Audification modules for audition and interaction.\n",
    "- The current BasicAUD uses SuperCollider3, controlled via sc3nb, as Backend and therein uses a PlayBuf UGen for audification, which allows one-shot, looped, or repeatedly triggered playback of a data buffer.\n",
    "- The synth is mutable, i.e. its parameters can be controlled interactively (code or GUI)\n",
    "  - should enable pause/resume\n",
    "  - with rate control (note: not band-limited!)\n",
    "  - with amp control\n",
    "  - with pan control \n",
    "  - with onset (in schedule)\n",
    "  - with (optional) BPF and BRF   bpcf, bprq, brcf brrq\n"
   ]
  },
  {
   "cell_type": "markdown",
   "metadata": {},
   "source": [
    "Let's get started. First some imports and settings and startup of sonecules"
   ]
  },
  {
   "cell_type": "code",
   "execution_count": null,
   "metadata": {},
   "outputs": [],
   "source": [
    "# headers and imports for the demo\n",
    "import sonecules as sn\n",
    "from pya import Asig\n",
    "import matplotlib.pyplot as plt\n",
    "\n",
    "# setup for matplotlib \n",
    "plt.rcParams[\"figure.figsize\"] = (8,3)\n",
    "%matplotlib widget\n",
    "\n",
    "# start sonecules (with default backend sc3nb, aka sc3)\n",
    "sn.startup()\n",
    "ctx = sn.gcc()  # get the context as ctx"
   ]
  },
  {
   "cell_type": "markdown",
   "metadata": {},
   "source": [
    "Load data sets used for the demo"
   ]
  },
  {
   "cell_type": "code",
   "execution_count": null,
   "metadata": {},
   "outputs": [],
   "source": [
    "%run ../examples/prepare-data.ipynb"
   ]
  },
  {
   "cell_type": "code",
   "execution_count": null,
   "metadata": {},
   "outputs": [],
   "source": [
    "df = dataframes['eeg'].loc[:, [1,4,7,10]]\n",
    "df.plot(subplots=True);\n",
    "df.head()"
   ]
  },
  {
   "cell_type": "markdown",
   "metadata": {},
   "source": [
    "## Usage Demo for the BasicAUD Sonecule"
   ]
  },
  {
   "cell_type": "code",
   "execution_count": null,
   "metadata": {},
   "outputs": [],
   "source": [
    "from sonecules.buffersyn import BasicAUD"
   ]
  },
  {
   "cell_type": "markdown",
   "metadata": {},
   "source": [
    "The following code cell shows everything needed \n",
    "- to create the sonecule with data, \n",
    "- to reset the auditory canvas (aka Timeline)\n",
    "- to start the Playback at a given rate\n",
    "- to plot the Timeline."
   ]
  },
  {
   "cell_type": "code",
   "execution_count": null,
   "metadata": {},
   "outputs": [],
   "source": [
    "# create the sonecule from data (e.g. channel 7 of the EEG data set )\n",
    "aud1 = BasicAUD.from_df(df, sr=256, columns=7)\n",
    "\n",
    "# reset the timeline \n",
    "ctx.timeline.reset()\n",
    "\n",
    "# schedule the event (which is just one: to start the synth)\n",
    "aud1.schedule(at=0, rate=10, pan=0, loop=0, amp=0.5).start()\n",
    "\n",
    "# plot the data (just for fun)\n",
    "df.plot(subplots=True);"
   ]
  },
  {
   "cell_type": "markdown",
   "metadata": {},
   "source": [
    "Once the BasicAUD instance is available, you can replay it as needed with different parameters:"
   ]
  },
  {
   "cell_type": "code",
   "execution_count": null,
   "metadata": {},
   "outputs": [],
   "source": [
    "# btw, most arguments are optional\n",
    "# rate default is 1 so we need to set it in order to hear these data\n",
    "aud1.reschedule(rate=20).start()"
   ]
  },
  {
   "cell_type": "code",
   "execution_count": null,
   "metadata": {},
   "outputs": [],
   "source": [
    "aud1.reschedule(at=0, rate=30, pan=1, loop=0, startpos=4000, amp=0.8).start()"
   ]
  },
  {
   "cell_type": "code",
   "execution_count": null,
   "metadata": {},
   "outputs": [],
   "source": [
    "aud1.reschedule(at=0, rate=60, pan=1, loop=0, startpos=0, amp=0.8).start()"
   ]
  },
  {
   "cell_type": "markdown",
   "metadata": {},
   "source": [
    "Here is a very slow and low-frequency audification"
   ]
  },
  {
   "cell_type": "code",
   "execution_count": null,
   "metadata": {},
   "outputs": [],
   "source": [
    "aud1.reschedule(at=0, rate=2, pan=0, loop=0, startpos=0, amp=1).start()"
   ]
  },
  {
   "cell_type": "markdown",
   "metadata": {},
   "source": [
    "To stop the playing audification at any time use the following code (try it while the above line plays)"
   ]
  },
  {
   "cell_type": "code",
   "execution_count": null,
   "metadata": {},
   "outputs": [],
   "source": [
    "with ctx.at(ctx.playback.time) as timepoint:  # used to specify the time point to stop the sonification\n",
    "    print(f\"Stopped aud1 at {timepoint}\")\n",
    "    aud1.stop()\n",
    "# This can be also be seen in the \n",
    "ctx.timeline.plot()"
   ]
  },
  {
   "cell_type": "markdown",
   "metadata": {},
   "source": [
    "To make this more iteractive we enable the realtime mode of the `Context`."
   ]
  },
  {
   "cell_type": "code",
   "execution_count": null,
   "metadata": {},
   "outputs": [],
   "source": [
    "aud1.reschedule(at=0, rate=2, pan=0, loop=0, startpos=0, amp=1)\n",
    "ctx.enable_realtime(at=0);  # this will start the playback of the Timeline again"
   ]
  },
  {
   "cell_type": "markdown",
   "metadata": {},
   "source": [
    "Now simply using `aud1.stop()` works as it assumes the `playback.time` as timepoint of it's execution"
   ]
  },
  {
   "cell_type": "code",
   "execution_count": null,
   "metadata": {},
   "outputs": [],
   "source": [
    "aud1.stop()"
   ]
  },
  {
   "cell_type": "markdown",
   "metadata": {},
   "source": [
    "Parameter modifications become more interesting as you loop the audification"
   ]
  },
  {
   "cell_type": "code",
   "execution_count": null,
   "metadata": {},
   "outputs": [],
   "source": [
    "aud1.reschedule(at=0, rate=20, pan=1, loop=1, startpos=0, amp=0.8).start()"
   ]
  },
  {
   "cell_type": "markdown",
   "metadata": {},
   "source": [
    "Now let's change the rate to 50 for faster temporal compression"
   ]
  },
  {
   "cell_type": "code",
   "execution_count": null,
   "metadata": {},
   "outputs": [],
   "source": [
    "aud1.set(rate=50, amp=0.2, pan=-1)"
   ]
  },
  {
   "cell_type": "code",
   "execution_count": null,
   "metadata": {},
   "outputs": [],
   "source": [
    "aud1.stop()"
   ]
  },
  {
   "cell_type": "markdown",
   "metadata": {},
   "source": [
    "BasicAUD offers to set the start position `startpos` from which the playback starts.\n",
    "- However, once the end is reached, it wraps around to the first sample, i.e. plays it does not move to startpos if the end is reached!\n",
    "\n",
    "Furthermore BasicAUD offers a periodic trigger, at which the position is reset to `startpos`\n",
    "- using loop=1, and a non-zero trfreq (the trigger rate in Hz), we can interactively skim through the file "
   ]
  },
  {
   "cell_type": "code",
   "execution_count": null,
   "metadata": {},
   "outputs": [],
   "source": [
    "# to start the sonification at a certain position, without looping\n",
    "aud1.reschedule(at=0, rate=40, pan=1, loop=0, startpos=6000, amp=0.8).start()"
   ]
  },
  {
   "cell_type": "code",
   "execution_count": null,
   "metadata": {},
   "outputs": [],
   "source": [
    "# let's start with loop and given trigger rate 'trfreq'\n",
    "aud1.reschedule(at=0, rate=100, pan=0, loop=1, startpos=0, amp=0.8, trfreq=10).start() "
   ]
  },
  {
   "cell_type": "code",
   "execution_count": null,
   "metadata": {},
   "outputs": [],
   "source": [
    "pos = 0"
   ]
  },
  {
   "cell_type": "code",
   "execution_count": null,
   "metadata": {},
   "outputs": [],
   "source": [
    "# run this cell a couple of times to step-by-step move forward\n",
    "pos += 1000\n",
    "aud1.set(startpos=pos)"
   ]
  },
  {
   "cell_type": "code",
   "execution_count": null,
   "metadata": {},
   "outputs": [],
   "source": [
    "aud1.stop()"
   ]
  },
  {
   "cell_type": "markdown",
   "metadata": {},
   "source": [
    "Now we can easily control the Audification with some sliders\n",
    "* move the startpos slider to skim through the audification\n",
    "* control rate and trigger rate independently"
   ]
  },
  {
   "cell_type": "code",
   "execution_count": null,
   "metadata": {},
   "outputs": [],
   "source": [
    "from ipywidgets import interactive\n",
    "aud1.reschedule(at=0, rate=100, pan=0, loop=1, startpos=0, amp=0.8, trfreq=10).start() \n",
    "def aud_gui(startpos=0, trfreq=10, rate=50):\n",
    "    aud1.set(startpos=startpos, trfreq=trfreq, rate=rate)\n",
    "interactive(aud_gui, startpos=(0, 12000, 100), trfreq=(1, 50, 1), rate=(1, 200, 1)) "
   ]
  },
  {
   "cell_type": "code",
   "execution_count": null,
   "metadata": {},
   "outputs": [],
   "source": [
    "# and stop when done\n",
    "aud1.stop()"
   ]
  },
  {
   "cell_type": "markdown",
   "metadata": {},
   "source": [
    "**Signal Conditioning**\n",
    "\n",
    "* Basic Audification doesn't offer filtering or distortion, or multi-channel capabilities.\n",
    "* These, however, could be made available in the future or more specialized Sonecules of the AUD family.\n",
    "* A multi-channel audification is offered by MultivariateBasicAUD \n",
    "* However, some signal conditionings are better applied before audition anyway!\n",
    "* Modifications such as applying a time scale modification (aka time stretching, i.e. rescaling the time without modifying the spectrum), is for instance well done in pya using Asig.stretch(factor) as shown here for a selected channel and time interval and stretch factor in a one-liner\n",
    "\n",
    "      aud1 = BasicAUD(my_asig[{1.5:5.2},['channelname']].stretch(3.5))\n",
    "\n",
    "* so while Sonecules probably don't do it all, combinations with pandas and pya functions enable swift, and flexible implementations of what is needed."
   ]
  },
  {
   "cell_type": "markdown",
   "metadata": {},
   "source": [
    "## Code Template"
   ]
  },
  {
   "cell_type": "markdown",
   "metadata": {},
   "source": [
    "The following code snippets are intended for copy & paste to your notebooks, to facilitate getting your data sonified\n",
    "using this sonecule.\n",
    "* It is assumed that your data is stored in an Asig dasig"
   ]
  },
  {
   "cell_type": "code",
   "execution_count": null,
   "metadata": {},
   "outputs": [],
   "source": [
    "# create or load your data, e.g.\n",
    "\n",
    "# chaotic series from the logistic equation\n",
    "a, x, xs = 3.5, 0.2, []\n",
    "for i in range(30000): \n",
    "    x = a * x * (1-x); \n",
    "    a += 0.000016\n",
    "    xs.append(x)\n",
    "data = np.array(xs)\n",
    "\n",
    "# or load data\n",
    "# data = pd.read_csv(\"your_csv_file.csv\", delimiter=\",\")\n",
    "# data = pd.read_excel(\"your_excel_file.xlsc\") # see pandas documenation\n",
    "# put data series into an Asig\n",
    "a1 = Asig(data, sr=10000)\n",
    "plt.figure();a1.plot(lw=0.02)\n",
    "a1"
   ]
  },
  {
   "cell_type": "code",
   "execution_count": null,
   "metadata": {},
   "outputs": [],
   "source": [
    "# load your data / select your data\n",
    "myasig = a1\n",
    "\n",
    "# sonecule for your synth with defaults and bounds\n",
    "aud1 = BasicAUD(a1)\n",
    "\n",
    "# reset the timeline \n",
    "ctx.timeline.reset() \n",
    "\n",
    "# finally start the realtime playback at a given rate\n",
    "aud1.schedule(at=0, rate=0.2, amp=0.2).start()\n",
    "\n",
    "# if needed: plot the timeline using \n",
    "ctx.timeline.plot()"
   ]
  },
  {
   "cell_type": "code",
   "execution_count": null,
   "metadata": {},
   "outputs": [],
   "source": []
  }
 ],
 "metadata": {},
 "nbformat": 4,
 "nbformat_minor": 2
}
